{
 "cells": [
  {
   "cell_type": "markdown",
   "metadata": {},
   "source": [
    "## Import Libraries"
   ]
  },
  {
   "cell_type": "code",
   "execution_count": 9,
   "metadata": {},
   "outputs": [],
   "source": [
    "import sympy as sp\n",
    "from sympy.abc import x"
   ]
  },
  {
   "cell_type": "markdown",
   "metadata": {},
   "source": [
    "## Introduction"
   ]
  },
  {
   "cell_type": "markdown",
   "metadata": {},
   "source": [
    "We will be solving 50 integrals using techniques from calculus 2. We will use the Sympy library to verify our answers. The integrals are from the following [video](https://youtu.be/XOUwIdufY9Y) by the Youtube channel blackpenredpen. There is also a pdf file attached containing the 50 integrals as well as some formulas useful for solving them. All of these will be indefinite integrals and we will utilise pretty standard notation. For some function $f(x)$, we will convey the indefinite integral as equal to the function $F(x)$. This will be written as the final answer for each integral to make it clearer to read."
   ]
  },
  {
   "cell_type": "markdown",
   "metadata": {},
   "source": [
    "## Antiderivatives"
   ]
  },
  {
   "cell_type": "markdown",
   "metadata": {},
   "source": [
    "### 1. $\\int \\sec^2(x) dx$\n",
    "\n",
    "We can solve this using this fact:\n",
    "\n",
    "$$\n",
    "\\frac{d}{dx} \\tan(x) = \\sec^2(x)\n",
    "$$\n",
    "\n",
    "With the knowledge that antiderivatives are the opposite of derivatives, we can get the answer of this integral as:\n",
    "\n",
    "$$\n",
    "F(x) = \\tan(x) + C\n",
    "$$"
   ]
  },
  {
   "cell_type": "markdown",
   "metadata": {},
   "source": [
    "### 2. $\\int \\frac{1}{x} dx$\n",
    "\n",
    "Well, we could write $f(x)$ as $x^{-1}$. However, we cannot use the power rule as this would lead to a division by $0$ situation as shown below:\n",
    "\n",
    "$$\n",
    "\\int x^{n} dx = \\frac{x^{n+1}}{n+1} + C \\implies\n",
    "\\frac{x^{-1 + 1}}{-1 + 1} + C = \\frac{1}{0} + C\n",
    "$$\n",
    "\n",
    "That is why the power rule for integration only works for $n \\neq -1$. To solve it, we would instead use the fact that $f(x)$ is the derivative of the natural logarithm in respect to $x$. Our answer for $F(x)$ would not be $\\ln(x)$, but rather $\\ln(|x|)$ as the natural logarithm function cannot take in negative values of $x$. Therefore:\n",
    "\n",
    "$$\n",
    "F(x) = \\ln(|x|) + C\n",
    "$$"
   ]
  },
  {
   "cell_type": "markdown",
   "metadata": {},
   "source": [
    "### 3. $\\int \\frac{1}{\\sqrt{1-x^2}} dx$\n",
    "\n",
    "For this, it would be helpful to know the derivatives of the inverse trigonometric functions. Here, knowing that the derivative of $\\arcsin(x)$ with respect to $x$ equals $f(x)$ would allow us to easily solve this integral. However, if we did not know this, we could try and solve it with a bit of substitutions:\n",
    "\n",
    "$$\n",
    "\\begin{gather}\n",
    "I = \\int \\frac{1}{\\sqrt{1-x^2}} dx \\\\ \\\\\n",
    "\n",
    "x = \\cos(\\theta) \\\\\n",
    "dx = -\\sin(\\theta) d\\theta \\\\ \\\\\n",
    "\n",
    "I = \\int \\frac{1}{\\sqrt{1-\\cos^2(\\theta)}}\n",
    "\n",
    "\\end{gather}\n",
    "$$"
   ]
  },
  {
   "cell_type": "code",
   "execution_count": 16,
   "metadata": {},
   "outputs": [
    {
     "data": {
      "text/latex": [
       "$\\displaystyle \\operatorname{asin}{\\left(x \\right)}$"
      ],
      "text/plain": [
       "asin(x)"
      ]
     },
     "execution_count": 16,
     "metadata": {},
     "output_type": "execute_result"
    }
   ],
   "source": [
    "sp.integrate(1/sp.sqrt(1-x**2), x)"
   ]
  },
  {
   "cell_type": "markdown",
   "metadata": {},
   "source": [
    "### 4. $\\int \\sec(x) \\tan(x) dx$"
   ]
  },
  {
   "cell_type": "markdown",
   "metadata": {},
   "source": [
    "### 5. $\\int \\frac{1}{1+x^2} dx$"
   ]
  },
  {
   "cell_type": "markdown",
   "metadata": {},
   "source": [
    "### 6. $\\int \\cos(x) dx$"
   ]
  },
  {
   "cell_type": "markdown",
   "metadata": {},
   "source": [
    "### 7. $\\int \\sin(x) dx$"
   ]
  },
  {
   "cell_type": "markdown",
   "metadata": {},
   "source": [
    "### 8. $\\int e^x dx$"
   ]
  },
  {
   "cell_type": "markdown",
   "metadata": {},
   "source": [
    "## Reverse Power Rule"
   ]
  },
  {
   "cell_type": "markdown",
   "metadata": {},
   "source": [
    "### 9. $\\int \\sqrt{x}(x+4) dx$"
   ]
  },
  {
   "cell_type": "markdown",
   "metadata": {},
   "source": [
    "### 10. $\\frac{1+x^6}{x^2} dx$"
   ]
  }
 ],
 "metadata": {
  "kernelspec": {
   "display_name": "DataAnalysisenv",
   "language": "python",
   "name": "python3"
  },
  "language_info": {
   "codemirror_mode": {
    "name": "ipython",
    "version": 3
   },
   "file_extension": ".py",
   "mimetype": "text/x-python",
   "name": "python",
   "nbconvert_exporter": "python",
   "pygments_lexer": "ipython3",
   "version": "3.11.2"
  },
  "orig_nbformat": 4
 },
 "nbformat": 4,
 "nbformat_minor": 2
}
