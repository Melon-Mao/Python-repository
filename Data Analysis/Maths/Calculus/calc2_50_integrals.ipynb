{
 "cells": [
  {
   "cell_type": "markdown",
   "metadata": {},
   "source": [
    "## Import Libraries"
   ]
  },
  {
   "cell_type": "code",
   "execution_count": 9,
   "metadata": {},
   "outputs": [],
   "source": [
    "import sympy as sp\n",
    "from sympy.abc import x"
   ]
  },
  {
   "cell_type": "markdown",
   "metadata": {},
   "source": [
    "## Introduction"
   ]
  },
  {
   "cell_type": "markdown",
   "metadata": {},
   "source": [
    "We will be solving 50 integrals using techniques from calculus 2. We will use the Sympy library to verify our answers. The integrals are from the following [video](https://youtu.be/XOUwIdufY9Y) by the Youtube channel blackpenredpen. There is also a pdf file attached containing the 50 integrals as well as some formulas useful for solving them. All of these will be indefinite integrals and we will utilise pretty standard notation. For some function $f(x)$, we will convey the indefinite integral as equal to the function $F(x)$. This will be written as the final answer for each integral to make it clearer to read."
   ]
  },
  {
   "cell_type": "markdown",
   "metadata": {},
   "source": [
    "## Antiderivatives"
   ]
  },
  {
   "cell_type": "markdown",
   "metadata": {},
   "source": [
    "### 1. $\\int \\sec^2(x) dx$\n",
    "\n",
    "We can solve this using this fact:\n",
    "\n",
    "$$\n",
    "\\frac{d}{dx} \\tan(x) = \\sec^2(x)\n",
    "$$\n",
    "\n",
    "With the knowledge that antiderivatives are the opposite of derivatives, we can get the answer of this integral as:\n",
    "\n",
    "$$\n",
    "F(x) = \\tan(x) + C\n",
    "$$"
   ]
  },
  {
   "cell_type": "markdown",
   "metadata": {},
   "source": [
    "### 2. $\\int \\frac{1}{x} dx$\n",
    "\n",
    "Well, we could write $f(x)$ as $x^{-1}$. However, we cannot use the power rule as this would lead to a division by $0$ situation as shown below:\n",
    "\n",
    "$$\n",
    "\\int x^{n} dx = \\frac{x^{n+1}}{n+1} + C \\implies\n",
    "\\frac{x^{-1 + 1}}{-1 + 1} + C = \\frac{1}{0} + C\n",
    "$$\n",
    "\n",
    "That is why the power rule for integration only works for $n \\neq -1$. To solve it, we would instead use the fact that $f(x)$ is the derivative of the natural logarithm in respect to $x$. Our answer for $F(x)$ would not be $\\ln(x)$, but rather $\\ln(|x|)$ as the natural logarithm function cannot take in negative values of $x$. Therefore:\n",
    "\n",
    "$$\n",
    "F(x) = \\ln(|x|) + C\n",
    "$$"
   ]
  },
  {
   "cell_type": "markdown",
   "metadata": {},
   "source": [
    "### 3. $\\int \\frac{1}{\\sqrt{1-x^2}} dx$\n",
    "\n",
    "For this, it would be helpful to know the derivatives of the inverse trigonometric functions. Here, knowing that the derivative of $\\arcsin(x)$ with respect to $x$ equals $f(x)$ would allow us to easily solve this integral. However, if we did not know this, we could try and solve it with a bit of substitutions:\n",
    "\n",
    "$$\n",
    "\\begin{align}\n",
    "\n",
    "I &= \\int \\frac{1}{\\sqrt{1-x^2}} dx \\\\ \n",
    "\\nonumber \\\\\n",
    "\n",
    "x &= \\sin(\\theta) \\\\\n",
    "dx &= \\cos(\\theta) d\\theta \\\\\n",
    "\\nonumber \\\\\n",
    "\n",
    "I &= \\int \\frac{1}{\\sqrt{1-\\sin^2(\\theta)}} \\cdot \\cos(\\theta) d\\theta \\\\\n",
    "\n",
    "\\nonumber \\\\\n",
    "1 &= \\sin^2(\\theta) + \\cos^2(\\theta) \\\\\n",
    "\\cos(\\theta) &= \\sqrt{1 - \\sin^2(\\theta)} \\\\\n",
    "\\nonumber \\\\\n",
    "\n",
    "I &= \\int \\frac{\\cos(\\theta)}{\\cos(\\theta)} d\\theta \\\\\n",
    "I &= \\int 1 d\\theta \\\\\n",
    "I &= \\theta + C \\\\\n",
    "\n",
    "\\nonumber \\\\\n",
    "\\theta &= \\arcsin(x) \\\\\n",
    "\\nonumber \\\\\n",
    "\n",
    "I &= \\arcsin(x) + C \\\\\n",
    "\n",
    "\\end{align}\n",
    "$$\n",
    "\n",
    "While it takes a bit more work, it can be done fairly easily. Both our trigonometric substitutions as well as our knowledge of common derivatives gives us our answer:\n",
    "\n",
    "$$\n",
    "F(x) = \\arcsin(x) + C\n",
    "$$"
   ]
  },
  {
   "cell_type": "markdown",
   "metadata": {},
   "source": [
    "### 4. $\\int \\sec(x) \\tan(x) dx$\n",
    "\n",
    "This looks difficult to do, but the easiest method would be to realise a function whose derivative is $f(x)$, which would then be our answer for $F(x)$. We may differentiate $\\sec(x)$ to show that it is the function we want:\n",
    "\n",
    "$$\n",
    "\\begin{align}\n",
    "\\frac{d}{dx}\\sec(x) \\\\\n",
    "&= \\frac{d}{dx} \\frac{1}{cos(x)} \\\\\n",
    "&= \\frac{\\frac{d}{dx}1 \\cdot \\cos(x) - \\frac{d}{dx}\\cos(x) \\cdot 1 \\\\}{\\cos^2(x)} \\\\\n",
    "&= \\frac{\\sin(x)}{\\cos^2(x)} \\\\\n",
    "&= \\frac{1}{\\cos(x)} \\cdot \\frac{\\sin(x)}{\\cos(x)} \\\\\n",
    "&= \\sec(x)\\tan(x) \\\\\n",
    "\\end{align}\n",
    "$$\n",
    "\n",
    "Knowing the derivative of $\\sec(x)$, as well as the other $5$ trigonometric functions off by heart would be helpful as they are used quite often. We have a function that gives us our answer:\n",
    "\n",
    "$$\n",
    "F(x) = \\sec(x)\n",
    "$$"
   ]
  },
  {
   "cell_type": "markdown",
   "metadata": {},
   "source": [
    "### 5. $\\int \\frac{1}{1+x^2} dx$\n",
    "\n",
    "Once again, it would be helpful to know that $f(x)$ here is the derivative of $\\text{arctan}(x)$, meaning that would be our $F(x)$. If we did not know this, trigonometric substitution would work as well:\n",
    "\n",
    "$$\n",
    "\\begin{align}\n",
    "I &= \\int \\frac{1}{1 + x^2} dx \\\\\n",
    "\n",
    "\\nonumber \\\\\n",
    "x &= \\tan(\\theta) \\\\\n",
    "dx &= \\sec^2(\\theta) d\\theta \\\\\n",
    "\\nonumber \\\\\n",
    "\n",
    "I &= \\int \\frac{1}{1 + \\tan^2(\\theta)} \\cdot \\sec^2(\\theta) d\\theta \\\\\n",
    "\n",
    "\\nonumber \\\\\n",
    "\\sec^2(\\theta) &= 1 + \\tan^2(\\theta) \\\\\n",
    "\\nonumber \\\\\n",
    "\n",
    "I &= \\int \\frac{\\sec^2(\\theta)}{\\sec^2(\\theta)} d\\theta \\\\\n",
    "I &= \\int 1 d\\theta \\\\\n",
    "I &= \\theta + C \\\\\n",
    "\n",
    "\\nonumber \\\\\n",
    "\\theta &= \\arctan(x) \\\\\n",
    "\\nonumber \\\\\n",
    "\n",
    "I &= \\arctan(x) + C \\\\\n",
    "\n",
    "\\end{align}\n",
    "$$\n",
    "\n",
    "Then:\n",
    "\n",
    "$$\n",
    "F(x) = \\arctan(x) + C\n",
    "$$"
   ]
  },
  {
   "cell_type": "markdown",
   "metadata": {},
   "source": [
    "### 6. $\\int \\cos(x) dx$\n",
    "\n",
    "We know that the derivative of $\\sin(x)$ is $\\cos(x)$. Therefore, this integral gives:\n",
    "\n",
    "$$\n",
    "F(x) = \\sin(x) + C\n",
    "$$"
   ]
  },
  {
   "cell_type": "markdown",
   "metadata": {},
   "source": [
    "### 7. $\\int \\sin(x) dx$\n",
    "\n",
    "The function $\\cos(x)$ differentiated is $-\\sin(x)$, which differs from our $f(x)$ by only a negative sign. Homogeneity of degree 1 is a property of integration and differentiation, meaning that scalar multiplication is preserved (i.e. multiplied constants such as $-1$ may be taken outside of the integral). Therefore, we have:\n",
    "\n",
    "$$\n",
    "F(x) = -\\cos(x) + C\n",
    "$$"
   ]
  },
  {
   "cell_type": "markdown",
   "metadata": {},
   "source": [
    "### 8. $\\int e^x dx$\n",
    "\n",
    "We know that the exponential function has a rate of change which is equal to itself. Since the derivative of $e^x$ is $e^x$, it would follow that the indefinite integral is also the same (with the constant of integration of course):\n",
    "\n",
    "$$\n",
    "F(x) = e^x + C"
   ]
  },
  {
   "cell_type": "markdown",
   "metadata": {},
   "source": [
    "## Reverse Power Rule"
   ]
  },
  {
   "cell_type": "markdown",
   "metadata": {},
   "source": [
    "### 9. $\\int \\sqrt{x}(x+4) dx$"
   ]
  },
  {
   "cell_type": "markdown",
   "metadata": {},
   "source": [
    "### 10. $\\int \\frac{1+x^6}{x^2} dx$"
   ]
  },
  {
   "cell_type": "markdown",
   "metadata": {},
   "source": [
    "## U-Substitution"
   ]
  },
  {
   "cell_type": "markdown",
   "metadata": {},
   "source": [
    "### 11. $\\int 4x^3 \\sec^2(x^4) dx$"
   ]
  },
  {
   "cell_type": "markdown",
   "metadata": {},
   "source": [
    "### 12. $\\int \\frac{x^3}{1+x^4} dx$"
   ]
  },
  {
   "cell_type": "markdown",
   "metadata": {},
   "source": [
    "### 13. $\\int \\frac{x}{1+x^4} dx$"
   ]
  },
  {
   "cell_type": "markdown",
   "metadata": {},
   "source": [
    "### 14. $\\int \\frac{1}{1+\\sqrt{x}} dx$"
   ]
  },
  {
   "cell_type": "markdown",
   "metadata": {},
   "source": [
    "## Common Integrals"
   ]
  },
  {
   "cell_type": "markdown",
   "metadata": {},
   "source": [
    "### 15. $\\int \\tan(x) dx$"
   ]
  },
  {
   "cell_type": "markdown",
   "metadata": {},
   "source": [
    "### 16. $\\int \\sec(x) dx$"
   ]
  },
  {
   "cell_type": "markdown",
   "metadata": {},
   "source": [
    "### 17. $\\int \\frac{1}{x^3+x} dx$"
   ]
  },
  {
   "cell_type": "markdown",
   "metadata": {},
   "source": [
    "## Integral Mistakes"
   ]
  },
  {
   "cell_type": "markdown",
   "metadata": {},
   "source": [
    "### 18. $\\int \\sin^3(x) dx$"
   ]
  },
  {
   "cell_type": "markdown",
   "metadata": {},
   "source": [
    "### 19. $\\int \\frac{1}{1+\\sqrt{x}} dx$"
   ]
  },
  {
   "cell_type": "markdown",
   "metadata": {},
   "source": [
    "### 20. $\\int e^{x^2} dx$"
   ]
  },
  {
   "cell_type": "markdown",
   "metadata": {},
   "source": [
    "### 21. $\\int \\arctan(x) dx$"
   ]
  },
  {
   "cell_type": "markdown",
   "metadata": {},
   "source": [
    "### 22. $\\int x^2 \\sin(x) dx$"
   ]
  },
  {
   "cell_type": "markdown",
   "metadata": {},
   "source": [
    "## Non-Elementary Integrals"
   ]
  },
  {
   "cell_type": "markdown",
   "metadata": {},
   "source": [
    "$$\\int e^{x^2} dx$$\n",
    "$$\\int e^{-x^2} dx$$\n",
    "$$\\int \\frac{\\sin(x)}{x} dx$$\n",
    "$$\\int \\frac{\\cos(x)}{x} dx$$\n",
    "$$\\int \\frac{e^x}{x} dx$$\n",
    "$$\\int \\frac{1}{\\ln(x)} dx$$\n",
    "$$\\int \\sin^2(x) dx$$\n",
    "$$\\int \\cos^2(x) dx$$\n",
    "$$\\int x^x dx$$\n",
    "$$\\int \\sqrt{1+x^3} dx$$"
   ]
  },
  {
   "cell_type": "markdown",
   "metadata": {},
   "source": [
    "## Integration By Parts"
   ]
  },
  {
   "cell_type": "markdown",
   "metadata": {},
   "source": [
    "### 23. $\\int x\\cos(x^2) dx$"
   ]
  },
  {
   "cell_type": "markdown",
   "metadata": {},
   "source": [
    "### 24. $\\int x\\cos(x) dx$"
   ]
  },
  {
   "cell_type": "markdown",
   "metadata": {},
   "source": [
    "### 25. $\\int x^3 \\ln(x) dx$"
   ]
  },
  {
   "cell_type": "markdown",
   "metadata": {},
   "source": [
    "### 22*. $\\int x^2 \\sin(x) dx$"
   ]
  },
  {
   "cell_type": "markdown",
   "metadata": {},
   "source": [
    "### 26. $\\int e^x \\sin(2x) dx$"
   ]
  },
  {
   "cell_type": "markdown",
   "metadata": {},
   "source": [
    "### 21*. $\\int \\arctan(x) dx$"
   ]
  },
  {
   "cell_type": "markdown",
   "metadata": {},
   "source": [
    "### 27. $\\int \\frac{\\ln(x)}{\\sqrt{x}} dx$"
   ]
  },
  {
   "cell_type": "markdown",
   "metadata": {},
   "source": [
    "### 28. $\\int x^2 e^{3x} dx$"
   ]
  },
  {
   "cell_type": "markdown",
   "metadata": {},
   "source": [
    "### 29. $\\int x \\sec(x)\\tan(x) dx$"
   ]
  },
  {
   "cell_type": "markdown",
   "metadata": {},
   "source": [
    "## Trigonometric Identities"
   ]
  },
  {
   "cell_type": "markdown",
   "metadata": {},
   "source": [
    "### 30. $\\int \\sin^2(x)\\cos(x) dx$"
   ]
  },
  {
   "cell_type": "markdown",
   "metadata": {},
   "source": [
    "### 31. $\\int \\sin^2(x) dx$"
   ]
  },
  {
   "cell_type": "markdown",
   "metadata": {},
   "source": [
    "### 18*. $\\int \\sin^3(x) dx$"
   ]
  },
  {
   "cell_type": "markdown",
   "metadata": {},
   "source": [
    "### 32. $\\int \\sec^4(x) dx$"
   ]
  },
  {
   "cell_type": "markdown",
   "metadata": {},
   "source": [
    "### 33. $\\int \\sec^4(x)\\tan(x) dx$"
   ]
  },
  {
   "cell_type": "markdown",
   "metadata": {},
   "source": [
    "### 34. $\\int \\tan^3(x) dx$"
   ]
  },
  {
   "cell_type": "markdown",
   "metadata": {},
   "source": [
    "### 35. $\\int \\sec^3(x) dx$"
   ]
  },
  {
   "cell_type": "markdown",
   "metadata": {},
   "source": [
    "## Trigonometric Substitution"
   ]
  },
  {
   "cell_type": "markdown",
   "metadata": {},
   "source": [
    "### 36. $\\int \\sqrt{x^2 - 6x + 9} dx$"
   ]
  },
  {
   "cell_type": "markdown",
   "metadata": {},
   "source": [
    "### 37. $\\int \\sqrt{x^2 + 9} dx$"
   ]
  },
  {
   "cell_type": "markdown",
   "metadata": {},
   "source": [
    "### 38. $\\int \\frac{1}{x\\sqrt{x^2 - 4}} dx$"
   ]
  },
  {
   "cell_type": "markdown",
   "metadata": {},
   "source": [
    "### 39. $\\int \\sqrt{1-x^2} dx$"
   ]
  },
  {
   "cell_type": "markdown",
   "metadata": {},
   "source": [
    "### 40. $\\int \\frac{1}{(25+x^2)^{\\frac{3}{2}}} dx$"
   ]
  },
  {
   "cell_type": "markdown",
   "metadata": {},
   "source": [
    "### 41. $\\int \\frac{x}{(25+x^2)^{\\frac{3}{2}}} dx$"
   ]
  },
  {
   "cell_type": "markdown",
   "metadata": {},
   "source": [
    "### 42. $\\int \\frac{1}{x^2+a^2} dx$"
   ]
  },
  {
   "cell_type": "markdown",
   "metadata": {},
   "source": [
    "## Partial Fractions"
   ]
  },
  {
   "cell_type": "markdown",
   "metadata": {},
   "source": [
    "### 43. $\\int \\frac{x^3}{x^2+9} dx$"
   ]
  },
  {
   "cell_type": "markdown",
   "metadata": {},
   "source": [
    "### 44. $\\int \\frac{8x-17}{x^2-5x+4} dx$"
   ]
  },
  {
   "cell_type": "markdown",
   "metadata": {},
   "source": [
    "### 45. $\\int \\frac{4x^2-9x+2}{(x+3)(x^2+4)} dx$"
   ]
  },
  {
   "cell_type": "markdown",
   "metadata": {},
   "source": [
    "### 46. $\\int \\frac{1}{x^2+6x+13} dx$"
   ]
  },
  {
   "cell_type": "markdown",
   "metadata": {},
   "source": [
    "### 47. $\\int \\frac{2x-5}{x^3+x^2} dx$"
   ]
  },
  {
   "cell_type": "markdown",
   "metadata": {},
   "source": [
    "### 48. $\\int \\frac{2x^2+8x+5}{x^2+4x+13} dx$"
   ]
  },
  {
   "cell_type": "markdown",
   "metadata": {},
   "source": [
    "### 49. $\\int \\frac{6x^2+31x+45}{x^3+6x^2+9x} dx$"
   ]
  },
  {
   "cell_type": "markdown",
   "metadata": {},
   "source": [
    "### 50. $\\int \\frac{1}{x^2-a^2} dx$"
   ]
  }
 ],
 "metadata": {
  "kernelspec": {
   "display_name": "DataAnalysisenv",
   "language": "python",
   "name": "python3"
  },
  "language_info": {
   "codemirror_mode": {
    "name": "ipython",
    "version": 3
   },
   "file_extension": ".py",
   "mimetype": "text/x-python",
   "name": "python",
   "nbconvert_exporter": "python",
   "pygments_lexer": "ipython3",
   "version": "3.11.2"
  },
  "orig_nbformat": 4
 },
 "nbformat": 4,
 "nbformat_minor": 2
}
