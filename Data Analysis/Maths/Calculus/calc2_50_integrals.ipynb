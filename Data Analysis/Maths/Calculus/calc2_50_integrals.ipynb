{
 "cells": [
  {
   "cell_type": "markdown",
   "metadata": {},
   "source": [
    "## Import Libraries"
   ]
  },
  {
   "cell_type": "code",
   "execution_count": 88,
   "metadata": {},
   "outputs": [],
   "source": [
    "import sympy as sp\n",
    "from sympy.abc import x, a"
   ]
  },
  {
   "cell_type": "markdown",
   "metadata": {},
   "source": [
    "## Introduction"
   ]
  },
  {
   "cell_type": "markdown",
   "metadata": {},
   "source": [
    "We will be solving 50 integrals using techniques from calculus 2. We will use the Sympy library to verify our answers. The integrals are from the following [video](https://youtu.be/XOUwIdufY9Y) by the Youtube channel blackpenredpen. There is also a pdf file attached containing the 50 integrals as well as some formulas useful for solving them. All of these will be indefinite integrals and we will utilise pretty standard notation. For some function $f(x)$, we will convey the indefinite integral as equal to the function $F(x)$. This will be written as the final answer for each integral to make it clearer to read."
   ]
  },
  {
   "cell_type": "markdown",
   "metadata": {},
   "source": [
    "## Antiderivatives"
   ]
  },
  {
   "cell_type": "markdown",
   "metadata": {},
   "source": [
    "Sometimes, we can solve an integral just by realising that the integrand is the derivative of some other function. For instance, we know that the derivative of $x^2$ is $2x$ and thus the integral of $2x$ is $x^2+C$. This can work for any integral where we recognise the derivative of a function. This is due to the nature of integrals and derivatives, which are opposites of each other. In general, it is true that:\n",
    "\n",
    "$$\n",
    "\\int \\frac{d}{dx}f(x) dx = f(x) + C\n",
    "$$\n",
    "\n",
    "We can use this for integrals that we may not be able to solve otherwise, such as the integral of $x^{-1}$ where the power rule for integration will not work. Being able to use your knowledge of derivatives for integration is also important when using the other methods, such as integration by parts."
   ]
  },
  {
   "cell_type": "markdown",
   "metadata": {},
   "source": [
    "### 1. $\\int \\sec^2(x) dx$\n",
    "\n",
    "We can solve this using this fact:\n",
    "\n",
    "$$\n",
    "\\frac{d}{dx} \\tan(x) = \\sec^2(x)\n",
    "$$\n",
    "\n",
    "With the knowledge that antiderivatives are the opposite of derivatives, we can get the answer of this integral as:\n",
    "\n",
    "$$\n",
    "F(x) = \\tan(x) + C\n",
    "$$"
   ]
  },
  {
   "cell_type": "markdown",
   "metadata": {},
   "source": [
    "### 2. $\\int \\frac{1}{x} dx$\n",
    "\n",
    "Well, we could write $f(x)$ as $x^{-1}$. However, we cannot use the power rule as this would lead to a division by $0$ situation as shown below:\n",
    "\n",
    "$$\n",
    "\\int x^{n} dx = \\frac{x^{n+1}}{n+1} + C \\implies\n",
    "\\frac{x^{-1 + 1}}{-1 + 1} + C = \\frac{1}{0} + C\n",
    "$$\n",
    "\n",
    "That is why the power rule for integration only works for $n \\neq -1$. To solve it, we would instead use the fact that $f(x)$ is the derivative of the natural logarithm in respect to $x$. Our answer for $F(x)$ would not be $\\ln(x)$, but rather $\\ln(|x|)$ as the natural logarithm function cannot take in negative values of $x$. Therefore:\n",
    "\n",
    "$$\n",
    "F(x) = \\ln(|x|) + C\n",
    "$$"
   ]
  },
  {
   "cell_type": "markdown",
   "metadata": {},
   "source": [
    "### 3. $\\int \\frac{1}{\\sqrt{1-x^2}} dx$\n",
    "\n",
    "For this, it would be helpful to know the derivatives of the inverse trigonometric functions. Here, knowing that the derivative of $\\arcsin(x)$ with respect to $x$ equals $f(x)$ would allow us to easily solve this integral. However, if we did not know this, we could try and solve it with a bit of substitutions:\n",
    "\n",
    "$$\n",
    "\\begin{align}\n",
    "\n",
    "I &= \\int \\frac{1}{\\sqrt{1-x^2}} dx \\\\ \n",
    "\\nonumber \\\\\n",
    "\n",
    "x &= \\sin(\\theta) \\\\\n",
    "dx &= \\cos(\\theta) d\\theta \\\\\n",
    "\\nonumber \\\\\n",
    "\n",
    "I &= \\int \\frac{1}{\\sqrt{1-\\sin^2(\\theta)}} \\cdot \\cos(\\theta) d\\theta \\\\\n",
    "\n",
    "\\nonumber \\\\\n",
    "1 &= \\sin^2(\\theta) + \\cos^2(\\theta) \\\\\n",
    "\\cos(\\theta) &= \\sqrt{1 - \\sin^2(\\theta)} \\\\\n",
    "\\nonumber \\\\\n",
    "\n",
    "I &= \\int \\frac{\\cos(\\theta)}{\\cos(\\theta)} d\\theta \\\\\n",
    "I &= \\int 1 d\\theta \\\\\n",
    "I &= \\theta + C \\\\\n",
    "\n",
    "\\nonumber \\\\\n",
    "\\theta &= \\arcsin(x) \\\\\n",
    "\\nonumber \\\\\n",
    "\n",
    "I &= \\arcsin(x) + C \\\\\n",
    "\n",
    "\\end{align}\n",
    "$$\n",
    "\n",
    "While it takes a bit more work, it can be done fairly easily. Both our trigonometric substitutions as well as our knowledge of common derivatives gives us our answer:\n",
    "\n",
    "$$\n",
    "F(x) = \\arcsin(x) + C\n",
    "$$"
   ]
  },
  {
   "cell_type": "markdown",
   "metadata": {},
   "source": [
    "### 4. $\\int \\sec(x) \\tan(x) dx$\n",
    "\n",
    "This looks difficult to do, but the easiest method would be to realise a function whose derivative is $f(x)$, which would then be our answer for $F(x)$. We may differentiate $\\sec(x)$ to show that it is the function we want:\n",
    "\n",
    "$$\n",
    "\\begin{align}\n",
    "\\frac{d}{dx}\\sec(x) \\\\\n",
    "&= \\frac{d}{dx} \\frac{1}{cos(x)} \\\\\n",
    "&= \\frac{\\frac{d}{dx}1 \\cdot \\cos(x) - \\frac{d}{dx}\\cos(x) \\cdot 1 \\\\}{\\cos^2(x)} \\\\\n",
    "&= \\frac{\\sin(x)}{\\cos^2(x)} \\\\\n",
    "&= \\frac{1}{\\cos(x)} \\cdot \\frac{\\sin(x)}{\\cos(x)} \\\\\n",
    "&= \\sec(x)\\tan(x) \\\\\n",
    "\\end{align}\n",
    "$$\n",
    "\n",
    "Knowing the derivative of $\\sec(x)$, as well as the other $5$ trigonometric functions off by heart would be helpful as they are used quite often. We have a function that gives us our answer:\n",
    "\n",
    "$$\n",
    "F(x) = \\sec(x)\n",
    "$$"
   ]
  },
  {
   "cell_type": "markdown",
   "metadata": {},
   "source": [
    "### 5. $\\int \\frac{1}{1+x^2} dx$\n",
    "\n",
    "Once again, it would be helpful to know that $f(x)$ here is the derivative of $\\text{arctan}(x)$, meaning that would be our $F(x)$. If we did not know this, trigonometric substitution would work as well:\n",
    "\n",
    "$$\n",
    "\\begin{align}\n",
    "I &= \\int \\frac{1}{1 + x^2} dx \\\\\n",
    "\n",
    "\\nonumber \\\\\n",
    "x &= \\tan(\\theta) \\\\\n",
    "dx &= \\sec^2(\\theta) d\\theta \\\\\n",
    "\\nonumber \\\\\n",
    "\n",
    "I &= \\int \\frac{1}{1 + \\tan^2(\\theta)} \\cdot \\sec^2(\\theta) d\\theta \\\\\n",
    "\n",
    "\\nonumber \\\\\n",
    "\\sec^2(\\theta) &= 1 + \\tan^2(\\theta) \\\\\n",
    "\\nonumber \\\\\n",
    "\n",
    "I &= \\int \\frac{\\sec^2(\\theta)}{\\sec^2(\\theta)} d\\theta \\\\\n",
    "I &= \\int 1 d\\theta \\\\\n",
    "I &= \\theta + C \\\\\n",
    "\n",
    "\\nonumber \\\\\n",
    "\\theta &= \\arctan(x) \\\\\n",
    "\\nonumber \\\\\n",
    "\n",
    "I &= \\arctan(x) + C \\\\\n",
    "\n",
    "\\end{align}\n",
    "$$\n",
    "\n",
    "Then:\n",
    "\n",
    "$$\n",
    "F(x) = \\arctan(x) + C\n",
    "$$"
   ]
  },
  {
   "cell_type": "markdown",
   "metadata": {},
   "source": [
    "### 6. $\\int \\cos(x) dx$\n",
    "\n",
    "We know that the derivative of $\\sin(x)$ is $\\cos(x)$. Therefore, this integral gives:\n",
    "\n",
    "$$\n",
    "F(x) = \\sin(x) + C\n",
    "$$"
   ]
  },
  {
   "cell_type": "markdown",
   "metadata": {},
   "source": [
    "### 7. $\\int \\sin(x) dx$\n",
    "\n",
    "The function $\\cos(x)$ differentiated is $-\\sin(x)$, which differs from our $f(x)$ by only a negative sign. Homogeneity of degree 1 is a property of integration and differentiation, meaning that scalar multiplication is preserved (i.e. multiplied constants such as $-1$ may be taken outside of the integral). Therefore, we have:\n",
    "\n",
    "$$\n",
    "F(x) = -\\cos(x) + C\n",
    "$$"
   ]
  },
  {
   "cell_type": "markdown",
   "metadata": {},
   "source": [
    "### 8. $\\int e^x dx$\n",
    "\n",
    "We know that the exponential function has a rate of change which is equal to itself. Since the derivative of $e^x$ is $e^x$, it would follow that the indefinite integral is also the same (with the constant of integration of course):\n",
    "\n",
    "$$\n",
    "F(x) = e^x + C"
   ]
  },
  {
   "cell_type": "markdown",
   "metadata": {},
   "source": [
    "## Reverse Power Rule"
   ]
  },
  {
   "cell_type": "markdown",
   "metadata": {},
   "source": [
    "The reverse power rule is goten from the fact that integration is the opposite of differentiation. It is just the opposite of the regular power rule for differentiation, and states:\n",
    "\n",
    "$$\n",
    "\\int x^n dx = \\frac{x^{n+1}}{n+1} + C, n \\neq -1\n",
    "$$\n",
    "\n",
    "This let's use easily integrate any polynomial. Note that it will not work when the exponent is $-1$ as that would result in a division by $0$ situation. We would instead have to use our knowledge of derivatives to evaluate the integral of $x^{-1}$, as done above."
   ]
  },
  {
   "cell_type": "markdown",
   "metadata": {},
   "source": [
    "### 9. $\\int \\sqrt{x}(x+4) dx$\n",
    "\n",
    "We will turn the square roots into fractional exponents and expand the integrand into a form which we could take advantage of the properties of integration that make it a linear operator. We will evaluate the integral below:\n",
    "\n",
    "$$\n",
    "\\begin{align}\n",
    "I &= \\int \\sqrt{x}(x+4) dx \\\\\n",
    "I &= \\int x^{\\frac{1}{2}}(x+4) dx \\\\\n",
    "I &= \\int x^{\\frac{3}{2}} + 4x^{\\frac{1}{2}} dx \\\\\n",
    "I &= \\int x^{\\frac{3}{2}} dx + \\int 4x^{\\frac{1}{2}} dx \\\\\n",
    "I &= \\frac{x^{\\frac{3}{2}+1}}{\\frac{3}{2}+1} + \\frac{4x^{\\frac{1}{2}+1}}{\\frac{1}{2}+1} + C \\\\\n",
    "I &= \\frac{x^{\\frac{5}{2}}}{\\frac{5}{2}} + \\frac{4x^{\\frac{3}{2}}}{\\frac{3}{2}} + C \\\\\n",
    "I &= \\frac{2}{5}x^{\\frac{5}{2}} + \\frac{8}{3}x^{\\frac{3}{2}} + C \\\\\n",
    "I &= \\frac{2}{5}\\sqrt{x^5} + \\frac{8}{3}\\sqrt{x^3} + C \\\\\n",
    "\\end{align}\n",
    "$$\n",
    "\n",
    "We could present our final answer in quite a few ways. Since the integral initially had it in terms of radicals instead of fractional exponents, we will do the same. Our final answer is thus:\n",
    "\n",
    "$$\n",
    "F(x) = \\frac{2}{5}\\sqrt{x^5} + \\frac{8}{3}\\sqrt{x^3} + C\n",
    "$$"
   ]
  },
  {
   "cell_type": "markdown",
   "metadata": {},
   "source": [
    "### 10. $\\int \\frac{1+x^6}{x^2} dx$\n",
    "\n",
    "We should get rid of the fraction by dividing all of the terms on the top by $x^2$. Evaluating the integral afterwards is quite simple:\n",
    "\n",
    "$$\n",
    "\\begin{align}\n",
    "I &= \\int \\frac{1+x^6}{x^2} dx \\\\\n",
    "I &= \\int x^{-2} + x^4 dx \\\\\n",
    "I &= \\int x^{-2} dx + \\int x^4 dx \\\\\n",
    "I &= \\frac{x^{-2+1}}{-2+1} + \\frac{x^{4+1}}{4+1} + C\\\\\n",
    "I &= \\frac{x^{-1}}{-1} + \\frac{x^{5}}{5} + C\\\\\n",
    "I &= \\frac{1}{5} x^{5} -{x^{-1}} + C\\\\\n",
    "\\end{align}\n",
    "$$\n",
    "\n",
    "Again, the end result could be written in a different way but it's just a stylistic choice. I think that having powers of $x$ and coefficients in front would be the best. Our final answer is then:\n",
    "\n",
    "$$\n",
    "F(x) = \\frac{1}{5} x^{5} -{x^{-1}} + C\n",
    "$$"
   ]
  },
  {
   "cell_type": "markdown",
   "metadata": {},
   "source": [
    "## U-Substitution\n",
    "\n",
    "This may be treated as the opposite to the chain rule for differentiation. It involves substituting another variable in the integral and replacing the original. To be able to fuly replace it, we must be integrating with respect to our new variable, shown by the d term. When integration with respect to $x$, that term is $dx$. If we were to integrate with respect to $u$, we would want to replace the $dx$ with $du$. To do so, we can treat them as differentials, gotten from differentiation:\n",
    "\n",
    "$$\n",
    "\\begin{align}\n",
    "y &= x^2 \\\\\n",
    "\\frac{dy}{dx} &= 2x \\\\\n",
    "dy &= 2x dx \\\\\n",
    "\\int dy &= \\int 2x dx \\\\\n",
    "y &= x^2 + C\n",
    "\\end{align}\n",
    "$$\n",
    "\n",
    "For some variable $u$, we would get an equation for $du$ by differentiating $u$ and putting the $dx$ term at the end. We could rearrange for $dx$ to substitute into our integral. To get rid of all of the terms with $x$ after substituting, we must ensure that there is something in the integrand that cancels out the denominator of the fraction with $du$. For instance:\n",
    "\n",
    "$$\n",
    "\\int xe^{x^2} dx\n",
    "$$\n",
    "\n",
    "We would set $u$ to be $x^2$. $du$ would then be $2x dx$. We have an $x$ term but no $2$, but we can add the by multiplying by $2$. Then we would have the $2x$ required to replace $dx$ with $du$. We would have to divide by $2$ to keep it the same, but we can take that out of the integral as it is a constant. After the substitution, we would have:\n",
    "\n",
    "$$\n",
    "\\frac{1}{2} \\int e^u du\n",
    "$$\n",
    "\n",
    "which we can easily do. Afterwards, we have to substitute $x$ back in to the equation which is rather simple. For this example, we would get an answer of:\n",
    "\n",
    "$$\n",
    "\\frac{1}{2} e^{x^2} + C\n",
    "$$\n",
    "\n",
    "U-substituion is used quite commonly when integrating and is one of the easier methods. It may be something that you use alongside other methods to solve more complex integrals, which might require multiple substitutions."
   ]
  },
  {
   "cell_type": "markdown",
   "metadata": {},
   "source": [
    "### 11. $\\int 4x^3 \\sec^2(x^4) dx$\n",
    "\n",
    "This integral allows for a pretty obvious substitution that simplifies our trig function and gets rid of the $4x^3$ term.\n",
    "\n",
    "$$\n",
    "\\begin{align}\n",
    "I &= \\int 4x^3 \\sec^2(x^4) dx \\\\\n",
    "\n",
    "\\nonumber \\\\\n",
    "u &= x^4 \\\\\n",
    "du &= 4x^3 dx \\\\\n",
    "\\nonumber \\\\\n",
    "\n",
    "I &= \\int \\sec^2(u) du \\\\\n",
    "I &= \\tan(u) + C \\\\\n",
    "I &= \\tan(x^4) + C \\\\\n",
    "\\end{align}\n",
    "$$\n",
    "\n",
    "We are left with our answer:\n",
    "\n",
    "$$\n",
    "F(x) = \\tan(x^4) + C\n",
    "$$"
   ]
  },
  {
   "cell_type": "markdown",
   "metadata": {},
   "source": [
    "### 12. $\\int \\frac{x^3}{1+x^4} dx$\n",
    "\n",
    "While not as obvious, we may add some terms to our integral to allow for a substitution. Notably, we can multiply by $4$, and then $\\frac{1}{4}$ to keep the value the same. Then we can do a subsitution to make the integrand notably simpler.\n",
    "\n",
    "$$\n",
    "\\begin{align}\n",
    "I &= \\int \\frac{x^3}{1+x^4} dx \\\\\n",
    "I &= \\frac{1}{4} \\int \\frac{4x^3}{1+x^4} dx \\\\\n",
    "\n",
    "\\nonumber \\\\\n",
    "u &= 1+x^4 \\\\\n",
    "du &= 4x^3 dx \\\\\n",
    "\\nonumber \\\\\n",
    "\n",
    "I &= \\frac{1}{4} \\int \\frac{1}{u} du \\\\\n",
    "I &= \\frac{1}{4} \\ln(|u|) + C \\\\\n",
    "I &= \\frac{1}{4} \\ln(|1+x^4|) + C \\\\\n",
    "\\end{align}\n",
    "$$\n",
    "\n",
    "Our answer is:\n",
    "\n",
    "$$\n",
    "F(x) = \\frac{1}{4} \\ln(|1+x^4|) + C\n",
    "$$"
   ]
  },
  {
   "cell_type": "markdown",
   "metadata": {},
   "source": [
    "### 13. $\\int \\frac{x}{1+x^4} dx$\n",
    "\n",
    "For this integral, we may have to do multiple substitutions.\n",
    "\n",
    "$$\n",
    "\\begin{align}\n",
    "I &= \\int \\frac{x}{1+x^4} dx \\\\\n",
    "I &= \\frac{1}{2} \\int \\frac{2x}{1+x^4} dx \\\\\n",
    "\n",
    "\\nonumber \\\\\n",
    "u &= x^2 \\\\\n",
    "du &= 2x dx \\\\\n",
    "\\nonumber \\\\\n",
    "\n",
    "\n",
    "I &= \\frac{1}{2} \\int \\frac{1}{1+u^2} du \\\\\n",
    "\n",
    "\\nonumber \\\\\n",
    "u &= \\tan(\\theta) \\\\\n",
    "du &= \\sec^2(\\theta) d\\theta \\\\\n",
    "\\nonumber \\\\\n",
    "\n",
    "I &= \\frac{1}{2} \\int \\frac{1}{1+\\tan^2(\\theta)} \\cdot \\sec^2(\\theta) d\\theta \\\\\n",
    "\n",
    "\\nonumber \\\\\n",
    "\\sec^2(\\theta) &= 1 + \\tan^2(\\theta) \\\\\n",
    "\\nonumber \\\\\n",
    "\n",
    "I &= \\frac{1}{2} \\int \\frac{\\sec^2(\\theta)}{\\sec^2(\\theta)} d\\theta \\\\\n",
    "I &= \\frac{1}{2} \\int 1 d\\theta \\\\\n",
    "I &= \\frac{1}{2} \\theta + C \\\\\n",
    "\n",
    "\\nonumber \\\\\n",
    "\\theta &= \\arctan(u) \\\\\n",
    "\\nonumber \\\\\n",
    "\n",
    "I &= \\frac{1}{2} \\arctan(u) + C \\\\\n",
    "I &= \\frac{1}{2} \\arctan(x^2) + C \\\\\n",
    "\\end{align}\n",
    "$$\n",
    "\n",
    "That may have seemed like quite a bit of work, though we could have stopped halfway through by realising that our integral would have evaluated to $\\arctan(u) + C$ through our knowledge of derivatives. Our final answer is:\n",
    "\n",
    "$$\n",
    "F(x) = \\frac{1}{2} \\arctan(x^2) + C\n",
    "$$"
   ]
  },
  {
   "cell_type": "markdown",
   "metadata": {},
   "source": [
    "### 14. $\\int \\frac{1}{1+\\sqrt{x}} dx$\n",
    "\n",
    "The substitution we need to may not be as obvious. There doesn't appear to be anything in the numerator for us to replace $dx$ with $du$. However, we should note that we can substitute our variable $u$ inside its own derivative, which may make the problem simpler. The solution is as follows:\n",
    "\n",
    "$$\n",
    "\\begin{align}\n",
    "I &= \\int \\frac{1}{1+\\sqrt{x}} dx \\\\\n",
    "\n",
    "\\nonumber \\\\\n",
    "u &= 1+\\sqrt{x} \\\\\n",
    "du &= \\frac{1}{2\\sqrt{x}} dx \\\\\n",
    "\\nonumber \\\\\n",
    "\n",
    "I &= \\int \\frac{1}{u} \\cdot \\frac{du}{\\frac{1}{2\\sqrt{x}}} \\\\\n",
    "I &= \\int \\frac{2\\sqrt{x}}{u} du \\\\\n",
    "I &= 2\\int \\frac{u-1}{u} du \\\\\n",
    "I &= 2\\int \\frac{u}{u} - \\frac{1}{u} du \\\\\n",
    "I &= 2\\int 1 du - 2\\int \\frac{1}{u} du \\\\\n",
    "I &= 2u - 2\\ln(|u|) + C \\\\\n",
    "I &= 2((1+\\sqrt{x}) - \\ln(|1+\\sqrt{x}|)) + C \\\\\n",
    "I &= 2 + 2\\sqrt{x} - 2\\ln(|1+\\sqrt{x}|) + C \\\\\n",
    "\\end{align}\n",
    "$$\n",
    "\n",
    "The natural logarithm will not recieve any negative numbers due to the square root. Thus we could exclude the absolute value bars and it would be correct. We could even absorb the $2$ into the constant of integration, but leaving it as is above is probably the best idea for readability. Our answer is:\n",
    "\n",
    "$$\n",
    "F(x) = 2 + 2\\sqrt{x} - 2\\ln(|1+\\sqrt{x}|) + C\n",
    "$$"
   ]
  },
  {
   "cell_type": "markdown",
   "metadata": {},
   "source": [
    "## Common Integrals"
   ]
  },
  {
   "cell_type": "markdown",
   "metadata": {},
   "source": [
    "While you could do these integrals with the methods established, they are rather common. It would be useful to learn some as they may appear in other, more complex integrals. In those cases, knowking them would save quite a bit of time."
   ]
  },
  {
   "cell_type": "markdown",
   "metadata": {},
   "source": [
    "### 15. $\\int \\tan(x) dx$\n",
    "\n",
    "Knowing the first step required makes tackling this integral much easier. We may not know what this integral is, but we are aware that the integral of $\\tan(x)\\sec(x)$ is $sec(x)$. Thus, if we could rewrite our integral to include that, we could do a bit of subsitutions to get our answer. This is shown below:\n",
    "\n",
    "$$\n",
    "\\begin{align}\n",
    "I &= \\int \\tan(x) dx \\\\\n",
    "I &= \\int \\frac{\\tan(x)\\sec(x)}{\\sec(x)} dx \\\\\n",
    "\n",
    "\\nonumber \\\\\n",
    "u &= \\sec(x) \\\\\n",
    "du &= \\tan(x)\\sec(x) dx \\\\\n",
    "\\nonumber \\\\\n",
    "\n",
    "I &= \\int \\frac{\\tan(x)\\sec(x)}{u} \\cdot \\frac{du}{\\tan(x)\\sec(x)} \\\\\n",
    "I &= \\int \\frac{1}{u} du \\\\\n",
    "I &= \\ln(|u|) + C \\\\\n",
    "I &= \\ln(|\\sec(x)|) + C \\\\\n",
    "\\end{align}\n",
    "$$\n",
    "\n",
    "Note that we may also arrive at our answer via another way:\n",
    "\n",
    "$$\n",
    "\\begin{align}\n",
    "I &= \\int \\tan(x) dx \\\\\n",
    "I &= \\int \\frac{\\sin(x)}{\\cos(x)} dx \\\\\n",
    "\n",
    "\\nonumber \\\\\n",
    "u &= \\cos(x) \\\\\n",
    "du &= -\\sin(x) dx \\\\\n",
    "\\nonumber \\\\\n",
    "\n",
    "I &= \\int \\frac{\\sin(x)}{u} \\cdot \\frac{du}{-\\sin(x)} \\\\\n",
    "I &= -\\int \\frac{1}{u} du \\\\\n",
    "I &= -\\ln(|u|) + C \\\\\n",
    "I &= -\\ln(|\\cos(x)|) + C \\\\\n",
    "I &= \\ln(|\\cos(x)^{-1}|) + C \\\\\n",
    "I &= \\ln(|\\sec(x)|) + C \\\\\n",
    "\\end{align}\n",
    "$$\n",
    "\n",
    "Since this is a pretty common function, it would be useful to remember that the integral of $\\tan(x)$ is given by:\n",
    "\n",
    "$$\n",
    "F(x) = \\ln(|\\sec(x)|) + C\n",
    "$$"
   ]
  },
  {
   "cell_type": "markdown",
   "metadata": {},
   "source": [
    "### 16. $\\int \\sec(x) dx$\n",
    "\n",
    "Realising the substitution required here is not that easy, so just knowing what this integral evaluates to off by heart is probably helpful. However, we can put this in a form where we have the derivative of some function over the function. Then, we can just substitute as follows:\n",
    "\n",
    "$$\n",
    "\\begin{align}\n",
    "I &= \\int \\sec(x) dx \\\\\n",
    "I &= \\int \\frac{\\sec(x)(\\tan(x)+\\sec(x))}{\\tan(x)+\\sec(x)} dx \\\\\n",
    "I &= \\int \\frac{\\sec^2(x)+\\tan(x)\\sec(x)}{\\tan(x)+\\sec(x)} dx \\\\\n",
    "\n",
    "\\nonumber \\\\\n",
    "u &= \\tan(x)+\\sec(x) \\\\\n",
    "du &= \\sec^2(x)+\\tan(x)\\sec(x) dx \\\\\n",
    "\\nonumber \\\\\n",
    "\n",
    "I &= \\int \\frac{\\sec^2(x)+\\tan(x)\\sec(x)}{u} \\cdot \\frac{du}{\\sec^2(x)+\\tan(x)\\sec(x)} \\\\\n",
    "I &= \\int \\frac{1}{u} du \\\\\n",
    "I &= \\ln(|u|) + C \\\\\n",
    "I &= \\ln(|\\tan(x)+\\sec(x)|) + C \\\\\n",
    "\\end{align}\n",
    "$$\n",
    "\n",
    "Getting the integral in the form $\\int \\frac{f'(x)}{f(x)} dx$ wasn't that difficult at all. Doing a substitution from there gives us a very easy integral to solve, which evaluates to:\n",
    "\n",
    "$$\n",
    "F(x) = \\ln(|\\tan(x)+\\sec(x)|) + C\n",
    "$$"
   ]
  },
  {
   "cell_type": "markdown",
   "metadata": {},
   "source": [
    "### 17. $\\int \\frac{1}{x^3+x} dx$\n",
    "\n",
    "This appears to be quite a difficult integral to solve. We cannot just do a substitution of $u=x+x^3$ because there is nothing in the numerator for us to change $dx$ to $du$. Doing the first few steps is very important to solving the whole integral. One way we could start is by noticing we can factor $x$ out of the bottom and get a familiar looking expression in the integrand. We will solve it below:\n",
    "\n",
    "$$\n",
    "\\begin{align}\n",
    "I &= \\int \\frac{1}{x^3+x} dx \\\\\n",
    "I &= \\int \\frac{1}{x(x^2+1)} dx \\\\\n",
    "I &= \\int \\frac{1}{x} \\cdot \\frac{1}{x^2+1} dx \\\\\n",
    "I &= \\int x^{-1} \\cdot \\frac{1}{x^2+1} dx \\\\\n",
    "\n",
    "\\nonumber \\\\\n",
    "x &= \\tan(\\theta) \\\\\n",
    "dx &= \\sec^2(\\theta) d\\theta \\\\ \n",
    "\\nonumber \\\\\n",
    "\n",
    "I &= \\int (\\tan(\\theta))^{-1} \\cdot \\frac{1}{\\tan^2(\\theta)+1} \\cdot \\sec^2(\\theta) d\\theta \\\\\n",
    "\n",
    "\\nonumber \\\\\n",
    "(\\tan(\\theta))^{-1} &= \\cot(\\theta) \\\\\n",
    "\\sec^2(\\theta) &= 1 + \\tan^2(\\theta) \\\\\n",
    "\\nonumber \\\\\n",
    "\n",
    "I &= \\int \\cot(\\theta) \\cdot \\frac{\\sec^2(\\theta)}{\\sec^2(\\theta)} d\\theta \\\\\n",
    "I &= \\int \\cot(\\theta) d\\theta \\\\\n",
    "\n",
    "\\nonumber \\\\\n",
    "\\frac{d}{dx}\\csc(x) &= -\\cot(x)\\csc(x) \\\\\n",
    "\\nonumber \\\\\n",
    "\n",
    "I &= -\\int \\frac{-\\cot(\\theta)\\csc(\\theta)}{\\csc(\\theta)} d\\theta \\\\\n",
    "\n",
    "\\nonumber \\\\\n",
    "u &= \\csc(\\theta) \\\\\n",
    "du &= -\\cot(\\theta)\\csc(\\theta) d\\theta \\\\\n",
    "\\nonumber \\\\\n",
    "\n",
    "I &= -\\int \\frac{1}{u} du \\\\\n",
    "I &= -\\ln(|u|) + C \\\\\n",
    "I &= -\\ln(|\\csc(\\theta)|) + C \\\\\n",
    "I &= \\ln(|\\csc(\\theta)^{-1}|) + C \\\\\n",
    "I &= \\ln(|\\sin(\\theta)|) + C \\\\\n",
    "\n",
    "\\nonumber \\\\\n",
    "\\theta &= \\arctan(x) \\\\\n",
    "\\nonumber \\\\\n",
    "\n",
    "I &= \\ln(|\\sin(\\arctan(x))|) + C \\\\\n",
    "\n",
    "\\nonumber \\\\\n",
    "\\tan(\\theta) &= \\frac{O}{A} \\\\\n",
    "\\arctan(\\frac{O}{A}) &= \\theta \\\\\n",
    "\\arctan(x) = \\theta &\\implies \\tan(\\theta) = \\frac{x}{1} \\\\\n",
    "O &= x \\\\\n",
    "A &= 1 \\\\\n",
    "H &= \\sqrt{x^2+1} \\\\\n",
    "\\sin(\\theta) &= \\frac{O}{H} \\\\\n",
    "\\sin(\\theta) &= \\frac{x}{\\sqrt{x^2+1}} \\\\\n",
    "\\nonumber \\\\\n",
    "\n",
    "I &= \\ln\\left(\\left|\\frac{x}{\\sqrt{x^2+1}}\\right|\\right) + C \\\\\n",
    "I &= \\ln(|x|) - \\ln(|\\sqrt{x^2+1}|) + C \\\\\n",
    "I &= \\ln(|x|) - \\ln(|(x^2+1)^{\\frac{1}{2}}|) + C \\\\\n",
    "I &= \\ln(|x|) - \\frac{1}{2}\\ln(|x^2+1|) + C \\\\\n",
    "\\end{align}\n",
    "$$\n",
    "\n",
    "That was quite a bit of work, requiring multiple substitutions. We could attempt the question in a different way, factoring the integrand slightly differently. By doing so, we can directly do a u-substitution and solve the integral as follows:\n",
    "\n",
    "$$\n",
    "\\begin{align}\n",
    "I &= \\int \\frac{1}{x^3+x} dx \\\\\n",
    "I &= \\int \\frac{1}{x^3(1+x^{-2})} dx \\\\\n",
    "I &= \\int \\frac{x^{-3}}{1+x^{-2}} dx \\\\\n",
    "I &= -\\frac{1}{2} \\int \\frac{-2x^{-3}}{1+x^{-2}} dx \\\\\n",
    "\n",
    "\\nonumber \\\\\n",
    "u &= 1+x^{-2} \\\\\n",
    "du &= -2x^{-3} dx \\\\\n",
    "\\nonumber \\\\\n",
    "\n",
    "I &= -\\frac{1}{2} \\int \\frac{1}{u} du \\\\\n",
    "I &= -\\frac{1}{2} \\ln(|u|) + C \\\\\n",
    "I &= -\\frac{1}{2} \\ln(|1+x^{-2}|) + C \\\\\n",
    "I &= -\\frac{1}{2} \\ln\\left(\\left|1+\\frac{1}{x^2}\\right|\\right) + C \\\\\n",
    "I &= -\\frac{1}{2} \\ln\\left(\\left|\\frac{x^2}{x^2}+\\frac{1}{x^2}\\right|\\right) + C \\\\\n",
    "I &= -\\frac{1}{2} \\ln\\left(\\left|\\frac{x^2+1}{x^2}\\right|\\right) + C \\\\\n",
    "I &= \\frac{1}{2} \\ln\\left(\\left|\\frac{x^2}{x^2+1}\\right|\\right) + C \\\\\n",
    "I &= \\ln\\left(\\left|\\left(\\frac{x^2}{x^2+1}\\right)^{\\frac{1}{2}}\\right|\\right) + C \\\\\n",
    "I &= \\ln\\left(\\left|\\left(\\frac{\\sqrt{x^2}}{\\sqrt{x^2+1}}\\right)\\right|\\right) + C \\\\\n",
    "I &= \\ln\\left(\\left|\\frac{1}{\\sqrt{x^2+1}}\\right|\\right) + C \\\\\n",
    "\\end{align}\n",
    "$$\n",
    "\n",
    "That took quite a few less steps to get to our answer, and most of it was simplifying after the integral had already been evaluated. The first method seems more general, utilising trig identities and a common expression found in the integrand. The second method required rearranging the integrand so that we had a $\\int \\frac{f'(x)}{f(x)}$ situation which is easy to integrate. Our final answer is:\n",
    "\n",
    "$$\n",
    "F(x) = \\ln\\left(\\left|\\frac{x}{\\sqrt{x^2+1}}\\right|\\right) + C\n",
    "$$"
   ]
  },
  {
   "cell_type": "markdown",
   "metadata": {},
   "source": [
    "## Integral Mistakes"
   ]
  },
  {
   "cell_type": "markdown",
   "metadata": {},
   "source": [
    "This section has some integrals with the wrong answers. These answers may arise from misunderstanding the methods of integration, such as using them in ways they are not meant to be used. All integrals here have either been solved prior or will be in later sections."
   ]
  },
  {
   "cell_type": "markdown",
   "metadata": {},
   "source": [
    "### 18. $\\int \\sin^3(x) dx$\n",
    "\n",
    "You may want to use the power rule and integrate it. However, that would not work.\n",
    "\n",
    "$$\n",
    "\\int \\sin^3(x) dx \\neq \\frac{1}{4}\\sin^4(x) + C\n",
    "$$\n",
    "\n",
    "The sine function is a function of the variable $x$ which we are integrating in respect to. We cannot use the rules for powers of $x$ with the function as it itself is not some variable. To solve this integral, we would have to utilise some trigonometric identities. We will evaluate this later on."
   ]
  },
  {
   "cell_type": "markdown",
   "metadata": {},
   "source": [
    "### 19. $\\int \\frac{1}{1+\\sqrt{x}} dx$\n",
    "\n",
    "Seeing a fraction with 1 on the top inside the integrand may tempt you to use the natural logarithm straight away. However, we could get the wrong answer:\n",
    "\n",
    "$$\n",
    "\\int \\frac{1}{1+\\sqrt{x}} dx \\neq \\ln(|1+\\sqrt{x}|) + C\n",
    "$$\n",
    "\n",
    "The square root in the denominator means that we cannot just put it inside of the natural logarithm. Instead, we need to do some substitutions to get an integrand which we can evaluate with the natural logarithm, as we have done above."
   ]
  },
  {
   "cell_type": "markdown",
   "metadata": {},
   "source": [
    "### 20. $\\int e^{x^2} dx$\n",
    "\n",
    "While it is true that:\n",
    "\n",
    "$$\n",
    "\\int e^{2x} dx = \\frac{1}{2}e^{2x} + C\n",
    "$$\n",
    "\n",
    "It does not follow that would do the same for the integral above.\n",
    "\n",
    "$$\n",
    "\\int e^{x^2} dx \\neq \\frac{1}{2x}e^{x^2} + C\n",
    "$$\n",
    "\n",
    "If we were to try and substitute $u$ for $x^2$, we do not have a $2x$ to get an integrand in terms of $u$ only with a $du$ term. Therefore, we cannot do a basic substitution to evaluate this integral. Actually, it turns out that this integral is a non-elementary integral, meaning that we cannot express it in terms of elementary functions. These are the functions that you would normally think of, such as polynomial, rational, trig or exponential functions. To give an exact solution for these integrals, we would have to user special functions such as the [error function](https://en.wikipedia.org/wiki/Error_function)."
   ]
  },
  {
   "cell_type": "markdown",
   "metadata": {},
   "source": [
    "### 21. $\\int \\arctan(x) dx$\n",
    "\n",
    "What if we write $\\frac{1}{1+x^2}+C$ as our answer. This is obviously wrong though.\n",
    "\n",
    "$$\n",
    "\\int \\arctan(x) dx \\neq \\frac{1}{1+x^2}+C\n",
    "$$\n",
    "\n",
    "That is the derivative of the arctangent function, not its integral. To solve this integral, we would have to use integration by parts, which may seem suprising. We will do this later on."
   ]
  },
  {
   "cell_type": "markdown",
   "metadata": {},
   "source": [
    "### 22. $\\int x^2 \\sin(x) dx$\n",
    "\n",
    "We are easily able to integrate $x^2$ and $\\sin(x)$ on their own. We may try to combine the answers to both of them into one answer, though this would be incorrect.\n",
    "\n",
    "$$\n",
    "\\int x^2\\sin(x) dx \\neq -\\frac{1}{3}x^3cos(x) + C\n",
    "$$\n",
    "\n",
    "If the two functions were summed together inside the integrand, then we could give our answer as the sum of each function's indefinite integrals. This would be okay due to the additive property of integration and differentiation. However, the same isn't true when functions are multiplied together. We would instead have to use integration by parts to solve this integral."
   ]
  },
  {
   "cell_type": "markdown",
   "metadata": {},
   "source": [
    "## Non-Elementary Integrals"
   ]
  },
  {
   "cell_type": "markdown",
   "metadata": {},
   "source": [
    "While all of the integrals we will do can be actually solved, there are many that cannot be. To be more precise, tere are many integrals that can't be expressed in terms of elementary functions, the functions that you would normally think of. These integrals may not have any solution at all, or they might have solutions in terms of special non-elementary functions. In some cases, there are functions that are defined specifically to be the solution to these integrals. Or in other cases, we might require infinite series' to give an exact solution. If an exact solution cannot be given, we may use numerical methods or computers to give approximations of the actual solutions. Knowing some of the famous non-elementary integrals is useful as they do have quite a bit of applications in the real world, and so you don't waste time trying to solve them yourself."
   ]
  },
  {
   "cell_type": "markdown",
   "metadata": {},
   "source": [
    "$$\n",
    "\\begin{align}\n",
    "&\\int e^{x^2} dx = \\frac{\\sqrt{\\pi} \\operatorname{erfi}{\\left(x \\right)}}{2} + C \\\\ \\nonumber \\\\\n",
    "&\\int e^{-x^2} dx = \\frac{\\sqrt{\\pi} \\operatorname{erf}{\\left(x \\right)}}{2} + C \\\\ \\nonumber \\\\\n",
    "&\\int \\frac{\\sin(x)}{x} dx = \\operatorname{Si}{\\left(x \\right)} + C \\\\ \\nonumber \\\\\n",
    "&\\int \\frac{\\cos(x)}{x} dx = \\operatorname{Ci}{\\left(x \\right)} + C \\\\ \\nonumber \\\\\n",
    "&\\int \\frac{e^x}{x} dx = \\operatorname{Ei}{\\left(x \\right)} + C \\\\ \\nonumber \\\\\n",
    "&\\int \\frac{1}{\\ln(x)} dx = \\operatorname{li}{\\left(x \\right)} + C \\\\ \\nonumber \\\\\n",
    "&\\int \\sin(x^2) dx = \\frac{3 \\sqrt{2} \\sqrt{\\pi} S\\left(\\frac{\\sqrt{2} x}{\\sqrt{\\pi}}\\right) \\Gamma\\left(\\frac{3}{4}\\right)}{8 \\Gamma\\left(\\frac{7}{4}\\right)} + C \\\\ \\nonumber \\\\\n",
    "&\\int \\cos(x^2) dx = \\frac{\\sqrt{2} \\sqrt{\\pi} C\\left(\\frac{\\sqrt{2} x}{\\sqrt{\\pi}}\\right) \\Gamma\\left(\\frac{1}{4}\\right)}{8 \\Gamma\\left(\\frac{5}{4}\\right)} + C \\\\ \\nonumber \\\\\n",
    "&\\int x^x dx =  \\sum_{k = 0}^{+\\infty}\\sum_{n = 0}^k (-1)^n \\frac{x^{k+1} \\cdot \\ln^{k-n}(x)}{(k+1)^{n+1}\\cdot (k-n)!} + C \\\\ \\nonumber \\\\\n",
    "&\\int \\sqrt{1+x^3} dx = \\frac{x \\Gamma\\left(\\frac{1}{3}\\right) {{}_{2}F_{1}\\left(\\begin{matrix} - \\frac{1}{2}, \\frac{1}{3} \\\\ \\frac{4}{3} \\end{matrix}\\middle| {x^{3} e^{i \\pi}} \\right)}}{3 \\Gamma\\left(\\frac{4}{3}\\right)} + C \\\\ \\nonumber \\\\\n",
    "\\end{align}\n",
    "$$"
   ]
  },
  {
   "cell_type": "markdown",
   "metadata": {},
   "source": [
    "## Integration By Parts"
   ]
  },
  {
   "cell_type": "markdown",
   "metadata": {},
   "source": [
    "Integration by parts is the opposite of the product rule for differentiation. In fact, we can use the product rule to derive it:\n",
    "\n",
    "$$\n",
    "\\begin{align}\n",
    "\\frac{d}{dx}uv &= u'v + v'u \\\\\n",
    "\\int \\frac{d}{dx}uv dx &= \\int u'v + v'u dx \\\\\n",
    "uv &= \\int u'v dx + \\int v'u dx \\\\\n",
    "\\int v'u dx &= uv - \\int u'v dx \\\\\n",
    "\\end{align}\n",
    "$$\n",
    "\n",
    "where $u$ and $v$ are two functions of $x$. When using this, we will choose one of our functions to be $u$ and the other to be $v'$. This is really important as we use integration by parts to get an integral simpler than our original one. Before using the method, you should think if the derivative of one of your functions and the integral of the other will make a simpler integral than the one you have. Generally, you want $u$ to be the function whose derivative makes it simpler and $v'$ to be a function whose integral doesn't make it too much more complex. Ideal choice for $u$ would be logarithmic or polynomial functions, while exponential functions would be best for $v'$. You will get better at using this method and picking the correct ones by practicing or looking at solved examples such as the ones below. "
   ]
  },
  {
   "cell_type": "markdown",
   "metadata": {},
   "source": [
    "### 23. $\\int x\\cos(x^2) dx$\n",
    "\n",
    "Note that without the $x$ term, the integral would be a non-elementary one. The presence of it allows for us to actually solve it. In this example, it would be rather simple to do a u-substitution, as we can change the integrand to be entirely in terms of the substituted variable due to the $x$ term. We will solve it as follows:\n",
    "\n",
    "$$\n",
    "\\begin{align}\n",
    "I &= \\int x\\cos(x^2) dx \\\\\n",
    "I &= \\frac{1}{2} \\int 2x\\cos(x^2) dx \\\\\n",
    "\n",
    "\\nonumber \\\\\n",
    "u &= x^2 \\\\\n",
    "du &= 2x dx \\\\\n",
    "\\nonumber \\\\\n",
    "\n",
    "I &= \\frac{1}{2} \\int \\cos(u) du \\\\\n",
    "I &= \\frac{1}{2} \\sin(u) + C \\\\\n",
    "I &= \\frac{1}{2} \\sin(x^2) + C \\\\\n",
    "\\end{align}\n",
    "$$\n",
    "\n",
    "Our final answer is:\n",
    "\n",
    "$$\n",
    "F(x) = \\frac{1}{2} \\sin(x^2) + C\n",
    "$$"
   ]
  },
  {
   "cell_type": "markdown",
   "metadata": {},
   "source": [
    "### 24. $\\int x\\cos(x) dx$\n",
    "\n",
    "The integrand is quite similar to the previous one, except that the $x^2$ term has been replaced by an $x$ term. This means we cannot do a substitution to get rid of the $x$ in front of the cosine, so we will use integration by parts instead:\n",
    "\n",
    "$$\n",
    "\\begin{align}\n",
    "I &= \\int x\\cos(x) dx \\\\\n",
    "\n",
    "\\nonumber \\\\\n",
    "\\int uv' dx &= uv - \\int u'v dx \\\\\n",
    "u &= x \\\\\n",
    "u' &= 1 \\\\\n",
    "v &= \\sin(x) \\\\\n",
    "v' &= \\cos(x) \\\\\n",
    "\\nonumber \\\\\n",
    "\n",
    "I &= x\\sin(x) - \\int \\sin(x) dx \\\\\n",
    "I &= x\\sin(x) + \\cos(x) + C \\\\\n",
    "\\end{align}\n",
    "$$\n",
    "\n",
    "This time, the integration was rather simple as the functions we had in our integrand had simple derivatives and antiderivatives. Our final answer is:\n",
    "\n",
    "$$\n",
    "F(x) = x\\sin(x) + \\cos(x) + C\n",
    "$$"
   ]
  },
  {
   "cell_type": "markdown",
   "metadata": {},
   "source": [
    "### 25. $\\int x^3 \\ln(x) dx$\n",
    "\n",
    "When doing integration by parts, it is important to choose the best values for $u$ and $v'$ so that our integrand of $u'v$ would be simpler than an integrand of $uv'$. While polynomial terms like $x^3$ are made simpler by differentiating, the natural logarithm is made more complex by integrating. Thus, choosing $\\ln(x)$ as $u$ is important to get simpler integrands by using the integration by parts formula. We will solve this integral below:\n",
    "\n",
    "$$\n",
    "\\begin{align}\n",
    "I &= \\int x^3 \\ln(x) dx \\\\\n",
    "\n",
    "\\nonumber \\\\\n",
    "\\int uv' dx &= uv - \\int u'v dx \\\\\n",
    "u &= \\ln(x) \\\\\n",
    "u' &= \\frac{1}{x} \\\\\n",
    "v &= \\frac{1}{4}x^4 \\\\\n",
    "v' &= x^3 \\\\\n",
    "\\nonumber \\\\\n",
    "\n",
    "I &= \\frac{1}{4}x^4\\ln(x) - \\int \\frac{1}{x} \\cdot \\frac{1}{4}x^4 dx \\\\\n",
    "I &= \\frac{1}{4}x^4\\ln(x) - \\frac{1}{4} \\int x^3 dx \\\\\n",
    "I &= \\frac{1}{4}x^4\\ln(x) - \\frac{1}{4} \\cdot \\frac{1}{4}x^4 + C \\\\\n",
    "I &= \\frac{1}{4}x^4\\left(\\ln(x) - \\frac{1}{4}\\right) + C \\\\\n",
    "\\end{align}\n",
    "$$\n",
    "\n",
    "By choosing for the natural logarithm to be differentiated in our new integrand, the problem was made quite a bit simpler with an integral of a polynomial instead of the original. Our answer is:\n",
    "\n",
    "$$\n",
    "F(x) = \\frac{1}{4}x^4\\left(\\ln(x) - \\frac{1}{4}\\right) + C\n",
    "$$"
   ]
  },
  {
   "cell_type": "markdown",
   "metadata": {},
   "source": [
    "### 22*. $\\int x^2 \\sin(x) dx$\n",
    "\n",
    "Let's solve this integral properly now. In situations like these, have the polynomial be the one that is differentiated is preferable, while having $sin(x)$ integrated is fine. We can thus solve the integral:\n",
    "\n",
    "$$\n",
    "\\begin{align}\n",
    "I &= \\int x^2 \\sin(x) dx \\\\\n",
    "\n",
    "\\nonumber \\\\\n",
    "\\int uv' dx &= uv - \\int u'v dx \\\\\n",
    "u &= x^2 \\\\\n",
    "u' &= 2x \\\\\n",
    "v &= -\\cos(x) \\\\\n",
    "v' &= \\sin(x) \\\\\n",
    "\\nonumber \\\\\n",
    "\n",
    "I &= -x^2\\cos(x) - \\int -2x\\cos(x) dx \\\\\n",
    "I &= -x^2\\cos(x) + \\int 2x\\cos(x) dx \\\\\n",
    "\n",
    "\\nonumber \\\\\n",
    "\\int uv' dx &= uv - \\int u'v dx \\\\\n",
    "u &= 2x \\\\\n",
    "u' &= 2 \\\\\n",
    "v &= \\sin(x) \\\\\n",
    "v' &= \\cos(x) \\\\\n",
    "\\nonumber \\\\\n",
    "\n",
    "I &= -x^2\\cos(x) + \\left(2x\\sin(x) - \\int 2\\sin(x) dx\\right) \\\\\n",
    "I &= -x^2\\cos(x) + 2x\\sin(x) - 2\\int \\sin(x) dx \\\\\n",
    "I &= -x^2\\cos(x) + 2x\\sin(x) + 2\\cos(x) + C \\\\\n",
    "I &= 2x\\sin(x) + \\cos(x)(2 - x^2) + C \\\\\n",
    "\\end{align}\n",
    "$$\n",
    "\n",
    "This time, we had perform integration by parts twice to simplify the polynomial term to a constant. Our final answer is:\n",
    "\n",
    "$$\n",
    "F(x) = 2x\\sin(x) + \\cos(x)(2 - x^2) + C\n",
    "$$"
   ]
  },
  {
   "cell_type": "markdown",
   "metadata": {},
   "source": [
    "### 26. $\\int e^x \\sin(2x) dx$\n",
    "\n",
    "The $\\sin(2x)$ on its own is pretty simple to evaluate, and so is the exponential term. We would always want to choose our exponential part of the integrand to be $v'$ as integrating it does not make it any more complicated. Thus, we may solve the integral as follows:\n",
    "\n",
    "$$\n",
    "\\begin{align}\n",
    "I &= \\int e^x \\sin(2x) dx \\\\\n",
    "\n",
    "\\nonumber \\\\\n",
    "\\int uv' dx &= uv - \\int u'v dx \\\\\n",
    "u &= \\sin(2x) \\\\\n",
    "u' &= 2\\cos(2x) \\\\\n",
    "v &= e^x \\\\\n",
    "v' &= e^x \\\\\n",
    "\\nonumber \\\\\n",
    "\n",
    "I &= e^x\\sin(2x) - \\int 2e^x\\cos(2x) dx \\\\\n",
    "I &= e^x\\sin(2x) - 2\\int e^x\\cos(2x) dx \\\\\n",
    "\n",
    "\\int uv' dx &= uv - \\int u'v dx \\\\\n",
    "u &= \\cos(2x) \\\\\n",
    "u' &= -2\\sin(2x) \\\\\n",
    "v &= e^x \\\\\n",
    "v' &= e^x \\\\\n",
    "\\nonumber \\\\\n",
    "\n",
    "I &= e^x\\sin(2x) - 2\\left(e^x\\cos(2x) - \\int -2e^x\\sin(2x) dx\\right) \\\\\n",
    "I &= e^x\\sin(2x) - 2\\left(e^x\\cos(2x) + 2\\int e^x\\sin(2x) dx\\right) \\\\\n",
    "I &= e^x\\sin(2x) - 2e^x\\cos(2x) - 4\\int e^x\\sin(2x) dx \\\\\n",
    "I &= e^x\\sin(2x) - 2e^x\\cos(2x) - 4I \\\\\n",
    "5I &= e^x\\sin(2x) - 2e^x\\cos(2x) + C \\\\\n",
    "I &= \\frac{1}{5}(e^x\\sin(2x) - 2e^x\\cos(2x)) + C \\\\\n",
    "I &= \\frac{1}{5}e^x(\\sin(2x) - 2\\cos(2x)) + C \\\\\n",
    "\\end{align}\n",
    "$$\n",
    "\n",
    "Doing integration by parts twice gave us an expression containing our original integral. We could then move this to one side and get our answer, which is:\n",
    "\n",
    "$$\n",
    "F(x) = \\frac{1}{5}e^x(\\sin(2x) - 2\\cos(2x)) + C\n",
    "$$"
   ]
  },
  {
   "cell_type": "markdown",
   "metadata": {},
   "source": [
    "### 21*. $\\int \\arctan(x) dx$\n",
    "\n",
    "It might not make sense to use integration by parts in this situation since there is only one function inside the integrand. However, the integral would obviously be the same if we multiplied by $1$. We could then use that to utilise integration by parts and solve the integral:\n",
    "\n",
    "$$\n",
    "\\begin{align}\n",
    "I &= \\int \\arctan(x) dx \\\\\n",
    "I &= \\int 1 \\cdot \\arctan(x) dx \\\\\n",
    "\n",
    "\\nonumber \\\\\n",
    "\\int uv' dx &= uv - \\int u'v dx \\\\\n",
    "u &= \\arctan(x) \\\\\n",
    "u' &= \\frac{1}{1+x^2} \\\\\n",
    "v &= x \\\\\n",
    "v' &= 1 \\\\\n",
    "\\nonumber \\\\\n",
    "\n",
    "I &= x\\arctan(x) - \\int x \\cdot \\frac{1}{1+x^2} dx \\\\\n",
    "I &= x\\arctan(x) - \\frac{1}{2} \\int \\frac{2x}{1+x^2} dx \\\\\n",
    "\n",
    "\\nonumber \\\\\n",
    "u &= x^2 + 1 \\\\\n",
    "du &= 2x dx \\\\\n",
    "\\nonumber \\\\\n",
    "\n",
    "I &= x\\arctan(x) - \\frac{1}{2} \\int \\frac{1}{u} du \\\\\n",
    "I &= x\\arctan(x) - \\frac{1}{2} \\ln(|u|) + C \\\\\n",
    "I &= x\\arctan(x) - \\frac{1}{2} \\ln(|x^2 + 1|) + C \\\\\n",
    "\\end{align}\n",
    "$$\n",
    "\n",
    "Multiplying by $1$ allowed for us to use integration by parts and solve the integral pretty easily. Our final answer is:\n",
    "\n",
    "$$\n",
    "F(x) = x\\arctan(x) - \\frac{1}{2} \\ln(|x^2 + 1|) + C\n",
    "$$"
   ]
  },
  {
   "cell_type": "markdown",
   "metadata": {},
   "source": [
    "### 27. $\\int \\frac{\\ln(x)}{\\sqrt{x}} dx$\n",
    "\n",
    "Integration by parts is really just a rearranged version of the product rule for differentiation. However, we may also use it for the quotient of two functions by turning the integrand into a product. Here, we would have to turn the square root into a fractional exponent and use negative exponents. The solution is as follows:\n",
    "\n",
    "$$\n",
    "\\begin{align}\n",
    "I &= \\int \\frac{\\ln(x)}{\\sqrt{x}} dx \\\\\n",
    "I &= \\int \\frac{\\ln(x)}{x^{\\frac{1}{2}}} dx \\\\\n",
    "I &= \\int x^{-\\frac{1}{2}} \\ln(x) dx \\\\\n",
    "\n",
    "\\nonumber \\\\\n",
    "\\int uv' dx &= uv - \\int u'v dx \\\\\n",
    "u &= \\ln(x) \\\\\n",
    "u' &= x^{-1} \\\\\n",
    "v &= 2x^{\\frac{1}{2}} \\\\\n",
    "v' &= x^{-\\frac{1}{2}} \\\\\n",
    "\\nonumber \\\\\n",
    "\n",
    "I &= 2x^{\\frac{1}{2}}\\ln(x) - \\int x^{-1} \\cdot 2x^{\\frac{1}{2}} dx \\\\\n",
    "I &= 2x^{\\frac{1}{2}}\\ln(x) - 2\\int x^{-\\frac{1}{2}} dx \\\\\n",
    "I &= 2x^{\\frac{1}{2}}\\ln(x) - 4x^{\\frac{1}{2}} + C \\\\\n",
    "I &= 2x^{\\frac{1}{2}}(\\ln(x) - 2) + C \\\\\n",
    "I &= 2\\sqrt{x}(\\ln(x) - 2) + C \\\\\n",
    "\\end{align}\n",
    "$$\n",
    "\n",
    "Since the original integral was expressed with radicals instead of fractional exponents, I will do the same with my answer, which is:\n",
    "\n",
    "$$\n",
    "F(x) = 2\\sqrt{x}(\\ln(x) - 2) + C\n",
    "$$"
   ]
  },
  {
   "cell_type": "markdown",
   "metadata": {},
   "source": [
    "### 28. $\\int x^2 e^{3x} dx$\n",
    "\n",
    "This is a rather easy integral to do via integration by parts. The exponential function is obviously the best to integrate and we can reduce the polynomial to a constant via multiple iterations of the method, done below:\n",
    "\n",
    "$$\n",
    "\\begin{align}\n",
    "I &= \\int x^2 e^{3x} dx \\\\\n",
    "\n",
    "\\nonumber \\\\\n",
    "\\int uv' dx &= uv - \\int u'v dx \\\\\n",
    "u &= x^2 \\\\\n",
    "u' &= 2x \\\\\n",
    "v &= \\frac{1}{3}e^{3x} \\\\\n",
    "v' &= e^{3x} \\\\\n",
    "\\nonumber \\\\\n",
    "\n",
    "I &= \\frac{1}{3}x^2e^{3x} - \\int 2x \\cdot \\frac{1}{3}e^{3x} \\\\\n",
    "I &= \\frac{1}{3}x^2e^{3x} - \\frac{2}{3} \\int xe^{3x} \\\\\n",
    "\n",
    "\\nonumber \\\\\n",
    "\\int uv' dx &= uv - \\int u'v dx \\\\\n",
    "u &= x \\\\\n",
    "u' &= 1 \\\\\n",
    "v &= \\frac{1}{3}e^{3x} \\\\\n",
    "v' &= e^{3x} \\\\\n",
    "\\nonumber \\\\\n",
    "\n",
    "I &= x^2e^x - \\frac{2}{3} \\left(\\frac{1}{3}xe^{3x} - \\int \\frac{1}{3}e^{3x} dx\\right) \\\\\n",
    "I &= x^2e^x - \\frac{2}{3} \\left(\\frac{1}{3}xe^{3x} - \\frac{1}{3} \\int e^{3x} dx\\right) \\\\\n",
    "I &= x^2e^x - \\frac{2}{3} \\left(\\frac{1}{3}xe^{3x} - \\frac{1}{9}e^{3x} \\right) + C \\\\\n",
    "I &= x^2e^x - \\frac{2}{9}xe^{3x} + \\frac{2}{27}e^{3x} + C \\\\\n",
    "\\end{align}\n",
    "$$\n",
    "\n",
    "With just two iterations, we solve the integral and get a pretty neat looking answer:\n",
    "\n",
    "$$\n",
    "F(x) = x^2e^x - \\frac{2}{9}xe^{3x} + \\frac{2}{27}e^{3x} + C\n",
    "$$"
   ]
  },
  {
   "cell_type": "markdown",
   "metadata": {},
   "source": [
    "### 29. $\\int x \\sec(x)\\tan(x) dx$\n",
    "\n",
    "We can notice how the integral of $\\sec(x)\\tan(x)$ is just $\\sec(x)$, making this a pretty simple integral to do via integration by parts. We will solve it as follows:\n",
    "\n",
    "$$\n",
    "\\begin{align}\n",
    "I &= \\int x \\sec(x)\\tan(x) dx \\\\\n",
    "\n",
    "\\nonumber \\\\\n",
    "\\int uv' dx &= uv - \\int u'v dx \\\\\n",
    "u &= x \\\\\n",
    "u' &= 1 \\\\\n",
    "v &= \\sec(x) \\\\\n",
    "v' &= \\sec(x)\\tan(x) \\\\\n",
    "\\nonumber \\\\\n",
    "\n",
    "I &= x\\sec(x) - \\int \\sec(x) \\\\\n",
    "I &= x\\sec(x) - \\int \\frac{\\sec(x)(\\sec(x)+\\tan(x))}{\\sec(x)+\\tan(x)} \\\\\n",
    "I &= x\\sec(x) - \\int \\frac{\\sec^2(x)+\\tan(x)\\sec(x)}{\\sec(x)+\\tan(x)} \\\\\n",
    "\n",
    "\\nonumber \\\\\n",
    "u &= \\sec(x)+\\tan(x) \\\\\n",
    "du &= \\tan(x)\\sec(x)+\\sec^2(x) dx \\\\\n",
    "\\nonumber \\\\\n",
    "\n",
    "I &= x\\sec(x) - \\int \\frac{1}{u} du \\\\\n",
    "I &= x\\sec(x) - \\ln(|u|) + C \\\\\n",
    "I &= x\\sec(x) - \\ln(|\\sec(x)+\\tan(x)|) + C \\\\\n",
    "\\end{align}\n",
    "$$\n",
    "\n",
    "Simple. The answer is:\n",
    "\n",
    "$$\n",
    "F(x) = x\\sec(x) - \\ln(|\\sec(x)+\\tan(x)|) + C\n",
    "$$"
   ]
  },
  {
   "cell_type": "markdown",
   "metadata": {},
   "source": [
    "## Trigonometric Identities"
   ]
  },
  {
   "cell_type": "markdown",
   "metadata": {},
   "source": [
    "Integrals containing trig functions are quite common. While some may be solveable using the standard integration methods, you would have to use identities for many. These are well-known facts that can be used to simplify expressions and turn integrands into a form that can be solved using other methods. The pdf file linked contains many of these identities, though they are also present on the internet and can be easily found."
   ]
  },
  {
   "cell_type": "markdown",
   "metadata": {},
   "source": [
    "### 30. $\\int \\sin^2(x)\\cos(x) dx$\n",
    "\n",
    "This integral is quite easy to do with a simple u-substitution:\n",
    "\n",
    "$$\n",
    "\\begin{align}\n",
    "I &= \\int \\sin^2(x)\\cos(x) dx \\\\\n",
    "\n",
    "\\nonumber \\\\\n",
    "u &= \\sin(x) \\\\\n",
    "du &= \\cos(x) dx \\\\\n",
    "\\nonumber \\\\\n",
    "\n",
    "I &= \\int u^2 du \\\\\n",
    "I &= \\frac{1}{3}u^3 + C \\\\\n",
    "I &= \\frac{1}{3}\\sin^3(x) + C \\\\\n",
    "\\end{align}\n",
    "$$\n",
    "\n",
    "That was a rather simple integral to do, with just one substitution giving us an answer of:\n",
    "\n",
    "$$\n",
    "F(x) = \\frac{1}{3}\\sin^3(x) + C\n",
    "$$"
   ]
  },
  {
   "cell_type": "markdown",
   "metadata": {},
   "source": [
    "### 31. $\\int \\sin^2(x) dx$\n",
    "\n",
    "For this one, we will have to use a trig identity that allows us to decompose the integrand via reducing the power of the sine function. We can do this as follows:\n",
    "\n",
    "$$\n",
    "\\begin{align}\n",
    "I &= \\int \\sin^2(x) dx \\\\\n",
    "\n",
    "\\nonumber \\\\\n",
    "\\sin^2(\\theta) &= \\frac{1}{2}(1-\\cos(2\\theta)) \\\\\n",
    "\\nonumber \\\\\n",
    "\n",
    "I &= \\int \\frac{1}{2}(1-\\cos(2x)) dx \\\\\n",
    "I &= \\int \\frac{1}{2} - \\frac{1}{2}\\cos(2x)) dx \\\\\n",
    "I &= \\int \\frac{1}{2} dx - \\int \\frac{1}{2}\\cos(2x) dx \\\\\n",
    "I &= \\frac{1}{2}\\left(x - \\frac{1}{2}\\sin(2x) \\right) + C \\\\\n",
    "\n",
    "\\nonumber \\\\\n",
    "\\sin(2\\theta) &= 2\\sin(\\theta)\\cos(\\theta) \\\\\n",
    "\\nonumber \\\\\n",
    "\n",
    "I &= \\frac{1}{2}\\left(x - \\sin(x)\\cos(x) \\right) + C \\\\\n",
    "\\end{align}\n",
    "$$\n",
    "\n",
    "We could have left our answer in a few different forms, but I think that it would be best to express it as:\n",
    "\n",
    "$$\n",
    "F(x) = \\frac{1}{2}\\left(x - \\sin(x)\\cos(x) \\right) + C\n",
    "$$"
   ]
  },
  {
   "cell_type": "markdown",
   "metadata": {},
   "source": [
    "### 18*. $\\int \\sin^3(x) dx$\n",
    "\n",
    "We will use a bit of identities to solve as follows:\n",
    "\n",
    "$$\n",
    "\\begin{align}\n",
    "I &= \\int \\sin^3(x) dx \\\\\n",
    "I &= \\int \\sin(x)\\sin^2(x) dx \\\\\n",
    "\n",
    "\\nonumber \\\\\n",
    "1 &= \\sin^2(\\theta) + \\cos^2(\\theta) \\\\\n",
    "\\sin^2(\\theta) &= 1 - \\cos^2(\\theta) \\\\\n",
    "\\sin^2(\\theta) &= \\frac{1}{2}(1-\\cos(2\\theta)) \\\\\n",
    "\\cos^2(\\theta) &= \\frac{1}{2}(1+\\cos(2\\theta)) \\\\\n",
    "\\nonumber \\\\\n",
    "\n",
    "I &= \\int \\sin(x)(1-\\cos^2(x)) dx \\\\\n",
    "I &= \\int \\sin(x) - \\sin(x)\\cos^2(x) dx \\\\\n",
    "I &= \\int \\sin(x) - \\sin(x)\\cdot\\frac{1}{2}(1+\\cos(2x)) dx \\\\\n",
    "I &= \\int \\sin(x) dx - \\int \\frac{1}{2}\\sin(x)(1+\\cos(2x)) dx \\\\\n",
    "I &= -\\cos(x) - \\frac{1}{2} \\int \\sin(x) + \\sin(x)\\cos(2x) dx \\\\\n",
    "I &= -\\cos(x) - \\frac{1}{2} \\int \\sin(x) dx - \\frac{1}{2}  \\int \\sin(x)\\cos(2x) dx \\\\\n",
    "I &= -\\cos(x) + \\frac{1}{2} \\cos(x) - \\frac{1}{2}  \\int \\sin(x)\\cos(2x) dx \\\\\n",
    "\n",
    "\\nonumber \\\\\n",
    "I_b &= \\int \\sin(x)\\cos(2x) dx \\\\\n",
    "\\nonumber \\\\\n",
    "\n",
    "I &= -\\cos(x) + \\frac{1}{2} \\cos(x) - \\frac{1}{2}  I_b \\\\\n",
    "\n",
    "\\nonumber \\\\\n",
    "\\int uv' dx &= uv - \\int u'v dx \\\\\n",
    "u &= \\cos(2x) \\\\\n",
    "u' &= -2\\sin(2x) \\\\\n",
    "v &= -\\cos(x) \\\\\n",
    "v' &= \\sin(x) \\\\\n",
    "\\nonumber \\\\\n",
    "\n",
    "I_b &= -\\cos(x)\\cos(2x) - \\int -2\\sin(2x) \\cdot -\\cos(x) dx \\\\\n",
    "I_b &= -\\cos(x)\\cos(2x) - 2\\int \\sin(2x)\\cos(x) dx \\\\\n",
    "\n",
    "\\nonumber \\\\\n",
    "\\int uv' dx &= uv - \\int u'v dx \\\\\n",
    "u &= \\sin(2x) \\\\\n",
    "u' &= 2\\cos(2x) \\\\\n",
    "v &= \\sin(x) \\\\\n",
    "v' &= \\cos(x) \\\\\n",
    "\\nonumber \\\\\n",
    "\n",
    "I_b &= -\\cos(x)\\cos(2x) - 2\\left( \\sin(x)\\sin(2x) - 2\\int \\sin(x)\\cos(2x) dx \\right) \\\\\n",
    "I_b &= -\\cos(x)\\cos(2x) - 2( \\sin(x)\\sin(2x) - 2I_b) \\\\\n",
    "I_b &= -\\cos(x)\\cos(2x) - 2\\sin(x)\\sin(2x) + 4I_b \\\\\n",
    "-3I_b &= -\\cos(x)\\cos(2x) - 2\\sin(x)\\sin(2x) \\\\\n",
    "3I_b &= \\cos(x)\\cos(2x) + 2\\sin(x)\\sin(2x) \\\\\n",
    "I_b &= \\frac{1}{3}\\left(\\cos(x)\\cos(2x) + 2\\sin(x)\\sin(2x)\\right) \\\\\n",
    "\n",
    "\\nonumber \\\\\n",
    "\n",
    "I &= -\\cos(x) + \\frac{1}{2} \\cos(x) - \\frac{1}{2}  \\left( \\frac{1}{3}\\left(\\cos(x)\\cos(2x) + 2\\sin(x)\\sin(2x)\\right) \\right) \\\\\n",
    "I &= -\\frac{1}{2}\\cos(x) - \\frac{1}{6}\\left(\\cos(x)\\cos(2x) + 2\\sin(x)\\sin(2x)\\right) \\\\\n",
    "I &= -\\frac{1}{2}\\cos(x) - \\frac{1}{6}\\cos(x)\\cos(2x) - \\frac{1}{3}\\sin(x)\\sin(2x) \\\\\n",
    "I &= -\\cos(x)(\\frac{1}{2} + \\frac{1}{6}\\cos(2x)) - \\frac{1}{3}\\sin(x)\\sin(2x) \\\\\n",
    "\n",
    "\\nonumber \\\\\n",
    "\\sin(2\\theta) &= 2\\sin(\\theta)\\cos(\\theta) \\\\\n",
    "\\cos(2\\theta) &= \\cos^2(\\theta) - \\sin^2(\\theta) \\\\\n",
    "\\nonumber \\\\\n",
    "\n",
    "I &= -\\cos(x)(\\frac{1}{2} + \\frac{1}{6}(\\cos^2(x) - \\sin^2(x))) - \\frac{2}{3}\\sin^2(x)\\cos(x) \\\\\n",
    "I &= -\\frac{1}{2}\\cos(x) -\\frac{1}{6}\\cos(x)(\\cos^2(x) - \\sin^2(x)) - \\frac{2}{3}\\sin^2(x)\\cos(x) \\\\\n",
    "I &= -\\frac{1}{2}\\cos(x) -\\frac{1}{6}\\cos^3(x) + \\frac{1}{6}\\cos(x)\\sin^2(x) - \\frac{4}{6}\\sin^2(x)\\cos(x) \\\\\n",
    "I &= -\\frac{1}{2}\\cos(x) -\\frac{1}{6}\\cos^3(x) - \\frac{1}{2}\\cos(x)\\sin^2(x) \\\\\n",
    "I &= -\\frac{1}{2}\\cos(x) -\\frac{1}{6}\\cos^3(x) - \\frac{1}{2}\\cos(x)(1-\\cos^2(x)) \\\\\n",
    "I &= -\\frac{1}{2}\\cos(x) -\\frac{1}{6}\\cos^3(x) - \\frac{1}{2}\\cos(x) + \\frac{1}{2} \\cos^3(x) \\\\\n",
    "I &= -\\cos(x) - \\frac{1}{6}\\cos^3(x) + \\frac{3}{6} \\cos^3(x) \\\\\n",
    "I &= -\\cos(x) + \\frac{2}{6}\\cos^3(x) \\\\\n",
    "I &= \\frac{1}{3}\\cos^3(x) - \\cos(x) \\\\\n",
    "\\end{align}\n",
    "$$\n",
    "\n",
    "That was quite a lot of work for a simple looking integral. Our final answer is:\n",
    "\n",
    "$$\n",
    "F(x) = \\frac{1}{3}\\cos^3(x) - \\cos(x)\n",
    "$$"
   ]
  },
  {
   "cell_type": "markdown",
   "metadata": {},
   "source": [
    "### 32. $\\int \\sec^4(x) dx$\n",
    "\n",
    "We will try to utilise some trig identities to solve this integral:\n",
    "\n",
    "$$\n",
    "\\begin{align}\n",
    "I &= \\int \\sec^4(x) dx \\\\\n",
    "I &= \\int \\sec^2(x)\\sec^2(x) dx \\\\\n",
    "\n",
    "\\nonumber \\\\\n",
    "\\int uv' dx &= uv - \\int u'v dx \\\\\n",
    "u &= \\sec^2(x) \\\\\n",
    "u' &= 2\\tan\\sec^2(x) \\\\\n",
    "v &= \\tan(x) \\\\\n",
    "v' &= \\sec^2(x) \\\\\n",
    "\\nonumber \\\\\n",
    "\n",
    "I &= \\tan(x)\\sec^2(x) - \\int 2\\tan^2(x)\\sec^2(x) dx \\\\\n",
    "I &= \\tan(x)\\sec^2(x) - 2\\int \\tan^2(x)\\sec^2(x) dx \\\\\n",
    "\n",
    "\\nonumber \\\\\n",
    "u &= \\tan(x) \\\\\n",
    "du &= \\sec^2(x) dx \\\\\n",
    "\\nonumber \\\\\n",
    "\n",
    "I &= \\tan(x)\\sec^2(x) - 2\\int u^2 du \\\\\n",
    "I &= \\tan(x)\\sec^2(x) - \\frac{2}{3}u^3 + C \\\\\n",
    "I &= \\tan(x)\\sec^2(x) - \\frac{2}{3}\\tan^3(x) + C \\\\\n",
    "\n",
    "\\nonumber \\\\\n",
    "\\sec^2(\\theta) &= 1 + \\tan^2(\\theta) \\\\\n",
    "\\nonumber \\\\\n",
    "\n",
    "I &= \\tan(x)(1 + \\tan^2(x)) - \\frac{2}{3}\\tan^3(x) + C \\\\\n",
    "I &= \\tan(x) + \\tan^3(x) - \\frac{2}{3}\\tan^3(x) + C \\\\\n",
    "I &= \\frac{1}{3}\\tan^3(x) + \\tan(x) + C \\\\\n",
    "\\end{align}\n",
    "$$\n",
    "\n",
    "It turns out that we did not have to use any identities to actually solve the integral, but we did use one to simplify our answer, which is given by:\n",
    "\n",
    "$$\n",
    "F(x) = \\frac{1}{3}\\tan^3(x) + \\tan(x) + C\n",
    "$$"
   ]
  },
  {
   "cell_type": "markdown",
   "metadata": {},
   "source": [
    "### 33. $\\int \\sec^4(x)\\tan(x) dx$\n",
    "\n",
    "We will solve as follows:\n",
    "\n",
    "$$\n",
    "\\begin{align}\n",
    "I &= \\int \\sec^4(x)\\tan(x) dx \\\\\n",
    "I &= \\int \\sec^3(x)\\sec(x)\\tan(x) dx \\\\\n",
    "\n",
    "\\nonumber \\\\\n",
    "u &= \\sec(x) \\\\\n",
    "du &= \\sec(x)\\tan(x) dx \\\\\n",
    "\\nonumber \\\\\n",
    "\n",
    "I &= \\int u^3 du \\\\\n",
    "I &= \\frac{1}{4} u^4 + C \\\\\n",
    "I &= \\frac{1}{4} \\sec^4(x) + C \\\\\n",
    "\\end{align}\n",
    "$$\n",
    "\n",
    "That was incredibly simple, requiring one substitution and no identities, giving us the answer:\n",
    "\n",
    "$$\n",
    "F(x) = \\frac{1}{4} \\sec^4(x) + C\n",
    "$$"
   ]
  },
  {
   "cell_type": "markdown",
   "metadata": {},
   "source": [
    "### 34. $\\int \\tan^3(x) dx$\n",
    "\n",
    "We will solve as follows:\n",
    "\n",
    "$$\n",
    "\\begin{align}\n",
    "I &= \\int \\tan^3(x) dx \\\\\n",
    "I &= \\int \\tan^2(x)\\tan(x) dx \\\\\n",
    "I &= \\int \\frac{\\tan^2(x)\\tan(x)\\sec(x)}{\\sec(x)} dx \\\\\n",
    "\n",
    "\\nonumber \\\\\n",
    "u &= \\sec(x) \\\\\n",
    "du &= \\tan(x)\\sec(x) dx \\\\\n",
    "\\nonumber \\\\\n",
    "\n",
    "I &= \\int \\frac{\\tan^2(x)}{u} du \\\\\n",
    "\n",
    "\\nonumber \\\\\n",
    "\\sec^2(\\theta) &= \\tan^2(\\theta) + 1 \\\\\n",
    "\\tan^2(\\theta) &= \\sec^2(\\theta) - 1 \\\\\n",
    "\\nonumber \\\\\n",
    "\n",
    "I &= \\int \\frac{\\sec^2(x) - 1}{u} du \\\\\n",
    "I &= \\int \\frac{u^2 - 1}{u} du \\\\\n",
    "I &= \\int \\frac{u^2}{u} - \\frac{1}{u} du \\\\\n",
    "I &= \\int u - u^{-1} du \\\\\n",
    "I &= \\int u du - \\int u^{-1} du \\\\\n",
    "I &= \\frac{1}{2}u^2 - \\ln(|u|) + C \\\\\n",
    "I &= \\frac{1}{2}\\sec^2(x) - \\ln(|\\sec(x)|) + C \\\\\n",
    "\\end{align}\n",
    "$$\n",
    "\n",
    "There, we got our answer using one trig identity as well as u-sub. Our final answer is:\n",
    "\n",
    "$$\n",
    "F(x) = \\frac{1}{2}\\sec^2(x) - \\ln(|\\sec(x)|) + C\n",
    "$$"
   ]
  },
  {
   "cell_type": "markdown",
   "metadata": {},
   "source": [
    "### 35. $\\int \\sec^3(x) dx$\n",
    "\n",
    "We will solve this as follows:\n",
    "\n",
    "$$\n",
    "\\begin{align}\n",
    "I &= \\int \\sec^3(x) dx \\\\\n",
    "I &= \\int \\sec^2(x)\\sec(x) dx \\\\\n",
    "\n",
    "\\nonumber \\\\\n",
    "\\int uv' dx &= uv - \\int u'v dx \\\\\n",
    "u &= \\sec(x) \\\\\n",
    "u' &= \\tan(x)\\sec(x) \\\\\n",
    "v &= \\tan(x) \\\\\n",
    "v' &= \\sec^2(x) \\\\\n",
    "\\nonumber \\\\\n",
    "\n",
    "I &= \\tan(x)\\sec(x) - \\int \\tan^2(x)\\sec(x) dx \\\\\n",
    "\n",
    "\\nonumber \\\\\n",
    "\\sec^2(\\theta) &= \\tan^2(\\theta) + 1 \\\\\n",
    "\\tan^2(\\theta) &= \\sec^2(\\theta) - 1 \\\\\n",
    "\\nonumber \\\\\n",
    "\n",
    "I &= \\tan(x)\\sec(x) - \\int \\sec(x)(\\sec^2(x) - 1) dx \\\\\n",
    "I &= \\tan(x)\\sec(x) - \\int \\sec^3(x) - \\sec(x) dx \\\\\n",
    "I &= \\tan(x)\\sec(x) - \\int \\sec^3(x) dx + \\int \\sec(x) dx \\\\\n",
    "I &= \\tan(x)\\sec(x) - I + \\int \\sec(x) dx \\\\\n",
    "2I &= \\tan(x)\\sec(x) + \\int \\sec(x) dx \\\\\n",
    "2I &= \\tan(x)\\sec(x) + \\int \\frac{\\sec(x)(\\sec(x)+\\tan(x))}{\\sec(x)+\\tan(x)} dx \\\\\n",
    "2I &= \\tan(x)\\sec(x) + \\int \\frac{\\sec^2(x)+\\sec(x)\\tan(x)}{\\sec(x)+\\tan(x)} dx \\\\\n",
    "\n",
    "\\nonumber \\\\\n",
    "u &= \\sec(x) + \\tan(x) \\\\\n",
    "du &= \\sec^2(x) + \\sec(x)\\tan(x) \\\\\n",
    "\\nonumber \\\\\n",
    "\n",
    "2I &= \\tan(x)\\sec(x) + \\int \\frac{1}{u} du \\\\\n",
    "2I &= \\tan(x)\\sec(x) + \\ln(|u|) + C \\\\\n",
    "2I &= \\tan(x)\\sec(x) + \\ln(|\\sec(x) + \\tan(x)|) + C \\\\\n",
    "I &= \\frac{1}{2}(\\tan(x)\\sec(x) + \\ln(|\\sec(x) + \\tan(x)|)) + C \\\\\n",
    "I &= \\frac{1}{2}\\tan(x)\\sec(x) + \\frac{1}{2}\\ln(|\\sec(x) + \\tan(x)|) + C \\\\\n",
    "\\end{align}\n",
    "$$\n",
    "\n",
    "With a bit of work, we are given our answer:\n",
    "\n",
    "$$\n",
    "F(x) = \\frac{1}{2}\\tan(x)\\sec(x) + \\frac{1}{2}\\ln(|\\sec(x) + \\tan(x)|) + C\n",
    "$$"
   ]
  },
  {
   "cell_type": "markdown",
   "metadata": {},
   "source": [
    "## Trigonometric Substitution"
   ]
  },
  {
   "cell_type": "markdown",
   "metadata": {},
   "source": [
    "We may find ourselves in a situation where normal substitution or other integration methods will not work. Some special cases have special substitutions that may be done. Here are the three that you would use trig functions to sub in:\n",
    "\n",
    "$$\n",
    "a^2 - b^2x^2 \\implies x = \\frac{a}{b}\\sin(\\theta)\n",
    "$$\n",
    "$$\n",
    "b^2x^2 + a^2 \\implies x = \\frac{a}{b}\\tan(\\theta)\n",
    "$$\n",
    "$$\n",
    "b^2x^2 - a^2 \\implies x = \\frac{a}{b}\\sec(\\theta)\n",
    "$$\n",
    "\n",
    "The reason we use these is because there are well-known identities that allow us to simplify the integrand after substitution. We may end up with a regular integral which may be easily solved, but usually we would have a trig integral. Therefore, it is important to be aware of the important trig identities needed to solve many trig integrals. After evaluating the integral in terms of $\\theta$, we would have to convert back to $x$. You can do this rahter easily by using the inverse version of the trig function you used to sub. To simplify, you would use some facts about the definitions of the trig functions to get rid of the inverse ones in your solution if possible. Drawing a triangle to do this on paper might be useful as it usually involves figuring out the sides of a right-angled triangle whose angle is represented by the inverse trig function.\n",
    "\n",
    "This method is quite simple if you know your trig identities and are able to do algebraic manipulations to get the forms needed, if they are not already present. Sometimes, you might have a quadratic that is not in the desired form. In such cases, it might be useful to complete the square to get something that resembles one of hte three forms above. The hardest part about trig sub might be solving the trig integral after substitutions and simplifications have taken place."
   ]
  },
  {
   "cell_type": "markdown",
   "metadata": {},
   "source": [
    "### 36. $\\int \\sqrt{x^2 - 6x + 9} dx$\n",
    "\n",
    "We can see that the integrand has a radical, whose radicand may be factored pretty nicely. We could then get rid of the radical and have an easy integral to solve. We will solve as follows:\n",
    "\n",
    "$$\n",
    "\\begin{align}\n",
    "I &= \\int \\sqrt{x^2 - 6x + 9} dx \\\\\n",
    "I &= \\int \\sqrt{(x-3)^2} dx \\\\\n",
    "I &= \\int x - 3 dx \\\\\n",
    "I &= \\frac{1}{2}x^2 - 3x + C \\\\\n",
    "\\end{align}\n",
    "$$\n",
    "\n",
    "That was a rather simple integral to solve. The answer is:\n",
    "\n",
    "$$\n",
    "F(x) = \\frac{1}{2}x^2 - 3x + C\n",
    "$$"
   ]
  },
  {
   "cell_type": "markdown",
   "metadata": {},
   "source": [
    "### 37. $\\int \\sqrt{x^2 + 9} dx$\n",
    "\n",
    "The integrand cannot be factored or simplified normally. We notice though that there is a $x^2 + a^2$ expression present so we can do a trig-sub as follows:\n",
    "\n",
    "$$\n",
    "\\begin{align}\n",
    "I &= \\int \\sqrt{x^2 + 9} dx \\\\\n",
    "\n",
    "\\nonumber \\\\\n",
    "x &= 3\\tan(\\theta) \\\\\n",
    "dx &= 3\\sec^2(\\theta) d\\theta \\\\\n",
    "\\nonumber \\\\\n",
    "\n",
    "I &= \\int \\sqrt{9\\tan^2(x) + 9} \\cdot 3\\sec^2(\\theta) d\\theta \\\\\n",
    "I &= \\int 3\\sec^2(\\theta)\\sqrt{9(\\tan^2(\\theta) + 1)} d\\theta \\\\\n",
    "I &= \\int 9\\sec^2(\\theta)\\sqrt{\\tan^2(\\theta) + 1} d\\theta \\\\\n",
    "\n",
    "\\nonumber \\\\\n",
    "\\sec^2(\\theta) &= \\tan^2(\\theta) + 1 \\\\\n",
    "\\nonumber \\\\\n",
    "\n",
    "I &= \\int 9\\sec^2(\\theta)\\sqrt{\\sec^2(\\theta)} d\\theta \\\\\n",
    "I &= \\int 9\\sec^2(\\theta)|\\sec(\\theta)| d\\theta \\\\\n",
    "I &= \\int 9\\sec^2(\\theta)\\sec(\\theta) d\\theta \\\\\n",
    "I &= 9\\int \\sec^3(\\theta) d\\theta \\\\\n",
    "\n",
    "\\nonumber \\\\\n",
    "I_b &= \\int \\sec^3(\\theta) d\\theta \\\\\n",
    "\\nonumber \\\\\n",
    "\n",
    "I &= 9I_b \\\\\n",
    "\n",
    "\\nonumber \\\\\n",
    "\\int uv' dx &= uv - \\int u'v dx \\\\\n",
    "u &= \\sec(\\theta) \\\\\n",
    "u' &= \\tan(\\theta)\\sec(\\theta) \\\\\n",
    "v &= \\tan(\\theta) \\\\\n",
    "v' &= \\sec^2(\\theta) \\\\\n",
    "\\nonumber \\\\\n",
    "\n",
    "I_b &= \\tan(\\theta)\\sec(\\theta) - \\int \\tan^2(\\theta)\\sec(\\theta) d\\theta \\\\\n",
    "\n",
    "\\nonumber \\\\\n",
    "\\tan^2(\\theta) &= \\sec^2(\\theta) - 1 \\\\\n",
    "\\nonumber \\\\\n",
    "\n",
    "I_b &= \\tan(\\theta)\\sec(\\theta) - \\int \\sec(\\theta)(\\sec^2(\\theta) - 1) d\\theta \\\\\n",
    "I_b &= \\tan(\\theta)\\sec(\\theta) - \\int \\sec^3(\\theta) - \\sec(\\theta) d\\theta \\\\\n",
    "I_b &= \\tan(\\theta)\\sec(\\theta) - \\int \\sec^3(\\theta) d\\theta + \\int \\sec(\\theta) d\\theta \\\\\n",
    "I_b &= \\left( \\tan(\\theta)\\sec(\\theta) - I + \\ln(|\\tan(\\theta)+\\sec(\\theta)|) \\right) \\\\\n",
    "2I_b &= \\tan(\\theta)\\sec(\\theta) + \\ln(|\\tan(\\theta)+\\sec(\\theta)|) + C \\\\\n",
    "I_b &= \\frac{1}{2}(\\tan(\\theta)\\sec(\\theta) + \\ln(|\\tan(\\theta)+\\sec(\\theta)|)) + C \\\\\n",
    "I_b &= \\frac{1}{2}\\tan(\\theta)\\sec(\\theta) + \\frac{1}{2}\\ln(|\\tan(\\theta)+\\sec(\\theta)|) + C \\\\\n",
    "\n",
    "\\nonumber \\\\\n",
    "\n",
    "I &= 9\\left(\\frac{1}{2}\\tan(\\theta)\\sec(\\theta) + \\frac{1}{2}\\ln(|\\tan(\\theta)+\\sec(\\theta)|)\\right) + C \\\\\n",
    "I &= \\frac{9}{2}\\tan(\\theta)\\sec(\\theta) + \\frac{9}{2}\\ln(|\\tan(\\theta)+\\sec(\\theta)|) + C \\\\\n",
    "\n",
    "\\nonumber \\\\\n",
    "\\theta &= \\arctan\\left(\\frac{x}{3}\\right) \\\\\n",
    "\\nonumber \\\\\n",
    "\n",
    "I &= \\frac{9}{2}\\tan\\left(\\arctan\\left(\\frac{x}{3}\\right)\\right)\\sec\\left(\\arctan\\left(\\frac{x}{3}\\right)\\right) + \\frac{9}{2}\\ln\\left(\\left|\\tan\\left(\\arctan\\left(\\frac{x}{3}\\right)\\right)+\\sec\\left(\\arctan\\left(\\frac{x}{3}\\right)\\right)\\right|\\right) + C \\\\\n",
    "I &= \\frac{9}{2}\\cdot\\frac{x}{3}\\sec\\left(\\arctan\\left(\\frac{x}{3}\\right)\\right) + \\frac{9}{2}\\ln\\left(\\left|\\frac{x}{3}+\\sec\\left(\\arctan\\left(\\frac{x}{3}\\right)\\right)\\right|\\right) + C \\\\\n",
    "I &= \\frac{3}{2}x\\sec\\left(\\arctan\\left(\\frac{x}{3}\\right)\\right) + \\frac{9}{2}\\ln\\left(\\left|\\frac{x}{3}+\\sec\\left(\\arctan\\left(\\frac{x}{3}\\right)\\right)\\right|\\right) + C \\\\\n",
    "\n",
    "\\nonumber \\\\\n",
    "\\tan(\\theta) &= \\frac{O}{A} \\\\\n",
    "\\arctan(\\frac{O}{A}) &= \\theta \\\\\n",
    "\\arctan\\left(\\frac{x}{3}\\right) = \\theta &\\implies \\tan(\\theta) = \\frac{x}{3} \\\\\n",
    "O &= x \\\\\n",
    "A &= 3 \\\\\n",
    "H &= \\sqrt{x^2+9} \\\\\n",
    "\\sec(\\theta) &= \\frac{H}{A} \\\\\n",
    "\\sec\\left(\\arctan\\left(\\frac{x}{3}\\right)\\right) &= \\frac{\\sqrt{x^2+9}}{3} \\\\\n",
    "\\nonumber \\\\\n",
    "\n",
    "I &= \\frac{3}{2}x\\cdot\\frac{\\sqrt{x^2+9}}{3} + \\frac{9}{2}\\ln\\left(\\left|\\frac{x}{3}+\\frac{\\sqrt{x^2+9}}{3}\\right|\\right) + C \\\\\n",
    "I &= \\frac{1}{2}x\\sqrt{x^2+9} + \\frac{9}{2}\\ln\\left(\\left|\\frac{x}{3}+\\frac{\\sqrt{x^2+9}}{3}\\right|\\right) + C \\\\\n",
    "I &= \\frac{1}{2}x\\sqrt{x^2+9} + \\frac{9}{2}\\ln\\left(\\left|\\frac{x+\\sqrt{x^2+9}}{3}\\right|\\right) + C \\\\\n",
    "I &= \\frac{1}{2}x\\sqrt{x^2+9} + \\frac{9}{2}\\ln\\left(\\left|x+\\sqrt{x^2+9}\\right|\\right) - \\underbrace{\\frac{9}{2} \\ln(|3|) + C}_{\\text{new constant}} \\\\\n",
    "I &= \\frac{1}{2}x\\sqrt{x^2+9} + \\frac{9}{2}\\ln\\left(\\left|x+\\sqrt{x^2+9}\\right|\\right) + C \\\\\n",
    "I &= \\frac{1}{2}\\left(x\\sqrt{x^2+9} + 9\\ln\\left(\\left|x+\\sqrt{x^2+9}\\right|\\right)\\right) + C \\\\\n",
    "\\end{align}\n",
    "$$\n",
    "\n",
    "After quite a bit of simplifications, we get a final answer of:\n",
    "\n",
    "$$\n",
    "F(x) = \\frac{1}{2}\\left(x\\sqrt{x^2+9} + 9\\ln\\left(\\left|x+\\sqrt{x^2+9}\\right|\\right)\\right) + C \\\\\n",
    "$$"
   ]
  },
  {
   "cell_type": "markdown",
   "metadata": {},
   "source": [
    "### 38. $\\int \\frac{1}{x\\sqrt{x^2 - 4}} dx$\n",
    "\n",
    "We will solve this as follows:\n",
    "\n",
    "$$\n",
    "\\begin{align}\n",
    "I &= \\int \\frac{1}{x\\sqrt{x^2 - 4}} dx \\\\\n",
    "\n",
    "\\nonumber \\\\\n",
    "x &= 2\\sec(\\theta) \\\\\n",
    "dx &= 2\\tan(\\theta)\\sec(\\theta) d\\theta \\\\\n",
    "\\nonumber \\\\\n",
    "\n",
    "I &= \\int \\frac{1}{2\\sec(\\theta)\\sqrt{4\\sec^2(\\theta) - 4}} \\cdot 2\\tan(\\theta)\\sec(\\theta) d\\theta \\\\\n",
    "I &= \\int \\frac{1}{\\sqrt{4\\sec^2(\\theta) - 4}} \\cdot \\tan(\\theta) d\\theta \\\\\n",
    "I &= \\int \\frac{1}{\\sqrt{4(\\sec^2(\\theta) - 1)}} \\cdot \\tan(\\theta) d\\theta \\\\\n",
    "I &= \\int \\frac{\\tan(\\theta)}{2\\sqrt{\\sec^2(\\theta) - 1}} d\\theta \\\\\n",
    "\n",
    "\\nonumber \\\\\n",
    "\\sec^2(\\theta) &= \\tan^2(\\theta) + 1 \\\\\n",
    "\\tan^2(\\theta) &= \\sec^2(\\theta) - 1 \\\\\n",
    "\\nonumber \\\\\n",
    "\n",
    "I &= \\int \\frac{\\tan(\\theta)}{2\\sqrt{\\tan^2(\\theta)}} d\\theta \\\\\n",
    "I &= \\frac{1}{2}\\int \\frac{\\tan(\\theta)}{|\\tan(\\theta)|} d\\theta \\\\\n",
    "I &= \\frac{1}{2}\\int \\frac{\\tan(\\theta)}{\\tan(\\theta)} d\\theta \\\\\n",
    "I &= \\frac{1}{2}\\int 1 d\\theta \\\\\n",
    "I &= \\frac{1}{2}\\theta + C \\\\\n",
    "\n",
    "\\nonumber \\\\\n",
    "\\theta &= \\text{arcsec}\\left(\\frac{x}{2}\\right) \\\\\n",
    "\\nonumber \\\\\n",
    "\n",
    "I &= \\frac{1}{2}\\text{arcsec}\\left(\\frac{x}{2}\\right) + C \\\\\n",
    "\\end{align}\n",
    "$$\n",
    "\n",
    "We are done with this integral. If we wanted, we could write the final answer in terms of another inverse trig function that's more common but I think arcsecant is fine. Our answer is:\n",
    "\n",
    "$$\n",
    "F(x) = \\frac{1}{2}\\text{arcsec}\\left(\\frac{x}{2}\\right) + C\n",
    "$$"
   ]
  },
  {
   "cell_type": "markdown",
   "metadata": {},
   "source": [
    "### 39. $\\int \\sqrt{1-x^2} dx$\n",
    "\n",
    "This is a rather simple integral for us to solve with trig-sub, shown below:\n",
    "\n",
    "$$\n",
    "\\begin{align}\n",
    "I &= \\int \\sqrt{1-x^2} dx \\\\\n",
    "\n",
    "\\nonumber \\\\\n",
    "x &= \\sin(\\theta) \\\\\n",
    "dx &= \\cos(\\theta) d\\theta \\\\\n",
    "\\nonumber \\\\\n",
    "\n",
    "I &= \\int \\sqrt{1-\\sin^2(\\theta)} \\cdot \\cos(\\theta) d\\theta \\\\\n",
    "I &= \\int \\cos(\\theta)\\sqrt{1-\\sin^2(\\theta)} d\\theta \\\\\n",
    "\n",
    "\\nonumber \\\\\n",
    "1 &= \\sin^2(\\theta) + \\cos^2(\\theta) \\\\\n",
    "\\cos^2(\\theta) &= 1 - \\sin^2(\\theta) \\\\\n",
    "\\nonumber \\\\\n",
    "\n",
    "I &= \\int \\cos(\\theta)\\sqrt{\\cos^2(\\theta)} d\\theta \\\\\n",
    "I &= \\int \\cos(\\theta)|\\cos(\\theta)| d\\theta \\\\\n",
    "I &= \\int \\cos(\\theta)\\cos(\\theta) d\\theta \\\\\n",
    "I &= \\int \\cos^2(\\theta) d\\theta \\\\\n",
    "\n",
    "\\nonumber \\\\\n",
    "\\cos^2(\\theta) &= \\frac{1}{2}(1+\\cos(2\\theta)) \\\\\n",
    "\\nonumber \\\\\n",
    "\n",
    "I &= \\frac{1}{2} \\int 1+\\cos(2\\theta) d\\theta \\\\\n",
    "I &= \\frac{1}{2} \\int 1 d\\theta + \\frac{1}{2} \\cos(2\\theta) d\\theta \\\\\n",
    "I &= \\frac{1}{2} \\theta + \\frac{1}{4} \\sin(2\\theta) + C \\\\\n",
    "\n",
    "\\nonumber \\\\\n",
    "\\theta &= \\arcsin(x) \\\\\n",
    "\\nonumber \\\\\n",
    "\n",
    "I &= \\frac{1}{2} \\arcsin(x) + \\frac{1}{4} \\sin(2\\arcsin(x)) + C \\\\\n",
    "\n",
    "\\nonumber \\\\\n",
    "\\sin(2\\theta) &= 2\\sin(\\theta)\\cos(\\theta) \\\\\n",
    "\\nonumber \\\\\n",
    "\n",
    "I &= \\frac{1}{2} \\arcsin(x) + \\frac{1}{4} \\cdot 2\\sin(\\arcsin(x))\\cos(\\arcsin(x)) + C \\\\\n",
    "I &= \\frac{1}{2} \\arcsin(x) + \\frac{1}{2} x\\cos(\\arcsin(x)) + C \\\\\n",
    "\n",
    "\\nonumber \\\\\n",
    "\\sin(\\theta) &= \\frac{O}{H} \\\\\n",
    "\\arcsin\\left(\\frac{O}{H}\\right) &= \\theta \\\\\n",
    "\\arcsin(x) = \\theta &\\implies \\sin(\\theta) = \\frac{x}{1} \\\\\n",
    "O &= x \\\\\n",
    "H &= 1 \\\\\n",
    "A &= \\sqrt{1-x^2} \\\\\n",
    "\\cos(\\theta) &= \\frac{A}{H} \\\\\n",
    "\\cos(\\theta) &= \\frac{\\sqrt{1-x^2}}{1} \\\\\n",
    "\\cos(\\theta) &= \\sqrt{1-x^2} \\\\\n",
    "\\nonumber \\\\\n",
    "\n",
    "I &= \\frac{1}{2} \\arcsin(x) + \\frac{1}{2} x\\sqrt{1-x^2} + C \\\\\n",
    "I &= \\frac{1}{2} \\left(\\arcsin(x) + x\\sqrt{1-x^2}\\right) + C \\\\\n",
    "\\end{align}\n",
    "$$"
   ]
  },
  {
   "cell_type": "markdown",
   "metadata": {},
   "source": [
    "### 40. $\\int \\frac{1}{(25+x^2)^{\\frac{3}{2}}} dx$\n",
    "\n",
    "We will solve as follows:\n",
    "\n",
    "$$\n",
    "\\begin{align}\n",
    "I &= \\int \\frac{1}{(25+x^2)^{\\frac{3}{2}}} dx \\\\\n",
    "I &= \\int \\frac{1}{\\left(\\sqrt{25+x^2}\\right)^3} dx \\\\\n",
    "\n",
    "\\nonumber \\\\\n",
    "x &= 5\\tan(\\theta) \\\\\n",
    "dx &= 5\\sec^2(\\theta) d\\theta \\\\\n",
    "\\nonumber \\\\\n",
    "\n",
    "I &= \\int \\frac{1}{\\left(\\sqrt{25+25\\tan^2(\\theta)}\\right)^3} \\cdot 5\\sec^2(\\theta) d\\theta \\\\\n",
    "I &= \\int \\frac{5\\sec^2(\\theta)}{\\left(\\sqrt{25(1+\\tan^2(\\theta))}\\right)^3} d\\theta \\\\\n",
    "\n",
    "\\nonumber \\\\\n",
    "\\sec^2(\\theta) &= \\tan^2(\\theta) + 1 \\\\\n",
    "\\nonumber \\\\\n",
    "\n",
    "I &= \\int \\frac{5\\sec^2(\\theta)}{\\left(\\sqrt{25\\sec^2(\\theta)}\\right)^3} d\\theta \\\\\n",
    "I &= \\int \\frac{5\\sec^2(\\theta)}{(5|\\sec(\\theta)|)^3} d\\theta \\\\\n",
    "I &= \\int \\frac{5\\sec^2(\\theta)}{(5\\sec(\\theta))^3} d\\theta \\\\\n",
    "I &= \\int \\frac{5\\sec^2(\\theta)}{125\\sec^3(\\theta)} d\\theta \\\\\n",
    "I &= \\int \\frac{1}{25\\sec(\\theta)} d\\theta \\\\\n",
    "I &= \\frac{1}{25} \\int \\cos(\\theta) d\\theta \\\\\n",
    "I &= \\frac{1}{25} \\sin(\\theta) + C \\\\\n",
    "\n",
    "\\nonumber \\\\\n",
    "\\theta &= \\arctan\\left(\\frac{x}{5}\\right) \\\\\n",
    "\\nonumber \\\\\n",
    "\n",
    "I &= \\frac{1}{25} \\sin\\left(\\arctan\\left(\\frac{x}{5}\\right)\\right) + C \\\\\n",
    "\n",
    "\\nonumber \\\\\n",
    "\\tan(\\theta) &= \\frac{O}{A} \\\\\n",
    "\\arctan\\left(\\frac{O}{A}\\right) &= \\theta \\\\\n",
    "\\arctan\\left(\\frac{x}{5}\\right) = \\theta &\\implies \\tan(\\theta) = \\frac{x}{5} \\\\\n",
    "O &= x \\\\\n",
    "A &= 5 \\\\\n",
    "H & = \\sqrt{x^2+25} \\\\\n",
    "\\sin(\\theta) &= \\frac{O}{H} \\\\\n",
    "\\sin\\left(\\arctan\\left(\\frac{x}{5}\\right)\\right) &= \\frac{x}{\\sqrt{x^2+25}} \\\\\n",
    "\\nonumber \\\\\n",
    "\n",
    "I &= \\frac{1}{25} \\cdot \\frac{x}{\\sqrt{x^2+25}} + C \\\\\n",
    "I &= \\frac{x}{25\\sqrt{x^2+25}} + C \\\\\n",
    "\\end{align}\n",
    "$$\n",
    "\n",
    "After you notice these patterns in integrands, trig-sub becomes quite simple and useful. Our final answer is:\n",
    "\n",
    "$$\n",
    "F(x) = \\frac{x}{25\\sqrt{x^2+25}} + C\n",
    "$$"
   ]
  },
  {
   "cell_type": "markdown",
   "metadata": {},
   "source": [
    "### 41. $\\int \\frac{x}{(25+x^2)^{\\frac{3}{2}}} dx$\n",
    "\n",
    "Due to the $x$ term in the numerator of the integrand, this is a rather simple problem to solve with an easy substitution shown below:\n",
    "\n",
    "$$\n",
    "\\begin{align}\n",
    "I &= \\int \\frac{x}{(25+x^2)^{\\frac{3}{2}}} dx \\\\\n",
    "I &= \\frac{1}{2} \\int \\frac{2x}{(25+x^2)^{\\frac{3}{2}}} dx \\\\\n",
    "\n",
    "\\nonumber \\\\\n",
    "u &= 25 + x^2 \\\\\n",
    "du &= 2x dx \\\\\n",
    "\\nonumber \\\\\n",
    "\n",
    "I &= \\frac{1}{2} \\int \\frac{1}{u^{\\frac{3}{2}}} du \\\\\n",
    "I &= \\frac{1}{2} \\int u^{-\\frac{3}{2}} du \\\\\n",
    "I &= \\frac{1}{2} \\cdot -2u^{-\\frac{1}{2}} + C \\\\\n",
    "I &= -\\frac{1}{\\sqrt{u}} + C \\\\\n",
    "I &= -\\frac{1}{\\sqrt{25+x^2}} + C \\\\\n",
    "\\end{align}\n",
    "$$\n",
    "\n",
    "Thus, our final answer is:\n",
    "\n",
    "$$\n",
    "F(x) = -\\frac{1}{\\sqrt{25+x^2}} + C\n",
    "$$"
   ]
  },
  {
   "cell_type": "markdown",
   "metadata": {},
   "source": [
    "### 42. $\\int \\frac{1}{x^2+a^2} dx$\n",
    "\n",
    "This is a generalised case where we may utilise trig-sub. Here, $a$ is some constant and we will solve the integral as shown below:\n",
    "\n",
    "$$\n",
    "\\begin{align}\n",
    "I &= \\int \\frac{1}{x^2+a^2} dx \\\\\n",
    "\n",
    "\\nonumber \\\\\n",
    "x &= a\\tan(\\theta) \\\\\n",
    "dx &= a\\sec^2(\\theta) d\\theta \\\\\n",
    "\\nonumber \\\\\n",
    "\n",
    "I &= \\int \\frac{1}{a^2\\tan^2(\\theta)+a^2} \\cdot a\\sec^2(\\theta) d\\theta \\\\\n",
    "I &= \\int \\frac{a\\sec^2(\\theta)}{a^2(\\tan^2(\\theta)+1)} d\\theta \\\\\n",
    "I &= \\int \\frac{\\sec^2(\\theta)}{a(\\tan^2(\\theta)+1)} d\\theta \\\\\n",
    "\n",
    "\\nonumber \\\\\n",
    "\\sec^2(\\theta) &= \\tan^2(\\theta) + 1 \\\\\n",
    "\\nonumber \\\\\n",
    "\n",
    "I &= \\int \\frac{\\sec^2(\\theta)}{a\\sec^2(\\theta)} d\\theta \\\\\n",
    "I &= \\int \\frac{1}{a} d\\theta \\\\\n",
    "I &= \\frac{1}{a}\\theta + C \\\\\n",
    "\n",
    "\\nonumber \\\\\n",
    "\\theta &= \\arctan\\left(\\frac{x}{a}\\right)\n",
    "\\nonumber \\\\\n",
    "\n",
    "I &= \\frac{1}{a}\\arctan\\left(\\frac{x}{a}\\right) + C \\\\\n",
    "\\end{align}\n",
    "$$\n",
    "\n",
    "Our answer to these types of integrals with an integrand featuring a denominator with an $x^2$ term plus some constant $a^2$ is thus:\n",
    "\n",
    "$$\n",
    "F(x) = \\frac{1}{a}\\arctan\\left(\\frac{x}{a}\\right) + C \\\\\n",
    "$$"
   ]
  },
  {
   "cell_type": "markdown",
   "metadata": {},
   "source": [
    "## Partial Fractions"
   ]
  },
  {
   "cell_type": "markdown",
   "metadata": {},
   "source": [
    "The last integration method we will use is integration by partial fractions. A partial fraction is a part of a larger fraction, which is often simpler to work with. We might have a difficult looking integral that can be made quite a bit simpler by decomposing the fraction. Afterwards, we may use a bit of substitutions and natural logarithms to solve the integral. You will have to be able to do partial fraction decomposition and polynomial long division for this section. While we will not cover explicity how to decompose a rational expression, I will give some useful formulae. An example with linear factors:\n",
    "\n",
    "$$\n",
    "\\frac{3x+4}{(x+3)(x-2)} = \\frac{A}{x+3} + \\frac{B}{x-2}\n",
    "$$\n",
    "\n",
    "An example of linear factors as well a irreducible quadratic factor (quadratic that cannot be factored without complex numbers):\n",
    "\n",
    "$$\n",
    "\\frac{2x^2+4x+61}{(x-3)(x^2+4x+13)} = \\frac{A}{x-3} + \\frac{Bx+C}{x^2+4x+13}\n",
    "$$\n",
    "\n",
    "An example with repeated linear and quadratic factors:\n",
    "\n",
    "$$\n",
    "\\frac{1}{(x+7)^3(x^2+13)^2} = \\frac{A_1}{x+7} + \\frac{A_2}{(x+7)^2} + \\frac{A_3}{(x+7)^3} + \\frac{B_1x+C_1}{x^2+13} + \\frac{B_2x+C_2}{(x^2+13)^2}\n",
    "$$\n",
    "\n",
    "You should be aware of how you can get the unknown numerators of the partial fractions, whether it may be substituting roots or solving system of linear equations. Note that you can only do this when the degree of the top is smaller than the degree of the bottom. Otherwise, you would have to use polynomial long division first to get a proper rational expression. If you are aware of how to decompose frations, then the integration afterwards is rather simple. Sometimes, it may just be a matter of one u-sub or skipping that by knowing the general ruling for a fraction with a linear denominator. Here is one useful formula you can use with some partial fractions:\n",
    "\n",
    "$$\n",
    "\\int \\frac{1}{ax+b} dx = \\frac{1}{a}\\ln(|ax+b|) + C\n",
    "$$"
   ]
  },
  {
   "cell_type": "markdown",
   "metadata": {},
   "source": [
    "### 43. $\\int \\frac{x^3}{x^2+9} dx$\n",
    "\n",
    "We will solve it as follows:\n",
    "\n",
    "$$\n",
    "\\begin{align}\n",
    "I &= \\int \\frac{x^3}{x^2+9} dx \\\\\n",
    "\n",
    "\\nonumber \\\\\n",
    "x &= 3\\tan(\\theta) \\\\\n",
    "dx &= 3\\sec^2(\\theta) d\\theta \\\\\n",
    "\\nonumber \\\\\n",
    "\n",
    "I &= \\int \\frac{27\\tan^3(\\theta)}{9\\tan^2(\\theta)+9} \\cdot 3\\sec^2(\\theta) d\\theta \\\\\n",
    "I &= \\int \\frac{81\\tan^3(\\theta)\\sec^2(\\theta)}{9(\\tan^2(\\theta)+1)} d\\theta \\\\\n",
    "I &= \\int \\frac{9\\tan^3(\\theta)\\sec^2(\\theta)}{\\tan^2(\\theta)+1} d\\theta \\\\\n",
    "\n",
    "\\nonumber \\\\\n",
    "\\sec^2(\\theta) &= \\tan^2(\\theta) + 1 \\\\\n",
    "\\nonumber \\\\\n",
    "\n",
    "I &= \\int \\frac{9\\tan^3(\\theta)\\sec^2(\\theta)}{\\sec^2(\\theta)} d\\theta \\\\\n",
    "I &= \\int 9\\tan^3(\\theta) d\\theta \\\\\n",
    "I &= 9\\int \\tan^3(\\theta) d\\theta \\\\\n",
    "I &= 9\\int \\frac{\\tan^2(\\theta)\\tan(\\theta)\\sec(\\theta)}{\\sec(\\theta)} d\\theta \\\\\n",
    "\n",
    "\\nonumber \\\\\n",
    "u &= \\sec(\\theta) \\\\\n",
    "du &= \\tan(\\theta)\\sec(\\theta) d\\theta \\\\\n",
    "\\nonumber \\\\\n",
    "\n",
    "I &= 9\\int \\frac{\\tan^2(\\theta)}{u} du \\\\\n",
    "\n",
    "\\nonumber \\\\\n",
    "\\tan^2(\\theta) &= \\sec^2(\\theta) - 1 \\\\\n",
    "\\nonumber \\\\\n",
    "\n",
    "I &= 9\\int \\frac{\\sec^2(\\theta) - 1}{u} du \\\\\n",
    "I &= 9\\int \\frac{u^2 - 1}{u} du \\\\\n",
    "I &= 9\\int u - u^{-1} du \\\\\n",
    "I &= 9 \\left( \\frac{1}{2}u^2 - \\ln(|u|) \\right) + C \\\\\n",
    "I &= \\frac{9}{2}u^2 - 9\\ln(|u|) + C \\\\\n",
    "I &= \\frac{9}{2}\\sec^2(\\theta) - 9\\ln(|\\sec(\\theta)|) + C \\\\\n",
    "\n",
    "\\nonumber \\\\\n",
    "\\theta &= \\arctan\\left(\\frac{x}{3}\\right) \\\\\n",
    "\\nonumber \\\\\n",
    "\n",
    "I &= \\frac{9}{2}\\sec^2\\left(\\arctan\\left(\\frac{x}{3}\\right)\\right) - 9\\ln\\left(\\left|\\sec\\left(\\arctan\\left(\\frac{x}{3}\\right)\\right)\\right|\\right) + C \\\\\n",
    "\n",
    "\\nonumber \\\\\n",
    "\\tan(\\theta) &= \\frac{O}{A} \\\\\n",
    "\\arctan\\left(\\frac{O}{A}\\right) &= \\theta \\\\\n",
    "\\arctan\\left(\\frac{x}{3}\\right) = \\theta &\\implies \\tan(\\theta) = \\frac{x}{3} \\\\\n",
    "O &= x \\\\\n",
    "A &= 3 \\\\\n",
    "H &= \\sqrt{x^2+9} \\\\\n",
    "\\sec(\\theta) &= \\frac{H}{A} \\\\\n",
    "\\sec\\left(\\arctan\\left(\\frac{x}{3}\\right)\\right) &= \\frac{\\sqrt{x^2+9}}{3} \\\\\n",
    "\\nonumber \\\\\n",
    "\n",
    "I &= \\frac{9}{2}\\cdot\\left(\\frac{\\sqrt{x^2+9}}{3}\\right)^2 - 9\\ln\\left(\\left|\\frac{\\sqrt{x^2+9}}{3}\\right|\\right) + C \\\\\n",
    "I &= \\frac{9}{2}\\cdot\\frac{x^2+9}{9} - 9\\ln\\left(\\frac{\\sqrt{x^2+9}}{3}\\right) + C \\\\\n",
    "I &= \\frac{1}{2}(x^2+9) - 9\\ln\\left(\\frac{\\sqrt{x^2+9}}{3}\\right) + C \\\\\n",
    "I &= \\frac{1}{2}(x^2+9) - 9\\ln\\left(\\frac{\\sqrt{x^2+9}}{\\sqrt{9}}\\right) + C \\\\\n",
    "I &= \\frac{1}{2}(x^2+9) - 9\\ln\\left(\\sqrt{\\frac{x^2+9}{9}}\\right) + C \\\\\n",
    "I &= \\frac{1}{2}(x^2+9) - \\frac{9}{2}\\ln\\left(\\frac{x^2+9}{9}\\right) + C \\\\\n",
    "I &= \\frac{1}{2}(x^2+9) - \\frac{9}{2}\\ln(x^2+9) - \\underbrace{\\frac{27}{2} \\ln(9) + C}_\\text{new constant} \\\\\n",
    "I &= \\frac{1}{2}(x^2+9) - \\frac{9}{2}\\ln(x^2+9) + C \\\\\n",
    "I &= \\frac{1}{2}x^2 - \\frac{9}{2}\\ln(x^2+9) + \\underbrace{\\frac{9}{2} + C}_\\text{new constant} \\\\\n",
    "I &= \\frac{1}{2}x^2 - \\frac{9}{2}\\ln(x^2+9) + C \\\\\n",
    "I &= \\frac{1}{2}(x^2 - 9\\ln(x^2+9)) + C \\\\\n",
    "\\end{align}\n",
    "$$\n",
    "\n",
    "Using polynomial long division, we may get the answer much quicker. This is shown below:\n",
    "\n",
    "$$\n",
    "\\begin{align}\n",
    "I &= \\int \\frac{x^3}{x^2+9} dx \\\\\n",
    "\n",
    "\\nonumber \\\\\n",
    "&\\begin{array}{r}\n",
    "x \\phantom{x^3+x^2+9} \\\\\n",
    "x^2+9\\overline{\\smash{\\big)}x^3\\phantom{11x^2}\\phantom{x^2+9}} \\\\\n",
    "\\underline{-x^3\\phantom{-1x^2}\\smash{-9x}} \\\\\n",
    "-9x \\\\\n",
    "\\end{array} \\\\\n",
    "\\nonumber \\\\\n",
    "\n",
    "I &= \\int x - \\frac{9x}{x^2+9} dx \\\\\n",
    "I &= \\int x dx - \\int \\frac{9x}{x^2+9} dx \\\\\n",
    "I &= \\frac{1}{2}x^2 - 9\\int \\frac{x}{x^2+9} dx \\\\\n",
    "\n",
    "\\nonumber \\\\\n",
    "u &= x^2+9 \\\\\n",
    "du &= 2x dx \\\\\n",
    "\\nonumber \\\\\n",
    "\n",
    "I &= \\frac{1}{2}x^2 - \\frac{9}{2} \\int \\frac{1}{u} du \\\\\n",
    "I &= \\frac{1}{2}x^2 - \\frac{9}{2} \\ln(|u|) + C \\\\\n",
    "I &= \\frac{1}{2}x^2 - \\frac{9}{2} \\ln(|x^2+9|) + C \\\\\n",
    "I &= \\frac{1}{2}x^2 - \\frac{9}{2} \\ln(x^2+9) + C \\\\\n",
    "I &= \\frac{1}{2}(x^2 - 9\\ln(x^2+9)) + C \\\\\n",
    "\\end{align}\n",
    "$$\n",
    "\n",
    "That was much simpler. Splitting the fraction into simpler fractions allowed for us to use the linearity of integration to do much less work. Both methods give us the answer:\n",
    "\n",
    "$$\n",
    "F(x) = \\frac{1}{2}(x^2 - 9\\ln(x^2+9)) + C\n",
    "$$"
   ]
  },
  {
   "cell_type": "markdown",
   "metadata": {},
   "source": [
    "### 44. $\\int \\frac{8x-17}{x^2-5x+4} dx$\n",
    "\n",
    "We can solve this integral by first decomposing the integrand into a sum of partial fractions which are much easier to integrate. We will do this as follows:\n",
    "\n",
    "$$\n",
    "\\begin{align}\n",
    "I &= \\int \\frac{8x-17}{x^2-5x+4} dx \\\\\n",
    "I &= \\int \\frac{8x-17}{(x-1)(x-4)} dx \\\\\n",
    "\\nonumber \\\\\n",
    "\n",
    "\\frac{8x-17}{(x-1)(x-4)} &= \\frac{A}{x-1} + \\frac{B}{x-4} \\\\\n",
    "8x-17 &= (x-1)(x-4)\\left(\\frac{A}{x-1} + \\frac{B}{x-4}\\right) \\\\\n",
    "8x-17 &= A(x-4) + B(x-1) \\\\\n",
    "\\nonumber \\\\\n",
    "\n",
    "x&=4: \\\\\n",
    "8(4)-17 &= A(4-4) + B(4-1) \\\\\n",
    "15 &= 3B \\\\\n",
    "B &= 5 \\\\\n",
    "\\nonumber \\\\\n",
    "\n",
    "x&=1: \\\\\n",
    "8(1)-17 &= A(1-4) + B(1-1) \\\\\n",
    "-9 &= -3A \\\\\n",
    "A &= 3 \\\\\n",
    "\\nonumber \\\\\n",
    "\n",
    "\\frac{8x-17}{(x-1)(x-4)} &= \\frac{3}{x-1} + \\frac{5}{x-4} \\\\\n",
    "\\nonumber \\\\\n",
    "\n",
    "I &= \\int \\frac{3}{x-1} + \\frac{5}{x-4} dx \\\\\n",
    "I &= \\int \\frac{3}{x-1} dx + \\int \\frac{5}{x-4} dx \\\\\n",
    "I &= 3\\ln(|x-1|) + 5\\ln(|x-4|) + C \\\\\n",
    "\\end{align}\n",
    "$$\n",
    "\n",
    "After decomposing the integrand, it was quite easy to get our answer:\n",
    "\n",
    "$$\n",
    "F(x) = 3\\ln(|x-1|) + 5\\ln(|x-4|) + C\n",
    "$$"
   ]
  },
  {
   "cell_type": "markdown",
   "metadata": {},
   "source": [
    "### 45. $\\int \\frac{4x^2-9x+2}{(x+3)(x^2+4)} dx$\n",
    "\n",
    "We will solve as follows:\n",
    "\n",
    "$$\n",
    "\\begin{align}\n",
    "I &= \\int \\frac{4x^2-9x+2}{(x+3)(x^2+4)} dx \\\\\n",
    "\\nonumber \\\\\n",
    "\n",
    "\\frac{4x^2-9x+2}{(x+3)(x^2+4)} &= \\frac{A}{x+3} + \\frac{Bx + C}{x^2+4} \\\\\n",
    "4x^2-9x+2 &= (x+3)(x^2+4)\\left(\\frac{A}{x+3} + \\frac{Bx + C}{x^2+4}\\right) \\\\\n",
    "4x^2-9x+2 &= A(x^2+4) + (Bx + C)(x+3) \\\\\n",
    "\n",
    "\\nonumber \\\\\n",
    "x&=-3: \\\\\n",
    "4(-3)^2-9(-3)+2 &= A((-3)^2+4) + (Bx + C)(-3+3) \\\\\n",
    "65 &= 13A \\\\\n",
    "A &= 5 \\\\\n",
    "\\nonumber \\\\\n",
    "\n",
    "4x^2-9x+2 &= 5(x^2+4) + (Bx + C)(x+3) \\\\\n",
    "4x^2-9x+2 &= 5x^2 + 20 + Bx^2 + 3Bx + Cx + 3C \\\\\n",
    "4x^2-9x+2 &= x^2(B + 5) + x(3B + C) + (3C + 20) \\\\\n",
    "\n",
    "\\nonumber \\\\\n",
    "x^2&: 4 = B + 5 \\\\\n",
    "x^1&: -9 = 3B + C \\\\\n",
    "x^0&: 2 = 3C + 20 \\\\\n",
    "\\nonumber \\\\\n",
    "\n",
    "B &= -1 \\\\\n",
    "C &= -6 \\\\\n",
    "\n",
    "\\nonumber \\\\\n",
    "\\frac{4x^2-9x+2}{(x+3)(x^2+4)} &= \\frac{5}{x+3} + \\frac{-x - 6}{x^2+4} \\\\\n",
    "\\frac{4x^2-9x+2}{(x+3)(x^2+4)} &= \\frac{5}{x+3} - \\frac{x + 6}{x^2+4} \\\\\n",
    "\\nonumber \\\\\n",
    "\n",
    "I &= \\int \\frac{5}{x+3} - \\frac{x + 6}{x^2+4} dx \\\\\n",
    "I &= \\int \\frac{5}{x+3} dx - \\int \\frac{x + 6}{x^2+4} dx \\\\\n",
    "I &= 5\\ln(|x+3|) - \\int \\frac{x + 6}{x^2+4} dx \\\\\n",
    "I &= 5\\ln(|x+3|) - \\int \\frac{x}{x^2+4} dx - \\int \\frac{6}{x^2+4} dx \\\\\n",
    "I &= 5\\ln(|x+3|) - \\int \\frac{x}{x^2+4} dx - 6\\int \\frac{1}{x^2+4} dx \\\\\n",
    "\n",
    "\\nonumber \\\\\n",
    "u &= x^2+4 \\\\\n",
    "du &= 2x dx \\\\\n",
    "\\nonumber \\\\\n",
    "\n",
    "I &= 5\\ln(|x+3|) - \\int \\frac{x}{u} \\cdot \\frac{du}{2x} - 6\\int \\frac{1}{x^2+4} dx \\\\\n",
    "I &= 5\\ln(|x+3|) - \\frac{1}{2} \\int \\frac{1}{u} du - 6\\int \\frac{1}{x^2+4} dx \\\\\n",
    "I &= 5\\ln(|x+3|) - \\frac{1}{2} \\ln(|u|) - 6\\int \\frac{1}{x^2+4} dx \\\\\n",
    "I &= 5\\ln(|x+3|) - \\frac{1}{2} \\ln(|x^2+4|) - 6\\int \\frac{1}{x^2+4} dx \\\\\n",
    "\n",
    "\\nonumber \\\\\n",
    "\\int \\frac{1}{x^2+a^2} dx &= \\frac{1}{a}\\arctan\\left(\\frac{x}{a}\\right) + C \\\\\n",
    "\\nonumber \\\\\n",
    "\n",
    "I &= 5\\ln(|x+3|) - \\frac{1}{2} \\ln(|x^2+4|) - \\frac{6}{2}\\arctan\\left(\\frac{x}{2}\\right) + C \\\\\n",
    "I &= 5\\ln(|x+3|) - \\frac{1}{2} \\ln(|x^2+4|) - 3\\arctan\\left(\\frac{x}{2}\\right) + C \\\\\n",
    "\\end{align}\n",
    "$$\n",
    "\n",
    "Decomposing the integrand makes the problem much simpler. Afterwards, we only need to do a bit of substitutions and apply some formulae we derived prior to get our answer:\n",
    "\n",
    "$$\n",
    "F(x) =5\\ln(|x+3|) - \\frac{1}{2} \\ln(|x^2+4|) - 3\\arctan\\left(\\frac{x}{2}\\right) + C\n",
    "$$"
   ]
  },
  {
   "cell_type": "markdown",
   "metadata": {},
   "source": [
    "### 46. $\\int \\frac{1}{x^2+6x+13} dx$\n",
    "\n",
    "We may notice that the denominator of the integrand is an irreducible quadratic, i.e. we cannot factor it without using complex numbers. We thus are not able to utilise partial fraction decomposition for this problem and must look for some other method. Let's try completing the square for the quadratic and doing some substitutions. We will solve as follows:\n",
    "\n",
    "$$\n",
    "\\begin{align}\n",
    "I &= \\int \\frac{1}{x^2+6x+13} dx \\\\\n",
    "\n",
    "\\nonumber \\\\\n",
    "x^2 + 6x + 13 &= x^2 + 6x + 13 + \\left(\\frac{b}{2}\\right)^2 - \\left(\\frac{b}{2}\\right)^2 \\\\\n",
    "&= x^2 + 6x + 13 + \\left(\\frac{6}{2}\\right)^2 - \\left(\\frac{6}{2}\\right)^2 \\\\\n",
    "&= x^2 + 6x + 13 + 9 - 9 \\\\\n",
    "&= (x^2 + 6x + 3^2) + 13 - 9 \\\\\n",
    "&= (x+3)^2 + 4 \\\\\n",
    "\\nonumber \\\\\n",
    "\n",
    "I &= \\int \\frac{1}{(x+3)^2 + 4} dx \\\\\n",
    "\n",
    "\\nonumber \\\\\n",
    "x + 3 &= 2\\tan(\\theta) \\\\\n",
    "x &= 2\\tan(\\theta) d\\theta - 3 \\\\\n",
    "dx &= \\sec^2(\\theta) d\\theta \\\\\n",
    "\\nonumber \\\\\n",
    "\n",
    "I &= \\int \\frac{1}{4\\tan^2(\\theta) + 4} \\cdot 2\\sec^2(\\theta) d\\theta \\\\\n",
    "I &= \\int \\frac{2\\sec^2(\\theta)}{4(\\tan^2(\\theta) + 1)} d\\theta \\\\\n",
    "\n",
    "\\nonumber \\\\\n",
    "\\sec^2(\\theta) &= \\tan^2(\\theta) + 1 \\\\\n",
    "\\nonumber \\\\\n",
    "\n",
    "I &= \\int \\frac{2\\sec^2(\\theta)}{4\\sec^2(\\theta)} d\\theta \\\\\n",
    "I &= \\int \\frac{1}{2} d\\theta \\\\\n",
    "I &= \\frac{1}{4} \\theta + C \\\\\n",
    "\n",
    "\\nonumber \\\\\n",
    "\\theta &= \\arctan\\left(\\frac{x+3}{2}\\right) \\\\\n",
    "\\nonumber \\\\\n",
    "\n",
    "I &= \\frac{1}{2} \\arctan\\left(\\frac{x+3}{2}\\right) + C \\\\\n",
    "\\end{align}\n",
    "$$\n",
    "\n",
    "After getting the integrand to resemble a trig-sub situation, it wasn't difficult to get or answer:\n",
    "\n",
    "$$\n",
    "F(x) = \\frac{1}{2} \\arctan\\left(\\frac{x+3}{2}\\right) + C \n",
    "$$"
   ]
  },
  {
   "cell_type": "markdown",
   "metadata": {},
   "source": [
    "### 47. $\\int \\frac{2x-5}{x^3+x^2} dx$\n",
    "\n",
    "Notice that we may factor the denominator of the integrand into a linear factor and a repeated linear factor. Then we may solve as follows:\n",
    "\n",
    "$$\n",
    "\\begin{align}\n",
    "I &= \\int \\frac{2x-5}{x^3+x^2} dx \\\\\n",
    "I &= \\int \\frac{2x-5}{x^2(x+1)} dx \\\\\n",
    "\n",
    "\\nonumber \\\\\n",
    "\\frac{2x-5}{x^2(x+1)} &= \\frac{A}{x+1} + \\frac{B}{x} + \\frac{C}{x^2} \\\\\n",
    "2x-5 &= x^2(x+1)\\left(\\frac{A}{x+1} + \\frac{B}{x} + \\frac{C}{x^2}\\right) \\\\\n",
    "2x-5 &= Ax^2 + Bx(x+1) + C(x+1) \\\\\n",
    "\\nonumber \\\\\n",
    "\n",
    "x&=-1: \\\\\n",
    "2(-1) - 5 &= A(-1)^2 + B(-1)(-1+1) + C(-1+1) \\\\\n",
    "-7 &= 1 \\cdot A \\\\\n",
    "A &= -7 \\\\\n",
    "\n",
    "\\nonumber \\\\\n",
    "2x-5 &= -7x^2 + Bx(x+1) + C(x+1) \\\\\n",
    "2x-5 &= -7x^2 + Bx^2+Bx + Cx+C \\\\\n",
    "2x-5 &= x^2(B-7) + x(B+C) + (C) \\\\\n",
    "\\nonumber \\\\\n",
    "\n",
    "x^2&: 0 = B - 7 \\\\\n",
    "x^1&: 2 = B + C \\\\\n",
    "x^0&: -5 = C \\\\\n",
    "\n",
    "\\nonumber \\\\\n",
    "B &= 7 \\\\\n",
    "C &= -5 \\\\\n",
    "\\nonumber \\\\\n",
    "\n",
    "\\frac{2x-5}{x^2(x+1)} &= \\frac{-7}{x+1} + \\frac{7}{x} + \\frac{-5}{x^2} \\\\\n",
    "\\frac{2x-5}{x^2(x+1)} &= \\frac{7}{x} - \\frac{7}{x+1} - \\frac{5}{x^2} \\\\\n",
    "\n",
    "\\nonumber \\\\\n",
    "\n",
    "I &= \\int \\frac{7}{x} - \\frac{7}{x+1} - \\frac{5}{x^2} dx \\\\\n",
    "I &= \\int \\frac{7}{x} dx - \\int \\frac{7}{x+1} dx - \\int \\frac{5}{x^2} dx \\\\\n",
    "I &= 7\\ln(|x|) - 7\\ln(|x+1|) - 5x^{-1} + C \\\\\n",
    "\n",
    "\\end{align}\n",
    "$$"
   ]
  },
  {
   "cell_type": "markdown",
   "metadata": {},
   "source": [
    "### 48. $\\int \\frac{2x^2+8x+5}{x^2+4x+13} dx$\n",
    "\n",
    "Notice that the integrand is an improper rational expression. Thus we must do polynomial long division to get a proper expression which we can then decompose and evaluate the integrate as follows:\n",
    "\n",
    "$$\n",
    "\\begin{align}\n",
    "I &= \\int \\frac{2x^2+8x+5}{x^2+4x+13} dx \\\\\n",
    "\n",
    "\\nonumber \\\\\n",
    "&\\begin{array}{r}\n",
    "2 \\phantom{2x^2+8x+} \\\\\n",
    "x^2+4x+13\\overline{\\smash{\\big)}2x^2+8x+5} \\\\\n",
    "\\underline{-2x^2\\smash{-8x}-26} \\\\\n",
    "-21 \\\\\n",
    "\\end{array} \\\\\n",
    "\\nonumber \\\\\n",
    "\n",
    "I &= \\int 2 - \\frac{21}{x^2+4x+13} dx \\\\\n",
    "I &= \\int 2 dx - \\int \\frac{21}{x^2+4x+13} dx \\\\\n",
    "I &= 2x - 21\\int \\underbrace{\\frac{1}{x^2+4x+13}}_\\text{irreducible} dx \\\\\n",
    "\n",
    "\\nonumber \\\\\n",
    "I_b &= \\int \\frac{1}{x^2+4x+13} dx \\\\\n",
    "\\nonumber \\\\\n",
    "\n",
    "I &= 2x - 21I_b \\\\\n",
    "\n",
    "\\nonumber \\\\\n",
    "x^2+4x+13 &= x^2+4x+13 + \\left(\\frac{b}{2}\\right)^2 - \\left(\\frac{b}{2}\\right)^2 \\\\\n",
    "&= x^2+4x+13 + \\left(\\frac{4}{2}\\right)^2 - \\left(\\frac{4}{2}\\right)^2 \\\\\n",
    "&= x^2+4x+13 + 4 - 4 \\\\\n",
    "&= (x^2 + 4x + 2^2) + 13 - 4 \\\\\n",
    "&= (x + 2)^2 + 9 \\\\\n",
    "\\nonumber \\\\\n",
    "\n",
    "I_b &= \\int \\frac{1}{(x + 2)^2 + 9} dx \\\\\n",
    "\n",
    "\\nonumber \\\\\n",
    "x+2 &= 3\\tan(\\theta) \\\\\n",
    "x &= 3\\tan(\\theta) - 2 \\\\\n",
    "dx &= 3\\sec^2(\\theta) d\\theta \\\\\n",
    "\\nonumber \\\\\n",
    "\n",
    "I_b &= \\int \\frac{1}{9\\tan^2(\\theta) + 9} \\cdot 3\\sec^2(\\theta) d\\theta \\\\\n",
    "I_b &= \\int \\frac{3\\sec^2(\\theta)}{9(\\tan^2(\\theta) + 1)} d\\theta \\\\\n",
    "I_b &= \\frac{1}{3}\\int \\frac{\\sec^2(\\theta)}{\\tan^2(\\theta) + 1} d\\theta \\\\\n",
    "\n",
    "\\nonumber \\\\\n",
    "\\sec^2(\\theta) &= \\tan^2(\\theta) + 1 \\\\\n",
    "\\nonumber \\\\\n",
    "\n",
    "I_b &= \\frac{1}{3}\\int \\frac{\\sec^2(\\theta)}{\\sec^2(\\theta)} d\\theta \\\\\n",
    "I_b &= \\frac{1}{3}\\int 1 d\\theta \\\\\n",
    "I_b &= \\frac{1}{3} \\theta \\\\\n",
    "\n",
    "\\nonumber \\\\\n",
    "\\theta &= \\arctan\\left(\\frac{x+2}{3}\\right) \\\\\n",
    "\\nonumber \\\\\n",
    "\n",
    "I_b &= \\frac{1}{3} \\arctan\\left(\\frac{x+2}{3}\\right) + C \\\\\n",
    "\n",
    "\\nonumber \\\\\n",
    "\n",
    "I &= 2x - 21\\left(\\frac{1}{3}\\arctan\\left(\\frac{x+2}{3}\\right)\\right) + C \\\\\n",
    "I &= 2x - 7\\arctan\\left(\\frac{x+2}{3}\\right) + C \\\\\n",
    "\\end{align}\n",
    "$$\n",
    "\n",
    "It turned out that we could not use PFD as the denominator of our proper rational expression was an irreducible quadratic so we had to complete the square and utilise trig-sub to get the answer:\n",
    "\n",
    "$$\n",
    "F(x) = 2x - 7\\arctan\\left(\\frac{x+2}{3}\\right) + C\n",
    "$$"
   ]
  },
  {
   "cell_type": "markdown",
   "metadata": {},
   "source": [
    "### 49. $\\int \\frac{6x^2+31x+45}{x^3+6x^2+9x} dx$\n",
    "\n",
    "This time, the integrand is a proper rational expression so we can use partial fraction decomposition to solve the integral as follows:\n",
    "\n",
    "$$\n",
    "\\begin{align}\n",
    "I &= \\int \\frac{6x^2+31x+45}{x^3+6x^2+9x} dx \\\\\n",
    "I &= \\int \\frac{6x^2+31x+45}{x(x^2+6x+9)} dx \\\\\n",
    "I &= \\int \\frac{6x^2+31x+45}{x(x+3)^2} dx \\\\\n",
    "\n",
    "\\nonumber \\\\\n",
    "\\frac{6x^2+31x+45}{x(x+3)^2} &= \\frac{A}{x} + \\frac{B}{x+3} + \\frac{C}{(x+3)^2} \\\\\n",
    "6x^2+31x+45 &= x(x+3)^2\\left(\\frac{A}{x} + \\frac{B}{x+3} + \\frac{C}{(x+3)^2}\\right) \\\\\n",
    "6x^2+31x+45 &= A(x+3)^2 + Bx(x+3) + Cx \\\\\n",
    "\\nonumber \\\\\n",
    "\n",
    "x&=-3: \\\\\n",
    "6(-3)^2+31(-3)+45 &= A(-3+3)^2 + B(-3)(-3+3) + C(-3) \\\\\n",
    "6 &= -3C \\\\\n",
    "C &= -2 \\\\\n",
    "\n",
    "\\nonumber \\\\\n",
    "6x^2+31x+45 &= A(x+3)^2 + Bx(x+3) - 2x \\\\\n",
    "6x^2+31x+45 &= A(x^2+6x+9) + Bx^2 + 3Bx - 2x \\\\\n",
    "6x^2+31x+45 &= Ax^2 + 6Ax + 9A + Bx^2 + 3Bx - 2x \\\\\n",
    "6x^2+31x+45 &= x^2(A + B) + x(6A + 3B - 2) + (9A) \\\\\n",
    "\\nonumber \\\\\n",
    "\n",
    "x^2&: 6 = A + B \\\\\n",
    "x^1&: 31 = 6A + 3B - 2 \\\\\n",
    "x^0&: 45 = 9A \\\\\n",
    "\n",
    "\\nonumber \\\\\n",
    "A &= 5 \\\\\n",
    "B &= 1 \\\\\n",
    "\\nonumber \\\\\n",
    "\n",
    "\\frac{6x^2+31x+45}{x(x+3)^2} &= \\frac{5}{x} + \\frac{1}{x+3} + \\frac{-2}{(x+3)^2} \\\\\n",
    "\\frac{6x^2+31x+45}{x(x+3)^2} &= \\frac{5}{x} + \\frac{1}{x+3} - \\frac{2}{(x+3)^2} \\\\\n",
    "\n",
    "\\nonumber \\\\\n",
    "\n",
    "I &= \\int \\frac{5}{x} + \\frac{1}{x+3} - \\frac{2}{(x+3)^2} dx \\\\\n",
    "I &= \\int \\frac{5}{x} dx + \\int \\frac{1}{x+3} dx - \\int \\frac{2}{(x+3)^2} dx \\\\\n",
    "I &= 5\\ln(|x|) + \\ln(|x+3|) - 2\\int \\frac{1}{(x+3)^2} dx \\\\\n",
    "\n",
    "\\nonumber \\\\\n",
    "u &= x + 3 \\\\\n",
    "du &= 1 dx \\\\\n",
    "\\nonumber \\\\\n",
    "\n",
    "I &= 5\\ln(|x|) + \\ln(|x+3|) - 2\\int \\frac{1}{u^2} du \\\\\n",
    "I &= 5\\ln(|x|) + \\ln(|x+3|) - 2(-u^{-1}) + C \\\\\n",
    "I &= 5\\ln(|x|) + \\ln(|x+3|) + 2(x+3)^{-1} + C \\\\\n",
    "\\end{align}\n",
    "$$\n",
    "\n",
    "PFD may be difficult because making small mistakes somewhere along the way is quite easy and it can waste a lot of your time before you realise. Nevertheless, our answer is:\n",
    "\n",
    "$$\n",
    "F(x) = 5\\ln(|x|) + \\ln(|x+3|) + 2(x+3)^{-1} + C\n",
    "$$"
   ]
  },
  {
   "cell_type": "markdown",
   "metadata": {},
   "source": [
    "### 50. $\\int \\frac{1}{x^2-a^2} dx$\n",
    "\n",
    "This is a general problem with some constant $a$. We will integrate as follows:\n",
    "\n",
    "$$\n",
    "\\begin{align}\n",
    "I &= \\int \\frac{1}{x^2-a^2} dx \\\\\n",
    "\n",
    "\\nonumber \\\\\n",
    "x &= a\\sec(\\theta) \\\\\n",
    "dx &= a\\tan(\\theta)\\sec(\\theta) d\\theta \\\\\n",
    "\\nonumber \\\\\n",
    "\n",
    "I &= \\int \\frac{1}{a^2\\sec^2(\\theta)-a^2} \\cdot a\\tan(\\theta)\\sec(\\theta) d\\theta \\\\\n",
    "I &= \\int \\frac{a\\tan(\\theta)\\sec(\\theta)}{a^2(\\sec^2(\\theta)-1)}  d\\theta \\\\\n",
    "I &= \\frac{1}{a} \\int \\frac{\\tan(\\theta)\\sec(\\theta)}{\\sec^2(\\theta)-1}  d\\theta \\\\\n",
    "\n",
    "\\nonumber \\\\\n",
    "\\sec^2(\\theta) &= \\tan^2(\\theta) + 1 \\\\\n",
    "\\tan^2(\\theta) &= \\sec^2(\\theta) - 1 \\\\\n",
    "\\nonumber \\\\\n",
    "\n",
    "I &= \\frac{1}{a} \\int \\frac{\\tan(\\theta)\\sec(\\theta)}{\\tan^2(\\theta)}  d\\theta \\\\\n",
    "I &= \\frac{1}{a} \\int \\frac{\\sec(\\theta)}{\\tan(\\theta)}  d\\theta \\\\\n",
    "\n",
    "\\nonumber \\\\\n",
    "\\sec(\\theta) &= \\frac{H}{A} \\\\\n",
    "\\tan(\\theta) &= \\frac{O}{A} \\\\\n",
    "\\frac{\\sec(\\theta)}{\\tan(\\theta)} &= \\frac{\\left(\\frac{H}{A}\\right)}{\\left(\\frac{O}{A}\\right)} \\\\\n",
    "&= \\frac{AH}{AO} \\\\\n",
    "&= \\frac{H}{O} \\\\\n",
    "&= \\csc(\\theta) \\\\\n",
    "\\nonumber \\\\\n",
    "\n",
    "I &= \\frac{1}{a} \\int \\csc(\\theta) d\\theta \\\\\n",
    "I &= \\frac{1}{a} \\int \\frac{\\csc(\\theta)\\cot(\\theta)}{\\cot(\\theta)} d\\theta \\\\\n",
    "\n",
    "\\nonumber \\\\\n",
    "u &= \\csc(\\theta) \\\\\n",
    "du &= -\\csc(\\theta)\\cot(\\theta) d\\theta \\\\\n",
    "\\nonumber \\\\\n",
    "\n",
    "I &= -\\frac{1}{a} \\int \\frac{1}{\\cot(\\theta)} du \\\\\n",
    "\n",
    "\\nonumber \\\\\n",
    "\\csc^2(\\theta) &= \\cot^2(\\theta) + 1 \\\\\n",
    "\\cot(\\theta) &= \\sqrt{\\csc^2(\\theta)-1} \\\\\n",
    "\\nonumber \\\\\n",
    "\n",
    "I &= -\\frac{1}{a} \\int \\frac{1}{\\sqrt{\\csc^2(\\theta)-1}} du \\\\\n",
    "I &= -\\frac{1}{a} \\int \\frac{1}{\\sqrt{u^2-1}} du \\\\\n",
    "\n",
    "\\nonumber \\\\\n",
    "u &= \\sec(\\phi) \\\\\n",
    "du &= \\tan(\\phi)\\sec(\\phi) d\\phi \\\\\n",
    "\\nonumber \\\\\n",
    "\n",
    "I &= -\\frac{1}{a} \\int \\frac{1}{\\sqrt{\\sec^2(\\phi)-1}} \\cdot \\tan(\\phi)\\sec(\\phi) d\\phi \\\\\n",
    "I &= -\\frac{1}{a} \\int \\frac{\\tan(\\phi)\\sec(\\phi)}{\\sqrt{\\tan^2(\\phi)}} d\\phi \\\\\n",
    "I &= -\\frac{1}{a} \\int \\frac{\\tan(\\phi)\\sec(\\phi)}{|\\tan(\\phi)|} d\\phi \\\\\n",
    "I &= -\\frac{1}{a} \\int \\frac{\\tan(\\phi)\\sec(\\phi)}{\\tan(\\phi)} d\\phi \\\\\n",
    "I &= -\\frac{1}{a} \\int \\sec(\\phi) d\\phi \\\\\n",
    "I &= -\\frac{1}{a} \\int \\frac{\\sec(\\phi)(\\sec(\\phi)+\\tan(\\phi))}{\\sec(\\phi)+\\tan(\\phi)} d\\phi \\\\\n",
    "I &= -\\frac{1}{a} \\int \\frac{\\sec^2(\\phi) + \\sec(\\phi)\\tan(\\phi)}{\\sec(\\phi)+\\tan(\\phi)} d\\phi \\\\\n",
    "\n",
    "\\nonumber \\\\\n",
    "w &= \\tan(\\phi)+\\sec(\\phi) \\\\\n",
    "dw &= \\sec^2(\\phi) + \\sec(\\phi)\\tan(\\phi) d\\phi \\\\\n",
    "\\nonumber \\\\\n",
    "\n",
    "I &= -\\frac{1}{a} \\int \\frac{1}{w} dw \\\\\n",
    "I &= -\\frac{1}{a} \\ln(|w|) + C \\\\\n",
    "I &= -\\frac{1}{a} \\ln(|\\tan(\\phi)+\\sec(\\phi)|) + C \\\\\n",
    "\n",
    "\\nonumber \\\\\n",
    "\\phi &= \\text{arcsec}(u) \\\\\n",
    "\\nonumber \\\\\n",
    "\n",
    "I &= -\\frac{1}{a} \\ln(|\\tan(\\text{arcsec}(u))+\\sec(\\text{arcsec}(u))|) + C \\\\\n",
    "I &= -\\frac{1}{a} \\ln(|\\tan(\\text{arcsec}(u))+u|) + C \\\\\n",
    "\n",
    "\\nonumber \\\\\n",
    "\\sec(\\theta) &= \\frac{H}{A} \\\\\n",
    "\\text{arcsec}\\left(\\frac{H}{A}\\right) &= \\theta \\\\\n",
    "\\text{arcsec}(u) = \\theta &\\implies \\sec(\\theta) = \\frac{u}{1} \\\\\n",
    "H &= u \\\\\n",
    "A &= 1 \\\\\n",
    "O &= \\sqrt{u^2-1} \\\\\n",
    "\\tan(\\theta) &= \\frac{O}{A} \\\\\n",
    "\\tan(\\text{arcsec}(u)) &= \\frac{\\sqrt{u^2-1}}{1} \\\\\n",
    "\\tan(\\text{arcsec}(u)) &= \\sqrt{u^2-1} \\\\\n",
    "\\nonumber \\\\\n",
    "\n",
    "I &= -\\frac{1}{a} \\ln(|\\sqrt{u^2-1}+u|) + C \\\\\n",
    "I &= -\\frac{1}{a} \\ln(|\\sqrt{\\csc^2(\\theta)-1}+\\csc(\\theta)|) + C \\\\\n",
    "I &= -\\frac{1}{a} \\ln(|\\cot(\\theta)+\\csc(\\theta)|) + C \\\\\n",
    "\n",
    "\\nonumber \\\\\n",
    "\\theta &= \\text{arcsec}\\left(\\frac{x}{a}\\right)\n",
    "\\nonumber \\\\\n",
    "\n",
    "I &= -\\frac{1}{a} \\ln\\left(\\left|\\cot\\left(\\text{arcsec}\\left(\\frac{x}{a}\\right)\\right)+\\csc\\left(\\text{arcsec}\\left(\\frac{x}{a}\\right)\\right)\\right|\\right) + C \\\\\n",
    "\n",
    "\\nonumber \\\\\n",
    "\\sec(\\theta) &= \\frac{H}{A} \\\\\n",
    "\\text{arcsec}\\left(\\frac{H}{A}\\right) &= \\theta \\\\\n",
    "\\text{arcsec}\\left(\\frac{x}{a}\\right) = \\theta &\\implies \\sec(\\theta) = \\frac{x}{a} \\\\\n",
    "H &= x \\\\\n",
    "A &= a \\\\\n",
    "O &= \\sqrt{x^2-a^2} \\\\\n",
    "\\cot(\\theta) &= \\frac{A}{O} \\\\\n",
    "\\cot\\left(\\text{arcsec}\\left(\\frac{x}{a}\\right)\\right) &= \\frac{a}{\\sqrt{x^2-a^2}} \\\\\n",
    "\\csc(\\theta) &= \\frac{H}{O} \\\\\n",
    "\\csc\\left(\\text{arcsec}\\left(\\frac{x}{a}\\right)\\right) &= \\frac{x}{\\sqrt{x^2-a^2}} \\\\\n",
    "\\nonumber \\\\\n",
    "\n",
    "I &= -\\frac{1}{a} \\ln\\left(\\left|\\frac{a}{\\sqrt{x^2-a^2}}+\\frac{x}{\\sqrt{x^2-a^2}}\\right|\\right) + C \\\\\n",
    "I &= -\\frac{1}{a} \\ln\\left(\\left|\\frac{x+a}{\\sqrt{x^2-a^2}}\\right|\\right) + C \\\\\n",
    "I &= \\frac{1}{a} \\ln\\left(\\left|\\frac{\\sqrt{x^2-a^2}}{x+a}\\right|\\right) + C \\\\\n",
    "\\end{align}\n",
    "$$\n",
    "\n",
    "After quite a bit of substituions, we get our answer for this type of integral with some constant $a$. The answer is:\n",
    "\n",
    "$$\n",
    "F(x) = \\frac{1}{a} \\ln\\left(\\left|\\frac{\\sqrt{x^2-a^2}}{x+a}\\right|\\right) + C\n",
    "$$"
   ]
  },
  {
   "cell_type": "markdown",
   "metadata": {},
   "source": [
    "## Sympy Answers"
   ]
  },
  {
   "cell_type": "code",
   "execution_count": 28,
   "metadata": {},
   "outputs": [
    {
     "data": {
      "text/latex": [
       "$\\displaystyle \\tan{\\left(x \\right)}$"
      ],
      "text/plain": [
       "tan(x)"
      ]
     },
     "execution_count": 28,
     "metadata": {},
     "output_type": "execute_result"
    }
   ],
   "source": [
    "### 1\n",
    "sp.integrate(sp.sec(x)**2).simplify()"
   ]
  },
  {
   "cell_type": "code",
   "execution_count": 29,
   "metadata": {},
   "outputs": [
    {
     "data": {
      "text/latex": [
       "$\\displaystyle \\log{\\left(x \\right)}$"
      ],
      "text/plain": [
       "log(x)"
      ]
     },
     "execution_count": 29,
     "metadata": {},
     "output_type": "execute_result"
    }
   ],
   "source": [
    "### 2\n",
    "sp.integrate(1/x).simplify()"
   ]
  },
  {
   "cell_type": "code",
   "execution_count": 33,
   "metadata": {},
   "outputs": [
    {
     "data": {
      "text/latex": [
       "$\\displaystyle \\operatorname{asin}{\\left(x \\right)}$"
      ],
      "text/plain": [
       "asin(x)"
      ]
     },
     "execution_count": 33,
     "metadata": {},
     "output_type": "execute_result"
    }
   ],
   "source": [
    "### 3\n",
    "sp.integrate(1/(sp.sqrt(1-x**2)))"
   ]
  },
  {
   "cell_type": "code",
   "execution_count": 35,
   "metadata": {},
   "outputs": [
    {
     "data": {
      "text/latex": [
       "$\\displaystyle \\frac{1}{\\cos{\\left(x \\right)}}$"
      ],
      "text/plain": [
       "1/cos(x)"
      ]
     },
     "execution_count": 35,
     "metadata": {},
     "output_type": "execute_result"
    }
   ],
   "source": [
    "### 4\n",
    "sp.integrate(sp.sec(x)*sp.tan(x)).simplify()"
   ]
  },
  {
   "cell_type": "code",
   "execution_count": 36,
   "metadata": {},
   "outputs": [
    {
     "data": {
      "text/latex": [
       "$\\displaystyle \\operatorname{atan}{\\left(x \\right)}$"
      ],
      "text/plain": [
       "atan(x)"
      ]
     },
     "execution_count": 36,
     "metadata": {},
     "output_type": "execute_result"
    }
   ],
   "source": [
    "### 5\n",
    "sp.integrate(1/(1+x**2))"
   ]
  },
  {
   "cell_type": "code",
   "execution_count": 37,
   "metadata": {},
   "outputs": [
    {
     "data": {
      "text/latex": [
       "$\\displaystyle \\sin{\\left(x \\right)}$"
      ],
      "text/plain": [
       "sin(x)"
      ]
     },
     "execution_count": 37,
     "metadata": {},
     "output_type": "execute_result"
    }
   ],
   "source": [
    "### 6\n",
    "sp.integrate(sp.cos(x))"
   ]
  },
  {
   "cell_type": "code",
   "execution_count": 38,
   "metadata": {},
   "outputs": [
    {
     "data": {
      "text/latex": [
       "$\\displaystyle - \\cos{\\left(x \\right)}$"
      ],
      "text/plain": [
       "-cos(x)"
      ]
     },
     "execution_count": 38,
     "metadata": {},
     "output_type": "execute_result"
    }
   ],
   "source": [
    "### 7\n",
    "sp.integrate(sp.sin(x))"
   ]
  },
  {
   "cell_type": "code",
   "execution_count": 39,
   "metadata": {},
   "outputs": [
    {
     "data": {
      "text/latex": [
       "$\\displaystyle e^{x}$"
      ],
      "text/plain": [
       "exp(x)"
      ]
     },
     "execution_count": 39,
     "metadata": {},
     "output_type": "execute_result"
    }
   ],
   "source": [
    "### 8\n",
    "sp.integrate(sp.exp(x))"
   ]
  },
  {
   "cell_type": "code",
   "execution_count": 41,
   "metadata": {},
   "outputs": [
    {
     "data": {
      "text/latex": [
       "$\\displaystyle \\begin{cases} \\frac{2 x^{\\frac{3}{2}} \\cdot \\left(3 x + 20\\right)}{15} & \\text{for}\\: x > 0 \\vee x < -8 \\\\- \\frac{2 i \\left(- x\\right)^{\\frac{3}{2}} \\cdot \\left(3 x + 20\\right)}{15} & \\text{otherwise} \\end{cases}$"
      ],
      "text/plain": [
       "Piecewise((2*x**(3/2)*(3*x + 20)/15, (x > 0) | (x < -8)), (-2*I*(-x)**(3/2)*(3*x + 20)/15, True))"
      ]
     },
     "execution_count": 41,
     "metadata": {},
     "output_type": "execute_result"
    }
   ],
   "source": [
    "### 9\n",
    "sp.integrate(sp.sqrt(x)*(x+4)).simplify()"
   ]
  },
  {
   "cell_type": "code",
   "execution_count": 43,
   "metadata": {},
   "outputs": [
    {
     "data": {
      "text/latex": [
       "$\\displaystyle \\frac{x^{6} - 5}{5 x}$"
      ],
      "text/plain": [
       "(x**6 - 5)/(5*x)"
      ]
     },
     "execution_count": 43,
     "metadata": {},
     "output_type": "execute_result"
    }
   ],
   "source": [
    "### 10\n",
    "sp.integrate((1+x**6)/x**2).simplify()"
   ]
  },
  {
   "cell_type": "code",
   "execution_count": 52,
   "metadata": {},
   "outputs": [
    {
     "data": {
      "text/latex": [
       "$\\displaystyle 4 \\int x^{3} \\sec^{2}{\\left(x^{4} \\right)}\\, dx$"
      ],
      "text/plain": [
       "4*Integral(x**3*sec(x**4)**2, x)"
      ]
     },
     "execution_count": 52,
     "metadata": {},
     "output_type": "execute_result"
    }
   ],
   "source": [
    "### 11\n",
    "sp.integrate(4*x**3*sp.sec(x**4)**2).simplify()"
   ]
  },
  {
   "cell_type": "code",
   "execution_count": 54,
   "metadata": {},
   "outputs": [
    {
     "data": {
      "text/latex": [
       "$\\displaystyle \\frac{\\log{\\left(x^{4} + 1 \\right)}}{4}$"
      ],
      "text/plain": [
       "log(x**4 + 1)/4"
      ]
     },
     "execution_count": 54,
     "metadata": {},
     "output_type": "execute_result"
    }
   ],
   "source": [
    "### 12\n",
    "sp.integrate(x**3/(1+x**4)).simplify()"
   ]
  },
  {
   "cell_type": "code",
   "execution_count": 55,
   "metadata": {},
   "outputs": [
    {
     "data": {
      "text/latex": [
       "$\\displaystyle \\frac{\\operatorname{atan}{\\left(x^{2} \\right)}}{2}$"
      ],
      "text/plain": [
       "atan(x**2)/2"
      ]
     },
     "execution_count": 55,
     "metadata": {},
     "output_type": "execute_result"
    }
   ],
   "source": [
    "### 13\n",
    "sp.integrate(x/(1+x**4)).simplify()"
   ]
  },
  {
   "cell_type": "code",
   "execution_count": 56,
   "metadata": {},
   "outputs": [
    {
     "data": {
      "text/latex": [
       "$\\displaystyle 2 \\sqrt{x} - 2 \\log{\\left(\\sqrt{x} + 1 \\right)}$"
      ],
      "text/plain": [
       "2*sqrt(x) - 2*log(sqrt(x) + 1)"
      ]
     },
     "execution_count": 56,
     "metadata": {},
     "output_type": "execute_result"
    }
   ],
   "source": [
    "### 14\n",
    "sp.integrate(1/(1+sp.sqrt(x))).simplify()"
   ]
  },
  {
   "cell_type": "code",
   "execution_count": 57,
   "metadata": {},
   "outputs": [
    {
     "data": {
      "text/latex": [
       "$\\displaystyle - \\log{\\left(\\cos{\\left(x \\right)} \\right)}$"
      ],
      "text/plain": [
       "-log(cos(x))"
      ]
     },
     "execution_count": 57,
     "metadata": {},
     "output_type": "execute_result"
    }
   ],
   "source": [
    "### 15\n",
    "sp.integrate(sp.tan(x)).simplify()"
   ]
  },
  {
   "cell_type": "code",
   "execution_count": 58,
   "metadata": {},
   "outputs": [
    {
     "data": {
      "text/latex": [
       "$\\displaystyle - \\frac{\\log{\\left(\\sin{\\left(x \\right)} - 1 \\right)}}{2} + \\frac{\\log{\\left(\\sin{\\left(x \\right)} + 1 \\right)}}{2}$"
      ],
      "text/plain": [
       "-log(sin(x) - 1)/2 + log(sin(x) + 1)/2"
      ]
     },
     "execution_count": 58,
     "metadata": {},
     "output_type": "execute_result"
    }
   ],
   "source": [
    "### 16\n",
    "sp.integrate(sp.sec(x)).simplify()"
   ]
  },
  {
   "cell_type": "code",
   "execution_count": 60,
   "metadata": {},
   "outputs": [
    {
     "data": {
      "text/latex": [
       "$\\displaystyle \\log{\\left(x \\right)} - \\frac{\\log{\\left(x^{2} + 1 \\right)}}{2}$"
      ],
      "text/plain": [
       "log(x) - log(x**2 + 1)/2"
      ]
     },
     "execution_count": 60,
     "metadata": {},
     "output_type": "execute_result"
    }
   ],
   "source": [
    "### 17\n",
    "sp.integrate(1/(x+x**3)).simplify()"
   ]
  },
  {
   "cell_type": "code",
   "execution_count": 61,
   "metadata": {},
   "outputs": [
    {
     "data": {
      "text/latex": [
       "$\\displaystyle \\frac{\\left(\\cos{\\left(2 x \\right)} - 5\\right) \\cos{\\left(x \\right)}}{6}$"
      ],
      "text/plain": [
       "(cos(2*x) - 5)*cos(x)/6"
      ]
     },
     "execution_count": 61,
     "metadata": {},
     "output_type": "execute_result"
    }
   ],
   "source": [
    "### 18\n",
    "sp.integrate(sp.sin(x)**3).simplify()"
   ]
  },
  {
   "cell_type": "code",
   "execution_count": 62,
   "metadata": {},
   "outputs": [
    {
     "data": {
      "text/latex": [
       "$\\displaystyle 2 \\sqrt{x} - 2 \\log{\\left(\\sqrt{x} + 1 \\right)}$"
      ],
      "text/plain": [
       "2*sqrt(x) - 2*log(sqrt(x) + 1)"
      ]
     },
     "execution_count": 62,
     "metadata": {},
     "output_type": "execute_result"
    }
   ],
   "source": [
    "### 19\n",
    "sp.integrate(1/(1+sp.sqrt(x))).simplify()"
   ]
  },
  {
   "cell_type": "code",
   "execution_count": 63,
   "metadata": {},
   "outputs": [
    {
     "data": {
      "text/latex": [
       "$\\displaystyle \\frac{\\sqrt{\\pi} \\operatorname{erfi}{\\left(x \\right)}}{2}$"
      ],
      "text/plain": [
       "sqrt(pi)*erfi(x)/2"
      ]
     },
     "execution_count": 63,
     "metadata": {},
     "output_type": "execute_result"
    }
   ],
   "source": [
    "### 20\n",
    "sp.integrate(sp.exp(x**2)).simplify()"
   ]
  },
  {
   "cell_type": "code",
   "execution_count": 64,
   "metadata": {},
   "outputs": [
    {
     "data": {
      "text/latex": [
       "$\\displaystyle x \\operatorname{atan}{\\left(x \\right)} - \\frac{\\log{\\left(x^{2} + 1 \\right)}}{2}$"
      ],
      "text/plain": [
       "x*atan(x) - log(x**2 + 1)/2"
      ]
     },
     "execution_count": 64,
     "metadata": {},
     "output_type": "execute_result"
    }
   ],
   "source": [
    "### 21\n",
    "sp.integrate(sp.atan(x)).simplify()"
   ]
  },
  {
   "cell_type": "code",
   "execution_count": 65,
   "metadata": {},
   "outputs": [
    {
     "data": {
      "text/latex": [
       "$\\displaystyle - x^{2} \\cos{\\left(x \\right)} + 2 x \\sin{\\left(x \\right)} + 2 \\cos{\\left(x \\right)}$"
      ],
      "text/plain": [
       "-x**2*cos(x) + 2*x*sin(x) + 2*cos(x)"
      ]
     },
     "execution_count": 65,
     "metadata": {},
     "output_type": "execute_result"
    }
   ],
   "source": [
    "### 22\n",
    "sp.integrate(x**2*sp.sin(x)).simplify()"
   ]
  },
  {
   "cell_type": "code",
   "execution_count": 66,
   "metadata": {},
   "outputs": [
    {
     "data": {
      "text/latex": [
       "$\\displaystyle \\frac{\\sin{\\left(x^{2} \\right)}}{2}$"
      ],
      "text/plain": [
       "sin(x**2)/2"
      ]
     },
     "execution_count": 66,
     "metadata": {},
     "output_type": "execute_result"
    }
   ],
   "source": [
    "### 23\n",
    "sp.integrate(x*sp.cos(x**2)).simplify()"
   ]
  },
  {
   "cell_type": "code",
   "execution_count": 67,
   "metadata": {},
   "outputs": [
    {
     "data": {
      "text/latex": [
       "$\\displaystyle x \\sin{\\left(x \\right)} + \\cos{\\left(x \\right)}$"
      ],
      "text/plain": [
       "x*sin(x) + cos(x)"
      ]
     },
     "execution_count": 67,
     "metadata": {},
     "output_type": "execute_result"
    }
   ],
   "source": [
    "### 24\n",
    "sp.integrate(x*sp.cos(x)).simplify()"
   ]
  },
  {
   "cell_type": "code",
   "execution_count": 68,
   "metadata": {},
   "outputs": [
    {
     "data": {
      "text/latex": [
       "$\\displaystyle \\frac{x^{4} \\cdot \\left(4 \\log{\\left(x \\right)} - 1\\right)}{16}$"
      ],
      "text/plain": [
       "x**4*(4*log(x) - 1)/16"
      ]
     },
     "execution_count": 68,
     "metadata": {},
     "output_type": "execute_result"
    }
   ],
   "source": [
    "### 25\n",
    "sp.integrate(x**3*sp.log(x)).simplify()"
   ]
  },
  {
   "cell_type": "code",
   "execution_count": 69,
   "metadata": {},
   "outputs": [
    {
     "data": {
      "text/latex": [
       "$\\displaystyle \\frac{\\left(\\sin{\\left(2 x \\right)} - 2 \\cos{\\left(2 x \\right)}\\right) e^{x}}{5}$"
      ],
      "text/plain": [
       "(sin(2*x) - 2*cos(2*x))*exp(x)/5"
      ]
     },
     "execution_count": 69,
     "metadata": {},
     "output_type": "execute_result"
    }
   ],
   "source": [
    "### 26\n",
    "sp.integrate(sp.exp(x)*sp.sin(2*x)).simplify()"
   ]
  },
  {
   "cell_type": "code",
   "execution_count": 70,
   "metadata": {},
   "outputs": [
    {
     "data": {
      "text/latex": [
       "$\\displaystyle \\begin{cases} 2 \\sqrt{x} \\left(- \\log{\\left(\\frac{1}{x} \\right)} + \\log{\\left(x \\right)} - 4\\right) & \\text{for}\\: \\frac{1}{\\left|{x}\\right|} < 1 \\wedge \\left|{x}\\right| < 1 \\\\2 \\sqrt{x} \\left(\\log{\\left(x \\right)} - 2\\right) & \\text{for}\\: \\left|{x}\\right| < 1 \\\\2 \\sqrt{x} \\left(- \\log{\\left(\\frac{1}{x} \\right)} - 2\\right) & \\text{for}\\: \\frac{1}{\\left|{x}\\right|} < 1 \\\\- {G_{3, 3}^{2, 1}\\left(\\begin{matrix} 1 & \\frac{3}{2}, \\frac{3}{2} \\\\\\frac{1}{2}, \\frac{1}{2} & 0 \\end{matrix} \\middle| {x} \\right)} + {G_{3, 3}^{0, 3}\\left(\\begin{matrix} \\frac{3}{2}, \\frac{3}{2}, 1 &  \\\\ & \\frac{1}{2}, \\frac{1}{2}, 0 \\end{matrix} \\middle| {x} \\right)} & \\text{otherwise} \\end{cases}$"
      ],
      "text/plain": [
       "Piecewise((2*sqrt(x)*(-log(1/x) + log(x) - 4), (Abs(x) < 1) & (1/Abs(x) < 1)), (2*sqrt(x)*(log(x) - 2), Abs(x) < 1), (2*sqrt(x)*(-log(1/x) - 2), 1/Abs(x) < 1), (-meijerg(((1,), (3/2, 3/2)), ((1/2, 1/2), (0,)), x) + meijerg(((3/2, 3/2, 1), ()), ((), (1/2, 1/2, 0)), x), True))"
      ]
     },
     "execution_count": 70,
     "metadata": {},
     "output_type": "execute_result"
    }
   ],
   "source": [
    "### 27\n",
    "sp.integrate(sp.log(x)/sp.sqrt(x)).simplify()"
   ]
  },
  {
   "cell_type": "code",
   "execution_count": 71,
   "metadata": {},
   "outputs": [
    {
     "data": {
      "text/latex": [
       "$\\displaystyle \\frac{\\left(9 x^{2} - 6 x + 2\\right) e^{3 x}}{27}$"
      ],
      "text/plain": [
       "(9*x**2 - 6*x + 2)*exp(3*x)/27"
      ]
     },
     "execution_count": 71,
     "metadata": {},
     "output_type": "execute_result"
    }
   ],
   "source": [
    "### 28\n",
    "sp.integrate(x**2*sp.exp(3*x)).simplify()"
   ]
  },
  {
   "cell_type": "code",
   "execution_count": 72,
   "metadata": {},
   "outputs": [
    {
     "data": {
      "text/latex": [
       "$\\displaystyle x \\sec{\\left(x \\right)} - \\log{\\left(\\tan{\\left(x \\right)} + \\sec{\\left(x \\right)} \\right)}$"
      ],
      "text/plain": [
       "x*sec(x) - log(tan(x) + sec(x))"
      ]
     },
     "execution_count": 72,
     "metadata": {},
     "output_type": "execute_result"
    }
   ],
   "source": [
    "### 29\n",
    "sp.integrate(x*sp.sec(x)*sp.tan(x)).simplify()"
   ]
  },
  {
   "cell_type": "code",
   "execution_count": 73,
   "metadata": {},
   "outputs": [
    {
     "data": {
      "text/latex": [
       "$\\displaystyle \\frac{\\sin^{3}{\\left(x \\right)}}{3}$"
      ],
      "text/plain": [
       "sin(x)**3/3"
      ]
     },
     "execution_count": 73,
     "metadata": {},
     "output_type": "execute_result"
    }
   ],
   "source": [
    "### 30\n",
    "sp.integrate(sp.sin(x)**2*sp.cos(x)).simplify()"
   ]
  },
  {
   "cell_type": "code",
   "execution_count": 74,
   "metadata": {},
   "outputs": [
    {
     "data": {
      "text/latex": [
       "$\\displaystyle \\frac{x}{2} - \\frac{\\sin{\\left(2 x \\right)}}{4}$"
      ],
      "text/plain": [
       "x/2 - sin(2*x)/4"
      ]
     },
     "execution_count": 74,
     "metadata": {},
     "output_type": "execute_result"
    }
   ],
   "source": [
    "### 31\n",
    "sp.integrate(sp.sin(x)**2).simplify()"
   ]
  },
  {
   "cell_type": "code",
   "execution_count": 75,
   "metadata": {},
   "outputs": [
    {
     "data": {
      "text/latex": [
       "$\\displaystyle \\frac{\\sin{\\left(x \\right)}}{3 \\cos^{3}{\\left(x \\right)}} + \\frac{2 \\tan{\\left(x \\right)}}{3}$"
      ],
      "text/plain": [
       "sin(x)/(3*cos(x)**3) + 2*tan(x)/3"
      ]
     },
     "execution_count": 75,
     "metadata": {},
     "output_type": "execute_result"
    }
   ],
   "source": [
    "### 32\n",
    "sp.integrate(sp.sec(x)**4).simplify()"
   ]
  },
  {
   "cell_type": "code",
   "execution_count": 76,
   "metadata": {},
   "outputs": [
    {
     "data": {
      "text/latex": [
       "$\\displaystyle \\frac{1}{4 \\cos^{4}{\\left(x \\right)}}$"
      ],
      "text/plain": [
       "1/(4*cos(x)**4)"
      ]
     },
     "execution_count": 76,
     "metadata": {},
     "output_type": "execute_result"
    }
   ],
   "source": [
    "### 33\n",
    "sp.integrate(sp.sec(x)**4*sp.tan(x)).simplify()"
   ]
  },
  {
   "cell_type": "code",
   "execution_count": 77,
   "metadata": {},
   "outputs": [
    {
     "data": {
      "text/latex": [
       "$\\displaystyle \\log{\\left(\\cos{\\left(x \\right)} \\right)} + \\frac{1}{2 \\cos^{2}{\\left(x \\right)}}$"
      ],
      "text/plain": [
       "log(cos(x)) + 1/(2*cos(x)**2)"
      ]
     },
     "execution_count": 77,
     "metadata": {},
     "output_type": "execute_result"
    }
   ],
   "source": [
    "### 34\n",
    "sp.integrate(sp.tan(x)**3).simplify()"
   ]
  },
  {
   "cell_type": "code",
   "execution_count": 79,
   "metadata": {},
   "outputs": [
    {
     "data": {
      "text/latex": [
       "$\\displaystyle - \\frac{\\log{\\left(\\sin{\\left(x \\right)} - 1 \\right)}}{4} + \\frac{\\log{\\left(\\sin{\\left(x \\right)} + 1 \\right)}}{4} + \\frac{\\sin{\\left(x \\right)}}{2 \\cos^{2}{\\left(x \\right)}}$"
      ],
      "text/plain": [
       "-log(sin(x) - 1)/4 + log(sin(x) + 1)/4 + sin(x)/(2*cos(x)**2)"
      ]
     },
     "execution_count": 79,
     "metadata": {},
     "output_type": "execute_result"
    }
   ],
   "source": [
    "### 35\n",
    "sp.integrate(sp.sec(x)**3).simplify()"
   ]
  },
  {
   "cell_type": "code",
   "execution_count": 80,
   "metadata": {},
   "outputs": [
    {
     "data": {
      "text/latex": [
       "$\\displaystyle \\frac{\\left(x - 3\\right) \\sqrt{x^{2} - 6 x + 9}}{2}$"
      ],
      "text/plain": [
       "(x - 3)*sqrt(x**2 - 6*x + 9)/2"
      ]
     },
     "execution_count": 80,
     "metadata": {},
     "output_type": "execute_result"
    }
   ],
   "source": [
    "### 36\n",
    "sp.integrate(sp.sqrt(x**2-6*x+9)).simplify()"
   ]
  },
  {
   "cell_type": "code",
   "execution_count": 81,
   "metadata": {},
   "outputs": [
    {
     "data": {
      "text/latex": [
       "$\\displaystyle \\frac{x \\sqrt{x^{2} + 9}}{2} + \\frac{9 \\operatorname{asinh}{\\left(\\frac{x}{3} \\right)}}{2}$"
      ],
      "text/plain": [
       "x*sqrt(x**2 + 9)/2 + 9*asinh(x/3)/2"
      ]
     },
     "execution_count": 81,
     "metadata": {},
     "output_type": "execute_result"
    }
   ],
   "source": [
    "### 37\n",
    "sp.integrate(sp.sqrt(x**2+9)).simplify()"
   ]
  },
  {
   "cell_type": "code",
   "execution_count": 82,
   "metadata": {},
   "outputs": [
    {
     "data": {
      "text/latex": [
       "$\\displaystyle \\begin{cases} \\frac{i \\operatorname{acosh}{\\left(\\frac{2}{x} \\right)}}{2} & \\text{for}\\: \\left(x > -2 \\vee x > 0\\right) \\wedge \\left(x > -2 \\vee x < 2\\right) \\wedge \\left(x > 0 \\vee x < 0\\right) \\wedge \\left(x < 0 \\vee x < 2\\right) \\\\- \\frac{\\operatorname{asin}{\\left(\\frac{2}{x} \\right)}}{2} & \\text{otherwise} \\end{cases}$"
      ],
      "text/plain": [
       "Piecewise((I*acosh(2/x)/2, ((x > -2) | (x > 0)) & ((x > -2) | (x < 2)) & ((x > 0) | (x < 0)) & ((x < 0) | (x < 2))), (-asin(2/x)/2, True))"
      ]
     },
     "execution_count": 82,
     "metadata": {},
     "output_type": "execute_result"
    }
   ],
   "source": [
    "### 38\n",
    "sp.integrate(1/(x*sp.sqrt(x**2-4))).simplify()"
   ]
  },
  {
   "cell_type": "code",
   "execution_count": 83,
   "metadata": {},
   "outputs": [
    {
     "data": {
      "text/latex": [
       "$\\displaystyle \\frac{x \\sqrt{1 - x^{2}}}{2} + \\frac{\\operatorname{asin}{\\left(x \\right)}}{2}$"
      ],
      "text/plain": [
       "x*sqrt(1 - x**2)/2 + asin(x)/2"
      ]
     },
     "execution_count": 83,
     "metadata": {},
     "output_type": "execute_result"
    }
   ],
   "source": [
    "### 39\n",
    "sp.integrate(sp.sqrt(1-x**2)).simplify()"
   ]
  },
  {
   "cell_type": "code",
   "execution_count": 84,
   "metadata": {},
   "outputs": [
    {
     "data": {
      "text/latex": [
       "$\\displaystyle \\frac{x}{25 \\sqrt{x^{2} + 25}}$"
      ],
      "text/plain": [
       "x/(25*sqrt(x**2 + 25))"
      ]
     },
     "execution_count": 84,
     "metadata": {},
     "output_type": "execute_result"
    }
   ],
   "source": [
    "### 40\n",
    "sp.integrate(((25+x**2)**sp.Rational(3,2))**-1).simplify()"
   ]
  },
  {
   "cell_type": "code",
   "execution_count": 85,
   "metadata": {},
   "outputs": [
    {
     "data": {
      "text/latex": [
       "$\\displaystyle - \\frac{1}{\\sqrt{x^{2} + 25}}$"
      ],
      "text/plain": [
       "-1/sqrt(x**2 + 25)"
      ]
     },
     "execution_count": 85,
     "metadata": {},
     "output_type": "execute_result"
    }
   ],
   "source": [
    "### 41\n",
    "sp.integrate(x*((25+x**2)**sp.Rational(3,2))**-1).simplify()"
   ]
  },
  {
   "cell_type": "code",
   "execution_count": 87,
   "metadata": {},
   "outputs": [
    {
     "data": {
      "text/latex": [
       "$\\displaystyle \\frac{i \\left(- \\log{\\left(- i a + x \\right)} + \\log{\\left(i a + x \\right)}\\right)}{2 a}$"
      ],
      "text/plain": [
       "I*(-log(-I*a + x) + log(I*a + x))/(2*a)"
      ]
     },
     "execution_count": 87,
     "metadata": {},
     "output_type": "execute_result"
    }
   ],
   "source": [
    "### 42\n",
    "sp.integrate(1/(x**2+a**2),x).simplify()"
   ]
  },
  {
   "cell_type": "code",
   "execution_count": 89,
   "metadata": {},
   "outputs": [
    {
     "data": {
      "text/latex": [
       "$\\displaystyle \\frac{x^{2}}{2} - \\frac{9 \\log{\\left(x^{2} + 9 \\right)}}{2}$"
      ],
      "text/plain": [
       "x**2/2 - 9*log(x**2 + 9)/2"
      ]
     },
     "execution_count": 89,
     "metadata": {},
     "output_type": "execute_result"
    }
   ],
   "source": [
    "### 43\n",
    "sp.integrate(x**3/(x**2+9)).simplify()"
   ]
  },
  {
   "cell_type": "code",
   "execution_count": 90,
   "metadata": {},
   "outputs": [
    {
     "data": {
      "text/latex": [
       "$\\displaystyle 5 \\log{\\left(x - 4 \\right)} + 3 \\log{\\left(x - 1 \\right)}$"
      ],
      "text/plain": [
       "5*log(x - 4) + 3*log(x - 1)"
      ]
     },
     "execution_count": 90,
     "metadata": {},
     "output_type": "execute_result"
    }
   ],
   "source": [
    "### 44\n",
    "sp.integrate((8*x-17)/(x**2-5*x+4)).simplify()"
   ]
  },
  {
   "cell_type": "code",
   "execution_count": 91,
   "metadata": {},
   "outputs": [
    {
     "data": {
      "text/latex": [
       "$\\displaystyle 5 \\log{\\left(x + 3 \\right)} - \\frac{\\log{\\left(x^{2} + 4 \\right)}}{2} - 3 \\operatorname{atan}{\\left(\\frac{x}{2} \\right)}$"
      ],
      "text/plain": [
       "5*log(x + 3) - log(x**2 + 4)/2 - 3*atan(x/2)"
      ]
     },
     "execution_count": 91,
     "metadata": {},
     "output_type": "execute_result"
    }
   ],
   "source": [
    "### 45\n",
    "sp.integrate((4*x**2-9*x+2)/((x+3)*(x**2+4))).simplify()"
   ]
  },
  {
   "cell_type": "code",
   "execution_count": 92,
   "metadata": {},
   "outputs": [
    {
     "data": {
      "text/latex": [
       "$\\displaystyle \\frac{\\operatorname{atan}{\\left(\\frac{x}{2} + \\frac{3}{2} \\right)}}{2}$"
      ],
      "text/plain": [
       "atan(x/2 + 3/2)/2"
      ]
     },
     "execution_count": 92,
     "metadata": {},
     "output_type": "execute_result"
    }
   ],
   "source": [
    "### 46\n",
    "sp.integrate(1/(x**2+6*x+13)).simplify()"
   ]
  },
  {
   "cell_type": "code",
   "execution_count": 93,
   "metadata": {},
   "outputs": [
    {
     "data": {
      "text/latex": [
       "$\\displaystyle \\frac{7 x \\left(\\log{\\left(x \\right)} - \\log{\\left(x + 1 \\right)}\\right) + 5}{x}$"
      ],
      "text/plain": [
       "(7*x*(log(x) - log(x + 1)) + 5)/x"
      ]
     },
     "execution_count": 93,
     "metadata": {},
     "output_type": "execute_result"
    }
   ],
   "source": [
    "### 47\n",
    "sp.integrate((2*x-5)/(x**3+x**2)).simplify()"
   ]
  },
  {
   "cell_type": "code",
   "execution_count": 94,
   "metadata": {},
   "outputs": [
    {
     "data": {
      "text/latex": [
       "$\\displaystyle 2 x - 7 \\operatorname{atan}{\\left(\\frac{x}{3} + \\frac{2}{3} \\right)}$"
      ],
      "text/plain": [
       "2*x - 7*atan(x/3 + 2/3)"
      ]
     },
     "execution_count": 94,
     "metadata": {},
     "output_type": "execute_result"
    }
   ],
   "source": [
    "### 48\n",
    "sp.integrate((2*x**2+8*x+5)/(x**2+4*x+13)).simplify()"
   ]
  },
  {
   "cell_type": "code",
   "execution_count": 95,
   "metadata": {},
   "outputs": [
    {
     "data": {
      "text/latex": [
       "$\\displaystyle \\frac{\\left(x + 3\\right) \\left(5 \\log{\\left(x \\right)} + \\log{\\left(x + 3 \\right)}\\right) + 2}{x + 3}$"
      ],
      "text/plain": [
       "((x + 3)*(5*log(x) + log(x + 3)) + 2)/(x + 3)"
      ]
     },
     "execution_count": 95,
     "metadata": {},
     "output_type": "execute_result"
    }
   ],
   "source": [
    "### 49\n",
    "sp.integrate((6*x**2+31*x+45)/(x**3+6*x**2+9*x)).simplify()"
   ]
  },
  {
   "cell_type": "code",
   "execution_count": 98,
   "metadata": {},
   "outputs": [
    {
     "data": {
      "text/latex": [
       "$\\displaystyle \\frac{\\log{\\left(- a + x \\right)} - \\log{\\left(a + x \\right)}}{2 a}$"
      ],
      "text/plain": [
       "(log(-a + x) - log(a + x))/(2*a)"
      ]
     },
     "execution_count": 98,
     "metadata": {},
     "output_type": "execute_result"
    }
   ],
   "source": [
    "### 50\n",
    "sp.integrate(1/(x**2-a**2), x).simplify()"
   ]
  }
 ],
 "metadata": {
  "kernelspec": {
   "display_name": "DataAnalysisenv",
   "language": "python",
   "name": "python3"
  },
  "language_info": {
   "codemirror_mode": {
    "name": "ipython",
    "version": 3
   },
   "file_extension": ".py",
   "mimetype": "text/x-python",
   "name": "python",
   "nbconvert_exporter": "python",
   "pygments_lexer": "ipython3",
   "version": "3.11.2"
  },
  "orig_nbformat": 4
 },
 "nbformat": 4,
 "nbformat_minor": 2
}
