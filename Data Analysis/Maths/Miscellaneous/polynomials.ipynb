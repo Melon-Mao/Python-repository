{
 "cells": [
  {
   "attachments": {},
   "cell_type": "markdown",
   "metadata": {},
   "source": [
    "# Import Modules"
   ]
  },
  {
   "cell_type": "code",
   "execution_count": 99,
   "metadata": {},
   "outputs": [
    {
     "name": "stdout",
     "output_type": "stream",
     "text": [
      "\n"
     ]
    }
   ],
   "source": [
    "import numpy as np\n",
    "import sympy as sp\n",
    "from sympy.plotting.plot import MatplotlibBackend\n",
    "import spb\n",
    "import matplotlib.pyplot as plt\n",
    "from typing import Any\n",
    "\n",
    "sp.init_session(quiet=True)\n",
    "\n",
    "x = sp.symbols(\"x\") # We are using this so much might as well put it in the import section\n",
    "y = sp.symbols(\"y\")"
   ]
  },
  {
   "attachments": {},
   "cell_type": "markdown",
   "metadata": {},
   "source": [
    "# Polynomials"
   ]
  },
  {
   "attachments": {},
   "cell_type": "markdown",
   "metadata": {},
   "source": [
    "From the [Wikipedia article on polynomials](https://en.wikipedia.org/wiki/Polynomial):\n",
    "\n",
    "In mathematics, a polynomial is an expression consisting of indeterminates (also called variables) and coefficients, that involves only the operations of addition, subtraction, multiplication, and positive-integer powers of variables. An example of a polynomial of a single indeterminate $x$ is $x^2 − 4x + 7$. An example with three indeterminates is $x^3 + 2xyz^2 − yz + 1$."
   ]
  },
  {
   "attachments": {},
   "cell_type": "markdown",
   "metadata": {},
   "source": [
    "## Polynomial Class"
   ]
  },
  {
   "cell_type": "code",
   "execution_count": 135,
   "metadata": {},
   "outputs": [],
   "source": [
    "class Polynomial:\n",
    "    def __init__(self, coefficients: list[float]) -> None:\n",
    "        self.coefficients = coefficients\n",
    "        self.degree = len(coefficients) - 1\n",
    "        self.polynomial = sp.Poly(self.coefficients, x)\n",
    "        self.prime = self.polynomial.diff()\n",
    "        \n",
    "    def __repr__(self) -> str:\n",
    "        return str(self.polynomial)\n",
    "    \n",
    "    def __str__(self) -> str:\n",
    "        return sp.latex(self.polynomial)\n",
    "    \n",
    "    def nth_derivative(self, n: int) -> sp.Derivative | sp.Poly:\n",
    "        return sp.diff(self.polynomial, *([x] * n))"
   ]
  },
  {
   "cell_type": "code",
   "execution_count": 160,
   "metadata": {},
   "outputs": [
    {
     "data": {
      "image/png": "[encoded data removed]",
      "text/latex": [
       "$\\displaystyle \\left[ \\left( 1, \\  4 x^{3} + 6 x^{2} + 6 x + 4\\right), \\  \\left( 2, \\  12 x^{2} + 12 x + 6\\right), \\  \\left( 3, \\  24 x + 12\\right), \\  \\left( 4, \\  24\\right), \\  \\left( 5, \\  0\\right)\\right]$"
      ],
      "text/plain": [
       "⎡⎛      3      2          ⎞  ⎛       2           ⎞                            \n",
       "⎣⎝1, 4⋅x  + 6⋅x  + 6⋅x + 4⎠, ⎝2, 12⋅x  + 12⋅x + 6⎠, (3, 24⋅x + 12), (4, 24), (\n",
       "\n",
       "     ⎤\n",
       "5, 0)⎦"
      ]
     },
     "execution_count": 160,
     "metadata": {},
     "output_type": "execute_result"
    }
   ],
   "source": [
    "f = Polynomial([1, 2, 3, 4, 5])\n",
    "\n",
    "\n",
    "[(i, f.nth_derivative(i).as_expr()) for i in range(1, 6)]"
   ]
  }
 ],
 "metadata": {
  "kernelspec": {
   "display_name": "DataAnalysisenv",
   "language": "python",
   "name": "python3"
  },
  "language_info": {
   "codemirror_mode": {
    "name": "ipython",
    "version": 3
   },
   "file_extension": ".py",
   "mimetype": "text/x-python",
   "name": "python",
   "nbconvert_exporter": "python",
   "pygments_lexer": "ipython3",
   "version": "3.11.2"
  },
  "orig_nbformat": 4
 },
 "nbformat": 4,
 "nbformat_minor": 2
}
