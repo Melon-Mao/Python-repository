{
 "cells": [
  {
   "attachments": {},
   "cell_type": "markdown",
   "metadata": {},
   "source": [
    "# Import Modules"
   ]
  },
  {
   "cell_type": "code",
   "execution_count": 3,
   "metadata": {},
   "outputs": [],
   "source": [
    "import numpy as np\n",
    "import sympy as sp\n",
    "from sympy.plotting.plot import MatplotlibBackend\n",
    "import spb\n",
    "import matplotlib.pyplot as plt\n",
    "from typing import Any\n",
    "\n",
    "x = sp.symbols(\"x\") # We are using this so much might as well put it in the import section\n",
    "y = sp.symbols(\"y\")"
   ]
  },
  {
   "attachments": {},
   "cell_type": "markdown",
   "metadata": {},
   "source": [
    "# 1. $f(x) = 1$"
   ]
  },
  {
   "attachments": {},
   "cell_type": "markdown",
   "metadata": {},
   "source": [
    "This is a constant function, the simplest possible function. It is a straight, flat line. It has a gradient of 0 and crosses the y-axis at y=1. No matter what the value of x, the value of y is always 1. We can code this function in Python as follows:"
   ]
  },
  {
   "cell_type": "code",
   "execution_count": 4,
   "metadata": {},
   "outputs": [
    {
     "data": {
      "text/latex": [
       "$\\displaystyle f_{1}{\\left(x \\right)} = 1$"
      ],
      "text/plain": [
       "Eq(f1(x), 1)"
      ]
     },
     "execution_count": 4,
     "metadata": {},
     "output_type": "execute_result"
    }
   ],
   "source": [
    "f1: sp.Eq | Any = sp.Function(\"f1\")(x) # <~~ This is a function\n",
    "\n",
    "f1 = sp.Eq(f1, 1) # <~~ Here we set the function to be equal to 1\n",
    "\n",
    "f1 # <~~ Can you see that it looks neat when outputted? This is because LaTeX is used to display the function"
   ]
  },
  {
   "attachments": {},
   "cell_type": "markdown",
   "metadata": {},
   "source": [
    "### Substitute x with different values\n"
   ]
  },
  {
   "cell_type": "code",
   "execution_count": 5,
   "metadata": {},
   "outputs": [
    {
     "data": {
      "text/latex": [
       "$\\displaystyle f_{1}{\\left(3.0 + 2.0 i \\right)} = 1$"
      ],
      "text/plain": [
       "Eq(f1(3.0 + 2.0*I), 1)"
      ]
     },
     "execution_count": 5,
     "metadata": {},
     "output_type": "execute_result"
    }
   ],
   "source": [
    "f1.subs(x, 1) # f(1) = 1\n",
    "f1.subs(x, 2) # f(-2) = 1\n",
    "f1.subs(x, 5040) # f(5040) = 1\n",
    "f1.subs(x, -13) # f(-13) = 1 \n",
    "f1.subs(x, 3+2j) # f(3.0 + 2.0i) = 1\n",
    "\n",
    "# You can see that no matter what value we substitute for x, the function is always equal to 1"
   ]
  },
  {
   "attachments": {},
   "cell_type": "markdown",
   "metadata": {},
   "source": [
    "### Plot the function"
   ]
  },
  {
   "attachments": {},
   "cell_type": "markdown",
   "metadata": {},
   "source": [
    "* sp.plot is a function used to plot things in sympy like functions\n",
    "* f1 is the function we want to plot, we use .rhs to get the right hand side of the equation (not the function name)\n",
    "* title is dispalyed at the top of the plot. We use the latex function (and $) to display the function in latex\n",
    "* xlim and ylim are the limits of the x and y axis\n",
    "* axis_center is the point where the x and y axis cross, (0, 0) is the origin"
   ]
  },
  {
   "cell_type": "code",
   "execution_count": 6,
   "metadata": {},
   "outputs": [
    {
     "data": {
      "image/png": "[encoded data removed]",
      "text/plain": [
       "<Figure size 640x480 with 1 Axes>"
      ]
     },
     "metadata": {},
     "output_type": "display_data"
    }
   ],
   "source": [
    "plot1 = sp.plot(f1.rhs, title=f\"${sp.latex(f1)}$\", xlim=(-10, 10), ylim=(0, 10), axis_center=(0, 0))"
   ]
  },
  {
   "attachments": {},
   "cell_type": "markdown",
   "metadata": {},
   "source": [
    "# 2. $f(x) = x$"
   ]
  },
  {
   "attachments": {},
   "cell_type": "markdown",
   "metadata": {},
   "source": [
    "The last function was a constant function as it only had one value of y for any value of x. This function is a linear function since it has a linear relationship between x and y. This means that it can be represented by a straight line. The gradient of this line is 1 and it crosses the y-axis at 0. We can code this function in Python as follows:"
   ]
  },
  {
   "cell_type": "code",
   "execution_count": 7,
   "metadata": {},
   "outputs": [
    {
     "data": {
      "text/latex": [
       "$\\displaystyle f_{2}{\\left(x \\right)} = x$"
      ],
      "text/plain": [
       "Eq(f2(x), x)"
      ]
     },
     "execution_count": 7,
     "metadata": {},
     "output_type": "execute_result"
    }
   ],
   "source": [
    "f2: sp.Eq | Any = sp.Function(\"f2\")(x) # <~~ This is the function we will use\n",
    "\n",
    "f2 = sp.Eq(f2, x) # <~~ Here we set the function to be equal to x\n",
    "\n",
    "f2 # <~~ The little number next to f is a subscript"
   ]
  },
  {
   "attachments": {},
   "cell_type": "markdown",
   "metadata": {},
   "source": [
    "### Substitue x with different values:"
   ]
  },
  {
   "cell_type": "code",
   "execution_count": 8,
   "metadata": {},
   "outputs": [
    {
     "data": {
      "text/latex": [
       "$\\displaystyle f_{2}{\\left(3.0 + 2.0 i \\right)} = 3.0 + 2.0 i$"
      ],
      "text/plain": [
       "Eq(f2(3.0 + 2.0*I), 3.0 + 2.0*I)"
      ]
     },
     "execution_count": 8,
     "metadata": {},
     "output_type": "execute_result"
    }
   ],
   "source": [
    "f2.subs(x, 1) # f(1) = 1\n",
    "f2.subs(x, 2) # f(-2) = -2\n",
    "f2.subs(x, 5040) # f(5040) = 5040\n",
    "f2.subs(x, -13) # f(-13) = -13\n",
    "f2.subs(x, 3+2j) # f(3.0 + 2.0i) = 3.0 + 2.0i\n",
    "\n",
    "# You can see that whatever value we substitute for x, the function returns the same value"
   ]
  },
  {
   "attachments": {},
   "cell_type": "markdown",
   "metadata": {},
   "source": [
    "### Plot the function:"
   ]
  },
  {
   "cell_type": "code",
   "execution_count": 9,
   "metadata": {},
   "outputs": [
    {
     "data": {
      "image/png": "[encoded data removed]",
      "text/plain": [
       "<Figure size 640x480 with 1 Axes>"
      ]
     },
     "metadata": {},
     "output_type": "display_data"
    }
   ],
   "source": [
    "plot2 = sp.plot(f2.rhs, title=f\"${sp.latex(f2)}$\", xlim=(-10, 10), ylim=(-10, 10), axis_center=(0, 0))"
   ]
  },
  {
   "attachments": {},
   "cell_type": "markdown",
   "metadata": {},
   "source": [
    "# 3. $f(x) = 4x + 2$"
   ]
  },
  {
   "attachments": {},
   "cell_type": "markdown",
   "metadata": {},
   "source": [
    "This function is still linear, but looks more complicated. Luckily, we can break it down into parts. First of all, any linear function can be written as: \n",
    "\n",
    "### $y = mx + c$\n",
    "\n",
    "where $m$ is the gradient and $c$ is the y-intercept, where the line crosses the y-axis. In this case, $m = 4$ and $c = 2$. We can code this function in Python as follows:"
   ]
  },
  {
   "cell_type": "code",
   "execution_count": 10,
   "metadata": {},
   "outputs": [
    {
     "data": {
      "text/latex": [
       "$\\displaystyle f_{3}{\\left(x \\right)} = 4 x + 2$"
      ],
      "text/plain": [
       "Eq(f3(x), 4*x + 2)"
      ]
     },
     "execution_count": 10,
     "metadata": {},
     "output_type": "execute_result"
    }
   ],
   "source": [
    "f3: sp.Eq | Any = sp.Function(\"f3\")(x) # <~~ This is the function\n",
    "\n",
    "f3 = sp.Eq(f3, 4*x + 2) # <~~ Here we set the function to be equal to 4x + 2\n",
    "\n",
    "f3 # <~~ 4 is a coefficient meaning it is a constant multiplied by a variable. Notice the multiplication sign is not there"
   ]
  },
  {
   "attachments": {},
   "cell_type": "markdown",
   "metadata": {},
   "source": [
    "### Substitute x with different values:"
   ]
  },
  {
   "cell_type": "code",
   "execution_count": 11,
   "metadata": {},
   "outputs": [
    {
     "data": {
      "text/latex": [
       "$\\displaystyle f_{3}{\\left(3.0 + 2.0 i \\right)} = 14.0 + 8.0 i$"
      ],
      "text/plain": [
       "Eq(f3(3.0 + 2.0*I), 14.0 + 8.0*I)"
      ]
     },
     "execution_count": 11,
     "metadata": {},
     "output_type": "execute_result"
    }
   ],
   "source": [
    "f3.subs(x, 1) # f(1) = 4*1 + 2 = 6\n",
    "f3.subs(x, 2) # f(-2) = 4*-2 + 2 = -6\n",
    "f3.subs(x, 5040) # f(5040) = 4*5040 + 2 = 20162\n",
    "f3.subs(x, -13) # f(-13) = 4*-13 + 2 = -50\n",
    "f3.subs(x, 3+2j) # f(3.0 + 2.0i) = 4*(3.0 + 2.0i) + 2 = 14.0 + 8.0i"
   ]
  },
  {
   "attachments": {},
   "cell_type": "markdown",
   "metadata": {},
   "source": [
    "### Plot the function:"
   ]
  },
  {
   "attachments": {},
   "cell_type": "markdown",
   "metadata": {},
   "source": [
    "The previous function, $f(x) = x$, had a gradient of 1 (1 times anything is iteself so there's no point in showing it) while this has a gradient of 4. We can see that this line is 4 times steeper than the previous one."
   ]
  },
  {
   "cell_type": "code",
   "execution_count": 12,
   "metadata": {},
   "outputs": [
    {
     "data": {
      "image/png": "[encoded data removed]",
      "text/plain": [
       "<Figure size 640x480 with 1 Axes>"
      ]
     },
     "metadata": {},
     "output_type": "display_data"
    }
   ],
   "source": [
    "plot3 = sp.plot(f3.rhs, title=f\"${sp.latex(f3)}$\", xlim=(-10, 10), ylim=(-10, 10), axis_center=(0, 0))"
   ]
  },
  {
   "attachments": {},
   "cell_type": "markdown",
   "metadata": {},
   "source": [
    "# 4. $f(x) = \\frac{1}{2}x-4$"
   ]
  },
  {
   "attachments": {},
   "cell_type": "markdown",
   "metadata": {},
   "source": [
    "This is still a linear function, but the gradient is now $\\frac{1}{2}$. Before we saw that a function with 4 as the gradient was 4 times steeper than a function with a gradient of 1. You could guess that this function is half as steep as one with a gradient of 1. Since the y-intercept is -4, this function crosses the y-axis at -4. We can code this function in Python as follows:"
   ]
  },
  {
   "cell_type": "code",
   "execution_count": 13,
   "metadata": {},
   "outputs": [
    {
     "data": {
      "text/latex": [
       "$\\displaystyle f_{4}{\\left(x \\right)} = \\frac{x}{2} - 2$"
      ],
      "text/plain": [
       "Eq(f4(x), x/2 - 2)"
      ]
     },
     "execution_count": 13,
     "metadata": {},
     "output_type": "execute_result"
    }
   ],
   "source": [
    "f4: sp.Eq | Any = sp.Function(\"f4\")(x) # <~~ This is the function\n",
    "\n",
    "f4 = sp.Eq(f4, sp.Rational(1, 2)*x - 2) # <~~ Here we set the function to be equal to 1/2x + 2\n",
    "\n",
    "# We use sp.Rational(1, 2) instead of 1/2 because that would give us a float, 0.5, which is not what we want\n",
    "\n",
    "f4"
   ]
  },
  {
   "attachments": {},
   "cell_type": "markdown",
   "metadata": {},
   "source": [
    "### Substitute x with different values:"
   ]
  },
  {
   "cell_type": "code",
   "execution_count": 14,
   "metadata": {},
   "outputs": [
    {
     "data": {
      "text/latex": [
       "$\\displaystyle f_{4}{\\left(3.0 + 2.0 i \\right)} = -0.5 + i$"
      ],
      "text/plain": [
       "Eq(f4(3.0 + 2.0*I), -0.5 + I)"
      ]
     },
     "execution_count": 14,
     "metadata": {},
     "output_type": "execute_result"
    }
   ],
   "source": [
    "f4.subs(x, 1) # f(1) = 1/2*1 - 2 = -1.5\n",
    "f4.subs(x, 2) # f(-2) = 1/2*-2 - 2 = -3.5\n",
    "f4.subs(x, 5040) # f(5040) = 1/2*5040 - 2 = 2518.5\n",
    "f4.subs(x, -13) # f(-13) = 1/2*-13 - 2 = -9.5\n",
    "f4.subs(x, 3+2j) # f(3.0 + 2.0i) = 1/2*(3.0 + 2.0i) - 2 = -0.5 + i"
   ]
  },
  {
   "attachments": {},
   "cell_type": "markdown",
   "metadata": {},
   "source": [
    "### Plot the function:"
   ]
  },
  {
   "cell_type": "code",
   "execution_count": 15,
   "metadata": {},
   "outputs": [
    {
     "data": {
      "image/png": "[encoded data removed]",
      "text/plain": [
       "<Figure size 640x480 with 1 Axes>"
      ]
     },
     "metadata": {},
     "output_type": "display_data"
    }
   ],
   "source": [
    "plot4 = sp.plot(f4.rhs, title=f\"${sp.latex(f4)}$\", xlim=(-10, 10), ylim=(-10, 10), axis_center=(0, 0))"
   ]
  },
  {
   "attachments": {},
   "cell_type": "markdown",
   "metadata": {},
   "source": [
    "# 5. $f(x) = -x$"
   ]
  },
  {
   "attachments": {},
   "cell_type": "markdown",
   "metadata": {},
   "source": [
    "This function is a reflection of the function $f(x) = x$. It has the same y-intercept, but the gradient is negative. The line will be just as steep but it will be reflected across the y-axis. We can code this function in Python as follows:"
   ]
  },
  {
   "cell_type": "code",
   "execution_count": 16,
   "metadata": {},
   "outputs": [
    {
     "data": {
      "text/latex": [
       "$\\displaystyle f_{5}{\\left(x \\right)} = - x$"
      ],
      "text/plain": [
       "Eq(f5(x), -x)"
      ]
     },
     "execution_count": 16,
     "metadata": {},
     "output_type": "execute_result"
    }
   ],
   "source": [
    "f5: sp.Eq | Any = sp.Function(\"f5\")(x) # <~~ This is the function\n",
    "\n",
    "f5 = sp.Eq(f5, -x) # <~~ Here we set the function to be equal to -x\n",
    "\n",
    "f5"
   ]
  },
  {
   "attachments": {},
   "cell_type": "markdown",
   "metadata": {},
   "source": [
    "### Substitute x with different values:"
   ]
  },
  {
   "cell_type": "code",
   "execution_count": 17,
   "metadata": {},
   "outputs": [
    {
     "data": {
      "text/latex": [
       "$\\displaystyle f_{5}{\\left(3.0 + 2.0 i \\right)} = -3.0 - 2.0 i$"
      ],
      "text/plain": [
       "Eq(f5(3.0 + 2.0*I), -3.0 - 2.0*I)"
      ]
     },
     "execution_count": 17,
     "metadata": {},
     "output_type": "execute_result"
    }
   ],
   "source": [
    "f5.subs(x, 1) # f(1) = -1\n",
    "f5.subs(x, 2) # f(-2) = 2\n",
    "f5.subs(x, 5040) # f(5040) = -5040\n",
    "f5.subs(x, -13) # f(-13) = 13\n",
    "f5.subs(x, 3+2j) # f(3.0 + 2.0i) = -3.0 - 2.0i\n",
    "\n",
    "# You can see that whatever value we substitute for x, the function returns the negative of that value"
   ]
  },
  {
   "attachments": {},
   "cell_type": "markdown",
   "metadata": {},
   "source": [
    "### Plot the function:"
   ]
  },
  {
   "cell_type": "code",
   "execution_count": 18,
   "metadata": {},
   "outputs": [
    {
     "data": {
      "image/png": "[encoded data removed]",
      "text/plain": [
       "<Figure size 640x480 with 1 Axes>"
      ]
     },
     "metadata": {},
     "output_type": "display_data"
    }
   ],
   "source": [
    "plot5 = sp.plot(f5.rhs, title=f\"${sp.latex(f5)}$\", xlim=(-10, 10), ylim=(-10, 10), axis_center=(0, 0))"
   ]
  },
  {
   "attachments": {},
   "cell_type": "markdown",
   "metadata": {},
   "source": [
    "# 6. $f(x) = x^2$"
   ]
  },
  {
   "attachments": {},
   "cell_type": "markdown",
   "metadata": {},
   "source": [
    "This is our first function that is not linear. It is a quadratic function, which means that it can be represented in the form:\n",
    "\n",
    "### $y = ax^2 + bx + c$\n",
    "\n",
    "where $a$, $b$ and $c$ are constants. In this case, $a = 1$, $b = 0$ and $c = 0$. Quadratics can be represented as a parabola on a graph. A parobola is a curve that looks like a U. We can code this function in Python as follows:"
   ]
  },
  {
   "cell_type": "code",
   "execution_count": 19,
   "metadata": {},
   "outputs": [
    {
     "data": {
      "text/latex": [
       "$\\displaystyle f_{6}{\\left(x \\right)} = x^{2}$"
      ],
      "text/plain": [
       "Eq(f6(x), x**2)"
      ]
     },
     "execution_count": 19,
     "metadata": {},
     "output_type": "execute_result"
    }
   ],
   "source": [
    "f6: sp.Eq | Any = sp.Function(\"f6\")(x) # <~~ This is the function\n",
    "\n",
    "f6 = sp.Eq(f6, x**2) # <~~ Here we set the function to be equal to x^2\n",
    "\n",
    "f6"
   ]
  },
  {
   "attachments": {},
   "cell_type": "markdown",
   "metadata": {},
   "source": [
    "### Substitute x with different values:"
   ]
  },
  {
   "cell_type": "code",
   "execution_count": 20,
   "metadata": {},
   "outputs": [
    {
     "data": {
      "text/latex": [
       "$\\displaystyle f_{6}{\\left(3.0 + 2.0 i \\right)} = \\left(3.0 + 2.0 i\\right)^{2}$"
      ],
      "text/plain": [
       "Eq(f6(3.0 + 2.0*I), (3.0 + 2.0*I)**2)"
      ]
     },
     "execution_count": 20,
     "metadata": {},
     "output_type": "execute_result"
    }
   ],
   "source": [
    "f6.subs(x, 1) # f(1) = 1^2 = 1\n",
    "f6.subs(x, 2) # f(-2) = (-2)^2 = 4\n",
    "f6.subs(x, 5040) # f(5040) = 5040^2 = 25401600\n",
    "f6.subs(x, -13) # f(-13) = (-13)^2 = 169\n",
    "f6.subs(x, 3+2j) # f(3.0 + 2.0i) = (3.0 + 2.0i)^2 = 5.0 + 12.0i\n",
    "\n",
    "# You can see that whatever value we substitute for x, the function returns the square of that value"
   ]
  },
  {
   "attachments": {},
   "cell_type": "markdown",
   "metadata": {},
   "source": [
    "### Find the roots:"
   ]
  },
  {
   "attachments": {},
   "cell_type": "markdown",
   "metadata": {},
   "source": [
    "The roots of a function is when the function crosses the x-axis. We can find the roots of a function by setting it equal to = 0 and solving for x. We can solve by using the quadratic formula:\n",
    "\n",
    "### $x = \\frac{-b \\pm \\sqrt{b^2 - 4ac}}{2a}$"
   ]
  },
  {
   "attachments": {},
   "cell_type": "markdown",
   "metadata": {},
   "source": [
    "Sympy has a function that can solve these equations, which may be way easier for us than doing it manually. We just pass the equation and the variable we want to solve for. We can can solve with sympy like this:"
   ]
  },
  {
   "cell_type": "code",
   "execution_count": 21,
   "metadata": {},
   "outputs": [
    {
     "data": {
      "text/plain": [
       "[0]"
      ]
     },
     "execution_count": 21,
     "metadata": {},
     "output_type": "execute_result"
    }
   ],
   "source": [
    "sp.solve(f6.rhs, x) # <~~ Sympy can solve the equation for us - We will get a list of solutions"
   ]
  },
  {
   "attachments": {},
   "cell_type": "markdown",
   "metadata": {},
   "source": [
    "### Find the gradient:"
   ]
  },
  {
   "attachments": {},
   "cell_type": "markdown",
   "metadata": {},
   "source": [
    "Unlike the previous linear functions, quadratics are graphed as a curve and thus do not have one gradient. Instead, they have a gradient at each point. This can be found by finding the gradient of a line tangent to the point you want to find the gradient of. This may take some time and can be innacurate due to human error. Instead, we can find the derivative of the function and then substitute the value of x we want to find the gradient of. We can find the derivative of a function like this with the defintion of the derivative:\n",
    "\n",
    "### $f'(x) = \\lim\\limits_{h \\to 0} \\frac{f(x+h) - f(x)}{h}$\n",
    "\n",
    "Where $f'(x)$ is the derivative of $f(x)$ and $h$ is a number that approaches 0. We will use this to find the derivative of $x^2$:\n",
    "\n",
    "### $\\frac{d}{dx}[x^2] = \\lim\\limits_{h \\to 0} \\frac{(x+h)^2 - x^2}{h}$\n",
    "### $= \\lim\\limits_{h \\to 0} \\frac{x^2 + 2xh + h^2 - x^2}{h}$\n",
    "### $= \\lim\\limits_{h \\to 0} \\frac{2xh + h^2}{h}$\n",
    "### $= \\lim\\limits_{h \\to 0} 2x + h$\n",
    "### $= 2x$\n",
    "\n",
    "That method can be cumbersome and gets very messy when you have more complicated functions. We have some rules that can help us find derivatives. In this case, we want to use the power rule:\n",
    "\n",
    "### $\\frac{d}{dx}[x^n] = nx^{n-1}$\n",
    "\n",
    "Where $x$ is a variable and $n$ is a constant. We can use this to find the derivative of $x^2$:\n",
    "\n",
    "### $\\frac{d}{dx}[x^2] = 2x^{2-1} = 2x$\n",
    "\n",
    "This is super fast and easy to do. We can also use sympy to find the derivative of a function, like this:"
   ]
  },
  {
   "cell_type": "code",
   "execution_count": 22,
   "metadata": {},
   "outputs": [
    {
     "data": {
      "text/latex": [
       "$\\displaystyle 2 x$"
      ],
      "text/plain": [
       "2*x"
      ]
     },
     "execution_count": 22,
     "metadata": {},
     "output_type": "execute_result"
    }
   ],
   "source": [
    "f6_prime = sp.diff(f6.rhs, x) # <~~ Sympy can find the derivative of the function for us\n",
    "\n",
    "f6_prime"
   ]
  },
  {
   "attachments": {},
   "cell_type": "markdown",
   "metadata": {},
   "source": [
    "### Find the Minima and Maxima:"
   ]
  },
  {
   "attachments": {},
   "cell_type": "markdown",
   "metadata": {},
   "source": [
    "The minimum and maximum values are the highest and lowest points on a function when graphed. We can find these by taking the derivative of a function and setting it equal to 0:\n",
    "\n",
    "### $\\frac{d}{dx}[x^2] = 2x$\n",
    "\n",
    "### $2x = 0$\n",
    "\n",
    "### $x = 0$\n",
    "\n",
    "We then substitute this value into the original function to find the minima and maxima:\n",
    "### $f(0) = 0^2 = 0$\n",
    "\n",
    "The minimum is (0,0) and there is no maximum as the function goes up the y-axis forever. Another way to find the minima and maxima is to use the formula:\n",
    "\n",
    "### $x = \\frac{-b}{2a}$\n",
    "\n",
    "Where $a$, and $b$ are constants. We can use this to find the minima and maxima of $x^2$:\n",
    "\n",
    "### $x = \\frac{-0}{2(1)} = 0$\n",
    "\n",
    "This gives us the x value. We then substitute this value into the original function to find the minima and maxima:\n",
    "\n",
    "### $f(0) = 0^2 = 0$\n",
    "\n",
    "We get the same answer as before. We can also use sympy to find the minima and maxima of a function. We will have to create our own function to do so. We can do this like this:"
   ]
  },
  {
   "cell_type": "code",
   "execution_count": 23,
   "metadata": {},
   "outputs": [],
   "source": [
    "def find_minima_and_maxima(func):\n",
    "    func_prime = sp.diff(func.rhs, x)\n",
    "    func_prime = sp.Eq(func_prime, 0)\n",
    "    critical_points = sp.solve(func_prime, x)\n",
    "    \n",
    "    func_prime_2 = sp.diff(func.rhs, x, 2)\n",
    "    minima = {}\n",
    "    maxima = {}\n",
    "    for point in critical_points:\n",
    "        if func_prime_2.subs(x, point) > 0:\n",
    "            minima[point] = func.rhs.subs(x, point)\n",
    "        else:\n",
    "            maxima[point] = func.rhs.subs(x, point)\n",
    "    \n",
    "    return minima, maxima"
   ]
  },
  {
   "cell_type": "code",
   "execution_count": 24,
   "metadata": {},
   "outputs": [
    {
     "name": "stdout",
     "output_type": "stream",
     "text": [
      "Minima: {0: 0}, Maxima: {}\n"
     ]
    }
   ],
   "source": [
    "minima, maxima = find_minima_and_maxima(f6)\n",
    "\n",
    "print(f\"Minima: {minima}, Maxima: {maxima}\")"
   ]
  },
  {
   "attachments": {},
   "cell_type": "markdown",
   "metadata": {},
   "source": [
    "### Plot the function:"
   ]
  },
  {
   "cell_type": "code",
   "execution_count": 173,
   "metadata": {},
   "outputs": [
    {
     "data": {
      "image/png": "[encoded data removed]",
      "text/plain": [
       "<Figure size 640x480 with 1 Axes>"
      ]
     },
     "metadata": {},
     "output_type": "display_data"
    }
   ],
   "source": [
    "plot6 = sp.plot(f6.rhs, title=f\"${sp.latex(f6)}$\", xlim=(-10, 10), ylim=(-10, 20), axis_center=(0, 0), show=False)\n",
    "\n",
    "# Draw tangent at x=2\n",
    "\n",
    "x6_0 = 2\n",
    "y6_0 = f6.subs(x, x6_0).rhs\n",
    "x6_1 = x6_0 + 0.75\n",
    "y6_1 = f6.subs(x, x6_1).rhs\n",
    "\n",
    "m6 = (y6_1 - y6_0) / (x6_1 - x6_0)\n",
    "c6 = y6_0 - m6 * x6_0\n",
    "\n",
    "f6_tangent = sp.Eq(y, m6 * x + c6)\n",
    "\n",
    "plot6.extend(sp.plot(f6_tangent.rhs, xlim=(x6_0 - 5, x6_0 + 5), ylim=(y6_0 - 5, y6_0 + 5), show=False, label=\"Tangent\"))\n",
    "\n",
    "plot6.markers = [{\"args\": (x6_0, y6_0), \"marker\": \"o\", \"label\": \"x=2\"},\n",
    "                 {\"args\": minima, \"marker\": \"o\", \"label\": \"Minima\"},\n",
    "                 {\"args\": maxima, \"marker\": \"o\", \"label\": \"Maxima\"}]\n",
    "\n",
    "\n",
    "\n",
    "be = MatplotlibBackend(plot6)\n",
    "be.process_series()\n",
    "\n",
    "be.plt.plot([x6_0, x6_1], [y6_0, y6_0], color=\"green\", ls=\"--\")\n",
    "be.plt.plot([x6_1, x6_1], [y6_1, y6_0], color=\"green\", ls=\"--\")\n",
    "\n",
    "be.plt.legend()\n",
    "\n",
    "be.plt.show()"
   ]
  },
  {
   "attachments": {},
   "cell_type": "markdown",
   "metadata": {},
   "source": [
    "# 7. $f(x) = x^2 + 2x + 1$"
   ]
  },
  {
   "attachments": {},
   "cell_type": "markdown",
   "metadata": {},
   "source": [
    "This is a quadratic function where $a = 1$, $b = 2$ and $c = 1$. We can code this function in Python as follows:"
   ]
  },
  {
   "cell_type": "code",
   "execution_count": null,
   "metadata": {},
   "outputs": [
    {
     "data": {
      "text/latex": [
       "$\\displaystyle f_{7}{\\left(x \\right)} = x^{2} + 2 x + 1$"
      ],
      "text/plain": [
       "Eq(f7(x), x**2 + 2*x + 1)"
      ]
     },
     "execution_count": 140,
     "metadata": {},
     "output_type": "execute_result"
    }
   ],
   "source": [
    "f7: sp.Eq | Any = sp.Function(\"f7\")(x) # <~~ This is the function\n",
    "\n",
    "f7 = sp.Eq(f7, x**2 + 2*x + 1) # <~~ Here we set the function to be equal to x^2 + 2x + 1\n",
    "\n",
    "f7"
   ]
  },
  {
   "attachments": {},
   "cell_type": "markdown",
   "metadata": {},
   "source": [
    "### Substitute x with different values:"
   ]
  },
  {
   "cell_type": "code",
   "execution_count": null,
   "metadata": {},
   "outputs": [
    {
     "data": {
      "text/latex": [
       "$\\displaystyle f_{7}{\\left(3.0 + 2.0 i \\right)} = 7.0 + 4.0 i + \\left(3.0 + 2.0 i\\right)^{2}$"
      ],
      "text/plain": [
       "Eq(f7(3.0 + 2.0*I), 7.0 + 4.0*I + (3.0 + 2.0*I)**2)"
      ]
     },
     "execution_count": 141,
     "metadata": {},
     "output_type": "execute_result"
    }
   ],
   "source": [
    "f7.subs(x, 1) # f(1) = 1^2 + 2*1 + 1 = 4\n",
    "f7.subs(x, -2) # f(-2) = (-2)^2 + 2*(-2) + 1 = 9\n",
    "f7.subs(x, 5040) # f(5040) = 5040^2 + 2*5040 + 1 = 25401601\n",
    "f7.subs(x, -13) # f(-13) = (-13)^2 + 2*(-13) + 1 = 170\n",
    "f7.subs(x, 3+2j) # f(3.0 + 2.0i) = (3.0 + 2.0i)^2 + 2*(3.0 + 2.0i) + 1 = 13.0 + 12.0i"
   ]
  },
  {
   "attachments": {},
   "cell_type": "markdown",
   "metadata": {},
   "source": [
    "### Find the roots:"
   ]
  },
  {
   "cell_type": "code",
   "execution_count": null,
   "metadata": {},
   "outputs": [
    {
     "data": {
      "text/plain": [
       "[-1]"
      ]
     },
     "execution_count": 142,
     "metadata": {},
     "output_type": "execute_result"
    }
   ],
   "source": [
    "sp.solve(f7.rhs, x) # <~~ Sympy can solve the equation for us - We will get a list of solutions"
   ]
  },
  {
   "attachments": {},
   "cell_type": "markdown",
   "metadata": {},
   "source": [
    "### Find the gradient:"
   ]
  },
  {
   "cell_type": "code",
   "execution_count": null,
   "metadata": {},
   "outputs": [
    {
     "data": {
      "text/latex": [
       "$\\displaystyle 2 x + 2$"
      ],
      "text/plain": [
       "2*x + 2"
      ]
     },
     "execution_count": 145,
     "metadata": {},
     "output_type": "execute_result"
    }
   ],
   "source": [
    "f7_prime = sp.diff(f7.rhs, x) # <~~ Sympy can find the derivative of the function for us\n",
    "\n",
    "f7_prime"
   ]
  },
  {
   "attachments": {},
   "cell_type": "markdown",
   "metadata": {},
   "source": [
    "### Find the Minima and Maxima:"
   ]
  },
  {
   "cell_type": "code",
   "execution_count": null,
   "metadata": {},
   "outputs": [
    {
     "data": {
      "text/plain": [
       "'Minima: [-1], Maxima: []'"
      ]
     },
     "execution_count": 146,
     "metadata": {},
     "output_type": "execute_result"
    }
   ],
   "source": [
    "minima, maxima = find_minima_and_maxima(f7)\n",
    "\n",
    "f\"Minima: {minima}, Maxima: {maxima}\""
   ]
  },
  {
   "attachments": {},
   "cell_type": "markdown",
   "metadata": {},
   "source": [
    "### Plot the function:"
   ]
  },
  {
   "attachments": {},
   "cell_type": "markdown",
   "metadata": {},
   "source": [
    "Here we can see the effect of changing b and c. The graph is still a parabola, but the bx term has shifted the graph to the right and down. The c term has shifted the graph up and to the right."
   ]
  },
  {
   "cell_type": "code",
   "execution_count": null,
   "metadata": {},
   "outputs": [
    {
     "data": {
      "image/png": "[encoded data removed]",
      "text/plain": [
       "<Figure size 640x480 with 1 Axes>"
      ]
     },
     "metadata": {},
     "output_type": "display_data"
    }
   ],
   "source": [
    "plot7 = sp.plot(f7.rhs, title=f\"${sp.latex(f7)}$\", xlim=(-10, 10), ylim=(-10, 10), axis_center=(0, 0))"
   ]
  }
 ],
 "metadata": {
  "kernelspec": {
   "display_name": "DataAnalysisenv",
   "language": "python",
   "name": "python3"
  },
  "language_info": {
   "codemirror_mode": {
    "name": "ipython",
    "version": 3
   },
   "file_extension": ".py",
   "mimetype": "text/x-python",
   "name": "python",
   "nbconvert_exporter": "python",
   "pygments_lexer": "ipython3",
   "version": "3.11.2"
  },
  "orig_nbformat": 4
 },
 "nbformat": 4,
 "nbformat_minor": 2
}
