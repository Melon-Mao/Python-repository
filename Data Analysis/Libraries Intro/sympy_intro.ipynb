{
 "cells": [
  {
   "cell_type": "code",
   "execution_count": 1,
   "metadata": {},
   "outputs": [],
   "source": [
    "import sympy as sp # The library this tutorial is about\n",
    "import numpy as np # For numerical calculations\n",
    "import matplotlib.pyplot as plt # For plotting\n",
    "\n",
    "sp.init_printing() # For pretty printing"
   ]
  },
  {
   "cell_type": "markdown",
   "metadata": {},
   "source": [
    "## Introduction"
   ]
  },
  {
   "cell_type": "markdown",
   "metadata": {},
   "source": [
    "Sympy is a Python library for symbolic mathematics. It aims to become a full-featured computer algebra system (CAS) while keeping the code as simple as possible in order to be comprehensible and easily extensible. SymPy is written entirely in Python and does not require any external libraries. Here is the documentation: [SymPy Documentation](https://docs.sympy.org/latest/index.html). As with any Python library, we need to import it before we can use it. We can asign it an alias, such as `sp`, for convenience.\n",
    "\n",
    "```python\n",
    "import sympy as sp\n",
    "```"
   ]
  },
  {
   "cell_type": "markdown",
   "metadata": {},
   "source": [
    "Sympy relies on symbols. We can define a symbol like this:"
   ]
  },
  {
   "cell_type": "code",
   "execution_count": 2,
   "metadata": {},
   "outputs": [],
   "source": [
    "x = sp.Symbol('x')"
   ]
  },
  {
   "cell_type": "markdown",
   "metadata": {},
   "source": [
    "Our variable `x` is now a symbol, with the help of the `Symbol()` function. It took a string as an argument, and returned a symbol object. If we were to print `x`, we would see the string we passed to `Symbol()`. With Jupyter Notebook, we can also see the symbol object by simply typing the name of the symbol and running the cell. Doing this will also display the symbol in a nicely typeset format, using LaTeX."
   ]
  },
  {
   "cell_type": "code",
   "execution_count": 3,
   "metadata": {},
   "outputs": [
    {
     "data": {
      "image/png": "[encoded data removed]",
      "text/latex": [
       "$\\displaystyle x$"
      ],
      "text/plain": [
       "x"
      ]
     },
     "execution_count": 3,
     "metadata": {},
     "output_type": "execute_result"
    }
   ],
   "source": [
    "x"
   ]
  },
  {
   "cell_type": "markdown",
   "metadata": {},
   "source": [
    "We can do lots of things with symbols. For instance, we can perform basic operations of them:"
   ]
  },
  {
   "cell_type": "code",
   "execution_count": 4,
   "metadata": {},
   "outputs": [
    {
     "data": {
      "image/png": "[encoded data removed]",
      "text/latex": [
       "$\\displaystyle x^{2}$"
      ],
      "text/plain": [
       " 2\n",
       "x "
      ]
     },
     "execution_count": 4,
     "metadata": {},
     "output_type": "execute_result"
    }
   ],
   "source": [
    "x**2"
   ]
  },
  {
   "cell_type": "code",
   "execution_count": 5,
   "metadata": {},
   "outputs": [
    {
     "data": {
      "image/png": "[encoded data removed]",
      "text/latex": [
       "$\\displaystyle \\sin{\\left(x \\right)} + \\cos{\\left(x \\right)}$"
      ],
      "text/plain": [
       "sin(x) + cos(x)"
      ]
     },
     "execution_count": 5,
     "metadata": {},
     "output_type": "execute_result"
    }
   ],
   "source": [
    "sp.sin(x) + sp.cos(x)"
   ]
  },
  {
   "cell_type": "markdown",
   "metadata": {},
   "source": [
    "Sympy has a multitude of functions for performing symbolic mathematics. This includes trigonometric functions, as shown above. We can use symbolic variables as arguments to these functions, and they can be used to create expressions and equations. These expressions may be saved to other variables:"
   ]
  },
  {
   "cell_type": "code",
   "execution_count": 6,
   "metadata": {},
   "outputs": [
    {
     "data": {
      "image/png": "[encoded data removed]",
      "text/latex": [
       "$\\displaystyle x^{2} + 8 x + 16$"
      ],
      "text/plain": [
       " 2           \n",
       "x  + 8⋅x + 16"
      ]
     },
     "execution_count": 6,
     "metadata": {},
     "output_type": "execute_result"
    }
   ],
   "source": [
    "y = x**2 + 8*x + 16\n",
    "\n",
    "y"
   ]
  },
  {
   "cell_type": "markdown",
   "metadata": {},
   "source": [
    "In the code above, we defined a new variable, `y`, and set it equal to a polynomial expression in terms of our symbol `x`. We can also do operations on these expressions:"
   ]
  },
  {
   "cell_type": "code",
   "execution_count": 7,
   "metadata": {},
   "outputs": [
    {
     "data": {
      "image/png": "[encoded data removed]",
      "text/latex": [
       "$\\displaystyle \\left(x^{2} + 8 x + 16\\right)^{3}$"
      ],
      "text/plain": [
       "               3\n",
       "⎛ 2           ⎞ \n",
       "⎝x  + 8⋅x + 16⎠ "
      ]
     },
     "execution_count": 7,
     "metadata": {},
     "output_type": "execute_result"
    }
   ],
   "source": [
    "z = y**3\n",
    "\n",
    "z"
   ]
  },
  {
   "cell_type": "markdown",
   "metadata": {},
   "source": [
    "Now we have a variable `z`. Note that you can use quite a few methods on expressions, that will return a different expression. For instance, `expand()` will expand the expression, and `factor()` will factor it. We can use these on our variables as shown below:"
   ]
  },
  {
   "cell_type": "code",
   "execution_count": 8,
   "metadata": {},
   "outputs": [
    {
     "data": {
      "image/png": "[encoded data removed]",
      "text/latex": [
       "$\\displaystyle x^{6} + 24 x^{5} + 240 x^{4} + 1280 x^{3} + 3840 x^{2} + 6144 x + 4096$"
      ],
      "text/plain": [
       " 6       5        4         3         2                \n",
       "x  + 24⋅x  + 240⋅x  + 1280⋅x  + 3840⋅x  + 6144⋅x + 4096"
      ]
     },
     "execution_count": 8,
     "metadata": {},
     "output_type": "execute_result"
    }
   ],
   "source": [
    "z.expand()"
   ]
  },
  {
   "cell_type": "code",
   "execution_count": 9,
   "metadata": {},
   "outputs": [
    {
     "data": {
      "image/png": "[encoded data removed]",
      "text/latex": [
       "$\\displaystyle \\left(x + 4\\right)^{6}$"
      ],
      "text/plain": [
       "       6\n",
       "(x + 4) "
      ]
     },
     "execution_count": 9,
     "metadata": {},
     "output_type": "execute_result"
    }
   ],
   "source": [
    "z.factor()"
   ]
  },
  {
   "cell_type": "markdown",
   "metadata": {},
   "source": [
    "We can also use the `solve()` function to solve equations. This function takes two arguments: the equation to solve, and the variable to solve for. It returns a list of solutions. If there are no solutions, it returns an empty list. For a polynomial function, $f(x)$, we can use `solve(f(x), x)` to get all the values of $x$ such that $f(x) = 0$. Let's show this by solving our polynomial `y` for `x`:"
   ]
  },
  {
   "cell_type": "code",
   "execution_count": 10,
   "metadata": {},
   "outputs": [
    {
     "data": {
      "image/png": "[encoded data removed]",
      "text/latex": [
       "$\\displaystyle \\left[ -4\\right]$"
      ],
      "text/plain": [
       "[-4]"
      ]
     },
     "execution_count": 10,
     "metadata": {},
     "output_type": "execute_result"
    }
   ],
   "source": [
    "sp.solve(y, x)"
   ]
  },
  {
   "cell_type": "markdown",
   "metadata": {},
   "source": [
    "When we solve an expression, sympy assumes it to be an expression which equals 0. This is important to remember, especially when you are using sympy to solve problems. It is often simpler to write your equations as expressions, by moving all the terms to one side."
   ]
  },
  {
   "cell_type": "markdown",
   "metadata": {},
   "source": [
    "**Note:** It is good practice to give more information about a symbol when it is being defined. For instance, we may define `x` as a real number, or as an integer. This can be done by passing more keyword arguments into the `Symbol()` function when defining the symbol. These characteristics of the symbol are called assumptions, and can be used by sympy to get the answer you actually want. It may not matter much for simpler problems, but it will help you when dealing with more complex ones, such as in physics."
   ]
  },
  {
   "cell_type": "code",
   "execution_count": 11,
   "metadata": {},
   "outputs": [
    {
     "data": {
      "image/png": "[encoded data removed]",
      "text/latex": [
       "$\\displaystyle \\left[ - i, \\  i\\right]$"
      ],
      "text/plain": [
       "[-ⅈ, ⅈ]"
      ]
     },
     "execution_count": 11,
     "metadata": {},
     "output_type": "execute_result"
    }
   ],
   "source": [
    "x = sp.Symbol('x')\n",
    "\n",
    "sp.solve(x**2 + 1, x)"
   ]
  },
  {
   "cell_type": "markdown",
   "metadata": {},
   "source": [
    "Above, sympy had solved the polynomial $x^2 + 1$ for $x$. This obviously gives us $i$, and $-i$. However, we may only be interested in real solutions. We can have sympy take this into account by defining our symbol `x` and specifying that it is a real number:"
   ]
  },
  {
   "cell_type": "code",
   "execution_count": 12,
   "metadata": {},
   "outputs": [
    {
     "data": {
      "image/png": "[encoded data removed]",
      "text/latex": [
       "$\\displaystyle \\left[ \\right]$"
      ],
      "text/plain": [
       "[]"
      ]
     },
     "execution_count": 12,
     "metadata": {},
     "output_type": "execute_result"
    }
   ],
   "source": [
    "x = sp.Symbol('x', real=True)\n",
    "\n",
    "sp.solve(x**2 + 1, x)"
   ]
  },
  {
   "cell_type": "markdown",
   "metadata": {},
   "source": [
    "We know that the polynomial $x^2 + 1$ has no real solutions, so sympy returns an empty list. We may also define multiple symbols at once by passing a string of symbols to the `symbols()` function. Having a space between the characters in the string is important for sympy to recognize them as separate symbols. We could then create expressions with multiple symbols."
   ]
  },
  {
   "cell_type": "code",
   "execution_count": 13,
   "metadata": {},
   "outputs": [],
   "source": [
    "x, y, z = sp.symbols('x y z')\n",
    "\n",
    "f = x**2 + 2*x*y + 4*z"
   ]
  },
  {
   "cell_type": "markdown",
   "metadata": {},
   "source": [
    "We can do quite a few things with multivariable expressions. Just as we can solve an expression with a single variable, we may solve one with multiple variables, which will give us a variable in terms of the other ones."
   ]
  },
  {
   "cell_type": "code",
   "execution_count": 14,
   "metadata": {},
   "outputs": [
    {
     "data": {
      "image/png": "[encoded data removed]",
      "text/latex": [
       "$\\displaystyle \\left[ - y - \\sqrt{y^{2} - 4 z}, \\  - y + \\sqrt{y^{2} - 4 z}\\right]$"
      ],
      "text/plain": [
       "⎡        __________          __________⎤\n",
       "⎢       ╱  2                ╱  2       ⎥\n",
       "⎣-y - ╲╱  y  - 4⋅z , -y + ╲╱  y  - 4⋅z ⎦"
      ]
     },
     "execution_count": 14,
     "metadata": {},
     "output_type": "execute_result"
    }
   ],
   "source": [
    "sp.solve(f, x)"
   ]
  },
  {
   "cell_type": "code",
   "execution_count": 15,
   "metadata": {},
   "outputs": [
    {
     "data": {
      "image/png": "[encoded data removed]",
      "text/latex": [
       "$\\displaystyle \\left[ - \\frac{x}{2} - \\frac{2 z}{x}\\right]$"
      ],
      "text/plain": [
       "⎡  x   2⋅z⎤\n",
       "⎢- ─ - ───⎥\n",
       "⎣  2    x ⎦"
      ]
     },
     "execution_count": 15,
     "metadata": {},
     "output_type": "execute_result"
    }
   ],
   "source": [
    "sp.solve(f, y)"
   ]
  },
  {
   "cell_type": "markdown",
   "metadata": {},
   "source": [
    "As the `solve()` returns a list, we can use list indexing to get those values and assign them to new variables. Also, sympy lets us turn symbolic expressions into functions, which we can then use to evaluate the expression at a given value. This is done with the `lambdify()` function. It takes two arguments: the variables to turn into arguments of the function, and the expression to turn into a function. Let's see this in action:"
   ]
  },
  {
   "cell_type": "code",
   "execution_count": 16,
   "metadata": {},
   "outputs": [],
   "source": [
    "expr = sp.solve(f, z)[0]\n",
    "\n",
    "expr_f = sp.lambdify((x, y), expr)"
   ]
  },
  {
   "cell_type": "markdown",
   "metadata": {},
   "source": [
    "We have create a numeric function that behaves just like any other function in Python. We are able to pass in values as arguments and it will return some value. Note that I will use an underscore and a lowercase f to indicate variables that are numeric functions."
   ]
  },
  {
   "cell_type": "code",
   "execution_count": 17,
   "metadata": {},
   "outputs": [
    {
     "data": {
      "image/png": "[encoded data removed]",
      "text/latex": [
       "$\\displaystyle -1.75$"
      ],
      "text/plain": [
       "-1.75"
      ]
     },
     "execution_count": 17,
     "metadata": {},
     "output_type": "execute_result"
    }
   ],
   "source": [
    "expr_f(1, 3)"
   ]
  },
  {
   "cell_type": "markdown",
   "metadata": {},
   "source": [
    "It took our expression, $\\frac{x(-x-2y)}{4}$, and turned it into a function of $x$ and $y$. By passing in two arguments into our numeric function, Python evaluates the expression numerically. With the example above, passing 1 and 3 as arguments will give the answer to $\\frac{1(-1-2(3))}{4} = -\\frac{7}{2}$."
   ]
  },
  {
   "cell_type": "markdown",
   "metadata": {},
   "source": [
    "With the help of the numpy and matplotlib libraries, we can plot this numeric function. Before that, we can change some of the default values of matplotlib to make our plots look nicer."
   ]
  },
  {
   "cell_type": "code",
   "execution_count": 18,
   "metadata": {},
   "outputs": [],
   "source": [
    "plt.rcParams[\"axes.facecolor\"] = \"black\"\n",
    "plt.rcParams[\"axes.labelcolor\"] = \"white\"\n",
    "plt.rcParams[\"axes.titlecolor\"] = \"white\"\n",
    "plt.rcParams[\"figure.facecolor\"] = \"black\"\n",
    "plt.rcParams[\"legend.labelcolor\"] = \"white\"\n",
    "plt.rcParams[\"xtick.labelcolor\"] = \"white\"\n",
    "plt.rcParams[\"ytick.labelcolor\"] = \"white\"\n",
    "plt.rcParams[\"grid.color\"] = \"#707070\"\n",
    "plt.rcParams[\"axes.edgecolor\"] = \"white\"\n",
    "plt.rcParams[\"xtick.color\"] = \"white\"\n",
    "plt.rcParams[\"ytick.color\"] = \"white\""
   ]
  },
  {
   "cell_type": "code",
   "execution_count": 19,
   "metadata": {},
   "outputs": [
    {
     "data": {
      "image/png": "[encoded data removed]",
      "text/plain": [
       "<Figure size 640x480 with 1 Axes>"
      ]
     },
     "metadata": {},
     "output_type": "display_data"
    }
   ],
   "source": [
    "x_num = np.linspace(1, 10, 100) # Creates a linearly spaced array of 100 numbers between 1 and 10\n",
    "y_num = 3\n",
    "\n",
    "plt.plot(x_num, expr_f(x_num, y_num)) # Plots the function\n",
    "plt.grid() # Adds a grid\n",
    "plt.show() # Shows the plot"
   ]
  },
  {
   "cell_type": "markdown",
   "metadata": {},
   "source": [
    "Another thing we can do is use the `subs()` method to substitute values into an expression. This is useful if we want to evaluate an expression at a specific value, or if we want to substitute a variable with another expression."
   ]
  },
  {
   "cell_type": "code",
   "execution_count": 20,
   "metadata": {},
   "outputs": [
    {
     "data": {
      "image/png": "[encoded data removed]",
      "text/latex": [
       "$\\displaystyle - \\frac{115}{4}$"
      ],
      "text/plain": [
       "-115/4"
      ]
     },
     "execution_count": 20,
     "metadata": {},
     "output_type": "execute_result"
    }
   ],
   "source": [
    "expr.subs({x: 5, y: 9})"
   ]
  },
  {
   "cell_type": "code",
   "execution_count": 21,
   "metadata": {},
   "outputs": [
    {
     "data": {
      "image/png": "[encoded data removed]",
      "text/latex": [
       "$\\displaystyle - \\frac{\\sin{\\left(2 x \\right)}}{4} + \\frac{\\cos{\\left(2 x \\right)}}{8} - \\frac{1}{8}$"
      ],
      "text/plain": [
       "  sin(2⋅x)   cos(2⋅x)   1\n",
       "- ──────── + ──────── - ─\n",
       "     4          8       8"
      ]
     },
     "execution_count": 21,
     "metadata": {},
     "output_type": "execute_result"
    }
   ],
   "source": [
    "expr.subs({x: sp.sin(x), y: sp.cos(x)}).simplify()"
   ]
  },
  {
   "cell_type": "markdown",
   "metadata": {},
   "source": [
    "The `subs()` method evaluates it's arguments left to right. This is more important when you are substituting a variable with an expression. In the example above, we subsitute $sin(x)$ for $x$ first, and then $cos(x)$ for $y$. If we were to do it the other way around, we would get a different answer. Afterwards, we used the `simplify()` method to simplify the expression, making it look nicer."
   ]
  },
  {
   "cell_type": "markdown",
   "metadata": {},
   "source": [
    "## Physics Example"
   ]
  },
  {
   "cell_type": "markdown",
   "metadata": {},
   "source": [
    "A block is place on a ramp which is inclined at an angle $30$° to the horizontal. The block has a mass $4kg$. The coefficient of kinetic friction between the block and the ramp is $0.3$. If the length of the ramp is $10m$, and the block is released from rest at the top of the ramp, how long does it take for the block to reach the bottom of the ramp?"
   ]
  },
  {
   "cell_type": "markdown",
   "metadata": {},
   "source": [
    "We would have to derive an equation that describes the position of the block at some time $t$. We can do this by getting an expression for the acceleration of the block, and then integrating it twice to get the position. This is an example where we may use Netwon's second law, $F = ma$.\n",
    "\n",
    "The forces acting on the block are gravity, friction, and the normal force. The force of gravity has a magnitude of $mg$, where $g$ is the acceleration due to gravity. We can set the $x$-axis to be the diagonal of the ramp and the $y$-axis to be perpendicular to the ramp. With a bit of geometry, we can find that the $x$ component of gravity is $mg\\sin(\\theta)$, and the $y$ component is $mg\\cos(\\theta)$. $\\theta$ is the angle of the incline and $m$ is the mass of the block. We can put the $y$ component into Newton's second law, as we know that acceleration in the $y$ direction is 0. This gives us:\n",
    "\n",
    "$$\n",
    "\\begin{align}\n",
    "N& - mg\\cos(\\theta) = 0 \\\\\n",
    "N& = mg\\cos(\\theta)\n",
    "\\end{align}\n",
    "$$\n",
    "\n",
    "Therefore, the normal force is the $y$ component of gravity. The other force acting on the block is friction, which is in the opposite direction of the block's motion. We can find the magnitude of the frictional force by multiplying the normal force by the coefficient of friction. The type of friction depends on whether the block is moving or not. If the block is not moving, then the frictional force is static friction, and if it is moving, then it is kinetic friction. As the block is released from rest, it will start moving, so we will use kinetic friction. We know that friction is proportional to the normal force, so we get:\n",
    "\n",
    "$$\n",
    "f_k = \\mu_kN = \\mu_kmg\\cos(\\theta)\n",
    "$$\n",
    "\n",
    "where $\\mu_k$ is the coefficient of kinetic friction. Putting gravity and friction into Newton's second law, we get:\n",
    "\n",
    "$$\n",
    "\\begin{align}\n",
    "ma &= mg\\sin(\\theta) - \\mu_kmg\\cos(\\theta) \\\\\n",
    "a &= g\\sin(\\theta) - \\mu_kg\\cos(\\theta)\n",
    "\\end{align}\n",
    "$$\n",
    "\n",
    "Integrating this twice will give us the position of the block at some time $t$. We can use sympy to do this for us."
   ]
  },
  {
   "cell_type": "code",
   "execution_count": 22,
   "metadata": {},
   "outputs": [],
   "source": [
    "# Create symbolic variables\n",
    "m, g, mu_k, t, theta = sp.symbols('m g mu_k t, theta')\n",
    "x = sp.Function('x')(t)\n",
    "\n",
    "# Gravitational force\n",
    "F_G_x = m*g*sp.sin(theta)\n",
    "F_G_y = -m*g*sp.cos(theta)\n",
    "\n",
    "# Normal force\n",
    "F_N_y = -F_G_y\n",
    "\n",
    "# Friction force\n",
    "F_F_x = -mu_k*F_N_y\n",
    "\n",
    "# Net force\n",
    "F_net_x = F_G_x + F_F_x\n",
    "\n",
    "# Newton's second law\n",
    "accel = F_net_x/m"
   ]
  },
  {
   "cell_type": "markdown",
   "metadata": {},
   "source": [
    "We have the acceleration of the block as the variable. Sympy has a function called `dsolve()` that let's us solve differential equations (i.e. equations with derivatives in them). We can pass in our differential equation and the function we want to solve for, $x(t)$. Our equation will be the second derivative of $x(t)$, which equals the acceleration of the block. We can make this an expression by substracting the acceleration from the second derivative of $x(t)$."
   ]
  },
  {
   "cell_type": "code",
   "execution_count": 23,
   "metadata": {},
   "outputs": [
    {
     "data": {
      "image/png": "[encoded data removed]",
      "text/latex": [
       "$\\displaystyle C_{1} + C_{2} t + \\frac{g t^{2} \\left(- \\mu_{k} \\cos{\\left(\\theta \\right)} + \\sin{\\left(\\theta \\right)}\\right)}{2}$"
      ],
      "text/plain": [
       "               2                      \n",
       "            g⋅t ⋅(-μₖ⋅cos(θ) + sin(θ))\n",
       "C₁ + C₂⋅t + ──────────────────────────\n",
       "                        2             "
      ]
     },
     "execution_count": 23,
     "metadata": {},
     "output_type": "execute_result"
    }
   ],
   "source": [
    "sol = sp.dsolve(x.diff(t, 2) - accel, x).rhs\n",
    "\n",
    "sol"
   ]
  },
  {
   "cell_type": "markdown",
   "metadata": {},
   "source": [
    "We have our position function. Note that we used `rhs` to get the right hand side of the equation returned by `dsolve`, as the left side was `x(t)` which we don't need. Our answer currently has two unknowns, $C_1$ and $C_2$ which were the constants of integration. We can see how $C_1$ is the value of $x(t)$ when $t = 0$, meaning that it is the initial position of the block. $C_2$ is the value of the first derivative of $x(t)$ when $t = 0$, which is the initial velocity of the block. We know that the block is released from rest at the top of the ramp, so $C_1 = 0$ and $C_2 = 0$. We can substitute these values into our expression."
   ]
  },
  {
   "cell_type": "code",
   "execution_count": 24,
   "metadata": {},
   "outputs": [
    {
     "data": {
      "image/png": "[encoded data removed]",
      "text/latex": [
       "$\\displaystyle \\frac{g t^{2} \\left(- \\mu_{k} \\cos{\\left(\\theta \\right)} + \\sin{\\left(\\theta \\right)}\\right)}{2}$"
      ],
      "text/plain": [
       "   2                      \n",
       "g⋅t ⋅(-μₖ⋅cos(θ) + sin(θ))\n",
       "──────────────────────────\n",
       "            2             "
      ]
     },
     "execution_count": 24,
     "metadata": {},
     "output_type": "execute_result"
    }
   ],
   "source": [
    "sol = sol.subs({sp.Symbol('C1'): 0, sp.Symbol('C2'): 0})\n",
    "\n",
    "sol"
   ]
  },
  {
   "cell_type": "markdown",
   "metadata": {},
   "source": [
    "We can use the `Symbol` object to subsitute values, which means we didn't have to define $C_1$ and $C_2$ as symbols and assign them to variables. What we are left with is our position function. We can put the conditions were given in the problem for the angle, acceleration due to gravity, and coefficient of kinetic friction into our expression."
   ]
  },
  {
   "cell_type": "code",
   "execution_count": 25,
   "metadata": {},
   "outputs": [],
   "source": [
    "sol = sol.subs({m: 4, g: 9.81, mu_k: 0.2, theta: np.deg2rad(30)})"
   ]
  },
  {
   "cell_type": "markdown",
   "metadata": {},
   "source": [
    "By setting it equal to the length of the ramp, we can solve for $t$. We can subtract the expression from the length to get it as an expression equal to 0, and then use `solve()`."
   ]
  },
  {
   "cell_type": "code",
   "execution_count": 26,
   "metadata": {},
   "outputs": [
    {
     "data": {
      "image/png": "[encoded data removed]",
      "text/latex": [
       "$\\displaystyle \\left[ -2.49771479424154, \\  2.49771479424154\\right]$"
      ],
      "text/plain": [
       "[-2.49771479424154, 2.49771479424154]"
      ]
     },
     "execution_count": 26,
     "metadata": {},
     "output_type": "execute_result"
    }
   ],
   "source": [
    "t_f = sp.solve(10 - sol, t)\n",
    "\n",
    "t_f"
   ]
  },
  {
   "cell_type": "markdown",
   "metadata": {},
   "source": [
    "We have been given two solutions, but one of them is negative. This is because we are solving a quadratic equation, and quadratics have two solutions. Since our block is moving down the ramp starting at $t=0$, we can ignore the negative solution."
   ]
  },
  {
   "cell_type": "code",
   "execution_count": 27,
   "metadata": {},
   "outputs": [
    {
     "data": {
      "image/png": "[encoded data removed]",
      "text/latex": [
       "$\\displaystyle 2.49771479424154$"
      ],
      "text/plain": [
       "2.49771479424154"
      ]
     },
     "execution_count": 27,
     "metadata": {},
     "output_type": "execute_result"
    }
   ],
   "source": [
    "t_f[1]"
   ]
  },
  {
   "cell_type": "markdown",
   "metadata": {},
   "source": [
    "We have the answer to our problem. It takes approximately $2.5$ seconds for the block to reach the bottom of the ramp."
   ]
  },
  {
   "cell_type": "markdown",
   "metadata": {},
   "source": [
    "That was an easy example though. We could have easily integrated that by hand and solved the quadratic equation. However, Sympy can do more complicated problems which we will discuss afterwards."
   ]
  },
  {
   "cell_type": "markdown",
   "metadata": {},
   "source": [
    "## Calculus"
   ]
  },
  {
   "cell_type": "markdown",
   "metadata": {},
   "source": [
    "Sympy  can do calculus for us. It has many functions that allows us to do things like take derivatives and integrals. We can also do things like find limits and series expansions."
   ]
  },
  {
   "cell_type": "code",
   "execution_count": 28,
   "metadata": {},
   "outputs": [],
   "source": [
    "x = sp.Symbol('x')"
   ]
  },
  {
   "cell_type": "markdown",
   "metadata": {},
   "source": [
    "### Limits"
   ]
  },
  {
   "cell_type": "markdown",
   "metadata": {},
   "source": [
    "$$\n",
    "\\lim_{x \\to 0} \\frac{\\sin(x)}{x}\n",
    "$$"
   ]
  },
  {
   "cell_type": "code",
   "execution_count": 29,
   "metadata": {},
   "outputs": [
    {
     "data": {
      "image/png": "[encoded data removed]",
      "text/latex": [
       "$\\displaystyle 1$"
      ],
      "text/plain": [
       "1"
      ]
     },
     "execution_count": 29,
     "metadata": {},
     "output_type": "execute_result"
    }
   ],
   "source": [
    "sp.limit(sp.sin(x)/x, x, 0)"
   ]
  },
  {
   "cell_type": "markdown",
   "metadata": {},
   "source": [
    "### Derivatives"
   ]
  },
  {
   "cell_type": "markdown",
   "metadata": {},
   "source": [
    "$$\n",
    "\\frac{d}{dx} \\bigg[ \\frac{1+tan(x)}{1+sin(x)} \\bigg]\n",
    "$$"
   ]
  },
  {
   "cell_type": "code",
   "execution_count": 30,
   "metadata": {},
   "outputs": [
    {
     "data": {
      "image/png": "[encoded data removed]",
      "text/latex": [
       "$\\displaystyle \\frac{\\tan^{2}{\\left(x \\right)} + 1}{\\sin{\\left(x \\right)} + 1} - \\frac{\\left(\\tan{\\left(x \\right)} + 1\\right) \\cos{\\left(x \\right)}}{\\left(\\sin{\\left(x \\right)} + 1\\right)^{2}}$"
      ],
      "text/plain": [
       "   2                             \n",
       "tan (x) + 1   (tan(x) + 1)⋅cos(x)\n",
       "─────────── - ───────────────────\n",
       " sin(x) + 1                  2   \n",
       "                 (sin(x) + 1)    "
      ]
     },
     "execution_count": 30,
     "metadata": {},
     "output_type": "execute_result"
    }
   ],
   "source": [
    "sp.diff((1+sp.tan(x))/(1+sp.sin(x)), x)"
   ]
  },
  {
   "cell_type": "markdown",
   "metadata": {},
   "source": [
    "We can also take derivatives of abstract functions."
   ]
  },
  {
   "cell_type": "markdown",
   "metadata": {},
   "source": [
    "$$\n",
    "\\frac{d}{dx} \\bigg[ f\\bigg(\\frac{x}{g(x)}\\bigg) \\bigg]\n",
    "$$"
   ]
  },
  {
   "cell_type": "code",
   "execution_count": 31,
   "metadata": {},
   "outputs": [
    {
     "data": {
      "image/png": "[encoded data removed]",
      "text/latex": [
       "$\\displaystyle f{\\left(\\frac{x}{g{\\left(x \\right)}} \\right)}$"
      ],
      "text/plain": [
       " ⎛ x  ⎞\n",
       "f⎜────⎟\n",
       " ⎝g(x)⎠"
      ]
     },
     "execution_count": 31,
     "metadata": {},
     "output_type": "execute_result"
    }
   ],
   "source": [
    "f, g = sp.symbols('f g', cls=sp.Function)\n",
    "g = g(x)\n",
    "f = f(x/g)\n",
    "\n",
    "f"
   ]
  },
  {
   "cell_type": "code",
   "execution_count": 32,
   "metadata": {},
   "outputs": [
    {
     "data": {
      "image/png": "[encoded data removed]",
      "text/latex": [
       "$\\displaystyle \\frac{d}{d x} f{\\left(\\frac{x}{g{\\left(x \\right)}} \\right)}$"
      ],
      "text/plain": [
       "d ⎛ ⎛ x  ⎞⎞\n",
       "──⎜f⎜────⎟⎟\n",
       "dx⎝ ⎝g(x)⎠⎠"
      ]
     },
     "execution_count": 32,
     "metadata": {},
     "output_type": "execute_result"
    }
   ],
   "source": [
    "dfdx = sp.Derivative(f, x)\n",
    "\n",
    "dfdx"
   ]
  },
  {
   "cell_type": "markdown",
   "metadata": {},
   "source": [
    "To actually evaluate the derivative, we can use the `doit()` method."
   ]
  },
  {
   "cell_type": "code",
   "execution_count": 33,
   "metadata": {},
   "outputs": [
    {
     "data": {
      "text/latex": [
       "$\\displaystyle \\left(- \\frac{x \\frac{d}{d x} g{\\left(x \\right)}}{g^{2}{\\left(x \\right)}} + \\frac{1}{g{\\left(x \\right)}}\\right) \\left. \\frac{d}{d \\xi_{1}} f{\\left(\\xi_{1} \\right)} \\right|_{\\substack{ \\xi_{1}=\\frac{x}{g{\\left(x \\right)}} }}$"
      ],
      "text/plain": [
       "⎛    d              ⎞                     \n",
       "⎜  x⋅──(g(x))       ⎟                     \n",
       "⎜    dx          1  ⎟ ⎛ d        ⎞│       \n",
       "⎜- ────────── + ────⎟⋅⎜───(f(ξ₁))⎟│    x  \n",
       "⎜     2         g(x)⎟ ⎝dξ₁       ⎠│ξ₁=────\n",
       "⎝    g (x)          ⎠                 g(x)"
      ]
     },
     "execution_count": 33,
     "metadata": {},
     "output_type": "execute_result"
    }
   ],
   "source": [
    "dfdx.doit()"
   ]
  },
  {
   "cell_type": "markdown",
   "metadata": {},
   "source": [
    "where $\\zeta_1$ is used by Sympy to represent the inner function."
   ]
  },
  {
   "cell_type": "markdown",
   "metadata": {},
   "source": [
    "### Indefinite Integrals"
   ]
  },
  {
   "cell_type": "markdown",
   "metadata": {},
   "source": [
    "$$\n",
    "\\int csc^4(x) dx\n",
    "$$"
   ]
  },
  {
   "cell_type": "code",
   "execution_count": 34,
   "metadata": {},
   "outputs": [
    {
     "data": {
      "image/png": "[encoded data removed]",
      "text/latex": [
       "$\\displaystyle - \\frac{2 \\cos{\\left(x \\right)}}{3 \\sin{\\left(x \\right)}} - \\frac{\\cos{\\left(x \\right)}}{3 \\sin^{3}{\\left(x \\right)}}$"
      ],
      "text/plain": [
       "  2⋅cos(x)     cos(x) \n",
       "- ──────── - ─────────\n",
       "  3⋅sin(x)        3   \n",
       "             3⋅sin (x)"
      ]
     },
     "execution_count": 34,
     "metadata": {},
     "output_type": "execute_result"
    }
   ],
   "source": [
    "sp.integrate(sp.csc(x)**4, x)"
   ]
  },
  {
   "cell_type": "markdown",
   "metadata": {},
   "source": [
    "**Note:** Sympy does not add the constant of integration when evaluating indefinite integrals. If you want the actual answer, you would have to add it yourself. Sympy does add it when solving differential equations though."
   ]
  },
  {
   "cell_type": "markdown",
   "metadata": {},
   "source": [
    "### Definite Integrals"
   ]
  },
  {
   "cell_type": "markdown",
   "metadata": {},
   "source": [
    "$$\n",
    "\\int \\limits_{0}^{\\pi} \\frac{1}{1+sin(x)} dx \n",
    "$$"
   ]
  },
  {
   "cell_type": "code",
   "execution_count": 35,
   "metadata": {},
   "outputs": [
    {
     "data": {
      "image/png": "[encoded data removed]",
      "text/latex": [
       "$\\displaystyle 2$"
      ],
      "text/plain": [
       "2"
      ]
     },
     "execution_count": 35,
     "metadata": {},
     "output_type": "execute_result"
    }
   ],
   "source": [
    "sp.integrate(1/(1+sp.sin(x)), (x, 0, sp.pi))"
   ]
  },
  {
   "cell_type": "markdown",
   "metadata": {},
   "source": [
    "We can even do integrals with variable limits."
   ]
  },
  {
   "cell_type": "markdown",
   "metadata": {},
   "source": [
    "$$\n",
    "\\int \\limits_{a}^{b} e^{x^2} x^3 dx\n",
    "$$"
   ]
  },
  {
   "cell_type": "code",
   "execution_count": 36,
   "metadata": {},
   "outputs": [
    {
     "data": {
      "image/png": "[encoded data removed]",
      "text/latex": [
       "$\\displaystyle - \\frac{\\left(a^{2} - 1\\right) e^{a^{2}}}{2} + \\frac{\\left(b^{2} - 1\\right) e^{b^{2}}}{2}$"
      ],
      "text/plain": [
       "            ⎛ 2⎞             ⎛ 2⎞\n",
       "  ⎛ 2    ⎞  ⎝a ⎠   ⎛ 2    ⎞  ⎝b ⎠\n",
       "  ⎝a  - 1⎠⋅ℯ       ⎝b  - 1⎠⋅ℯ    \n",
       "- ────────────── + ──────────────\n",
       "        2                2       "
      ]
     },
     "execution_count": 36,
     "metadata": {},
     "output_type": "execute_result"
    }
   ],
   "source": [
    "sp.integrate(sp.exp(x**2) * x**3, (x, sp.Symbol('a'), sp.Symbol('b')))"
   ]
  },
  {
   "cell_type": "markdown",
   "metadata": {},
   "source": [
    "We may do improper integrals as well."
   ]
  },
  {
   "cell_type": "markdown",
   "metadata": {},
   "source": [
    "$$\n",
    "\\int \\limits_{-\\infty}^{\\infty} e^{-x^2} dx\n",
    "$$"
   ]
  },
  {
   "cell_type": "code",
   "execution_count": 37,
   "metadata": {},
   "outputs": [
    {
     "data": {
      "image/png": "[encoded data removed]",
      "text/latex": [
       "$\\displaystyle \\sqrt{\\pi}$"
      ],
      "text/plain": [
       "√π"
      ]
     },
     "execution_count": 37,
     "metadata": {},
     "output_type": "execute_result"
    }
   ],
   "source": [
    "sp.integrate(sp.exp(-x**2), (x, -sp.oo, sp.oo)) # sympy uses oo for infinity"
   ]
  },
  {
   "cell_type": "markdown",
   "metadata": {},
   "source": [
    "### Series Expansions"
   ]
  },
  {
   "cell_type": "markdown",
   "metadata": {},
   "source": [
    "$$\n",
    "\\sin(x) = \\sum_{n=0}^{\\infty} \\frac{(-1)^n}{(2n+1)!} x^{2n+1}\n",
    "$$"
   ]
  },
  {
   "cell_type": "code",
   "execution_count": 38,
   "metadata": {},
   "outputs": [
    {
     "data": {
      "image/png": "[encoded data removed]",
      "text/latex": [
       "$\\displaystyle x - \\frac{x^{3}}{6} + \\frac{x^{5}}{120} - \\frac{x^{7}}{5040} + \\frac{x^{9}}{362880} + O\\left(x^{10}\\right)$"
      ],
      "text/plain": [
       "     3     5     7       9           \n",
       "    x     x     x       x       ⎛ 10⎞\n",
       "x - ── + ─── - ──── + ────── + O⎝x  ⎠\n",
       "    6    120   5040   362880         "
      ]
     },
     "execution_count": 38,
     "metadata": {},
     "output_type": "execute_result"
    }
   ],
   "source": [
    "# First 10 terms of the Taylor series of sin(x) around x = 0\n",
    "sp.series(sp.sin(x), x, 0, 10)"
   ]
  },
  {
   "cell_type": "markdown",
   "metadata": {},
   "source": [
    "The $O(x^{10})$ equals the higher order terms that are not included in the series expansion. If wanted to get 15 terms, we could have done `series(sin(x), x, 0, 15)` and our last term would have been $O(x^{15})$."
   ]
  },
  {
   "cell_type": "markdown",
   "metadata": {},
   "source": [
    "## Complex Example"
   ]
  },
  {
   "cell_type": "markdown",
   "metadata": {},
   "source": [
    "To show off the power of Sympy, we will do a more complicated example. We will use the `sympy.physics.mechanics` module to do some mechanics problems. We will derive the equations of motion of a simple pendulum with a set of nonminimal coordinates. This system has one degree of freedom, meaning it can be described with one coordinate and one speed (the angle and angular velocity respectively). However, by choosing to describe the system in terms of the $x$ and $y$ coordinates of the mass, constraints are needed. The system is shown below:"
   ]
  },
  {
   "attachments": {
    "image.png": {
     "image/png": "[encoded data removed]"
    }
   },
   "cell_type": "markdown",
   "metadata": {},
   "source": [
    "![image.png](attachment:image.png)"
   ]
  },
  {
   "cell_type": "markdown",
   "metadata": {},
   "source": [
    "We will use Lagrange's method to get the EOM. First, we need to create the `dynamicsymbols` to describe the system. These will be the generalised coordinates $q_1$ and $q_2$, which are the $x$ and $y$ coordinates of the mass in the inertial $N$ frame. Thus, the time derivatives $\\dot{q_1}$ and $\\dot{q_2}$ are the velocities in these directions. We will also create symbols for time, gravity, the length and mass of the pendulum."
   ]
  },
  {
   "cell_type": "code",
   "execution_count": 39,
   "metadata": {},
   "outputs": [],
   "source": [
    "from sympy.physics.mechanics import dynamicsymbols, ReferenceFrame, mechanics_printing, Point, Lagrangian, LagrangesMethod\n",
    "\n",
    "q1, q2 = dynamicsymbols('q1:3') # The :3 means q1 and q2\n",
    "q1_dot, q2_dot = dynamicsymbols('q1:3', level=1) # level=1 means the first derivative\n",
    "ell, m, g, t = sp.symbols('ell m g t')\n",
    "\n",
    "mechanics_printing()"
   ]
  },
  {
   "cell_type": "markdown",
   "metadata": {},
   "source": [
    "Afterwards, we will create a world reference frame $N$ and its origin point $N$* The velocity of the origin is set to 0. A second coordinate frame $A$ is oriented such that its $x$-axis is along the pendulum (as shown in the diagram above)."
   ]
  },
  {
   "cell_type": "code",
   "execution_count": 40,
   "metadata": {},
   "outputs": [],
   "source": [
    "# Create world frame\n",
    "N = ReferenceFrame('N')\n",
    "pN = Point('N*')\n",
    "pN.set_vel(N, 0)\n",
    "\n",
    "theta1 = sp.atan(q2/q1)\n",
    "\n",
    "A = N.orientnew('A', 'axis', [theta1, N.z]) # Orients A relative to N by theta1 around the z axis"
   ]
  },
  {
   "cell_type": "markdown",
   "metadata": {},
   "source": [
    "Locating the pendulum mass is then as easy as specifying its location in terms of its $x$ and $y$ coordinates in the world frame. A `Particle` object may then be created to represent the mass at this location"
   ]
  },
  {
   "cell_type": "code",
   "execution_count": 41,
   "metadata": {},
   "outputs": [
    {
     "ename": "NameError",
     "evalue": "name 'Particle' is not defined",
     "output_type": "error",
     "traceback": [
      "\u001b[1;31m---------------------------------------------------------------------------\u001b[0m",
      "\u001b[1;31mNameError\u001b[0m                                 Traceback (most recent call last)",
      "Cell \u001b[1;32mIn[41], line 4\u001b[0m\n\u001b[0;32m      2\u001b[0m P \u001b[39m=\u001b[39m pN\u001b[39m.\u001b[39mlocatenew(\u001b[39m'\u001b[39m\u001b[39mP1\u001b[39m\u001b[39m'\u001b[39m, q1\u001b[39m*\u001b[39mN\u001b[39m.\u001b[39mx \u001b[39m+\u001b[39m q2\u001b[39m*\u001b[39mN\u001b[39m.\u001b[39my)\n\u001b[0;32m      3\u001b[0m P\u001b[39m.\u001b[39mset_vel(N, P\u001b[39m.\u001b[39mpos_from(pN)\u001b[39m.\u001b[39mdt(N)) \u001b[39m# Sets the velocity of P relative to N\u001b[39;00m\n\u001b[1;32m----> 4\u001b[0m pP \u001b[39m=\u001b[39m Particle(\u001b[39m'\u001b[39m\u001b[39mP1\u001b[39m\u001b[39m'\u001b[39m, P, m) \u001b[39m# Create a particle with mass m at point P\u001b[39;00m\n",
      "\u001b[1;31mNameError\u001b[0m: name 'Particle' is not defined"
     ]
    }
   ],
   "source": [
    "# Create point P, the pendulum mass\n",
    "P = pN.locatenew('P1', q1*N.x + q2*N.y)\n",
    "P.set_vel(N, P.pos_from(pN).dt(N)) # Sets the velocity of P relative to N\n",
    "pP = Particle('P1', P, m) # Create a particle with mass m at point P"
   ]
  },
  {
   "cell_type": "markdown",
   "metadata": {},
   "source": [
    "Since our system has more coordinates than degrees of freedom, we need to introduce some constraints. In this case, we only need one holonomic constraint: the distance from the origin to the mass is always length $\\ell$ (the pendulum rod is rigid)."
   ]
  },
  {
   "cell_type": "code",
   "execution_count": null,
   "metadata": {},
   "outputs": [],
   "source": [
    "# Holonomic constraint equation\n",
    "f_c = sp.Matrix([q1**2 + q2**2 - ell**2]) # This can be derived from Pythagoras"
   ]
  },
  {
   "cell_type": "markdown",
   "metadata": {},
   "source": [
    "The only force acting on the system is gravity, at point `P`."
   ]
  },
  {
   "cell_type": "code",
   "execution_count": null,
   "metadata": {},
   "outputs": [],
   "source": [
    "# Input the force resultant at P\n",
    "R = m*g*N.x"
   ]
  },
  {
   "cell_type": "markdown",
   "metadata": {},
   "source": [
    "With the problem setup, the Lagrangian can be calculated, and the equations of motion formed. Note that the call to `LagrangesMethod` includes the Lagrangian, the generalized coordinates, the constraints (specified by `hol_coneqs` or `nonhol_coneqs`), the list of (body, force) pairs, and the inertial frame"
   ]
  },
  {
   "cell_type": "code",
   "execution_count": null,
   "metadata": {},
   "outputs": [],
   "source": [
    "Lag = Lagrangian(N, pP)\n",
    "LM = LagrangesMethod(Lag, [q1, q2], hol_coneqs=f_c, forcelist=[(P, R)], frame=N)\n",
    "lag_eqs = LM.form_lagranges_equations()"
   ]
  },
  {
   "cell_type": "markdown",
   "metadata": {},
   "source": [
    "Now, we may compose the operating point dictionary, set in the hanging at rest position:"
   ]
  },
  {
   "cell_type": "code",
   "execution_count": null,
   "metadata": {},
   "outputs": [],
   "source": [
    "# Compose operating point\n",
    "op_point = {q1: ell, q2: 0, q1_dot: 0, q2_dot: 0, q1_dot.diff(t): 0, q2_dot.diff(t): 0}"
   ]
  },
  {
   "cell_type": "markdown",
   "metadata": {},
   "source": [
    "As there are constraints in the formulation, there will be corresponding Lagrange Multipliers. These may appear inside the linearized form as well, and thus should also be included inside the operating point dictionary. Fortunately, the `LagrangesMethod` class provides an easy way of solving for the multipliers at a given operating point using the `solve_multipliers` method."
   ]
  },
  {
   "cell_type": "code",
   "execution_count": null,
   "metadata": {},
   "outputs": [],
   "source": [
    "# Solve for multipliers at operating point\n",
    "lam_op = LM.solve_multipliers(op_point=op_point)"
   ]
  },
  {
   "cell_type": "markdown",
   "metadata": {},
   "source": [
    "With this solution, linearization can be completed. The `LagrangesMethod.linearize` method also requires the partitioning of the generalized coordinates and their time derivatives into independent and dependent vectors."
   ]
  },
  {
   "cell_type": "code",
   "execution_count": null,
   "metadata": {},
   "outputs": [],
   "source": [
    "op_point.update(lam_op)\n",
    "# Perform the Linearization\n",
    "A, B, inp_vec = LM.linearize([q2], [q2_dot], [q1], [q1_dot],\n",
    "                            op_point=op_point, A_and_B=True)"
   ]
  },
  {
   "cell_type": "code",
   "execution_count": null,
   "metadata": {},
   "outputs": [
    {
     "data": {
      "text/latex": [
       "$\\displaystyle \\left[\\begin{matrix}0 & 1\\\\- \\frac{g}{\\ell} & 0\\end{matrix}\\right]$"
      ],
      "text/plain": [
       "⎡ 0   1⎤\n",
       "⎢      ⎥\n",
       "⎢-g    ⎥\n",
       "⎢───  0⎥\n",
       "⎣ell   ⎦"
      ]
     },
     "execution_count": 348,
     "metadata": {},
     "output_type": "execute_result"
    }
   ],
   "source": [
    "A"
   ]
  },
  {
   "cell_type": "code",
   "execution_count": null,
   "metadata": {},
   "outputs": [
    {
     "data": {
      "text/latex": [
       "$\\displaystyle \\left[\\begin{matrix}\\end{matrix}\\right]$"
      ],
      "text/plain": [
       "[]"
      ]
     },
     "execution_count": 349,
     "metadata": {},
     "output_type": "execute_result"
    }
   ],
   "source": [
    "B"
   ]
  },
  {
   "cell_type": "markdown",
   "metadata": {},
   "source": [
    "The resulting matrix has dimensions 2 x 2, while the number of total states is `2*len(q) = 4`. This is because for constrained systems the resulting `A_and_B` form has a partitioned state vector only containing the independent coordinates and their derivatives. Written out mathematically, the system linearized about this point would be written as:\n",
    "\n",
    "$$\n",
    "\\begin{bmatrix}\n",
    "\\dot{q_1} \\\\\n",
    "\\dot{q_2}\n",
    "\\end{bmatrix}\n",
    "=\n",
    "\\begin{bmatrix}\n",
    "0 & 1 \\\\\n",
    "- \\frac{g}{\\ell} & 0\n",
    "\\end{bmatrix}\n",
    "\\begin{bmatrix}\n",
    "q_1 \\\\\n",
    "q_2\n",
    "\\end{bmatrix}\n",
    "$$\n",
    "\n",
    "The purpose of linearization is to find the linearized equations of motion. This is done by finding the eigenvalues and eigenvectors of the matrix. The eigenvalues are the natural frequencies of the system, and the eigenvectors are the mode shapes. The eigenvectors are the coordinates that the system will oscillate in. The eigenvalues are the frequencies of the oscillations.\n",
    "\n",
    "If we want to find the position function from our linearized equations of motion, we can use the `sympy.physics.mechanics.functions.ode_function` function. This function takes in the state vector, the time variable, the eigenvalues, and the eigenvectors. It returns the position function."
   ]
  },
  {
   "cell_type": "code",
   "execution_count": null,
   "metadata": {},
   "outputs": [
    {
     "data": {
      "image/png": "[encoded data removed]",
      "text/latex": [
       "$\\displaystyle q_{2} = C_{1} e^{- t \\sqrt{- \\frac{g}{\\ell}}} + C_{2} e^{t \\sqrt{- \\frac{g}{\\ell}}}$"
      ],
      "text/plain": [
       "                _____             _____\n",
       "               ╱ -g              ╱ -g  \n",
       "         -t⋅  ╱  ───        t⋅  ╱  ─── \n",
       "            ╲╱   ell          ╲╱   ell \n",
       "q₂ = C₁⋅ℯ             + C₂⋅ℯ           "
      ]
     },
     "execution_count": 363,
     "metadata": {},
     "output_type": "execute_result"
    }
   ],
   "source": [
    "sp.dsolve(sp.diff(q2_dot, t)-q2 * A[1, 0], q2)"
   ]
  },
  {
   "cell_type": "code",
   "execution_count": null,
   "metadata": {},
   "outputs": [
    {
     "data": {
      "image/png": "[encoded data removed]",
      "text/latex": [
       "$\\displaystyle q_{1} = C_{1} + C_{2} t$"
      ],
      "text/plain": [
       "q₁ = C₁ + C₂⋅t"
      ]
     },
     "execution_count": 364,
     "metadata": {},
     "output_type": "execute_result"
    }
   ],
   "source": [
    "sp.dsolve(sp.diff(q1_dot, t)-q1 * A[0, 0], q1)"
   ]
  },
  {
   "cell_type": "code",
   "execution_count": null,
   "metadata": {},
   "outputs": [
    {
     "data": {
      "image/png": "[encoded data removed]",
      "text/latex": [
       "$\\displaystyle \\left\\{ - \\sqrt{- \\frac{g}{\\ell}} : 1, \\  \\sqrt{- \\frac{g}{\\ell}} : 1\\right\\}$"
      ],
      "text/plain": [
       "⎧     _____         _____   ⎫\n",
       "⎪    ╱ -g          ╱ -g     ⎪\n",
       "⎨-  ╱  ─── : 1,   ╱  ─── : 1⎬\n",
       "⎪ ╲╱   ell      ╲╱   ell    ⎪\n",
       "⎩                           ⎭"
      ]
     },
     "execution_count": 365,
     "metadata": {},
     "output_type": "execute_result"
    }
   ],
   "source": [
    "eig = A.eigenvals()\n",
    "\n",
    "eig"
   ]
  },
  {
   "cell_type": "markdown",
   "metadata": {},
   "source": [
    "That shows a more complicated problem that Sympy can solve. Sympy has many modules that allow it to solve many different types of problems, ranging from math to physics to statistics. It is a very powerful tool that can be used to solve many problems. Another thing we will go over is multivariable calculus with Sympy."
   ]
  },
  {
   "cell_type": "markdown",
   "metadata": {},
   "source": [
    "## Multivariable Calculus"
   ]
  },
  {
   "cell_type": "code",
   "execution_count": null,
   "metadata": {},
   "outputs": [],
   "source": [
    "x, y, z, u1, u2, u3, v1, v2, v3, t = sp.symbols('x y z u1 u2 u3 v1 v2 v3 t')"
   ]
  },
  {
   "cell_type": "markdown",
   "metadata": {},
   "source": [
    "### Vectors and Geometry"
   ]
  },
  {
   "cell_type": "code",
   "execution_count": null,
   "metadata": {},
   "outputs": [
    {
     "data": {
      "text/latex": [
       "$\\displaystyle \\left( \\left[\\begin{matrix}u_{1}\\\\u_{2}\\\\u_{3}\\end{matrix}\\right], \\  \\left[\\begin{matrix}v_{1}\\\\v_{2}\\\\v_{3}\\end{matrix}\\right]\\right)$"
      ],
      "text/plain": [
       "⎛⎡u₁⎤  ⎡v₁⎤⎞\n",
       "⎜⎢  ⎥  ⎢  ⎥⎟\n",
       "⎜⎢u₂⎥, ⎢v₂⎥⎟\n",
       "⎜⎢  ⎥  ⎢  ⎥⎟\n",
       "⎝⎣u₃⎦  ⎣v₃⎦⎠"
      ]
     },
     "execution_count": 85,
     "metadata": {},
     "output_type": "execute_result"
    }
   ],
   "source": [
    "u = sp.Matrix([u1, u2, u3])\n",
    "v = sp.Matrix([v1, v2, v3])\n",
    "\n",
    "u, v"
   ]
  },
  {
   "cell_type": "code",
   "execution_count": null,
   "metadata": {},
   "outputs": [
    {
     "data": {
      "text/latex": [
       "$\\displaystyle \\left[\\begin{matrix}2 u_{1} + 3 v_{1}\\\\2 u_{2} + 3 v_{2}\\\\2 u_{3} + 3 v_{3}\\end{matrix}\\right]$"
      ],
      "text/plain": [
       "⎡2⋅u₁ + 3⋅v₁⎤\n",
       "⎢           ⎥\n",
       "⎢2⋅u₂ + 3⋅v₂⎥\n",
       "⎢           ⎥\n",
       "⎣2⋅u₃ + 3⋅v₃⎦"
      ]
     },
     "execution_count": 86,
     "metadata": {},
     "output_type": "execute_result"
    }
   ],
   "source": [
    "2*u + 3*v"
   ]
  },
  {
   "cell_type": "code",
   "execution_count": null,
   "metadata": {},
   "outputs": [
    {
     "data": {
      "image/png": "[encoded data removed]",
      "text/latex": [
       "$\\displaystyle u_{1} v_{1} + u_{2} v_{2} + u_{3} v_{3}$"
      ],
      "text/plain": [
       "u₁⋅v₁ + u₂⋅v₂ + u₃⋅v₃"
      ]
     },
     "execution_count": 89,
     "metadata": {},
     "output_type": "execute_result"
    }
   ],
   "source": [
    "# Dot product\n",
    "u.dot(v)"
   ]
  },
  {
   "cell_type": "code",
   "execution_count": null,
   "metadata": {},
   "outputs": [
    {
     "data": {
      "text/latex": [
       "$\\displaystyle \\left[\\begin{matrix}u_{2} v_{3} - u_{3} v_{2}\\\\- u_{1} v_{3} + u_{3} v_{1}\\\\u_{1} v_{2} - u_{2} v_{1}\\end{matrix}\\right]$"
      ],
      "text/plain": [
       "⎡u₂⋅v₃ - u₃⋅v₂ ⎤\n",
       "⎢              ⎥\n",
       "⎢-u₁⋅v₃ + u₃⋅v₁⎥\n",
       "⎢              ⎥\n",
       "⎣u₁⋅v₂ - u₂⋅v₁ ⎦"
      ]
     },
     "execution_count": 92,
     "metadata": {},
     "output_type": "execute_result"
    }
   ],
   "source": [
    "# Cross product\n",
    "u.cross(v)"
   ]
  },
  {
   "cell_type": "code",
   "execution_count": null,
   "metadata": {},
   "outputs": [
    {
     "data": {
      "image/png": "[encoded data removed]",
      "text/latex": [
       "$\\displaystyle \\sqrt{\\left|{u_{1}}\\right|^{2} + \\left|{u_{2}}\\right|^{2} + \\left|{u_{3}}\\right|^{2}}$"
      ],
      "text/plain": [
       "   _______________________\n",
       "  ╱     2       2       2 \n",
       "╲╱  │u₁│  + │u₂│  + │u₃│  "
      ]
     },
     "execution_count": 93,
     "metadata": {},
     "output_type": "execute_result"
    }
   ],
   "source": [
    "# Norm\n",
    "u.norm()"
   ]
  },
  {
   "cell_type": "code",
   "execution_count": null,
   "metadata": {},
   "outputs": [
    {
     "data": {
      "text/latex": [
       "$\\displaystyle \\left[\\begin{matrix}\\frac{v_{1} \\left(u_{1} v_{1} + u_{2} v_{2} + u_{3} v_{3}\\right)}{v_{1}^{2} + v_{2}^{2} + v_{3}^{2}}\\\\\\frac{v_{2} \\left(u_{1} v_{1} + u_{2} v_{2} + u_{3} v_{3}\\right)}{v_{1}^{2} + v_{2}^{2} + v_{3}^{2}}\\\\\\frac{v_{3} \\left(u_{1} v_{1} + u_{2} v_{2} + u_{3} v_{3}\\right)}{v_{1}^{2} + v_{2}^{2} + v_{3}^{2}}\\end{matrix}\\right]$"
      ],
      "text/plain": [
       "⎡v₁⋅(u₁⋅v₁ + u₂⋅v₂ + u₃⋅v₃)⎤\n",
       "⎢──────────────────────────⎥\n",
       "⎢       2     2     2      ⎥\n",
       "⎢     v₁  + v₂  + v₃       ⎥\n",
       "⎢                          ⎥\n",
       "⎢v₂⋅(u₁⋅v₁ + u₂⋅v₂ + u₃⋅v₃)⎥\n",
       "⎢──────────────────────────⎥\n",
       "⎢       2     2     2      ⎥\n",
       "⎢     v₁  + v₂  + v₃       ⎥\n",
       "⎢                          ⎥\n",
       "⎢v₃⋅(u₁⋅v₁ + u₂⋅v₂ + u₃⋅v₃)⎥\n",
       "⎢──────────────────────────⎥\n",
       "⎢       2     2     2      ⎥\n",
       "⎣     v₁  + v₂  + v₃       ⎦"
      ]
     },
     "execution_count": 94,
     "metadata": {},
     "output_type": "execute_result"
    }
   ],
   "source": [
    "# Projection of u onto v\n",
    "u.project(v)"
   ]
  },
  {
   "cell_type": "markdown",
   "metadata": {},
   "source": [
    "Lines: $\\vec r = \\vec r_0 + t \\vec v$"
   ]
  },
  {
   "cell_type": "code",
   "execution_count": null,
   "metadata": {},
   "outputs": [
    {
     "data": {
      "text/latex": [
       "$\\displaystyle \\left[\\begin{matrix}t u_{1} + z\\\\t u_{2} + y\\\\t u_{3} + z\\end{matrix}\\right]$"
      ],
      "text/plain": [
       "⎡t⋅u₁ + z⎤\n",
       "⎢        ⎥\n",
       "⎢t⋅u₂ + y⎥\n",
       "⎢        ⎥\n",
       "⎣t⋅u₃ + z⎦"
      ]
     },
     "execution_count": 97,
     "metadata": {},
     "output_type": "execute_result"
    }
   ],
   "source": [
    "r0 = sp.Matrix([x, y, z])\n",
    "v = sp.Matrix([u1, u2, u3])\n",
    "r = r0 + v*t\n",
    "\n",
    "r"
   ]
  },
  {
   "cell_type": "markdown",
   "metadata": {},
   "source": [
    "Planes: $\\vec n \\cdot (P_0 - \\langle x, y, z \\rangle) = 0$"
   ]
  },
  {
   "cell_type": "code",
   "execution_count": null,
   "metadata": {},
   "outputs": [
    {
     "data": {
      "image/png": "[encoded data removed]",
      "text/latex": [
       "$\\displaystyle u_{1} \\cdot \\left(1 - z\\right) + u_{2} \\cdot \\left(2 - y\\right) + u_{3} \\cdot \\left(3 - z\\right)$"
      ],
      "text/plain": [
       "u₁⋅(1 - z) + u₂⋅(2 - y) + u₃⋅(3 - z)"
      ]
     },
     "execution_count": 98,
     "metadata": {},
     "output_type": "execute_result"
    }
   ],
   "source": [
    "P0 = sp.Matrix([1, 2, 3])\n",
    "r0 = sp.Matrix([x, y, z])\n",
    "n = sp.Matrix([u1, u2, u3])\n",
    "\n",
    "n.dot(P0 - r0)"
   ]
  },
  {
   "cell_type": "markdown",
   "metadata": {},
   "source": [
    "### Vector Calculus"
   ]
  },
  {
   "cell_type": "markdown",
   "metadata": {},
   "source": [
    "#### Vector Derivatives"
   ]
  },
  {
   "cell_type": "code",
   "execution_count": null,
   "metadata": {},
   "outputs": [
    {
     "data": {
      "text/latex": [
       "$\\displaystyle \\left[\\begin{matrix}4 t\\\\e^{t}\\\\\\cos^{2}{\\left(t \\right)}\\end{matrix}\\right]$"
      ],
      "text/plain": [
       "⎡  4⋅t  ⎤\n",
       "⎢       ⎥\n",
       "⎢   t   ⎥\n",
       "⎢  ℯ    ⎥\n",
       "⎢       ⎥\n",
       "⎢   2   ⎥\n",
       "⎣cos (t)⎦"
      ]
     },
     "execution_count": 115,
     "metadata": {},
     "output_type": "execute_result"
    }
   ],
   "source": [
    "r = sp.Matrix([4*t, sp.exp(t), sp.cos(t)**2])\n",
    "\n",
    "r"
   ]
  },
  {
   "cell_type": "code",
   "execution_count": null,
   "metadata": {},
   "outputs": [
    {
     "data": {
      "text/latex": [
       "$\\displaystyle \\left[\\begin{matrix}4\\\\e^{t}\\\\- 2 \\sin{\\left(t \\right)} \\cos{\\left(t \\right)}\\end{matrix}\\right]$"
      ],
      "text/plain": [
       "⎡       4        ⎤\n",
       "⎢                ⎥\n",
       "⎢        t       ⎥\n",
       "⎢       ℯ        ⎥\n",
       "⎢                ⎥\n",
       "⎣-2⋅sin(t)⋅cos(t)⎦"
      ]
     },
     "execution_count": 100,
     "metadata": {},
     "output_type": "execute_result"
    }
   ],
   "source": [
    "sp.diff(r, t)"
   ]
  },
  {
   "cell_type": "markdown",
   "metadata": {},
   "source": [
    "**Example:** Find the gradient of $f(x, y, z) = x^2 y z^3$"
   ]
  },
  {
   "cell_type": "code",
   "execution_count": null,
   "metadata": {},
   "outputs": [
    {
     "data": {
      "image/png": "[encoded data removed]",
      "text/latex": [
       "$\\displaystyle y + z^{3} + z^{2}$"
      ],
      "text/plain": [
       "     3    2\n",
       "y + z  + z "
      ]
     },
     "execution_count": 110,
     "metadata": {},
     "output_type": "execute_result"
    }
   ],
   "source": [
    "f"
   ]
  },
  {
   "cell_type": "code",
   "execution_count": null,
   "metadata": {},
   "outputs": [
    {
     "data": {
      "text/latex": [
       "$\\displaystyle \\left[\\begin{matrix}2 x\\\\1\\\\3 z^{2}\\end{matrix}\\right]$"
      ],
      "text/plain": [
       "⎡2⋅x ⎤\n",
       "⎢    ⎥\n",
       "⎢ 1  ⎥\n",
       "⎢    ⎥\n",
       "⎢   2⎥\n",
       "⎣3⋅z ⎦"
      ]
     },
     "execution_count": 114,
     "metadata": {},
     "output_type": "execute_result"
    }
   ],
   "source": [
    "f = x**2 + y + z**3\n",
    "\n",
    "# Gradient of f\n",
    "sp.Matrix([sp.diff(f, x), sp.diff(f, y), sp.diff(f, z)])"
   ]
  },
  {
   "cell_type": "markdown",
   "metadata": {},
   "source": [
    "**Example:** Find the angle between the velocity and acceleration of the vector $\\vec r$ as a function of time $\\theta (t)$"
   ]
  },
  {
   "cell_type": "code",
   "execution_count": null,
   "metadata": {},
   "outputs": [
    {
     "data": {
      "image/png": "[encoded data removed]",
      "text/latex": [
       "$\\displaystyle \\operatorname{acos}{\\left(\\frac{e^{2 t} + \\sin{\\left(4 t \\right)}}{\\sqrt{e^{2 \\operatorname{re}{\\left(t\\right)}} + 4 \\left|{\\cos{\\left(2 t \\right)}}\\right|^{2}} \\sqrt{e^{2 \\operatorname{re}{\\left(t\\right)}} + \\left|{\\sin{\\left(2 t \\right)}}\\right|^{2} + 16}} \\right)}$"
      ],
      "text/plain": [
       "    ⎛                        2⋅t                                   ⎞\n",
       "    ⎜                       ℯ    + sin(4⋅t)                        ⎟\n",
       "acos⎜──────────────────────────────────────────────────────────────⎟\n",
       "    ⎜   __________________________    _____________________________⎟\n",
       "    ⎜  ╱  2⋅re(t)               2    ╱  2⋅re(t)             2      ⎟\n",
       "    ⎝╲╱  ℯ        + 4⋅│cos(2⋅t)│  ⋅╲╱  ℯ        + │sin(2⋅t)│  + 16 ⎠"
      ]
     },
     "execution_count": 117,
     "metadata": {},
     "output_type": "execute_result"
    }
   ],
   "source": [
    "v = sp.diff(r, t)\n",
    "a = sp.diff(v, t)\n",
    "theta = sp.acos(v.dot(a)/(v.norm()*a.norm())).simplify()\n",
    "\n",
    "theta"
   ]
  },
  {
   "cell_type": "code",
   "execution_count": null,
   "metadata": {},
   "outputs": [
    {
     "data": {
      "image/png": "[encoded data removed]",
      "text/latex": [
       "$\\displaystyle \\operatorname{acos}{\\left(\\frac{\\sin{\\left(8 \\right)} + e^{4}}{\\sqrt{4 \\cos^{2}{\\left(4 \\right)} + e^{4}} \\sqrt{\\sin^{2}{\\left(4 \\right)} + 16 + e^{4}}} \\right)}$"
      ],
      "text/plain": [
       "    ⎛                         4                ⎞\n",
       "    ⎜               sin(8) + ℯ                 ⎟\n",
       "acos⎜──────────────────────────────────────────⎟\n",
       "    ⎜   ________________    ___________________⎟\n",
       "    ⎜  ╱      2       4    ╱    2            4 ⎟\n",
       "    ⎝╲╱  4⋅cos (4) + ℯ  ⋅╲╱  sin (4) + 16 + ℯ  ⎠"
      ]
     },
     "execution_count": 121,
     "metadata": {},
     "output_type": "execute_result"
    }
   ],
   "source": [
    "theta.subs({t: 2})"
   ]
  },
  {
   "cell_type": "code",
   "execution_count": null,
   "metadata": {},
   "outputs": [
    {
     "data": {
      "image/png": "[encoded data removed]",
      "text/latex": [
       "$\\displaystyle 0.498918679950516$"
      ],
      "text/plain": [
       "0.498918679950516"
      ]
     },
     "execution_count": 122,
     "metadata": {},
     "output_type": "execute_result"
    }
   ],
   "source": [
    "theta.subs({t: 2}).evalf()"
   ]
  },
  {
   "cell_type": "markdown",
   "metadata": {},
   "source": [
    "#### Vector Integrals"
   ]
  },
  {
   "cell_type": "markdown",
   "metadata": {},
   "source": [
    "**Note:** Sympy does not add the constant of integration when evaluating indefinite integrals."
   ]
  },
  {
   "cell_type": "code",
   "execution_count": null,
   "metadata": {},
   "outputs": [
    {
     "data": {
      "text/latex": [
       "$\\displaystyle \\left[\\begin{matrix}\\log{\\left(x \\right)} \\cos{\\left(t \\right)}\\\\\\sin{\\left(t \\right)}\\\\t^{-0.25}\\end{matrix}\\right]$"
      ],
      "text/plain": [
       "⎡log(x)⋅cos(t)⎤\n",
       "⎢             ⎥\n",
       "⎢   sin(t)    ⎥\n",
       "⎢             ⎥\n",
       "⎢    -0.25    ⎥\n",
       "⎣   t         ⎦"
      ]
     },
     "execution_count": 87,
     "metadata": {},
     "output_type": "execute_result"
    }
   ],
   "source": [
    "r = sp.Matrix([sp.cos(t)*sp.ln(x), sp.sin(t), t**-(1/4)])\n",
    "\n",
    "r"
   ]
  },
  {
   "cell_type": "code",
   "execution_count": null,
   "metadata": {},
   "outputs": [
    {
     "data": {
      "text/latex": [
       "$\\displaystyle \\left[\\begin{matrix}\\log{\\left(x \\right)} \\sin{\\left(t \\right)}\\\\- \\cos{\\left(t \\right)}\\\\1.33333333333333 t^{0.75}\\end{matrix}\\right]$"
      ],
      "text/plain": [
       "⎡    log(x)⋅sin(t)     ⎤\n",
       "⎢                      ⎥\n",
       "⎢       -cos(t)        ⎥\n",
       "⎢                      ⎥\n",
       "⎢                  0.75⎥\n",
       "⎣1.33333333333333⋅t    ⎦"
      ]
     },
     "execution_count": 92,
     "metadata": {},
     "output_type": "execute_result"
    }
   ],
   "source": [
    "sp.integrate(r, t)"
   ]
  },
  {
   "cell_type": "markdown",
   "metadata": {},
   "source": [
    "In some cases, integrals cannot be solved analytically. For instance:\n",
    "    \n",
    "$$\n",
    "\\int e^{sin(x)} dx\n",
    "$$"
   ]
  },
  {
   "cell_type": "code",
   "execution_count": null,
   "metadata": {},
   "outputs": [
    {
     "data": {
      "image/png": "[encoded data removed]",
      "text/latex": [
       "$\\displaystyle \\int e^{\\sin{\\left(x \\right)}}\\, dx$"
      ],
      "text/plain": [
       "⌠           \n",
       "⎮  sin(x)   \n",
       "⎮ ℯ       dx\n",
       "⌡           "
      ]
     },
     "execution_count": 94,
     "metadata": {},
     "output_type": "execute_result"
    }
   ],
   "source": [
    "sp.integrate(sp.exp(sp.sin(x)), x)"
   ]
  },
  {
   "cell_type": "markdown",
   "metadata": {},
   "source": [
    "Sympy will just return the integral as is. Instead, we need to use numerical integration, which may be done with SciPy."
   ]
  },
  {
   "cell_type": "code",
   "execution_count": null,
   "metadata": {},
   "outputs": [
    {
     "data": {
      "text/latex": [
       "$\\displaystyle \\left[\\begin{matrix}e^{\\sin{\\left(x \\right)}}\\\\\\sqrt{1 - x^{4}}\\\\\\frac{\\sin{\\left(x \\right)}}{x}\\end{matrix}\\right]$"
      ],
      "text/plain": [
       "⎡   sin(x)  ⎤\n",
       "⎢  ℯ        ⎥\n",
       "⎢           ⎥\n",
       "⎢   ________⎥\n",
       "⎢  ╱      4 ⎥\n",
       "⎢╲╱  1 - x  ⎥\n",
       "⎢           ⎥\n",
       "⎢  sin(x)   ⎥\n",
       "⎢  ──────   ⎥\n",
       "⎣    x      ⎦"
      ]
     },
     "execution_count": 90,
     "metadata": {},
     "output_type": "execute_result"
    }
   ],
   "source": [
    "from scipy.integrate import quad_vec\n",
    "\n",
    "# vector of integrals that cannot be solved analytically\n",
    "r = sp.Matrix([sp.exp(sp.sin(x)), sp.sqrt(1-x**4), sp.sin(x)/x])\n",
    "\n",
    "r"
   ]
  },
  {
   "cell_type": "code",
   "execution_count": null,
   "metadata": {},
   "outputs": [
    {
     "name": "stderr",
     "output_type": "stream",
     "text": [
      "<lambdifygenerated-8>:2: RuntimeWarning: invalid value encountered in scalar divide\n",
      "  return array([[exp(sin(x))], [sqrt(1 - x**4)], [sin(x)/x]])\n"
     ]
    },
    {
     "data": {
      "text/plain": [
       "array([[2.28319452],\n",
       "       [1.74805754],\n",
       "       [       nan]])"
      ]
     },
     "execution_count": 89,
     "metadata": {},
     "output_type": "execute_result"
    }
   ],
   "source": [
    "r_f = sp.lambdify(x, r, 'numpy')\n",
    "\n",
    "quad_vec(r_f, -1, 1)[0]"
   ]
  },
  {
   "cell_type": "markdown",
   "metadata": {},
   "source": [
    "nan is returned by SciPy when the integral is undefined."
   ]
  },
  {
   "cell_type": "markdown",
   "metadata": {},
   "source": [
    "#### Partial Derivatives"
   ]
  },
  {
   "cell_type": "code",
   "execution_count": null,
   "metadata": {},
   "outputs": [],
   "source": [
    "x, y, z = sp.symbols('x y z')"
   ]
  },
  {
   "cell_type": "markdown",
   "metadata": {},
   "source": [
    "Partial derivatives $\\frac{\\partial f}{\\partial x}$ of $f(x, y) = x^2 y + sin(x y)$"
   ]
  },
  {
   "cell_type": "code",
   "execution_count": null,
   "metadata": {},
   "outputs": [
    {
     "data": {
      "image/png": "[encoded data removed]",
      "text/latex": [
       "$\\displaystyle x^{2} y + \\sin{\\left(x y \\right)}$"
      ],
      "text/plain": [
       " 2             \n",
       "x ⋅y + sin(x⋅y)"
      ]
     },
     "execution_count": 93,
     "metadata": {},
     "output_type": "execute_result"
    }
   ],
   "source": [
    "f = x**2 * y + sp.sin(x*y) \n",
    "\n",
    "f"
   ]
  },
  {
   "cell_type": "code",
   "execution_count": null,
   "metadata": {},
   "outputs": [
    {
     "data": {
      "image/png": "[encoded data removed]",
      "text/latex": [
       "$\\displaystyle 2 x y + y \\cos{\\left(x y \\right)}$"
      ],
      "text/plain": [
       "2⋅x⋅y + y⋅cos(x⋅y)"
      ]
     },
     "execution_count": 95,
     "metadata": {},
     "output_type": "execute_result"
    }
   ],
   "source": [
    "sp.diff(f, x)"
   ]
  },
  {
   "cell_type": "code",
   "execution_count": null,
   "metadata": {},
   "outputs": [
    {
     "data": {
      "image/png": "[encoded data removed]",
      "text/latex": [
       "$\\displaystyle x^{2} + x \\cos{\\left(x y \\right)}$"
      ],
      "text/plain": [
       " 2             \n",
       "x  + x⋅cos(x⋅y)"
      ]
     },
     "execution_count": 94,
     "metadata": {},
     "output_type": "execute_result"
    }
   ],
   "source": [
    "sp.diff(f, y)"
   ]
  },
  {
   "cell_type": "markdown",
   "metadata": {},
   "source": [
    "We can take partial derivatives of higher order as well: $\\frac{\\partial^2 f}{\\partial x \\partial y}$"
   ]
  },
  {
   "cell_type": "code",
   "execution_count": null,
   "metadata": {},
   "outputs": [
    {
     "data": {
      "image/png": "[encoded data removed]",
      "text/latex": [
       "$\\displaystyle - x y \\sin{\\left(x y \\right)} + 2 x + \\cos{\\left(x y \\right)}$"
      ],
      "text/plain": [
       "-x⋅y⋅sin(x⋅y) + 2⋅x + cos(x⋅y)"
      ]
     },
     "execution_count": 96,
     "metadata": {},
     "output_type": "execute_result"
    }
   ],
   "source": [
    "sp.diff(f, x, y)"
   ]
  },
  {
   "cell_type": "code",
   "execution_count": null,
   "metadata": {},
   "outputs": [],
   "source": [
    "t = sp.symbols('t')\n",
    "x, y, z, w, u = sp.symbols('x y z w u', cls=sp.Function)"
   ]
  },
  {
   "cell_type": "markdown",
   "metadata": {},
   "source": [
    "* Suppose $x$, $y$, and $z$ are functions of $t$\n",
    "* $w$ is a function of $x$, $y$, and $z$, $ w(x, y, z)$"
   ]
  },
  {
   "cell_type": "markdown",
   "metadata": {},
   "source": [
    "Find $\\frac{dw}{dt}$"
   ]
  },
  {
   "cell_type": "code",
   "execution_count": null,
   "metadata": {},
   "outputs": [],
   "source": [
    "x = x(t)\n",
    "y = y(t)\n",
    "z = z(t)\n",
    "w = w(x, y, z)"
   ]
  },
  {
   "cell_type": "markdown",
   "metadata": {},
   "source": [
    "We can leave them as abstract functions."
   ]
  },
  {
   "cell_type": "code",
   "execution_count": null,
   "metadata": {},
   "outputs": [
    {
     "data": {
      "image/png": "[encoded data removed]",
      "text/latex": [
       "$\\displaystyle \\frac{d}{d x} w{\\left(x,y,z \\right)} \\dot{x} + \\frac{d}{d y} w{\\left(x,y,z \\right)} \\dot{y} + \\frac{d}{d z} w{\\left(x,y,z \\right)} \\dot{z}$"
      ],
      "text/plain": [
       "d                  d                  d               \n",
       "──(w(x, y, z))⋅ẋ + ──(w(x, y, z))⋅ẏ + ──(w(x, y, z))⋅ż\n",
       "dx                 dy                 dz              "
      ]
     },
     "execution_count": 99,
     "metadata": {},
     "output_type": "execute_result"
    }
   ],
   "source": [
    "sp.diff(w, t)"
   ]
  },
  {
   "cell_type": "markdown",
   "metadata": {},
   "source": [
    "Or we may substitute in actual functions."
   ]
  },
  {
   "cell_type": "code",
   "execution_count": null,
   "metadata": {},
   "outputs": [
    {
     "data": {
      "image/png": "[encoded data removed]",
      "text/latex": [
       "$\\displaystyle 3 x^{2} \\log{\\left(x \\right)} + e^{z^{2}} + \\sin{\\left(y \\right)}$"
      ],
      "text/plain": [
       "               ⎛ 2⎞         \n",
       "   2           ⎝z ⎠         \n",
       "3⋅x ⋅log(x) + ℯ     + sin(y)"
      ]
     },
     "execution_count": 103,
     "metadata": {},
     "output_type": "execute_result"
    }
   ],
   "source": [
    "w1 = 3*x**2*sp.ln(x) + sp.sin(y) + sp.exp(z**2)\n",
    "\n",
    "w1"
   ]
  },
  {
   "cell_type": "code",
   "execution_count": null,
   "metadata": {},
   "outputs": [
    {
     "data": {
      "image/png": "[encoded data removed]",
      "text/latex": [
       "$\\displaystyle 2 t e^{t^{2}} + 6 \\log{\\left(\\sin{\\left(t \\right)} \\right)} \\sin{\\left(t \\right)} \\cos{\\left(t \\right)} + 3 \\sin{\\left(t \\right)} \\cos{\\left(t \\right)} - \\sin{\\left(t \\right)} \\cos{\\left(\\cos{\\left(t \\right)} \\right)}$"
      ],
      "text/plain": [
       "     ⎛ 2⎞                                                                     \n",
       "     ⎝t ⎠                                                                     \n",
       "2⋅t⋅ℯ     + 6⋅log(sin(t))⋅sin(t)⋅cos(t) + 3⋅sin(t)⋅cos(t) - sin(t)⋅cos(cos(t))"
      ]
     },
     "execution_count": 106,
     "metadata": {},
     "output_type": "execute_result"
    }
   ],
   "source": [
    "sp.diff(w1, t).subs({x: sp.sin(t), y: sp.cos(t), z: t}).simplify()"
   ]
  },
  {
   "cell_type": "markdown",
   "metadata": {},
   "source": [
    "#### Multiple Integrals"
   ]
  },
  {
   "cell_type": "markdown",
   "metadata": {},
   "source": [
    "In some cases, we can do multiple integrals analytically. For instance:\n",
    "\n",
    "$$\n",
    "\\int \\int e^{x y} dx dy\n",
    "$$"
   ]
  },
  {
   "cell_type": "code",
   "execution_count": null,
   "metadata": {},
   "outputs": [
    {
     "data": {
      "image/png": "[encoded data removed]",
      "text/latex": [
       "$\\displaystyle \\operatorname{Ei}{\\left(x y \\right)}$"
      ],
      "text/plain": [
       "Ei(x⋅y)"
      ]
     },
     "execution_count": 108,
     "metadata": {},
     "output_type": "execute_result"
    }
   ],
   "source": [
    "x, y = sp.symbols('x y')\n",
    "f = sp.exp(x * y)\n",
    "sp.integrate(f, x, y)"
   ]
  }
 ],
 "metadata": {
  "kernelspec": {
   "display_name": "DataAnalysisenv",
   "language": "python",
   "name": "python3"
  },
  "language_info": {
   "codemirror_mode": {
    "name": "ipython",
    "version": 3
   },
   "file_extension": ".py",
   "mimetype": "text/x-python",
   "name": "python",
   "nbconvert_exporter": "python",
   "pygments_lexer": "ipython3",
   "version": "3.11.2"
  },
  "orig_nbformat": 4
 },
 "nbformat": 4,
 "nbformat_minor": 2
}
