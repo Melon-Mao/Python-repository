{
 "cells": [
  {
   "attachments": {},
   "cell_type": "markdown",
   "metadata": {},
   "source": [
    "# I want to simulate a block on an incline plane without friction"
   ]
  },
  {
   "cell_type": "code",
   "execution_count": 118,
   "metadata": {},
   "outputs": [],
   "source": [
    "import numpy as np\n",
    "import sympy as sp"
   ]
  },
  {
   "cell_type": "code",
   "execution_count": 127,
   "metadata": {},
   "outputs": [],
   "source": [
    "class inclined_block:\n",
    "    def __init__(self, mass, angle, coeff_kinetic_friction, grav=9.81, init_vel=0, init_pos=0):\n",
    "        self.init_vel = init_vel\n",
    "        self.init_pos = init_pos\n",
    "        \n",
    "        self.mass = mass\n",
    "        self.angle = angle * np.pi / 180\n",
    "        self.coeff_kinetic_friction = coeff_kinetic_friction\n",
    "        self.grav = grav # gravitational acceleration (m/s^2)\n",
    "        \n",
    "        self.m = sp.symbols('m') # mass (kg)\n",
    "        self.θ = sp.symbols('θ') # angle of incline (radians)\n",
    "        self.mu_k = sp.symbols('mu_k') # coefficient of kinetic friction (unitless)\n",
    "        self.g = sp.symbols('g') # gravitational acceleration (m/s^2)\n",
    "        \n",
    "        \n",
    "        self.accel = self.acceleration_func()\n",
    "        self.vel = self.velocity_func()\n",
    "        self.pos = self.position_func()\n",
    "        \n",
    "    def acceleration_func(self):\n",
    "        mu_k = self.mu_k\n",
    "        θ = self.θ\n",
    "        g = sp.symbols('g')\n",
    "        \n",
    "        return g*(sp.sin(θ) - mu_k * sp.cos(θ))\n",
    "    \n",
    "    def get_acceleration(self):\n",
    "        return self.accel.subs([(self.θ, self.angle), (self.mu_k, self.coeff_kinetic_friction), (self.m, self.mass), (self.g, self.grav)])\n",
    "    \n",
    "    def velocity_func(self):\n",
    "        a = self.acceleration_func()\n",
    "        t = sp.symbols('t')\n",
    "    \n",
    "        # integrate acceleration to get velocity\n",
    "    \n",
    "        return sp.integrate(a, t) + self.init_vel\n",
    "    \n",
    "    def get_velocity(self, time):\n",
    "        return self.vel.subs([(self.θ, self.angle), (self.mu_k, self.coeff_kinetic_friction), (self.m, self.mass), (self.g, self.grav), (sp.symbols('t'), time)])\n",
    "    \n",
    "    def position_func(self):\n",
    "        v = self.velocity_func()\n",
    "        t = sp.symbols('t')\n",
    "    \n",
    "        # integrate velocity to get position\n",
    "    \n",
    "        return sp.integrate(v, t) + self.init_pos\n",
    "    \n",
    "    def get_position(self, time):\n",
    "        return self.pos.subs([(self.θ, self.angle), (self.mu_k, self.coeff_kinetic_friction), (self.m, self.mass), (self.g, self.grav), (sp.symbols('t'), time)])"
   ]
  },
  {
   "cell_type": "code",
   "execution_count": 128,
   "metadata": {},
   "outputs": [
    {
     "data": {
      "text/latex": [
       "$\\displaystyle g \\left(- \\mu_{k} \\cos{\\left(θ \\right)} + \\sin{\\left(θ \\right)}\\right)$"
      ],
      "text/plain": [
       "g*(-mu_k*cos(θ) + sin(θ))"
      ]
     },
     "execution_count": 128,
     "metadata": {},
     "output_type": "execute_result"
    }
   ],
   "source": [
    "problem1 = inclined_block(1, 90, 0.1)\n",
    "\n",
    "problem1.accel"
   ]
  },
  {
   "cell_type": "code",
   "execution_count": 130,
   "metadata": {},
   "outputs": [
    {
     "name": "stdout",
     "output_type": "stream",
     "text": [
      "9.81000000000000\n",
      "49.0500000000000\n",
      "122.625000000000\n"
     ]
    }
   ],
   "source": [
    "print(problem1.get_acceleration())\n",
    "print(problem1.get_velocity(5))\n",
    "print(problem1.get_position(5))"
   ]
  },
  {
   "cell_type": "code",
   "execution_count": 122,
   "metadata": {},
   "outputs": [
    {
     "data": {
      "text/latex": [
       "$\\displaystyle g t \\left(- \\mu_{k} \\cos{\\left(θ \\right)} + \\sin{\\left(θ \\right)}\\right)$"
      ],
      "text/plain": [
       "g*t*(-mu_k*cos(θ) + sin(θ))"
      ]
     },
     "execution_count": 122,
     "metadata": {},
     "output_type": "execute_result"
    }
   ],
   "source": [
    "problem1.vel"
   ]
  },
  {
   "cell_type": "code",
   "execution_count": 131,
   "metadata": {},
   "outputs": [
    {
     "data": {
      "text/latex": [
       "$\\displaystyle t^{2} \\left(- \\frac{g \\mu_{k} \\cos{\\left(θ \\right)}}{2} + \\frac{g \\sin{\\left(θ \\right)}}{2}\\right)$"
      ],
      "text/plain": [
       "t**2*(-g*mu_k*cos(θ)/2 + g*sin(θ)/2)"
      ]
     },
     "execution_count": 131,
     "metadata": {},
     "output_type": "execute_result"
    }
   ],
   "source": [
    "problem1.pos"
   ]
  }
 ],
 "metadata": {
  "kernelspec": {
   "display_name": "DataAnalysisenv",
   "language": "python",
   "name": "python3"
  },
  "language_info": {
   "codemirror_mode": {
    "name": "ipython",
    "version": 3
   },
   "file_extension": ".py",
   "mimetype": "text/x-python",
   "name": "python",
   "nbconvert_exporter": "python",
   "pygments_lexer": "ipython3",
   "version": "3.11.2"
  },
  "orig_nbformat": 4
 },
 "nbformat": 4,
 "nbformat_minor": 2
}
