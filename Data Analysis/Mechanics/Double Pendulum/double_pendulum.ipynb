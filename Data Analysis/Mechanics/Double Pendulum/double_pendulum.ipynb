{
 "cells": [
  {
   "cell_type": "code",
   "execution_count": 212,
   "metadata": {},
   "outputs": [],
   "source": [
    "import numpy as np\n",
    "from scipy.integrate import solve_ivp\n",
    "\n",
    "import sympy as sp\n",
    "from sympy.physics.mechanics import dynamicsymbols, init_vprinting\n",
    "\n",
    "init_vprinting()"
   ]
  },
  {
   "attachments": {},
   "cell_type": "markdown",
   "metadata": {},
   "source": [
    "<img src=\"pendulum_sketch.png\" alt=\"pendulum\" width=\"300\"/>"
   ]
  },
  {
   "attachments": {},
   "cell_type": "markdown",
   "metadata": {},
   "source": [
    "$$\n",
    "x_{m_1} = \\ell_1 \\sin(\\theta_1)  ~~~~~~~~~~~~~~~~~~~~~~~ y_{m_1} = - \\ell_1 cos(\\theta_1)\n",
    "\\newline\n",
    "\\dot x_{m_1} = \\ell_1 \\dot \\theta_1 cos(\\theta_1) ~~~~~~~~~~~~~~~~~~~~~~~ \\dot y_{m_1} = \\ell_1 \\dot \\theta_1 (sin \\theta_1)\n",
    "$$"
   ]
  },
  {
   "attachments": {},
   "cell_type": "markdown",
   "metadata": {},
   "source": [
    "$$\n",
    "x_{m_2} = \\ell_1 \\sin(\\theta_1) + \\ell_2 \\sin(\\theta_2)  ~~~~~~~~~~~~~~~~~~~~~~~ y_{m_2} = - \\ell_1 cos(\\theta_1) - \\ell_2 cos(\\theta_2)\n",
    "\\newline\n",
    "\\dot x_{m_2} = \\ell_1 \\dot \\theta_1 cos(\\theta_1) + \\ell_2 \\dot \\theta_2 cos(\\theta_2) ~~~~~~~~~~~~~~~~~~~~~~~ \\dot y_{m_2} = \\ell_1 \\dot \\theta_1 (sin \\theta_1) + \\ell_2 \\dot \\theta_2 (sin \\theta_2)\n",
    "$$"
   ]
  },
  {
   "attachments": {},
   "cell_type": "markdown",
   "metadata": {},
   "source": [
    "$$\n",
    "T = \\frac{1}{2} m_1 v_1^2 + \\frac{1}{2} m_2 v_2^2 ~~~~~~~~~~~~~~~~~~~~~~~ V = m_1 g h_1 + m_2 g h_2\n",
    "$$"
   ]
  },
  {
   "attachments": {},
   "cell_type": "markdown",
   "metadata": {},
   "source": [
    "$$\n",
    "T = \\frac{1}{2} m_1 (\\dot x_{m_1}^2 + \\dot y_{m_1}^2) + \\frac{1}{2} m_2 (\\dot x_{m_2}^2 + \\dot y_{m_2}^2) ~~~~~~~~~~~~~~~~~~~~~~~ V = m_1 g y_{m_1} + m_2 g y_{m_2}\n",
    "$$"
   ]
  },
  {
   "cell_type": "code",
   "execution_count": 69,
   "metadata": {},
   "outputs": [],
   "source": [
    "# Create symbolic variables\n",
    "m_1, m_2, ell_1, ell_2, g, t = sp.symbols('m_1, m_2, ell_1, ell_2, g, t')\n",
    "theta_1, theta_2 = dynamicsymbols('theta_1, theta_2')\n",
    "\n",
    "# Define xm1, ym1, xm2, ym2\n",
    "xm1 = ell_1 * sp.sin(theta_1)\n",
    "ym1 = -ell_1 * sp.cos(theta_1)\n",
    "xm2 = xm1 + ell_2 * sp.sin(theta_2)\n",
    "ym2 = ym1 - ell_2 * sp.cos(theta_2)\n",
    "\n",
    "# Derivatives of xm1, ym1, xm2, ym2\n",
    "xm1_dot = sp.diff(xm1, t)\n",
    "ym1_dot = sp.diff(ym1, t)\n",
    "xm2_dot = sp.diff(xm2, t)\n",
    "ym2_dot = sp.diff(ym2, t)\n",
    "\n",
    "theta_1_dot = sp.diff(theta_1, t)\n",
    "theta_2_dot = sp.diff(theta_2, t)\n",
    "theta_1_ddot = sp.diff(theta_1_dot, t)\n",
    "theta_2_ddot = sp.diff(theta_2_dot, t)\n",
    "\n",
    "# Lagrangian\n",
    "T = sp.Rational(1,2) * m_1 * (xm1_dot**2 + ym1_dot**2) + sp.Rational(1,2) * m_2 * (xm2_dot**2 + ym2_dot**2)\n",
    "V = m_1 * g * ym1 + m_2 * g * ym2\n",
    "\n",
    "L = T - V"
   ]
  },
  {
   "cell_type": "code",
   "execution_count": 164,
   "metadata": {},
   "outputs": [
    {
     "name": "stdout",
     "output_type": "stream",
     "text": [
      "Lagrangian:\n"
     ]
    },
    {
     "data": {
      "image/png": "[encoded data removed]",
      "text/latex": [
       "$\\displaystyle \\frac{\\ell_{1}^{2} m_{1} \\dot{\\theta}_{1}^{2}}{2} + \\ell_{1} g m_{1} \\cos{\\left(\\theta_{1} \\right)} + g m_{2} \\left(\\ell_{1} \\cos{\\left(\\theta_{1} \\right)} + \\ell_{2} \\cos{\\left(\\theta_{2} \\right)}\\right) + \\frac{m_{2} \\left(\\ell_{1}^{2} \\dot{\\theta}_{1}^{2} + 2 \\ell_{1} \\ell_{2} \\cos{\\left(\\theta_{1} - \\theta_{2} \\right)} \\dot{\\theta}_{1} \\dot{\\theta}_{2} + \\ell_{2}^{2} \\dot{\\theta}_{2}^{2}\\right)}{2}$"
      ],
      "text/plain": [
       "    2      2                                                               ⎛  \n",
       "ell₁ ⋅m₁⋅θ₁̇                                                             m₂⋅⎝e\n",
       "──────────── + ell₁⋅g⋅m₁⋅cos(θ₁) + g⋅m₂⋅(ell₁⋅cos(θ₁) + ell₂⋅cos(θ₂)) + ──────\n",
       "     2                                                                        \n",
       "\n",
       "  2   2                                        2   2⎞\n",
       "ll₁ ⋅θ₁̇  + 2⋅ell₁⋅ell₂⋅cos(θ₁ - θ₂)⋅θ₁̇⋅θ₂̇ + ell₂ ⋅θ₂̇ ⎠\n",
       "─────────────────────────────────────────────────────\n",
       "                       2                             "
      ]
     },
     "execution_count": 164,
     "metadata": {},
     "output_type": "execute_result"
    }
   ],
   "source": [
    "print('Lagrangian:')\n",
    "L.simplify()"
   ]
  },
  {
   "attachments": {},
   "cell_type": "markdown",
   "metadata": {},
   "source": [
    "$$\n",
    "p_{\\theta_1} = \\dfrac{\\partial L}{\\partial \\dot \\theta_1}, ~\n",
    "p_{\\theta_2} = \\dfrac{\\partial L}{\\partial \\dot \\theta_2}\n",
    "$$"
   ]
  },
  {
   "cell_type": "code",
   "execution_count": 71,
   "metadata": {},
   "outputs": [],
   "source": [
    "# Canonical Momentum\n",
    "p_theta_1 = sp.diff(L, theta_1_dot)\n",
    "p_theta_2 = sp.diff(L, theta_2_dot)"
   ]
  },
  {
   "cell_type": "code",
   "execution_count": 72,
   "metadata": {},
   "outputs": [
    {
     "data": {
      "image/png": "[encoded data removed]",
      "text/latex": [
       "$\\displaystyle \\left( \\ell_{1} \\left(\\ell_{1} m_{1} \\dot{\\theta}_{1} + m_{2} \\left(\\ell_{1} \\dot{\\theta}_{1} + \\ell_{2} \\cos{\\left(\\theta_{1} - \\theta_{2} \\right)} \\dot{\\theta}_{2}\\right)\\right), \\  \\ell_{2} m_{2} \\left(\\ell_{1} \\cos{\\left(\\theta_{1} - \\theta_{2} \\right)} \\dot{\\theta}_{1} + \\ell_{2} \\dot{\\theta}_{2}\\right)\\right)$"
      ],
      "text/plain": [
       "(ell₁⋅(ell₁⋅m₁⋅θ₁̇ + m₂⋅(ell₁⋅θ₁̇ + ell₂⋅cos(θ₁ - θ₂)⋅θ₂̇)), ell₂⋅m₂⋅(ell₁⋅cos\n",
       "(θ₁ - θ₂)⋅θ₁̇ + ell₂⋅θ₂̇))"
      ]
     },
     "execution_count": 72,
     "metadata": {},
     "output_type": "execute_result"
    }
   ],
   "source": [
    "p_theta_1.simplify(), p_theta_2.simplify()"
   ]
  },
  {
   "attachments": {},
   "cell_type": "markdown",
   "metadata": {},
   "source": [
    "$$\n",
    "\\dfrac{d}{dt} \\bigg( \\dfrac{\\partial L}{\\partial \\dot q} \\bigg) - \\dfrac{\\partial L}{\\partial q} = 0\n",
    "$$"
   ]
  },
  {
   "attachments": {},
   "cell_type": "markdown",
   "metadata": {},
   "source": [
    "$$\n",
    "\\dfrac{d}{dt} \\bigg( \\dfrac{\\partial L}{\\partial \\dot \\theta_i} \\bigg) - \\dfrac{\\partial L}{\\partial \\theta_i} = 0\n",
    "\\implies\n",
    "\\dfrac{d p_{\\theta_i}}{dt} - \\dfrac{\\partial L}{\\partial \\theta_i} = 0\n",
    "$$"
   ]
  },
  {
   "cell_type": "code",
   "execution_count": 194,
   "metadata": {},
   "outputs": [],
   "source": [
    "# Euler-Lagrange Equations\n",
    "eq1 = sp.Eq(sp.diff(p_theta_1, t) - sp.diff(L, theta_1), 0).simplify()\n",
    "eq2 = sp.Eq(sp.diff(p_theta_2, t) - sp.diff(L, theta_2), 0).simplify()"
   ]
  },
  {
   "cell_type": "code",
   "execution_count": 195,
   "metadata": {},
   "outputs": [
    {
     "data": {
      "image/png": "[encoded data removed]",
      "text/latex": [
       "$\\displaystyle \\left( \\ell_{1} \\left(\\ell_{1} m_{1} \\ddot{\\theta}_{1} + \\ell_{1} m_{2} \\ddot{\\theta}_{1} + \\ell_{2} m_{2} \\sin{\\left(\\theta_{1} - \\theta_{2} \\right)} \\dot{\\theta}_{2}^{2} + \\ell_{2} m_{2} \\cos{\\left(\\theta_{1} - \\theta_{2} \\right)} \\ddot{\\theta}_{2} + g m_{1} \\sin{\\left(\\theta_{1} \\right)} + g m_{2} \\sin{\\left(\\theta_{1} \\right)}\\right) = 0, \\  \\ell_{2} m_{2} \\left(- \\ell_{1} \\sin{\\left(\\theta_{1} - \\theta_{2} \\right)} \\dot{\\theta}_{1}^{2} + \\ell_{1} \\cos{\\left(\\theta_{1} - \\theta_{2} \\right)} \\ddot{\\theta}_{1} + \\ell_{2} \\ddot{\\theta}_{2} + g \\sin{\\left(\\theta_{2} \\right)}\\right) = 0\\right)$"
      ],
      "text/plain": [
       "⎛     ⎛                                                 2                     \n",
       "⎝ell₁⋅⎝ell₁⋅m₁⋅θ₁̈ + ell₁⋅m₂⋅θ₁̈ + ell₂⋅m₂⋅sin(θ₁ - θ₂)⋅θ₂̇  + ell₂⋅m₂⋅cos(θ₁ \n",
       "\n",
       "                                   ⎞              ⎛                      2    \n",
       "- θ₂)⋅θ₂̈ + g⋅m₁⋅sin(θ₁) + g⋅m₂⋅sin(θ₁)⎠ = 0, ell₂⋅m₂⋅⎝- ell₁⋅sin(θ₁ - θ₂)⋅θ₁̇\n",
       "\n",
       "                                         ⎞    ⎞\n",
       "  + ell₁⋅cos(θ₁ - θ₂)⋅θ₁̈ + ell₂⋅θ₂̈ + g⋅sin(θ₂)⎠ = 0⎠"
      ]
     },
     "execution_count": 195,
     "metadata": {},
     "output_type": "execute_result"
    }
   ],
   "source": [
    "eq1, eq2"
   ]
  },
  {
   "cell_type": "code",
   "execution_count": 199,
   "metadata": {},
   "outputs": [],
   "source": [
    "# Solve Equations\n",
    "solutions = sp.solve([eq1, eq2], [theta_1_ddot, theta_2_ddot])\n",
    "solution1 = solutions[theta_1_ddot]\n",
    "solution2 = solutions[theta_2_ddot]"
   ]
  },
  {
   "cell_type": "code",
   "execution_count": 200,
   "metadata": {},
   "outputs": [
    {
     "data": {
      "image/png": "[encoded data removed]",
      "text/latex": [
       "$\\displaystyle \\ddot{\\theta}_{1} = \\frac{\\ell_{1} m_{2} \\sin{\\left(\\theta_{1} - \\theta_{2} \\right)} \\cos{\\left(\\theta_{1} - \\theta_{2} \\right)} \\dot{\\theta}_{1}^{2}}{- \\ell_{1} m_{1} + \\ell_{1} m_{2} \\cos^{2}{\\left(\\theta_{1} - \\theta_{2} \\right)} - \\ell_{1} m_{2}} + \\frac{\\ell_{2} m_{2} \\sin{\\left(\\theta_{1} - \\theta_{2} \\right)} \\dot{\\theta}_{2}^{2}}{- \\ell_{1} m_{1} + \\ell_{1} m_{2} \\cos^{2}{\\left(\\theta_{1} - \\theta_{2} \\right)} - \\ell_{1} m_{2}} + \\frac{g m_{1} \\sin{\\left(\\theta_{1} \\right)}}{- \\ell_{1} m_{1} + \\ell_{1} m_{2} \\cos^{2}{\\left(\\theta_{1} - \\theta_{2} \\right)} - \\ell_{1} m_{2}} + \\frac{g m_{2} \\sin{\\left(\\theta_{1} \\right)}}{- \\ell_{1} m_{1} + \\ell_{1} m_{2} \\cos^{2}{\\left(\\theta_{1} - \\theta_{2} \\right)} - \\ell_{1} m_{2}} - \\frac{g m_{2} \\sin{\\left(\\theta_{2} \\right)} \\cos{\\left(\\theta_{1} - \\theta_{2} \\right)}}{- \\ell_{1} m_{1} + \\ell_{1} m_{2} \\cos^{2}{\\left(\\theta_{1} - \\theta_{2} \\right)} - \\ell_{1} m_{2}}$"
      ],
      "text/plain": [
       "                                           2                                  \n",
       "       ell₁⋅m₂⋅sin(θ₁ - θ₂)⋅cos(θ₁ - θ₂)⋅θ₁̇              ell₂⋅m₂⋅sin(θ₁ - θ₂)\n",
       "θ₁̈ = ────────────────────────────────────────── + ───────────────────────────\n",
       "                           2                                            2     \n",
       "     -ell₁⋅m₁ + ell₁⋅m₂⋅cos (θ₁ - θ₂) - ell₁⋅m₂   -ell₁⋅m₁ + ell₁⋅m₂⋅cos (θ₁ -\n",
       "\n",
       "    2                                                                         \n",
       "⋅θ₂̇                            g⋅m₁⋅sin(θ₁)                                 g\n",
       "─────────────── + ────────────────────────────────────────── + ───────────────\n",
       "                                       2                                      \n",
       " θ₂) - ell₁⋅m₂   -ell₁⋅m₁ + ell₁⋅m₂⋅cos (θ₁ - θ₂) - ell₁⋅m₂   -ell₁⋅m₁ + ell₁⋅\n",
       "\n",
       "                                                                       \n",
       "⋅m₂⋅sin(θ₁)                          g⋅m₂⋅sin(θ₂)⋅cos(θ₁ - θ₂)         \n",
       "─────────────────────────── - ──────────────────────────────────────────\n",
       "      2                                            2                   \n",
       "m₂⋅cos (θ₁ - θ₂) - ell₁⋅m₂   -ell₁⋅m₁ + ell₁⋅m₂⋅cos (θ₁ - θ₂) - ell₁⋅m₂"
      ]
     },
     "execution_count": 200,
     "metadata": {},
     "output_type": "execute_result"
    }
   ],
   "source": [
    "sp.Eq(theta_1_ddot, solution1)"
   ]
  },
  {
   "cell_type": "code",
   "execution_count": 201,
   "metadata": {},
   "outputs": [
    {
     "data": {
      "image/png": "[encoded data removed]",
      "text/latex": [
       "$\\displaystyle \\ddot{\\theta}_{2} = - \\frac{\\ell_{1} m_{1} \\sin{\\left(\\theta_{1} - \\theta_{2} \\right)} \\dot{\\theta}_{1}^{2}}{- \\ell_{2} m_{1} + \\ell_{2} m_{2} \\cos^{2}{\\left(\\theta_{1} - \\theta_{2} \\right)} - \\ell_{2} m_{2}} - \\frac{\\ell_{1} m_{2} \\sin{\\left(\\theta_{1} - \\theta_{2} \\right)} \\dot{\\theta}_{1}^{2}}{- \\ell_{2} m_{1} + \\ell_{2} m_{2} \\cos^{2}{\\left(\\theta_{1} - \\theta_{2} \\right)} - \\ell_{2} m_{2}} - \\frac{\\ell_{2} m_{2} \\sin{\\left(\\theta_{1} - \\theta_{2} \\right)} \\cos{\\left(\\theta_{1} - \\theta_{2} \\right)} \\dot{\\theta}_{2}^{2}}{- \\ell_{2} m_{1} + \\ell_{2} m_{2} \\cos^{2}{\\left(\\theta_{1} - \\theta_{2} \\right)} - \\ell_{2} m_{2}} - \\frac{g m_{1} \\sin{\\left(\\theta_{1} \\right)} \\cos{\\left(\\theta_{1} - \\theta_{2} \\right)}}{- \\ell_{2} m_{1} + \\ell_{2} m_{2} \\cos^{2}{\\left(\\theta_{1} - \\theta_{2} \\right)} - \\ell_{2} m_{2}} + \\frac{g m_{1} \\sin{\\left(\\theta_{2} \\right)}}{- \\ell_{2} m_{1} + \\ell_{2} m_{2} \\cos^{2}{\\left(\\theta_{1} - \\theta_{2} \\right)} - \\ell_{2} m_{2}} - \\frac{g m_{2} \\sin{\\left(\\theta_{1} \\right)} \\cos{\\left(\\theta_{1} - \\theta_{2} \\right)}}{- \\ell_{2} m_{1} + \\ell_{2} m_{2} \\cos^{2}{\\left(\\theta_{1} - \\theta_{2} \\right)} - \\ell_{2} m_{2}} + \\frac{g m_{2} \\sin{\\left(\\theta_{2} \\right)}}{- \\ell_{2} m_{1} + \\ell_{2} m_{2} \\cos^{2}{\\left(\\theta_{1} - \\theta_{2} \\right)} - \\ell_{2} m_{2}}$"
      ],
      "text/plain": [
       "                                       2                                      \n",
       "               ell₁⋅m₁⋅sin(θ₁ - θ₂)⋅θ₁̇                     ell₁⋅m₂⋅sin(θ₁ - θ\n",
       "θ₂̈ = - ────────────────────────────────────────── - ─────────────────────────\n",
       "                             2                                            2   \n",
       "       -ell₂⋅m₁ + ell₂⋅m₂⋅cos (θ₁ - θ₂) - ell₂⋅m₂   -ell₂⋅m₁ + ell₂⋅m₂⋅cos (θ₁\n",
       "\n",
       "      2                                                  2                    \n",
       "₂)⋅θ₁̇               ell₂⋅m₂⋅sin(θ₁ - θ₂)⋅cos(θ₁ - θ₂)⋅θ₂̇              g⋅m₁⋅s\n",
       "───────────────── - ────────────────────────────────────────── - ─────────────\n",
       "                                         2                                    \n",
       " - θ₂) - ell₂⋅m₂   -ell₂⋅m₁ + ell₂⋅m₂⋅cos (θ₁ - θ₂) - ell₂⋅m₂   -ell₂⋅m₁ + ell\n",
       "\n",
       "                                                                              \n",
       "in(θ₁)⋅cos(θ₁ - θ₂)                           g⋅m₁⋅sin(θ₂)                    \n",
       "───────────────────────────── + ────────────────────────────────────────── - ─\n",
       "        2                                            2                        \n",
       "₂⋅m₂⋅cos (θ₁ - θ₂) - ell₂⋅m₂   -ell₂⋅m₁ + ell₂⋅m₂⋅cos (θ₁ - θ₂) - ell₂⋅m₂   -e\n",
       "\n",
       "                                                                              \n",
       "      g⋅m₂⋅sin(θ₁)⋅cos(θ₁ - θ₂)                           g⋅m₂⋅sin(θ₂)        \n",
       "───────────────────────────────────────── + ──────────────────────────────────\n",
       "                    2                                            2            \n",
       "ll₂⋅m₁ + ell₂⋅m₂⋅cos (θ₁ - θ₂) - ell₂⋅m₂   -ell₂⋅m₁ + ell₂⋅m₂⋅cos (θ₁ - θ₂) - \n",
       "\n",
       "       \n",
       "       \n",
       "────────\n",
       "       \n",
       "ell₂⋅m₂"
      ]
     },
     "execution_count": 201,
     "metadata": {},
     "output_type": "execute_result"
    }
   ],
   "source": [
    "sp.Eq(theta_2_ddot, solution2)"
   ]
  },
  {
   "attachments": {},
   "cell_type": "markdown",
   "metadata": {},
   "source": [
    "We must decompose the second order ODEs into a system of first order ODEs. Any second order ODE can be split into 2 first order ODEs by defining a new variable as the derivate of the original variable:\n",
    "\n",
    "$$\n",
    "\\dot \\theta_1 = \\omega_1 ~~~~~~~~~~~~~~~~~~~~~~~ \\dot \\theta_2 = \\omega_2\n",
    "$$\n",
    "$$\n",
    "\\ddot \\theta_1 = \\dot \\omega_1 ~~~~~~~~~~~~~~~~~~~~~~~ \\ddot \\theta_2 = \\dot \\omega_2\n",
    "$$\n",
    "\n",
    "Now we have 4 first order ODEs:\n",
    "* $\\dot \\theta_1 = \\omega_1$\n",
    "* $\\dot \\theta_2 = \\omega_2$\n",
    "* $\\dot \\omega_1 = ...$\n",
    "* $\\dot \\omega_2 = ...$\n",
    "\n",
    "Now we convert the **symboilc** equations into **numeric** functions with the sympy function `lamdify()`:"
   ]
  },
  {
   "cell_type": "code",
   "execution_count": 202,
   "metadata": {},
   "outputs": [],
   "source": [
    "omega_1_dot_f = sp.lambdify((t, g, ell_1, ell_2, m_1, m_2, theta_1, theta_2, theta_1_dot, theta_2_dot), solution1)\n",
    "omega_2_dot_f = sp.lambdify((t, g, ell_1, ell_2, m_1, m_2, theta_1, theta_2, theta_1_dot, theta_2_dot), solution2)\n",
    "theta_1_dot_f = sp.lambdify(theta_1_dot, theta_1_dot)\n",
    "theta_2_dot_f = sp.lambdify(theta_2_dot, theta_2_dot)"
   ]
  },
  {
   "attachments": {},
   "cell_type": "markdown",
   "metadata": {},
   "source": [
    "We must define $\\vec S = [\\theta_1, \\theta_2, \\omega_1, \\omega_2]$ which is a vector that's the system of ODEs. To use a differential equation solver, we must define a function that takes $\\vec S$ and $t$ as arguments and returns the derivative of $\\vec S$ with respect to $t$, $\\dfrac{d \\vec S}{dt}$ or $\\dot{\\vec S}$."
   ]
  },
  {
   "cell_type": "code",
   "execution_count": 217,
   "metadata": {},
   "outputs": [],
   "source": [
    "def S_dot(t, S, g, ell_1, ell_2, m_1, m_2):\n",
    "    theta_1, theta_2, omega_1, omega_2 = S\n",
    "    return [\n",
    "        theta_1_dot_f(omega_1),\n",
    "        theta_2_dot_f(omega_2),\n",
    "        omega_1_dot_f(t, g, ell_1, ell_2, m_1, m_2, theta_1, theta_2, omega_1, omega_2),\n",
    "        omega_2_dot_f(t, g, ell_1, ell_2, m_1, m_2, theta_1, theta_2, omega_1, omega_2)\n",
    "    ]"
   ]
  },
  {
   "cell_type": "code",
   "execution_count": 220,
   "metadata": {},
   "outputs": [],
   "source": [
    "g = 9.81\n",
    "\n",
    "m_1 = 1\n",
    "m_2 = 1\n",
    "\n",
    "ell_1 = 1\n",
    "ell_2 = 1\n",
    "\n",
    "# Initial conditions theta_1_0 = theta_1_0 = 30°, theta_2 = 30°, v_1 = v_2 = 0 ms^-1\n",
    "theta_1_0 = np.deg2rad(30)\n",
    "theta_2_0 = np.deg2rad(30)\n",
    "theta_1_dot_0 = 0\n",
    "theta_2_dot_0 = 0\n",
    "\n",
    "time_frame = [0, 40]\n",
    "t_eval = np.linspace(0, 40, 1000)\n",
    "\n",
    "sol = solve_ivp(\n",
    "    S_dot,\n",
    "    time_frame,\n",
    "    (theta_1_0, theta_2_0, theta_1_dot_0, theta_2_dot_0),\n",
    "    t_eval=t_eval,\n",
    "    args=(g, ell_1, ell_2, m_1, m_2),\n",
    ")"
   ]
  }
 ],
 "metadata": {
  "kernelspec": {
   "display_name": "DataAnalysisenv",
   "language": "python",
   "name": "python3"
  },
  "language_info": {
   "codemirror_mode": {
    "name": "ipython",
    "version": 3
   },
   "file_extension": ".py",
   "mimetype": "text/x-python",
   "name": "python",
   "nbconvert_exporter": "python",
   "pygments_lexer": "ipython3",
   "version": "3.11.2"
  },
  "orig_nbformat": 4
 },
 "nbformat": 4,
 "nbformat_minor": 2
}
