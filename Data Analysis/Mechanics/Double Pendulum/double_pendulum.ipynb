{
 "cells": [
  {
   "cell_type": "code",
   "execution_count": 1,
   "metadata": {},
   "outputs": [],
   "source": [
    "import sympy as sp\n",
    "from sympy.physics.mechanics import dynamicsymbols, init_vprinting\n",
    "\n",
    "init_vprinting()"
   ]
  },
  {
   "attachments": {},
   "cell_type": "markdown",
   "metadata": {},
   "source": [
    "<img src=\"pendulum_sketch.png\" alt=\"pendulum\" width=\"300\"/>"
   ]
  },
  {
   "attachments": {},
   "cell_type": "markdown",
   "metadata": {},
   "source": [
    "$$\n",
    "x_{m_1} = \\ell_1 \\sin(\\theta_1)  ~~~~~~~~~~~~~~~~~~~~~~~ y_{m_1} = - \\ell_1 cos(\\theta_1)\n",
    "\\newline\n",
    "\\dot x_{m_1} = \\ell_1 \\dot \\theta_1 cos(\\theta_1) ~~~~~~~~~~~~~~~~~~~~~~~ \\dot y_{m_1} = \\ell_1 \\dot \\theta_1 (sin \\theta_1)\n",
    "$$"
   ]
  },
  {
   "attachments": {},
   "cell_type": "markdown",
   "metadata": {},
   "source": [
    "$$\n",
    "x_{m_2} = \\ell_1 \\sin(\\theta_1) + \\ell_2 \\sin(\\theta_2)  ~~~~~~~~~~~~~~~~~~~~~~~ y_{m_2} = - \\ell_1 cos(\\theta_1) - \\ell_2 cos(\\theta_2)\n",
    "\\newline\n",
    "\\dot x_{m_2} = \\ell_1 \\dot \\theta_1 cos(\\theta_1) + \\ell_2 \\dot \\theta_2 cos(\\theta_2) ~~~~~~~~~~~~~~~~~~~~~~~ \\dot y_{m_2} = \\ell_1 \\dot \\theta_1 (sin \\theta_1) + \\ell_2 \\dot \\theta_2 (sin \\theta_2)\n",
    "$$"
   ]
  },
  {
   "attachments": {},
   "cell_type": "markdown",
   "metadata": {},
   "source": [
    "$$\n",
    "T = \\frac{1}{2} m_1 v_1^2 + \\frac{1}{2} m_2 v_2^2 ~~~~~~~~~~~~~~~~~~~~~~~ V = m_1 g h_1 + m_2 g h_2\n",
    "$$"
   ]
  },
  {
   "attachments": {},
   "cell_type": "markdown",
   "metadata": {},
   "source": [
    "$$\n",
    "T = \\frac{1}{2} m_1 (\\dot x_{m_1}^2 + \\dot y_{m_1}^2) + \\frac{1}{2} m_2 (\\dot x_{m_2}^2 + \\dot y_{m_2}^2) ~~~~~~~~~~~~~~~~~~~~~~~ V = m_1 g y_{m_1} + m_2 g y_{m_2}\n",
    "$$"
   ]
  },
  {
   "cell_type": "code",
   "execution_count": 32,
   "metadata": {},
   "outputs": [],
   "source": [
    "# Create symbolic variables\n",
    "m_1, m_2, ell_1, ell_2, g, t = sp.symbols('m_1, m_2, ell_1, ell_2, g, t')\n",
    "theta_1, theta_2 = dynamicsymbols('theta_1, theta_2')\n",
    "\n",
    "# Define xm1, ym1, xm2, ym2\n",
    "xm1 = ell_1 * sp.sin(theta_1)\n",
    "ym1 = -ell_1 * sp.cos(theta_1)\n",
    "xm2 = xm1 + ell_2 * sp.sin(theta_2)\n",
    "ym2 = ym1 - ell_2 * sp.cos(theta_2)\n",
    "\n",
    "# Derivatives of xm1, ym1, xm2, ym2\n",
    "xm1_dot = sp.diff(xm1, t)\n",
    "ym1_dot = sp.diff(ym1, t)\n",
    "xm2_dot = sp.diff(xm2, t)\n",
    "ym2_dot = sp.diff(ym2, t)\n",
    "\n",
    "theta_1_dot = sp.diff(theta_1, t)\n",
    "theta_2_dot = sp.diff(theta_2, t)\n",
    "theta_1_ddot = sp.diff(theta_1_dot, t)\n",
    "theta_2_ddot = sp.diff(theta_2_dot, t)\n",
    "\n",
    "# Lagrangian\n",
    "T = sp.Rational(1,2) * m_1 * (xm1_dot**2 + ym1_dot**2) + sp.Rational(1,2) * m_2 * (xm2_dot**2 + ym2_dot**2)\n",
    "V = m_1 * g * ym1 + m_2 * g * ym2\n",
    "\n",
    "L = T - V"
   ]
  },
  {
   "cell_type": "code",
   "execution_count": 20,
   "metadata": {},
   "outputs": [
    {
     "name": "stdout",
     "output_type": "stream",
     "text": [
      "Lagrangian:\n"
     ]
    },
    {
     "data": {
      "image/png": "[encoded data removed]",
      "text/latex": [
       "$\\displaystyle \\frac{\\ell_{1}^{2} m_{1} \\dot{\\theta}_{1}^{2}}{2} + \\ell_{1} g m_{1} \\cos{\\left(\\theta_{1} \\right)} + g m_{2} \\left(\\ell_{1} \\cos{\\left(\\theta_{1} \\right)} + \\ell_{2} \\cos{\\left(\\theta_{2} \\right)}\\right) + \\frac{m_{2} \\left(\\ell_{1}^{2} \\dot{\\theta}_{1}^{2} + 2 \\ell_{1} \\ell_{2} \\cos{\\left(\\theta_{1} - \\theta_{2} \\right)} \\dot{\\theta}_{1} \\dot{\\theta}_{2} + \\ell_{2}^{2} \\dot{\\theta}_{2}^{2}\\right)}{2}$"
      ],
      "text/plain": [
       "    2      2                                                               ⎛  \n",
       "ell₁ ⋅m₁⋅θ₁̇                                                             m₂⋅⎝e\n",
       "──────────── + ell₁⋅g⋅m₁⋅cos(θ₁) + g⋅m₂⋅(ell₁⋅cos(θ₁) + ell₂⋅cos(θ₂)) + ──────\n",
       "     2                                                                        \n",
       "\n",
       "  2   2                                        2   2⎞\n",
       "ll₁ ⋅θ₁̇  + 2⋅ell₁⋅ell₂⋅cos(θ₁ - θ₂)⋅θ₁̇⋅θ₂̇ + ell₂ ⋅θ₂̇ ⎠\n",
       "─────────────────────────────────────────────────────\n",
       "                       2                             "
      ]
     },
     "execution_count": 20,
     "metadata": {},
     "output_type": "execute_result"
    }
   ],
   "source": [
    "print('Lagrangian:')\n",
    "L.simplify()"
   ]
  },
  {
   "attachments": {},
   "cell_type": "markdown",
   "metadata": {},
   "source": [
    "$$\n",
    "p_{\\theta_1} = \\dfrac{\\partial L}{\\partial \\dot \\theta_1}, ~\n",
    "p_{\\theta_2} = \\dfrac{\\partial L}{\\partial \\dot \\theta_2}\n",
    "$$"
   ]
  },
  {
   "cell_type": "code",
   "execution_count": 24,
   "metadata": {},
   "outputs": [],
   "source": [
    "# Canonical Momentum\n",
    "p_theta_1 = sp.diff(L, theta_1_dot)\n",
    "p_theta_2 = sp.diff(L, theta_2_dot)"
   ]
  },
  {
   "cell_type": "code",
   "execution_count": 29,
   "metadata": {},
   "outputs": [
    {
     "data": {
      "image/png": "[encoded data removed]",
      "text/latex": [
       "$\\displaystyle \\left( \\ell_{1} \\left(\\ell_{1} m_{1} \\dot{\\theta}_{1} + m_{2} \\left(\\ell_{1} \\dot{\\theta}_{1} + \\ell_{2} \\cos{\\left(\\theta_{1} - \\theta_{2} \\right)} \\dot{\\theta}_{2}\\right)\\right), \\  \\ell_{2} m_{2} \\left(\\ell_{1} \\cos{\\left(\\theta_{1} - \\theta_{2} \\right)} \\dot{\\theta}_{1} + \\ell_{2} \\dot{\\theta}_{2}\\right)\\right)$"
      ],
      "text/plain": [
       "(ell₁⋅(ell₁⋅m₁⋅θ₁̇ + m₂⋅(ell₁⋅θ₁̇ + ell₂⋅cos(θ₁ - θ₂)⋅θ₂̇)), ell₂⋅m₂⋅(ell₁⋅cos\n",
       "(θ₁ - θ₂)⋅θ₁̇ + ell₂⋅θ₂̇))"
      ]
     },
     "execution_count": 29,
     "metadata": {},
     "output_type": "execute_result"
    }
   ],
   "source": [
    "p_theta_1.simplify(), p_theta_2.simplify()"
   ]
  },
  {
   "attachments": {},
   "cell_type": "markdown",
   "metadata": {},
   "source": [
    "$$\n",
    "\\dfrac{d}{dt} \\bigg( \\dfrac{\\partial L}{\\partial \\dot q} \\bigg) - \\dfrac{\\partial L}{\\partial q} = 0\n",
    "$$"
   ]
  },
  {
   "attachments": {},
   "cell_type": "markdown",
   "metadata": {},
   "source": [
    "$$\n",
    "\\dfrac{d}{dt} \\bigg( \\dfrac{\\partial L}{\\partial \\dot \\theta_i} \\bigg) - \\dfrac{\\partial L}{\\partial \\theta_i} = 0\n",
    "\\implies\n",
    "\\dfrac{d p_{\\theta_i}}{dt} - \\dfrac{\\partial L}{\\partial \\theta_i} = 0\n",
    "$$"
   ]
  },
  {
   "cell_type": "code",
   "execution_count": 30,
   "metadata": {},
   "outputs": [],
   "source": [
    "# Euler-Lagrange Equations\n",
    "eq1 = sp.Eq(sp.diff(p_theta_1, t) - sp.diff(L, theta_1), 0)\n",
    "eq2 = sp.Eq(sp.diff(p_theta_2, t) - sp.diff(L, theta_2), 0)"
   ]
  },
  {
   "cell_type": "code",
   "execution_count": 31,
   "metadata": {},
   "outputs": [
    {
     "data": {
      "image/png": "[encoded data removed]",
      "text/latex": [
       "$\\displaystyle \\left( \\ell_{1} \\left(\\ell_{1} m_{1} \\ddot{\\theta}_{1} + \\ell_{1} m_{2} \\ddot{\\theta}_{1} + \\ell_{2} m_{2} \\sin{\\left(\\theta_{1} - \\theta_{2} \\right)} \\dot{\\theta}_{2}^{2} + \\ell_{2} m_{2} \\cos{\\left(\\theta_{1} - \\theta_{2} \\right)} \\ddot{\\theta}_{2} + g m_{1} \\sin{\\left(\\theta_{1} \\right)} + g m_{2} \\sin{\\left(\\theta_{1} \\right)}\\right) = 0, \\  \\ell_{2} m_{2} \\left(- \\ell_{1} \\sin{\\left(\\theta_{1} - \\theta_{2} \\right)} \\dot{\\theta}_{1}^{2} + \\ell_{1} \\cos{\\left(\\theta_{1} - \\theta_{2} \\right)} \\ddot{\\theta}_{1} + \\ell_{2} \\ddot{\\theta}_{2} + g \\sin{\\left(\\theta_{2} \\right)}\\right) = 0\\right)$"
      ],
      "text/plain": [
       "⎛     ⎛                                                 2                     \n",
       "⎝ell₁⋅⎝ell₁⋅m₁⋅θ₁̈ + ell₁⋅m₂⋅θ₁̈ + ell₂⋅m₂⋅sin(θ₁ - θ₂)⋅θ₂̇  + ell₂⋅m₂⋅cos(θ₁ \n",
       "\n",
       "                                   ⎞              ⎛                      2    \n",
       "- θ₂)⋅θ₂̈ + g⋅m₁⋅sin(θ₁) + g⋅m₂⋅sin(θ₁)⎠ = 0, ell₂⋅m₂⋅⎝- ell₁⋅sin(θ₁ - θ₂)⋅θ₁̇\n",
       "\n",
       "                                         ⎞    ⎞\n",
       "  + ell₁⋅cos(θ₁ - θ₂)⋅θ₁̈ + ell₂⋅θ₂̈ + g⋅sin(θ₂)⎠ = 0⎠"
      ]
     },
     "execution_count": 31,
     "metadata": {},
     "output_type": "execute_result"
    }
   ],
   "source": [
    "eq1.simplify(), eq2.simplify()"
   ]
  },
  {
   "cell_type": "code",
   "execution_count": 42,
   "metadata": {},
   "outputs": [],
   "source": [
    "# Solve Equations\n",
    "solution1 = sp.solve(eq1, theta_1_ddot)[0]\n",
    "solution2 = sp.solve(eq2, theta_2_ddot)[0]"
   ]
  },
  {
   "cell_type": "code",
   "execution_count": 45,
   "metadata": {},
   "outputs": [
    {
     "data": {
      "image/png": "[encoded data removed]",
      "text/latex": [
       "$\\displaystyle \\ddot{\\theta}_{1} = - \\frac{\\ell_{2} m_{2} \\sin{\\left(\\theta_{1} - \\theta_{2} \\right)} \\dot{\\theta}_{2}^{2} + \\ell_{2} m_{2} \\cos{\\left(\\theta_{1} - \\theta_{2} \\right)} \\ddot{\\theta}_{2} + g m_{1} \\sin{\\left(\\theta_{1} \\right)} + g m_{2} \\sin{\\left(\\theta_{1} \\right)}}{\\ell_{1} \\left(m_{1} + m_{2}\\right)}$"
      ],
      "text/plain": [
       "      ⎛                       2                                               \n",
       "     -⎝ell₂⋅m₂⋅sin(θ₁ - θ₂)⋅θ₂̇  + ell₂⋅m₂⋅cos(θ₁ - θ₂)⋅θ₂̈ + g⋅m₁⋅sin(θ₁) + g\n",
       "θ₁̈ = ────────────────────────────────────────────────────────────────────────\n",
       "                                        ell₁⋅(m₁ + m₂)                        \n",
       "\n",
       "         ⎞ \n",
       "⋅m₂⋅sin(θ₁)⎠ \n",
       "────────────\n",
       "           "
      ]
     },
     "execution_count": 45,
     "metadata": {},
     "output_type": "execute_result"
    }
   ],
   "source": [
    "sp.Eq(theta_1_ddot, solution1)"
   ]
  },
  {
   "cell_type": "code",
   "execution_count": 46,
   "metadata": {},
   "outputs": [
    {
     "data": {
      "image/png": "[encoded data removed]",
      "text/latex": [
       "$\\displaystyle \\ddot{\\theta}_{2} = \\frac{\\ell_{1} \\sin{\\left(\\theta_{1} - \\theta_{2} \\right)} \\dot{\\theta}_{1}^{2} - \\ell_{1} \\cos{\\left(\\theta_{1} - \\theta_{2} \\right)} \\ddot{\\theta}_{1} - g \\sin{\\left(\\theta_{2} \\right)}}{\\ell_{2}}$"
      ],
      "text/plain": [
       "                         2                                   \n",
       "     ell₁⋅sin(θ₁ - θ₂)⋅θ₁̇  - ell₁⋅cos(θ₁ - θ₂)⋅θ₁̈ - g⋅sin(θ₂)\n",
       "θ₂̈ = ────────────────────────────────────────────────────────\n",
       "                               ell₂                          "
      ]
     },
     "execution_count": 46,
     "metadata": {},
     "output_type": "execute_result"
    }
   ],
   "source": [
    "sp.Eq(theta_2_ddot, solution2)"
   ]
  },
  {
   "cell_type": "code",
   "execution_count": 51,
   "metadata": {},
   "outputs": [
    {
     "data": {
      "text/latex": [
       "$\\displaystyle \\left[\\begin{matrix}\\dot{\\theta}_{1}\\\\\\dot{\\theta}_{2}\\\\\\ddot{\\theta}_{1}\\\\\\ddot{\\theta}_{2}\\end{matrix}\\right] = \\left[\\begin{matrix}\\dot{\\theta}_{1}\\\\\\dot{\\theta}_{2}\\\\- \\frac{\\ell_{2} m_{2} \\sin{\\left(\\theta_{1} - \\theta_{2} \\right)} \\dot{\\theta}_{2}^{2} + \\ell_{2} m_{2} \\cos{\\left(\\theta_{1} - \\theta_{2} \\right)} \\ddot{\\theta}_{2} + g m_{1} \\sin{\\left(\\theta_{1} \\right)} + g m_{2} \\sin{\\left(\\theta_{1} \\right)}}{\\ell_{1} \\left(m_{1} + m_{2}\\right)}\\\\\\frac{\\ell_{1} \\sin{\\left(\\theta_{1} - \\theta_{2} \\right)} \\dot{\\theta}_{1}^{2} - \\ell_{1} \\cos{\\left(\\theta_{1} - \\theta_{2} \\right)} \\ddot{\\theta}_{1} - g \\sin{\\left(\\theta_{2} \\right)}}{\\ell_{2}}\\end{matrix}\\right]$"
      ],
      "text/plain": [
       "       ⎡                                         θ₁̇                          \n",
       "       ⎢                                                                      \n",
       "       ⎢                                         θ₂̇                          \n",
       "⎡θ₁̇⎤   ⎢                                                                     \n",
       "⎢  ⎥   ⎢ ⎛                       2                                            \n",
       "⎢θ₂̇⎥   ⎢-⎝ell₂⋅m₂⋅sin(θ₁ - θ₂)⋅θ₂̇  + ell₂⋅m₂⋅cos(θ₁ - θ₂)⋅θ₂̈ + g⋅m₁⋅sin(θ₁)\n",
       "⎢  ⎥ = ⎢──────────────────────────────────────────────────────────────────────\n",
       "⎢θ₁̈⎥   ⎢                                   ell₁⋅(m₁ + m₂)                    \n",
       "⎢  ⎥   ⎢                                                                      \n",
       "⎣θ₂̈⎦   ⎢                                  2                                  \n",
       "       ⎢              ell₁⋅sin(θ₁ - θ₂)⋅θ₁̇  - ell₁⋅cos(θ₁ - θ₂)⋅θ₁̈ - g⋅sin(θ\n",
       "       ⎢              ────────────────────────────────────────────────────────\n",
       "       ⎣                                        ell₂                          \n",
       "\n",
       "               ⎤\n",
       "              ⎥\n",
       "               ⎥\n",
       "               ⎥\n",
       "            ⎞ ⎥\n",
       " + g⋅m₂⋅sin(θ₁)⎠ ⎥\n",
       "──────────────⎥\n",
       "               ⎥\n",
       "              ⎥\n",
       "               ⎥\n",
       "₂)              ⎥\n",
       "              ⎥\n",
       "              ⎦"
      ]
     },
     "execution_count": 51,
     "metadata": {},
     "output_type": "execute_result"
    }
   ],
   "source": [
    "# System of ODEs\n",
    "x = sp.Matrix([theta_1, theta_2, theta_1_dot, theta_2_dot])\n",
    "x_dot = sp.diff(x,t)\n",
    "sp.Eq(x_dot, sp.Matrix([theta_1_dot, theta_2_dot, solution1, solution2]))"
   ]
  }
 ],
 "metadata": {
  "kernelspec": {
   "display_name": "DataAnalysisenv",
   "language": "python",
   "name": "python3"
  },
  "language_info": {
   "codemirror_mode": {
    "name": "ipython",
    "version": 3
   },
   "file_extension": ".py",
   "mimetype": "text/x-python",
   "name": "python",
   "nbconvert_exporter": "python",
   "pygments_lexer": "ipython3",
   "version": "3.11.2"
  },
  "orig_nbformat": 4
 },
 "nbformat": 4,
 "nbformat_minor": 2
}
