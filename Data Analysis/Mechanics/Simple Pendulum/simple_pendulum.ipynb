{
 "cells": [
  {
   "cell_type": "code",
   "execution_count": 2,
   "metadata": {},
   "outputs": [],
   "source": [
    "import sympy as sp\n",
    "from sympy.physics.mechanics import dynamicsymbols, init_vprinting\n",
    "\n",
    "init_vprinting()"
   ]
  },
  {
   "attachments": {},
   "cell_type": "markdown",
   "metadata": {},
   "source": [
    "<img src=\"pendulum_sketch.jpg\" alt=\"pendulum\" width=\"200\"/>\n"
   ]
  },
  {
   "attachments": {},
   "cell_type": "markdown",
   "metadata": {},
   "source": [
    "$$\n",
    "x_m = \\ell sin \\theta ~~~~~~~~~~~~~~~~~~~~~~~ y_m = - \\ell cos \\theta\n",
    "\\newline\n",
    "\\dot x_m = \\ell \\dot \\theta cos \\theta ~~~~~~~~~~~~~~~~~~~~~~~ \\dot y_m = \\ell \\dot \\theta sin \\theta\n",
    "$$"
   ]
  },
  {
   "attachments": {},
   "cell_type": "markdown",
   "metadata": {},
   "source": [
    "$$\n",
    "T = \\frac{1}{2} m v^2 ~~~~~~~~~~~~~~~~~~~~~~~ V = m g h\n",
    "$$"
   ]
  },
  {
   "attachments": {},
   "cell_type": "markdown",
   "metadata": {},
   "source": [
    "$$\n",
    "T = \\frac{1}{2} m (\\dot x_m^2 + \\dot y_m^2) ~~~~~~~~~~~~~~~~~~~~~~~ V = m g y_m\n",
    "$$"
   ]
  },
  {
   "cell_type": "code",
   "execution_count": 3,
   "metadata": {},
   "outputs": [],
   "source": [
    "# Create symbolic variables\n",
    "m, g, ell, t = sp.symbols('m, g, ell, t')\n",
    "theta = dynamicsymbols('theta')\n",
    "\n",
    "# Define the xm and ym\n",
    "xm = ell * sp.sin(theta)\n",
    "ym = -ell * sp.cos(theta)\n",
    "\n",
    "# Derivative of xm and ym\n",
    "xm_dot = sp.diff(xm, t)\n",
    "ym_dot = sp.diff(ym, t)\n",
    "\n",
    "theta_dot = sp.diff(theta, t)\n",
    "theta_ddot = sp.diff(theta_dot, t)\n",
    "\n",
    "# Lagrangian\n",
    "T = sp.Rational(1,2) * m * (xm_dot**2 + ym_dot**2)\n",
    "V = m * g * ym\n",
    "\n",
    "L = T - V"
   ]
  },
  {
   "cell_type": "code",
   "execution_count": 4,
   "metadata": {},
   "outputs": [
    {
     "name": "stdout",
     "output_type": "stream",
     "text": [
      "Lagrangian:\n"
     ]
    },
    {
     "data": {
      "image/png": "[encoded data removed]",
      "text/latex": [
       "$\\displaystyle \\ell g m \\cos{\\left(\\theta \\right)} + \\frac{m \\left(\\ell^{2} \\sin^{2}{\\left(\\theta \\right)} \\dot{\\theta}^{2} + \\ell^{2} \\cos^{2}{\\left(\\theta \\right)} \\dot{\\theta}^{2}\\right)}{2}$"
      ],
      "text/plain": [
       "                   ⎛   2    2     2      2    2     2⎞\n",
       "                 m⋅⎝ell ⋅sin (θ)⋅θ̇  + ell ⋅cos (θ)⋅θ̇ ⎠\n",
       "ell⋅g⋅m⋅cos(θ) + ─────────────────────────────────────\n",
       "                                   2                  "
      ]
     },
     "execution_count": 4,
     "metadata": {},
     "output_type": "execute_result"
    }
   ],
   "source": [
    "print('Lagrangian:')\n",
    "L"
   ]
  },
  {
   "attachments": {},
   "cell_type": "markdown",
   "metadata": {},
   "source": [
    "$$\n",
    "\\dfrac{d}{dt} \\bigg( \\dfrac{\\partial L}{\\partial \\dot q_i} \\bigg) - \\dfrac{\\partial L}{\\partial q_i} = 0\n",
    "$$"
   ]
  },
  {
   "cell_type": "code",
   "execution_count": 5,
   "metadata": {},
   "outputs": [
    {
     "data": {
      "image/png": "[encoded data removed]",
      "text/latex": [
       "$\\displaystyle \\ell m \\left(\\ell \\ddot{\\theta} + g \\sin{\\left(\\theta \\right)}\\right) = 0$"
      ],
      "text/plain": [
       "ell⋅m⋅(ell⋅θ̈ + g⋅sin(θ)) = 0"
      ]
     },
     "execution_count": 5,
     "metadata": {},
     "output_type": "execute_result"
    }
   ],
   "source": [
    "# Euler-Lagrange Equations\n",
    "eqn = sp.Eq(sp.diff(sp.diff(L, theta_dot), t) - sp.diff(L, theta), 0)\n",
    "eqn.simplify()"
   ]
  },
  {
   "cell_type": "code",
   "execution_count": 6,
   "metadata": {},
   "outputs": [
    {
     "data": {
      "image/png": "[encoded data removed]",
      "text/latex": [
       "$\\displaystyle \\ddot{\\theta} = - \\frac{g \\sin{\\left(\\theta \\right)}}{\\ell}$"
      ],
      "text/plain": [
       "    -g⋅sin(θ) \n",
       "θ̈ = ──────────\n",
       "       ell    "
      ]
     },
     "execution_count": 6,
     "metadata": {},
     "output_type": "execute_result"
    }
   ],
   "source": [
    "# Solve the equation\n",
    "solution = sp.solve(eqn, theta_ddot)[0]\n",
    "sp.Eq(theta_ddot, solution)"
   ]
  },
  {
   "cell_type": "code",
   "execution_count": 7,
   "metadata": {},
   "outputs": [
    {
     "data": {
      "text/latex": [
       "$\\displaystyle \\left[\\begin{matrix}\\dot{\\theta}\\\\\\ddot{\\theta}\\end{matrix}\\right] = \\left[\\begin{matrix}\\dot{\\theta}\\\\- \\frac{g \\sin{\\left(\\theta \\right)}}{\\ell}\\end{matrix}\\right]$"
      ],
      "text/plain": [
       "      ⎡    θ̇     ⎤\n",
       "⎡θ̇⎤   ⎢          ⎥\n",
       "⎢ ⎥ = ⎢-g⋅sin(θ) ⎥\n",
       "⎣θ̈⎦   ⎢──────────⎥\n",
       "      ⎣   ell    ⎦"
      ]
     },
     "execution_count": 7,
     "metadata": {},
     "output_type": "execute_result"
    }
   ],
   "source": [
    "# System of ODEs\n",
    "x = sp.Matrix([theta, theta_dot])\n",
    "x_dot = sp.diff(x, t)\n",
    "sp.Eq(x_dot, sp.Matrix([theta_dot, solution]))"
   ]
  }
 ],
 "metadata": {
  "kernelspec": {
   "display_name": "DataAnalysisenv",
   "language": "python",
   "name": "python3"
  },
  "language_info": {
   "codemirror_mode": {
    "name": "ipython",
    "version": 3
   },
   "file_extension": ".py",
   "mimetype": "text/x-python",
   "name": "python",
   "nbconvert_exporter": "python",
   "pygments_lexer": "ipython3",
   "version": "3.11.2"
  },
  "orig_nbformat": 4
 },
 "nbformat": 4,
 "nbformat_minor": 2
}
