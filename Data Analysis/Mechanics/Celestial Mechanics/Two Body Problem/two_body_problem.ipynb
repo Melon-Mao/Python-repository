{
 "cells": [
  {
   "cell_type": "code",
   "execution_count": 119,
   "metadata": {},
   "outputs": [],
   "source": [
    "import numpy as np\n",
    "from scipy.integrate import solve_ivp\n",
    "\n",
    "import sympy as sp\n",
    "from sympy.physics.mechanics import dynamicsymbols, init_vprinting\n",
    "\n",
    "# matplotlib imports\n",
    "import matplotlib.pyplot as plt\n",
    "import matplotlib.gridspec as gridspec\n",
    "import matplotlib.animation as animation\n",
    "\n",
    "from qbstyles import mpl_style\n",
    "\n",
    "\n",
    "mpl_style(dark=True)\n",
    "init_vprinting()"
   ]
  },
  {
   "cell_type": "markdown",
   "metadata": {},
   "source": [
    "<img src=\"two_body_sketch.jpg\" alt=\"Two Body Sketch\" width=300>"
   ]
  },
  {
   "cell_type": "markdown",
   "metadata": {},
   "source": [
    "Newton's law of gravitation states that the gravitational force between two bodies is proportional to the product of their masses and inversely proportional to the square of the distance between them. Using vector calculus, we can write this as:\n",
    "\n",
    "$$\n",
    "\\frac{d^2\\vec{r}_i}{dt^2} = \\sum_{j \\neq i} \\frac{G m_j}{\\left| \\vec{r}_{ij}\\right|^3}\\vec{r}_{ij}\n",
    "$$\n",
    "\n",
    "where $\\vec{r}_i$ and $m_i$ are the position and mass of the $i \\text{th}$ body, respectively. $\\vec{r}_{ij} = \\vec{r}_j - \\vec{r}_i$ is the vector pointing from the $i \\text{th}$ body to the $j \\text{th}$ body. The gravitational constant $G$ is a universal constant that is the same for all bodies.\n",
    "\n",
    "One problem is that the dimensions are gross, with the gravitational constant $G = 6.674 \\times 10^{-11}$ being too small to efficiently compute. So we will non-dimensionalize our quantities and get an equation like this:\n",
    "\n",
    "$$\n",
    "\\frac{d^2\\vec{r'}_i}{dt'^2} = \\sum_{j \\neq i} \\frac{m_j'}{\\left| \\vec{r'}_{ij}\\right|^3}\\vec{r'}_{ij}\n",
    "$$\n",
    "\n",
    "where:\n",
    "* $\\vec{r'}_i = \\vec{r}_i / L$ where $L$ is some characteristic length in the system\n",
    "* $m'_i = m_i / M$ where $M$ is some characteristic mass in the system\n",
    "* $t' = t \\sqrt{G M / L^3}$ where M and L are the characteristic mass and length\n",
    "\n",
    "For the rest of this, we will drop the prime notation and assume that we are working with the non-dimensionalized quantities. After we solve our ODEs in terms of the dimensionless $t'$, we can convert back to the dimensional $t$ by using:\n",
    "\n",
    "$$\n",
    "t = t' \\sqrt{\\frac{L^3}{G M}}\n",
    "$$"
   ]
  }
 ],
 "metadata": {
  "kernelspec": {
   "display_name": "DataAnalysisenv",
   "language": "python",
   "name": "python3"
  },
  "language_info": {
   "codemirror_mode": {
    "name": "ipython",
    "version": 3
   },
   "file_extension": ".py",
   "mimetype": "text/x-python",
   "name": "python",
   "nbconvert_exporter": "python",
   "pygments_lexer": "ipython3",
   "version": "3.11.2"
  },
  "orig_nbformat": 4
 },
 "nbformat": 4,
 "nbformat_minor": 2
}
