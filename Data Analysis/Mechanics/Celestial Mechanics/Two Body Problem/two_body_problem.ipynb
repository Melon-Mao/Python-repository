{
 "cells": [
  {
   "cell_type": "code",
   "execution_count": 1,
   "metadata": {},
   "outputs": [],
   "source": [
    "import numpy as np\n",
    "from scipy.integrate import solve_ivp\n",
    "\n",
    "import sympy as sp\n",
    "from sympy.physics.mechanics import dynamicsymbols, init_vprinting\n",
    "\n",
    "# matplotlib imports\n",
    "import matplotlib.pyplot as plt\n",
    "import matplotlib.gridspec as gridspec\n",
    "import matplotlib.animation as animation\n",
    "\n",
    "init_vprinting()"
   ]
  },
  {
   "cell_type": "markdown",
   "metadata": {},
   "source": [
    "<img src=\"two_body_sketch.jpg\" alt=\"Two Body Sketch\" width=300>"
   ]
  },
  {
   "cell_type": "markdown",
   "metadata": {},
   "source": [
    "We will attempt to predict the motion of two bodies in space, using the two-body problem. We will use the following assumptions:\n",
    "* The two bodies are point masses\n",
    "* The two bodies are not affected by any other bodies\n",
    "* The two bodies are not affected by any other forces (e.g. friction, air resistance, etc.)\n",
    "* The two bodies are not affected by relativity\n",
    "\n",
    "To solve this, we could use Newton's laws of motions, but I would like to utilise Lagrangian formalism. This is because Lagrangian formalism is more general, and can be used to solve more complex problems. It is also more elegant, and is more intuitive to me.\n",
    "\n",
    "We will use the following notation:\n",
    "\n",
    "* $m_1$ and $m_2$ are the masses of the two bodies\n",
    "* $\\vec{r}_1$ and $\\vec{r}_2$ are the positions of the two bodies\n",
    "* $\\dot{\\vec{r}}_1$ and $\\dot{\\vec{r}}_2$ are the velocities of the two bodies\n",
    "* $T$ is the kinetic energy of the system\n",
    "* $V$ is the potential energy of the system\n",
    "* $\\mathcal{L}$ is the Lagrangian of the system\n",
    "\n",
    "Our job is to find equations for the kinetic and potential energies of the system in terms of some general coordinates. These coordinates will be the vectors $\\vec{r}_1$ and $\\vec{r}_2$, the positions of our two bodies:\n"
   ]
  }
 ],
 "metadata": {
  "kernelspec": {
   "display_name": "DataAnalysisenv",
   "language": "python",
   "name": "python3"
  },
  "language_info": {
   "codemirror_mode": {
    "name": "ipython",
    "version": 3
   },
   "file_extension": ".py",
   "mimetype": "text/x-python",
   "name": "python",
   "nbconvert_exporter": "python",
   "pygments_lexer": "ipython3",
   "version": "3.11.2"
  },
  "orig_nbformat": 4
 },
 "nbformat": 4,
 "nbformat_minor": 2
}
