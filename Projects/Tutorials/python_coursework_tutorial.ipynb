{
 "cells": [
  {
   "attachments": {},
   "cell_type": "markdown",
   "metadata": {},
   "source": [
    "# GCSE Computer Science Unit 3 Coursework 2023\n",
    "\n",
    "## Coursework Brief\n",
    "\n",
    "**Park Vale Chocolates**\n",
    "\n",
    "Park Vale Chocolates produces a wide range of sweets and chocolates for the UK market.\n",
    "The company specialises in producing chocolates with different flavours, mostly for sale over the\n",
    "Christmas period. These chocolates are usually presented mixed in a 1kg tin. However, some\n",
    "people only like a limited number of flavours. The company has decided to allow customers to\n",
    "choose the contents of their tin. Customers will be able to choose between three and six different\n",
    "flavours for their own tin.\n",
    "\n",
    "The contents of the tins must add up to 1kg. Customers can choose up to 500g of any one flavour. They can add flavours in increments of 100g.\n",
    "\n",
    "A tin costs £9.99 and delivery anywhere is £4.99.\n",
    "\n",
    "In addition, the company has decided to let customers add a personalised message to their tin.\n",
    "The message will wish the recipient a Merry Christmas and can be personalised to include the\n",
    "recipient’s name(s).\n",
    "</br>\n",
    "There is no charge for the words “Merry Christmas”, but additional words are charged at 10p per letter.\n",
    "\n",
    "</br>\n",
    "\n",
    "A typical order might be:\n",
    "</br>\n",
    "400g Coconut Dream, 200g Caramel Twist, 300g Toffee Bar, and 100g Cornish Fudge\n",
    "\n",
    "With a message of:\n",
    "\n",
    "Merry Christmas\n",
    "Blodwen and Sam\n",
    "\n",
    "This order would cost the customer:\n",
    "\n",
    "Tin of sweets: £9.99\n",
    "\n",
    "Message: £1.30\n",
    "\n",
    "Delivery: £4.99\n",
    "\n",
    "Total: £16.28\n",
    "\n",
    "</br>\n",
    "\n",
    "You have been asked to create an application for the company that will allow the user to:\n",
    "* enter and store the details of the customer\n",
    "* enter and store details of the customer’s order\n",
    "* search customer details by order number\n",
    "* check that the weight of the order adds up to 1kg\n",
    "* retrieve all customer orders for preparation and despatch\n",
    "* calculate the total cost of the order including the message\n",
    "* provide an invoice for the customer including the personalisation.\n",
    "\n",
    "</br>\n",
    "\n",
    "To produce the application, you should:\n",
    "* analyse the given information\n",
    "* design a solution to the given problem\n",
    "* program the solution to the given problem\n",
    "* test and refine the application, noting the refinements in your refinement log\n",
    "* evaluate your application.\n",
    "Produce a report that includes the sections of work included on the Tasks page. Your report should\n",
    "be about 2000 words."
   ]
  },
  {
   "attachments": {},
   "cell_type": "markdown",
   "metadata": {},
   "source": [
    "## Getting Started\n",
    "\n",
    "First, we must look at the brief and see what the most important things are. It is good practice to create some sort of main function that all the code will run off. At the end, we would like to have only one piece of code outside of functions that run, and that will just be calling our main function like this:\n",
    "\n",
    "```python\n",
    "main()\n",
    "```\n",
    "\n",
    "We want to let the customer choose between 3 and 6 different flavours for their own tin, and it has to be exactly one kilogram. They can only add in increments of 100g. All this information is important, but the first bullet point states to enter and store the details of the customer. We want our program to be modular i.e. it is seperated into different functions that do different things. First we will create a function to store the users details."
   ]
  },
  {
   "attachments": {},
   "cell_type": "markdown",
   "metadata": {},
   "source": [
    "## Storing the Customer's Details\n",
    "\n"
   ]
  }
 ],
 "metadata": {
  "kernelspec": {
   "display_name": "Python 3",
   "language": "python",
   "name": "python3"
  },
  "language_info": {
   "name": "python",
   "version": "3.11.2"
  },
  "orig_nbformat": 4,
  "vscode": {
   "interpreter": {
    "hash": "544c7e72ceabb8b5baf00146d00b7c3a5bfd60d2cf41bb549c5c035fb33480da"
   }
  }
 },
 "nbformat": 4,
 "nbformat_minor": 2
}
