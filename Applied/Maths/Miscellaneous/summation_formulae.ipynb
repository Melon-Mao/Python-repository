{
 "cells": [
  {
   "cell_type": "code",
   "execution_count": 1,
   "metadata": {},
   "outputs": [],
   "source": [
    "import sympy as sp"
   ]
  },
  {
   "cell_type": "markdown",
   "metadata": {},
   "source": [
    "The sum of the first $n$ integers is given by the following formula.\n",
    "\n",
    "$$\n",
    "\\sum_{i=1}^n i = \\frac{n(n+1)}{2}\n",
    "$$\n",
    "\n",
    "This can be derived via simple discrete calculus. Firstly, the forward difference of a sequence $a_n$ can be defined as follows.\n",
    "\n",
    "$$\n",
    "\\Delta_n a_n = a_{n+1} - a_n\n",
    "$$\n",
    "\n",
    "The indefinite sum, or the antidifference, of a sequence can be defined in relation to the forward difference.\n",
    "\n",
    "$$\n",
    "\\Delta_n \\sum_n a_n = a_n\n",
    "$$\n",
    "\n",
    "That is, if $\\sum_n a_n = A_n$, then\n",
    "\n",
    "$$\n",
    "A_{n+1} - A_n = a_n\n",
    "$$\n",
    "\n",
    "We can relate the definite sum to the forward difference via the disccrete analogue to the fundamental theorem of calculus.\n",
    "\n",
    "$$\n",
    "\\begin{align}\n",
    "\\Delta_n \\sum_{i=n_0}^{n} a_i &= a_{n+1} \\\\\n",
    "\\sum_{i=n_0}^n \\Delta_i a_i &= a_{n+1} - a_{n_0}\n",
    "\\end{align}\n",
    "$$\n",
    "\n",
    "The proof of the first statement is as follows.\n",
    "\n",
    "$$\n",
    "\\begin{align*}\n",
    "\\Delta_n \\sum_{i=n_0}^{n} a_i &= \\sum_{i=n_0}^{n+1} a_i - \\sum_{i=n_0}^{n} a_i \\\\\n",
    "&= a_{n+1} + \\sum_{i=n_0}^{n} a_i - \\sum_{i=n_0}^{n} a_i \\\\\n",
    "&= a_{n+1}\n",
    "\\end{align*}\n",
    "$$\n",
    "\n",
    "The proof of the second statement is as follows.\n",
    "\n",
    "$$\n",
    "\\begin{align*}\n",
    "\\sum_{i=n_0}^n \\Delta_i a_i &= \\sum_{i=n_0}^n (a_{i+1} - a_i) \\\\\n",
    "&= \\sum_{i=n_0}^n a_{i+1} - \\sum_{i=n_0}^n a_i \\\\\n",
    "&= \\sum_{i=n_0+1}^{n+1} a_i - \\sum_{i=n_0}^n a_i \\\\\n",
    "&= a_{n+1} - a_{n_0} + \\sum_{i=n_0}^{n} a_i - \\sum_{i=n_0}^n a_i \\\\\n",
    "&= a_{n+1} - a_{n_0}\\\\\n",
    "\\end{align*}\n",
    "$$\n",
    "\n",
    "The relationship between the definite sum and its indefinite counterpart follows from the second statement.\n",
    "\n",
    "$$\n",
    "\\begin{equation}\n",
    "\\sum_{i=n_0}^n a_n = \\sum_{i=n_0}^n \\Delta_n A_n = A_{n+1} - A_{n_0}\n",
    "\\end{equation}\n",
    "$$\n",
    "\n",
    "We will not be using indefinite sums here, but they have been included for the sake of completeness."
   ]
  },
  {
   "cell_type": "markdown",
   "metadata": {},
   "source": [
    "We can define the falling factorial as\n",
    "\n",
    "$$\n",
    "x^{\\underline{k}} = \\prod_{i=1}^k (x - i + 1) = \\prod_{i=0}^{k-1} (x - i) = x(x-1)(x-2)\\cdots(x-k+1).\n",
    "$$\n",
    "\n",
    "The property of the falling factorial that will be used here is how its forward difference is the discrete analogue of the derivative of a polynomial.\n",
    "\n",
    "$$\n",
    "\\begin{align*}\n",
    "\\Delta_x x^{\\underline{k}} &= (x+1)^{\\underline{k}} - x^{\\underline{k}} \\\\\n",
    "&= (x+1)x(x-1)\\cdots(x-k+2) - x(x-1)(x-2)\\cdots(x-k+1) \\\\\n",
    "& = x(x-1)\\cdots(x-k+2) \\cdot [(x+1) - (x-k+1)] \\\\\n",
    "& = kx(x-1)\\cdots(x-k+2) \\\\\n",
    "&= kx^{\\underline{k-1}}\n",
    "\\end{align*}\n",
    "$$\n",
    "\n",
    "With this, we can utilise the relationship between the forward difference and the discrete sum (antidifference) in the same way that we use the relationship between the derivative and the integeral (antiderivative) to evaluate certain integrals. The following result is a simple application of the Discrete FTC.\n",
    "\n",
    "$$\n",
    "\\begin{align*}\n",
    "\\sum_{i=1}^n i^{\\underline{k}} &= \\sum_{i=1}^n \\Delta_i \\frac{i^{\\underline{k+1}}}{k+1} \\\\\n",
    "&= \\frac{(n+1)^{\\underline{k+1}}}{k+1} - \\frac{{1}^{\\underline{k+1}}}{k+1} \\\\\n",
    "&= \\frac{(n+1)^{\\underline{k+1}}}{k+1}\n",
    "\\end{align*}\n",
    "$$\n",
    "\n",
    "A result we used above to simplify our expression was that $x < k \\implies x^{\\underline{k}} = 0$. This is because $x-k+1$ will be less than or equal to 0 (thus one of the factors will always be 0). Since $k+1 > 1$, we were able to apply this."
   ]
  },
  {
   "cell_type": "markdown",
   "metadata": {},
   "source": [
    "The formula for the sum of the first $n$ integers can be derived as follows.\n",
    "\n",
    "$$\n",
    "\\begin{align*}\n",
    "\\sum_{i=1}^{n} i &= \\sum_{i=1}^{n} i^{\\underline{1}} \\\\\n",
    "&= \\frac{(n+1)^{\\underline{2}}}{2} \\\\\n",
    "&= \\frac{n(n+1)}{2}\n",
    "\\end{align*}\n",
    "$$\n",
    "\n",
    "We can derive the formula for the sum of the squares of the first $n$ integers. However, we need to find a way to express $i^2$ in terms of falling factorials first.\n",
    "\n",
    "$$\n",
    "\\begin{align*}\n",
    "&i^{\\underline{2}} = i(i-1) = i^2 - i \\\\\n",
    "\\implies &i^2 = i^{\\underline{2}} + i = i^{\\underline{2}} + i^{\\underline{1}}\n",
    "\\end{align*}\n",
    "$$\n",
    "\n",
    "The rest of the work simply involves using the \"reverse power rule\" and simplifying the expression we get.\n",
    "\n",
    "$$\n",
    "\\begin{align*}\n",
    "\\sum_{i=1}^{n} i^2 &= \\sum_{i=1}^{n} \\left( i^{\\underline{2}} + i^{\\underline{1}} \\right) \\\\\n",
    "&= \\frac{(n+1)^{\\underline{3}}}{3} + \\frac{(n+1)^{\\underline{2}}}{2} \\\\\n",
    "&= \\frac{n(n+1)(n-1)}{3} + \\frac{n(n+1)}{2} \\\\\n",
    "& = \\frac{2n(n+1)(n-1) + 3n(n+1)}{6} \\\\\n",
    "& = \\frac{n(n+1)[2(n-1) + 3]}{6} \\\\\n",
    "& = \\frac{n(n+1)(2n+1)}{6} \\\\\n",
    "\\end{align*}\n",
    "$$\n",
    "\n",
    "We can continue this for higher powers.\n",
    "\n",
    "$$\n",
    "\\begin{align*}\n",
    "&i^{\\underline{3}} = i(i-1)(i-2) = i^3 - 3i^2 + 2i \\\\\n",
    "\\implies &i^3 = i^{\\underline{3}} + 3i^2 - 2i = i^{\\underline{3}} + 3i^{\\underline{2}} + i^{\\underline{1}} \\\\\n",
    "\\\\\n",
    "\\sum_{i=1}^n i^3 &= (i^{\\underline{3}} + 3i^{\\underline{2}} + i^{\\underline{1}}) \\\\\n",
    "&= \\frac{(n+1)^{\\underline{4}}}{4} + 3\\frac{(n+1)^{\\underline{3}}}{3} + \\frac{(n+1)^{\\underline{2}}}{2} \\\\\n",
    "&= \\frac{n(n+1)(n-1)(n-2)}{4} + n(n+1)(n-1) + \\frac{n(n+1)}{2} \\\\\n",
    "&= \\frac{n(n+1)(n-1)(n-2)}{4} + \\frac{4n(n+1)(n-1)}{4} + \\frac{2n(n+1)}{4} \\\\\n",
    "&= \\frac{n(n+1)(n-1)(n-2) + 4n(n+1)(n-1) +2n(n+1)}{4} \\\\\n",
    "&= \\frac{n(n+1)[(n-1)(n-2) + 4(n-1) + 2]}{4} \\\\\n",
    "&= \\frac{n(n+1)(n^2+n)}{4} \\\\\n",
    "&= \\frac{n^2(n+1)^2}{4} \\\\\n",
    "\\end{align*}\n",
    "$$"
   ]
  },
  {
   "cell_type": "markdown",
   "metadata": {},
   "source": [
    "We could do this for any power of $n$. The amount of work would increase time, but the method is exactly the same. It would be nice if we could express the sum of some power of $n$ in some compact formula. To generalise what we have done, first notice that expanding the falling factorial gives us a polynomial with certain coefficients.\n",
    "\n",
    "$$\n",
    "\\begin{align*}\n",
    "x^{\\underline{1}} &= x \\\\\n",
    "x^{\\underline{2}} &= x^2 - x \\\\\n",
    "x^{\\underline{3}} &= x^3 - 3x^2 + 2x \\\\\n",
    "x^{\\underline{4}} &= x^{4} - 6 x^3 + 11 x^2 - 6 x \\\\\n",
    "x^{\\underline{5}} &= x^5 - 10 x^4 + 35 x^3 - 50 x^2 + 24 x \\\\\n",
    "\\vdots\n",
    "\\end{align*}\n",
    "$$\n",
    "\n",
    "These coefficients are the Stirling numbers of the first kind, $s(k,i)$. One way of defining these numbers is via the above expansion.\n",
    "\n",
    "$$\n",
    "x^{\\underline{k}} = \\sum_{i=1}^k s(k, i) x^i\n",
    "$$\n",
    "\n",
    "The absolute value of these numbers are referred to as the unsigned Stirling numbers of the first kind, denoted $k \\brack i$. They can be defined as the number of permutations of $k$ elements with $i$ disjoint cycles. For example, $3! = 6$ is the number of permutations of three elements. One of these permutations is with three cycles: $(1)(2)(3)$. 1 is sent to 1, 2 is sent to 2, and 3 is sent to 3. Three of the permutations are with two cycles: $(1)(23)$, $(12)(3)$, and $(13)(2)$. In the first one listed, 1 is sent to 1, 2 is sent to 3, and 3 is sent to 2. Two of the six permutations are with one cycle: $(123)$ and $(132)$. Disjoint means that two cycles cannot have the same element.\n",
    "\n",
    "Stirling numbers of the first kind and their unsigned counterparts are related via the parity of $k-i$.\n",
    "\n",
    "$$\n",
    "s(k,i) = (-1)^{k-i} {k\\brack i}\n",
    "$$\n",
    "\n",
    "When we rearrange the polynomials we get in order to get $x^k$ in terms of falling factorials, the coefficients of the falling factorials are important.\n",
    "\n",
    "$$\n",
    "\\begin{align*}\n",
    "x &= x^{\\underline{1}} \\\\\n",
    "x^2 &= x^{\\underline{2}} + x^{\\underline{1}} \\\\\n",
    "x^3 &= x^{\\underline{3}} + 3 x^{\\underline{2}} + x^{\\underline{1}} \\\\\n",
    "x^4 &= x^{\\underline{4}} + 6 x^{\\underline{3}} + 7 x^{\\underline{2}} + x^{\\underline{1}} \\\\\n",
    "x^5 &= x^{\\underline{5}} + 10 x^{\\underline{4}} + 25 x^{\\underline{3}} + 15 x^{\\underline{2}} + x^{\\underline{1}} \\\\\n",
    "\\vdots\n",
    "\\end{align*}\n",
    "$$\n",
    "\n",
    "These coefficients are the Stirling numbers of the second kind, $S(k, i)$ or $k\\brace i$. They can be defined via the above expansion.\n",
    "\n",
    "$$\n",
    "x^k = \\sum_{i=1}^k {k\\brace i} x^{\\underline{i}}\n",
    "$$\n",
    "\n",
    "They can also be defined as the number of ways to partion a set of $k$ elements into $i$ nonempty subsets. This representation of $4\\brace 1$ to $f\\brace 4$ are shown below. Each colour is its own subset and dots that are not within a colour are within their own subset. $4\\brace 1$ is on the top of the diagram and $4\\brace 4$ is on the bottom."
   ]
  },
  {
   "cell_type": "markdown",
   "metadata": {},
   "source": [
    "![alt text](image.png)"
   ]
  },
  {
   "cell_type": "markdown",
   "metadata": {},
   "source": [
    "The sum of the $k$-th powers of the first $n$ positive integers can be written in terms of the Stirling numbers of the second kind and falling factorials.\n",
    "\n",
    "$$\n",
    "\\begin{align*}\n",
    "\\sum_{i=1}^n i^k &= \\sum_{i=1}^n \\sum_{j=1}^k {k\\brace j} i^{\\underline{j}} \\\\\n",
    "&= \\sum_{j=1}^k {k\\brace j} \\sum_{i=1}^n i^{\\underline{j}} \\\\\n",
    "&= \\sum_{j=1}^k {k\\brace j} \\frac{(n+1)^{\\underline{j+1}}}{j+1} \\\\\n",
    "\\end{align*}\n",
    "$$\n",
    "\n",
    "With a swap of index variables, we get Faulhaber's formula.\n",
    "\n",
    "$$\n",
    "\\begin{equation}\n",
    "\\sum_{i=1}^n i^k = \\sum_{i=1}^k {k\\brace i} \\frac{(n+1)^{\\underline{i+1}}}{i+1} \n",
    "\\end{equation}\n",
    "$$"
   ]
  },
  {
   "cell_type": "markdown",
   "metadata": {},
   "source": [
    "There is an explicit formuala for Stirling numbers of the second kind, which can be [derived](https://math.stackexchange.com/questions/1531653/combinatorial-interpretation-of-explicit-formula-for-stirling-numbers-of-the-sec) using the inclusion-exclusion principle.\n",
    "\n",
    "$$\n",
    "{k \\brace i} = \\frac{1}{i!} \\sum_{j=1}^i (-1)^{i-j} \\binom{i}{j} j^k = \\sum_{j=1}^i \\frac{(-1)^{i-j}j^k}{(i-j)!j!}\n",
    "$$\n",
    "\n",
    "Faulhaber's formula may then be expressed explicitly as the following.\n",
    "\n",
    "$$\n",
    "\\begin{equation}\n",
    "\\sum_{i=1}^n i^k = \\sum_{i=1}^k \\sum_{j=1}^i \\frac{(-1)^{i-j}j^k (n+1)^{\\underline{i+1}}}{(i+1)(i-j)!j!}\n",
    "\\end{equation}\n",
    "$$"
   ]
  },
  {
   "cell_type": "markdown",
   "metadata": {},
   "source": [
    "An alternative method for obtaining Faulhaber's formula is with the hockey-stick identity.\n",
    "\n",
    "$$\n",
    "\\begin{equation}\n",
    "\\sum_{i=r}^n \\binom{i}{r} = \\binom{n+1}{r+1} \\qquad \\text{for } n, r \\in \\mathbb{N}, \\quad n \\geq r\n",
    "\\end{equation}\n",
    "$$\n",
    "\n",
    "This can be proved a variety of ways, including via induction. A relationship between the falling factorial and the binomial coefficient is used as well. The number of ways to select $k$ elements from a total of $x$ elements, $\\binom{x}{k}$, multiplied by the number of ways to order those $k$ elements, $k!$, gives the number of ways to select an ordered list of $k$ elements from a total of $x$ elements, $x^{\\underline{k}}$.\n",
    "\n",
    "$$\n",
    "\\begin{equation}\n",
    "\\frac{x^{\\underline{k}}}{k!} = \\binom{x}{k}\n",
    "\\end{equation}\n",
    "$$\n",
    "\n",
    "The derivation of Faulhaber's formula is as follows.\n",
    "\n",
    "$$\n",
    "\\begin{align*}\n",
    "\\sum_{i=1}^n i^k &= \\sum_{i=1}^n \\sum_{j=1}^k {k\\brace j} i^{\\underline{j}} \\\\\n",
    "&= \\sum_{j=1}^k {k\\brace j} \\sum_{i=1}^n i^{\\underline{j}} \\\\\n",
    "&= \\sum_{j=1}^k j! {k\\brace j} \\sum_{i=1}^n \\frac{i^{\\underline{j}}}{j!} \\\\\n",
    "&= \\sum_{j=1}^k j! {k\\brace j} \\sum_{i=1}^n \\binom{i}{j} \\\\\n",
    "&= \\sum_{j=1}^k j! {k\\brace j} \\left[ \\sum_{i=j}^n \\binom{i}{j} + \\sum_{i=1}^{j-1} \\binom{i}{j} \\right] \\\\\n",
    "&= \\sum_{j=1}^k j! {k\\brace j} \\sum_{i=j}^n \\binom{i}{j} \\\\\n",
    "&= \\sum_{j=1}^k j! {k\\brace j} \\binom{n+1}{j+1} \\\\\n",
    "&= \\sum_{j=1}^k j! {k\\brace j} \\frac{(n+1)^{\\underline{j+1}}}{(j+1)!} \\\\\n",
    "&= \\sum_{j=1}^k {k\\brace j} \\frac{(n+1)^{\\underline{j+1}}}{j+1} \\\\\n",
    "\\end{align*}\n",
    "$$"
   ]
  },
  {
   "cell_type": "code",
   "execution_count": 46,
   "metadata": {},
   "outputs": [],
   "source": [
    "from sympy.functions.combinatorial.numbers import stirling"
   ]
  },
  {
   "cell_type": "code",
   "execution_count": 54,
   "metadata": {},
   "outputs": [
    {
     "data": {
      "text/latex": [
       "$\\displaystyle 0$"
      ],
      "text/plain": [
       "0"
      ]
     },
     "execution_count": 54,
     "metadata": {},
     "output_type": "execute_result"
    }
   ],
   "source": [
    "stirling(6,0)"
   ]
  },
  {
   "cell_type": "code",
   "execution_count": 65,
   "metadata": {},
   "outputs": [],
   "source": [
    "x, i, k = sp.symbols(\"x i k\", integer=True)"
   ]
  },
  {
   "cell_type": "code",
   "execution_count": 24,
   "metadata": {},
   "outputs": [
    {
     "data": {
      "text/latex": [
       "$\\displaystyle \\frac{x \\left(x + 1\\right) \\left(2 x + 1\\right) \\left(3 x^{2} + 3 x - 1\\right)}{30}$"
      ],
      "text/plain": [
       "x*(x + 1)*(2*x + 1)*(3*x**2 + 3*x - 1)/30"
      ]
     },
     "execution_count": 24,
     "metadata": {},
     "output_type": "execute_result"
    }
   ],
   "source": [
    "sum1 = sp.Sum(i**4, (i,1,x))\n",
    "\n",
    "sum1.doit().factor()"
   ]
  },
  {
   "cell_type": "code",
   "execution_count": 59,
   "metadata": {},
   "outputs": [
    {
     "data": {
      "text/latex": [
       "$\\displaystyle x^{10} - 45 x^{9} + 870 x^{8} - 9450 x^{7} + 63273 x^{6} - 269325 x^{5} + 723680 x^{4} - 1172700 x^{3} + 1026576 x^{2} - 362880 x$"
      ],
      "text/plain": [
       "x**10 - 45*x**9 + 870*x**8 - 9450*x**7 + 63273*x**6 - 269325*x**5 + 723680*x**4 - 1172700*x**3 + 1026576*x**2 - 362880*x"
      ]
     },
     "execution_count": 59,
     "metadata": {},
     "output_type": "execute_result"
    }
   ],
   "source": [
    "sp.ff(x,10).expand()"
   ]
  },
  {
   "cell_type": "code",
   "execution_count": 96,
   "metadata": {},
   "outputs": [
    {
     "data": {
      "text/plain": [
       "'x^{5} + 10 x^{4} + 25 x^{3} + 15 x^{2} + x'"
      ]
     },
     "execution_count": 96,
     "metadata": {},
     "output_type": "execute_result"
    }
   ],
   "source": [
    "def stirling_poly(n):\n",
    "    sum = 0\n",
    "    for i in range(0, n+1):\n",
    "        sum += stirling(n, i) * x**i\n",
    "    return sum\n",
    "\n",
    "sp.latex(stirling_poly(5))"
   ]
  }
 ],
 "metadata": {
  "kernelspec": {
   "display_name": "Appliedvenv",
   "language": "python",
   "name": "python3"
  },
  "language_info": {
   "codemirror_mode": {
    "name": "ipython",
    "version": 3
   },
   "file_extension": ".py",
   "mimetype": "text/x-python",
   "name": "python",
   "nbconvert_exporter": "python",
   "pygments_lexer": "ipython3",
   "version": "3.13.0"
  }
 },
 "nbformat": 4,
 "nbformat_minor": 2
}
